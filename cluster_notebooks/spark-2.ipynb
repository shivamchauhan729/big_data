{
 "cells": [
  {
   "cell_type": "code",
   "execution_count": 7,
   "id": "91877c66",
   "metadata": {},
   "outputs": [],
   "source": [
    "from pyspark.sql import SparkSession\n",
    "from pyspark.sql.functions import *\n",
    "from pyspark.sql.types import *\n",
    "from pyspark.sql import *"
   ]
  },
  {
   "cell_type": "code",
   "execution_count": 2,
   "id": "837a6c50",
   "metadata": {},
   "outputs": [
    {
     "name": "stderr",
     "output_type": "stream",
     "text": [
      "21/10/17 10:12:36 WARN Utils: Your hostname, shivam-Vostro-3559 resolves to a loopback address: 127.0.1.1; using 192.168.0.104 instead (on interface wlp2s0)\n",
      "21/10/17 10:12:36 WARN Utils: Set SPARK_LOCAL_IP if you need to bind to another address\n",
      "WARNING: An illegal reflective access operation has occurred\n",
      "WARNING: Illegal reflective access by org.apache.spark.unsafe.Platform (file:/usr/local/lib/python3.8/dist-packages/pyspark/jars/spark-unsafe_2.12-3.1.2.jar) to constructor java.nio.DirectByteBuffer(long,int)\n",
      "WARNING: Please consider reporting this to the maintainers of org.apache.spark.unsafe.Platform\n",
      "WARNING: Use --illegal-access=warn to enable warnings of further illegal reflective access operations\n",
      "WARNING: All illegal access operations will be denied in a future release\n",
      "21/10/17 10:12:48 WARN NativeCodeLoader: Unable to load native-hadoop library for your platform... using builtin-java classes where applicable\n",
      "Using Spark's default log4j profile: org/apache/spark/log4j-defaults.properties\n",
      "Setting default log level to \"WARN\".\n",
      "To adjust logging level use sc.setLogLevel(newLevel). For SparkR, use setLogLevel(newLevel).\n"
     ]
    }
   ],
   "source": [
    "spark = SparkSession.builder.master(\"local\").getOrCreate()"
   ]
  },
  {
   "cell_type": "code",
   "execution_count": 8,
   "id": "d1244a92",
   "metadata": {},
   "outputs": [],
   "source": [
    "schema = StructType([StructField(\"id\",StringType()),\n",
    "                    StructField(\"eventdate\",StringType())])"
   ]
  },
  {
   "cell_type": "code",
   "execution_count": 9,
   "id": "67f2d49a",
   "metadata": {},
   "outputs": [],
   "source": [
    "rows = [Row(\"1\",\"04/05/2020\"),Row(\"2\",\"02/03/2020\"),Row(\"3\",\"06/04/2021\")]"
   ]
  },
  {
   "cell_type": "code",
   "execution_count": 10,
   "id": "7eb2e6fb",
   "metadata": {},
   "outputs": [],
   "source": [
    "rdd = spark.sparkContext.parallelize(rows,2)"
   ]
  },
  {
   "cell_type": "code",
   "execution_count": 11,
   "id": "bfbc5041",
   "metadata": {},
   "outputs": [
    {
     "name": "stderr",
     "output_type": "stream",
     "text": [
      "\r",
      "[Stage 0:>                                                          (0 + 2) / 2]\r",
      "\r",
      "                                                                                \r"
     ]
    },
    {
     "data": {
      "text/plain": [
       "[<Row('1', '04/05/2020')>, <Row('2', '02/03/2020')>, <Row('3', '06/04/2021')>]"
      ]
     },
     "execution_count": 11,
     "metadata": {},
     "output_type": "execute_result"
    }
   ],
   "source": [
    "rdd.collect()"
   ]
  },
  {
   "cell_type": "code",
   "execution_count": 12,
   "id": "b12d7d15",
   "metadata": {},
   "outputs": [],
   "source": [
    "df = spark.createDataFrame(rdd,schema)"
   ]
  },
  {
   "cell_type": "code",
   "execution_count": 13,
   "id": "32681b34",
   "metadata": {},
   "outputs": [
    {
     "name": "stdout",
     "output_type": "stream",
     "text": [
      "+---+----------+\n",
      "| id| eventdate|\n",
      "+---+----------+\n",
      "|  1|04/05/2020|\n",
      "|  2|02/03/2020|\n",
      "|  3|06/04/2021|\n",
      "+---+----------+\n",
      "\n"
     ]
    },
    {
     "name": "stderr",
     "output_type": "stream",
     "text": [
      "\r",
      "[Stage 1:>                                                          (0 + 1) / 1]\r",
      "\r",
      "                                                                                \r"
     ]
    }
   ],
   "source": [
    "df.show()"
   ]
  },
  {
   "cell_type": "code",
   "execution_count": 18,
   "id": "bdc6ec5e",
   "metadata": {},
   "outputs": [
    {
     "name": "stdout",
     "output_type": "stream",
     "text": [
      "+---+----------+\n",
      "| id| eventdate|\n",
      "+---+----------+\n",
      "|  1|2020-01-05|\n",
      "|  2|2020-01-03|\n",
      "|  3|2021-01-04|\n",
      "+---+----------+\n",
      "\n"
     ]
    }
   ],
   "source": [
    "new_df = df.withColumn(\"eventdate\",to_date(\"eventdate\",\"m/d/y\"))\n",
    "new_df.show()"
   ]
  },
  {
   "cell_type": "code",
   "execution_count": 27,
   "id": "6ff8f358",
   "metadata": {},
   "outputs": [
    {
     "name": "stdout",
     "output_type": "stream",
     "text": [
      "+--------------+-----+--------+---+\n",
      "|       Country|state|sequence|Age|\n",
      "+--------------+-----+--------+---+\n",
      "| United States|   IL|       0| 37|\n",
      "| United States|   IN|       1| 44|\n",
      "|        Canada|   NA|       2| 32|\n",
      "|United Kingdom|   NA|       3| 31|\n",
      "| United States|   TX|       4| 31|\n",
      "| United States|   TN|       5| 33|\n",
      "| United States|   MI|       6| 35|\n",
      "|        Canada|   NA|       7| 39|\n",
      "| United States|   IL|       8| 42|\n",
      "+--------------+-----+--------+---+\n",
      "\n"
     ]
    }
   ],
   "source": [
    "df = spark.read \\\n",
    "    .format('csv') \\\n",
    "    .option(\"path\",r\"../project/data/sample.csv\") \\\n",
    "    .option(\"header\",\"true\") \\\n",
    "    .load()\n",
    "df = df.withColumn(\"sequence\",monotonically_increasing_id())\n",
    "df = df.select(\"Country\",\"state\",\"sequence\",\"Age\")\n",
    "df.show()"
   ]
  },
  {
   "cell_type": "code",
   "execution_count": 32,
   "id": "a59684c4",
   "metadata": {},
   "outputs": [],
   "source": [
    "running_total_window = Window.partitionBy(\"Country\") \\\n",
    "                    .orderBy(\"sequence\") \\\n",
    "                    .rowsBetween(Window.unboundedPreceding,Window.currentRow)"
   ]
  },
  {
   "cell_type": "code",
   "execution_count": 33,
   "id": "a575821e",
   "metadata": {},
   "outputs": [
    {
     "name": "stderr",
     "output_type": "stream",
     "text": [
      "                                                                                \r"
     ]
    },
    {
     "name": "stdout",
     "output_type": "stream",
     "text": [
      "+--------------+-----+--------+---+-------------+\n",
      "|       Country|state|sequence|Age|running total|\n",
      "+--------------+-----+--------+---+-------------+\n",
      "| United States|   IL|       0| 37|         37.0|\n",
      "| United States|   IN|       1| 44|         81.0|\n",
      "| United States|   TX|       4| 31|        112.0|\n",
      "| United States|   TN|       5| 33|        145.0|\n",
      "| United States|   MI|       6| 35|        180.0|\n",
      "| United States|   IL|       8| 42|        222.0|\n",
      "|        Canada|   NA|       2| 32|         32.0|\n",
      "|        Canada|   NA|       7| 39|         71.0|\n",
      "|United Kingdom|   NA|       3| 31|         31.0|\n",
      "+--------------+-----+--------+---+-------------+\n",
      "\n"
     ]
    },
    {
     "name": "stderr",
     "output_type": "stream",
     "text": [
      "\r",
      "[Stage 52:==============================================>         (62 + 2) / 75]\r",
      "\r",
      "                                                                                \r"
     ]
    }
   ],
   "source": [
    "df.withColumn(\"running total\",sum(\"Age\").over(running_total_window)).show()"
   ]
  },
  {
   "cell_type": "code",
   "execution_count": 34,
   "id": "62c76dd8",
   "metadata": {},
   "outputs": [],
   "source": [
    "window_spec = Window.partitionBy(\"Country\").orderBy(\"Age\")"
   ]
  },
  {
   "cell_type": "code",
   "execution_count": 35,
   "id": "874fa3ec",
   "metadata": {},
   "outputs": [
    {
     "name": "stderr",
     "output_type": "stream",
     "text": [
      "                                                                                \r"
     ]
    },
    {
     "name": "stdout",
     "output_type": "stream",
     "text": [
      "+--------------+-----+--------+---+------+\n",
      "|       Country|state|sequence|Age|row_no|\n",
      "+--------------+-----+--------+---+------+\n",
      "| United States|   TX|       4| 31|     1|\n",
      "| United States|   TN|       5| 33|     2|\n",
      "| United States|   MI|       6| 35|     3|\n",
      "| United States|   IL|       0| 37|     4|\n",
      "| United States|   IL|       8| 42|     5|\n",
      "| United States|   IN|       1| 44|     6|\n",
      "|        Canada|   NA|       2| 32|     1|\n",
      "|        Canada|   NA|       7| 39|     2|\n",
      "|United Kingdom|   NA|       3| 31|     1|\n",
      "+--------------+-----+--------+---+------+\n",
      "\n"
     ]
    }
   ],
   "source": [
    "df.withColumn(\"row_no\", row_number().over(window_spec)).show()"
   ]
  },
  {
   "cell_type": "code",
   "execution_count": 36,
   "id": "c6f7d522",
   "metadata": {},
   "outputs": [
    {
     "name": "stderr",
     "output_type": "stream",
     "text": [
      "\r",
      "[Stage 70:=============================================>         (82 + 2) / 100]\r",
      "\r",
      "                                                                                \r"
     ]
    },
    {
     "name": "stdout",
     "output_type": "stream",
     "text": [
      "+--------------+-----+--------+---+----+\n",
      "|       Country|state|sequence|Age|rank|\n",
      "+--------------+-----+--------+---+----+\n",
      "| United States|   TX|       4| 31|   1|\n",
      "| United States|   TN|       5| 33|   2|\n",
      "| United States|   MI|       6| 35|   3|\n",
      "| United States|   IL|       0| 37|   4|\n",
      "| United States|   IL|       8| 42|   5|\n",
      "| United States|   IN|       1| 44|   6|\n",
      "|        Canada|   NA|       2| 32|   1|\n",
      "|        Canada|   NA|       7| 39|   2|\n",
      "|United Kingdom|   NA|       3| 31|   1|\n",
      "+--------------+-----+--------+---+----+\n",
      "\n"
     ]
    },
    {
     "name": "stderr",
     "output_type": "stream",
     "text": [
      "\r",
      "[Stage 72:=======================================================>(74 + 1) / 75]\r",
      "\r",
      "                                                                                \r"
     ]
    }
   ],
   "source": [
    "df.withColumn(\"rank\",rank().over(window_spec)).show()"
   ]
  },
  {
   "cell_type": "code",
   "execution_count": 37,
   "id": "a478b5df",
   "metadata": {},
   "outputs": [
    {
     "name": "stderr",
     "output_type": "stream",
     "text": [
      "\r",
      "[Stage 80:=======================================>               (72 + 1) / 100]\r",
      "\r",
      "                                                                                \r"
     ]
    },
    {
     "name": "stdout",
     "output_type": "stream",
     "text": [
      "+--------------+-----+--------+---+----------+\n",
      "|       Country|state|sequence|Age|dense rank|\n",
      "+--------------+-----+--------+---+----------+\n",
      "| United States|   TX|       4| 31|         1|\n",
      "| United States|   TN|       5| 33|         2|\n",
      "| United States|   MI|       6| 35|         3|\n",
      "| United States|   IL|       0| 37|         4|\n",
      "| United States|   IL|       8| 42|         5|\n",
      "| United States|   IN|       1| 44|         6|\n",
      "|        Canada|   NA|       2| 32|         1|\n",
      "|        Canada|   NA|       7| 39|         2|\n",
      "|United Kingdom|   NA|       3| 31|         1|\n",
      "+--------------+-----+--------+---+----------+\n",
      "\n"
     ]
    },
    {
     "name": "stderr",
     "output_type": "stream",
     "text": [
      "\r",
      "[Stage 82:=====================================================>  (72 + 1) / 75]\r",
      "\r",
      "                                                                                \r"
     ]
    }
   ],
   "source": [
    "df.withColumn(\"dense rank\",dense_rank().over(window_spec)).show()"
   ]
  },
  {
   "cell_type": "code",
   "execution_count": 39,
   "id": "4116bc54",
   "metadata": {},
   "outputs": [],
   "source": [
    "window_spec = Window.partitionBy(\"Country\")"
   ]
  },
  {
   "cell_type": "code",
   "execution_count": null,
   "id": "3dd43ecf",
   "metadata": {},
   "outputs": [],
   "source": []
  }
 ],
 "metadata": {
  "kernelspec": {
   "display_name": "Python 3 (ipykernel)",
   "language": "python",
   "name": "python3"
  },
  "language_info": {
   "codemirror_mode": {
    "name": "ipython",
    "version": 3
   },
   "file_extension": ".py",
   "mimetype": "text/x-python",
   "name": "python",
   "nbconvert_exporter": "python",
   "pygments_lexer": "ipython3",
   "version": "3.8.10"
  }
 },
 "nbformat": 4,
 "nbformat_minor": 5
}
