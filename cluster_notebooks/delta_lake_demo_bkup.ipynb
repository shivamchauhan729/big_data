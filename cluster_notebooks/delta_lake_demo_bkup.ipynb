{
 "cells": [
  {
   "cell_type": "code",
   "execution_count": 2,
   "metadata": {},
   "outputs": [
    {
     "name": "stdout",
     "output_type": "stream",
     "text": [
      "Starting Spark application\n"
     ]
    },
    {
     "data": {
      "text/html": [
       "<table>\n",
       "<tr><th>ID</th><th>YARN Application ID</th><th>Kind</th><th>State</th><th>Spark UI</th><th>Driver log</th><th>Current session?</th></tr><tr><td>1</td><td>application_1614925776834_0003</td><td>pyspark</td><td>idle</td><td><a target=\"_blank\" href=\"http://ip-10-117-72-24.us-west-2.compute.internal:20888/proxy/application_1614925776834_0003/\" >Link</a></td><td><a target=\"_blank\" href=\"http://ip-10-117-72-30.us-west-2.compute.internal:8042/node/containerlogs/container_1614925776834_0003_01_000001/livy\" >Link</a></td><td>✔</td></tr></table>"
      ],
      "text/plain": [
       "<IPython.core.display.HTML object>"
      ]
     },
     "metadata": {},
     "output_type": "display_data"
    },
    {
     "data": {
      "application/vnd.jupyter.widget-view+json": {
       "model_id": "",
       "version_major": 2,
       "version_minor": 0
      },
      "text/plain": [
       "FloatProgress(value=0.0, bar_style='info', description='Progress:', layout=Layout(height='25px', width='50%'),…"
      ]
     },
     "metadata": {},
     "output_type": "display_data"
    },
    {
     "name": "stdout",
     "output_type": "stream",
     "text": [
      "SparkSession available as 'spark'.\n"
     ]
    },
    {
     "data": {
      "text/html": [
       "Current session configs: <tt>{'conf': {'spark.databricks.hive.metastore.glueCatalog.enabled': 'true', 'spark.jars.packages': 'io.delta:delta-core_2.12:0.8.0', 'spark.sql.extensions': 'io.delta.sql.DeltaSparkSessionExtension', 'spark.sql.catalog.spark_catalog': 'org.apache.spark.sql.delta.catalog.DeltaCatalog', 'spark.sql.warehouse.dir': 's3://aws-poc-serverless-analytics/delta_lake_demo/clean/delta_dw/'}, 'kind': 'pyspark'}</tt><br>"
      ],
      "text/plain": [
       "<IPython.core.display.HTML object>"
      ]
     },
     "metadata": {},
     "output_type": "display_data"
    },
    {
     "data": {
      "text/html": [
       "<table>\n",
       "<tr><th>ID</th><th>YARN Application ID</th><th>Kind</th><th>State</th><th>Spark UI</th><th>Driver log</th><th>Current session?</th></tr><tr><td>1</td><td>application_1614925776834_0003</td><td>pyspark</td><td>idle</td><td><a target=\"_blank\" href=\"http://ip-10-117-72-24.us-west-2.compute.internal:20888/proxy/application_1614925776834_0003/\" >Link</a></td><td><a target=\"_blank\" href=\"http://ip-10-117-72-30.us-west-2.compute.internal:8042/node/containerlogs/container_1614925776834_0003_01_000001/livy\" >Link</a></td><td>✔</td></tr></table>"
      ],
      "text/plain": [
       "<IPython.core.display.HTML object>"
      ]
     },
     "metadata": {},
     "output_type": "display_data"
    }
   ],
   "source": [
    "%%configure -f\n",
    "{ \"conf\":{    \n",
    "          \"spark.databricks.hive.metastore.glueCatalog.enabled\" : \"true\",\n",
    "          \"spark.jars.packages\": \"io.delta:delta-core_2.12:0.8.0\",\n",
    "          \"spark.sql.extensions\": \"io.delta.sql.DeltaSparkSessionExtension\",\n",
    "          \"spark.sql.catalog.spark_catalog\": \"org.apache.spark.sql.delta.catalog.DeltaCatalog\",\n",
    "          \"spark.sql.warehouse.dir\": \"s3://aws-poc-serverless-analytics/delta_lake_demo/clean/delta_dw/\"\n",
    "    \n",
    "         }\n",
    "}\n"
   ]
  },
  {
   "cell_type": "code",
   "execution_count": 3,
   "metadata": {},
   "outputs": [
    {
     "data": {
      "application/vnd.jupyter.widget-view+json": {
       "model_id": "",
       "version_major": 2,
       "version_minor": 0
      },
      "text/plain": [
       "VBox()"
      ]
     },
     "metadata": {},
     "output_type": "display_data"
    },
    {
     "data": {
      "application/vnd.jupyter.widget-view+json": {
       "model_id": "",
       "version_major": 2,
       "version_minor": 0
      },
      "text/plain": [
       "FloatProgress(value=0.0, bar_style='info', description='Progress:', layout=Layout(height='25px', width='50%'),…"
      ]
     },
     "metadata": {},
     "output_type": "display_data"
    },
    {
     "name": "stdout",
     "output_type": "stream",
     "text": [
      "DataFrame[key: string, value: string]"
     ]
    }
   ],
   "source": [
    "from pyspark.sql.functions import *\n",
    "from delta.tables import *\n",
    "spark.sql(\"SET spark.databricks.delta.schema.autoMerge.enabled = true\") \n",
    "#import boto3"
   ]
  },
  {
   "cell_type": "markdown",
   "metadata": {},
   "source": [
    "# Set up relevant paths."
   ]
  },
  {
   "cell_type": "code",
   "execution_count": 30,
   "metadata": {},
   "outputs": [
    {
     "data": {
      "application/vnd.jupyter.widget-view+json": {
       "model_id": "a8c227d6b489448db3cf8f0a9710583b",
       "version_major": 2,
       "version_minor": 0
      },
      "text/plain": [
       "VBox()"
      ]
     },
     "metadata": {},
     "output_type": "display_data"
    },
    {
     "data": {
      "application/vnd.jupyter.widget-view+json": {
       "model_id": "",
       "version_major": 2,
       "version_minor": 0
      },
      "text/plain": [
       "FloatProgress(value=0.0, bar_style='info', description='Progress:', layout=Layout(height='25px', width='50%'),…"
      ]
     },
     "metadata": {},
     "output_type": "display_data"
    }
   ],
   "source": [
    "inputPath = \"s3a://aws-poc-serverless-analytics/delta_lake_demo/raw/merchants.csv\"\n",
    "\n",
    "workingDir = \"s3a://aws-poc-serverless-analytics/delta_lake_demo/clean\"\n",
    "\n",
    "parquetDataPath  = workingDir + \"/delta_dw/\"\n",
    "deltaDataPath    = workingDir + \"/delta_dw/\""
   ]
  },
  {
   "cell_type": "code",
   "execution_count": 31,
   "metadata": {},
   "outputs": [
    {
     "data": {
      "application/vnd.jupyter.widget-view+json": {
       "model_id": "5a7ffe46e3f04db28e3d1f4e7abf8eda",
       "version_major": 2,
       "version_minor": 0
      },
      "text/plain": [
       "VBox()"
      ]
     },
     "metadata": {},
     "output_type": "display_data"
    },
    {
     "data": {
      "application/vnd.jupyter.widget-view+json": {
       "model_id": "",
       "version_major": 2,
       "version_minor": 0
      },
      "text/plain": [
       "FloatProgress(value=0.0, bar_style='info', description='Progress:', layout=Layout(height='25px', width='50%'),…"
      ]
     },
     "metadata": {},
     "output_type": "display_data"
    }
   ],
   "source": [
    "inputSchema = \"id INT, company_name STRING, telephone LONG, state STRING, created_at TIMESTAMP, updated_at TIMESTAMP\"\n",
    "\n",
    "rawDF = (spark.read \n",
    "  .option(\"header\", \"true\")\n",
    "  .schema(inputSchema)\n",
    "  .csv(inputPath) \n",
    ")\n",
    "rawDF = rawDF.withColumn('active', lit(\"true\"))"
   ]
  },
  {
   "cell_type": "code",
   "execution_count": 32,
   "metadata": {
    "scrolled": true
   },
   "outputs": [
    {
     "data": {
      "application/vnd.jupyter.widget-view+json": {
       "model_id": "a8e9f1e095d34bbda2b026bc51b291e7",
       "version_major": 2,
       "version_minor": 0
      },
      "text/plain": [
       "VBox()"
      ]
     },
     "metadata": {},
     "output_type": "display_data"
    },
    {
     "data": {
      "application/vnd.jupyter.widget-view+json": {
       "model_id": "",
       "version_major": 2,
       "version_minor": 0
      },
      "text/plain": [
       "FloatProgress(value=0.0, bar_style='info', description='Progress:', layout=Layout(height='25px', width='50%'),…"
      ]
     },
     "metadata": {},
     "output_type": "display_data"
    },
    {
     "name": "stdout",
     "output_type": "stream",
     "text": [
      "root\n",
      " |-- id: integer (nullable = true)\n",
      " |-- company_name: string (nullable = true)\n",
      " |-- telephone: long (nullable = true)\n",
      " |-- state: string (nullable = true)\n",
      " |-- created_at: timestamp (nullable = true)\n",
      " |-- updated_at: timestamp (nullable = true)\n",
      " |-- active: string (nullable = false)"
     ]
    }
   ],
   "source": [
    "rawDF.printSchema()"
   ]
  },
  {
   "cell_type": "code",
   "execution_count": 12,
   "metadata": {},
   "outputs": [
    {
     "data": {
      "application/vnd.jupyter.widget-view+json": {
       "model_id": "0cdfb7d05d02451ab8ec971fdcec04b9",
       "version_major": 2,
       "version_minor": 0
      },
      "text/plain": [
       "VBox()"
      ]
     },
     "metadata": {},
     "output_type": "display_data"
    },
    {
     "data": {
      "application/vnd.jupyter.widget-view+json": {
       "model_id": "",
       "version_major": 2,
       "version_minor": 0
      },
      "text/plain": [
       "FloatProgress(value=0.0, bar_style='info', description='Progress:', layout=Layout(height='25px', width='50%'),…"
      ]
     },
     "metadata": {},
     "output_type": "display_data"
    }
   ],
   "source": [
    "target_table = \"merchants_cln\"\n",
    "stg_table = \"merchants_cln_stg\"\n",
    "database = \"delta_lake_demo\""
   ]
  },
  {
   "cell_type": "code",
   "execution_count": 41,
   "metadata": {},
   "outputs": [
    {
     "data": {
      "application/vnd.jupyter.widget-view+json": {
       "model_id": "e0e4bd12bd2d4796bb1d5ef85b1cea33",
       "version_major": 2,
       "version_minor": 0
      },
      "text/plain": [
       "VBox()"
      ]
     },
     "metadata": {},
     "output_type": "display_data"
    },
    {
     "data": {
      "application/vnd.jupyter.widget-view+json": {
       "model_id": "",
       "version_major": 2,
       "version_minor": 0
      },
      "text/plain": [
       "FloatProgress(value=0.0, bar_style='info', description='Progress:', layout=Layout(height='25px', width='50%'),…"
      ]
     },
     "metadata": {},
     "output_type": "display_data"
    },
    {
     "name": "stdout",
     "output_type": "stream",
     "text": [
      "DataFrame[]"
     ]
    }
   ],
   "source": [
    "spark.sql(f\"DROP TABLE IF EXISTS {target_table}\")\n",
    "spark.sql(f\"DROP TABLE IF EXISTS {stg_table}\")"
   ]
  },
  {
   "cell_type": "code",
   "execution_count": 29,
   "metadata": {},
   "outputs": [
    {
     "data": {
      "application/vnd.jupyter.widget-view+json": {
       "model_id": "1cfb4dcbe46d4234a591e5d1d06a4d75",
       "version_major": 2,
       "version_minor": 0
      },
      "text/plain": [
       "VBox()"
      ]
     },
     "metadata": {},
     "output_type": "display_data"
    },
    {
     "data": {
      "application/vnd.jupyter.widget-view+json": {
       "model_id": "",
       "version_major": 2,
       "version_minor": 0
      },
      "text/plain": [
       "FloatProgress(value=0.0, bar_style='info', description='Progress:', layout=Layout(height='25px', width='50%'),…"
      ]
     },
     "metadata": {},
     "output_type": "display_data"
    },
    {
     "name": "stderr",
     "output_type": "stream",
     "text": [
      "An error was encountered:\n",
      "org.apache.hadoop.hive.ql.metadata.HiveException: MetaException(message:Unable to drop database: InvalidOperationException(message:Database delta_lake_demo is not empty.));\n",
      "Traceback (most recent call last):\n",
      "  File \"/usr/lib/spark/python/lib/pyspark.zip/pyspark/sql/session.py\", line 649, in sql\n",
      "    return DataFrame(self._jsparkSession.sql(sqlQuery), self._wrapped)\n",
      "  File \"/usr/lib/spark/python/lib/py4j-0.10.9-src.zip/py4j/java_gateway.py\", line 1305, in __call__\n",
      "    answer, self.gateway_client, self.target_id, self.name)\n",
      "  File \"/usr/lib/spark/python/lib/pyspark.zip/pyspark/sql/utils.py\", line 134, in deco\n",
      "    raise_from(converted)\n",
      "  File \"<string>\", line 3, in raise_from\n",
      "pyspark.sql.utils.AnalysisException: org.apache.hadoop.hive.ql.metadata.HiveException: MetaException(message:Unable to drop database: InvalidOperationException(message:Database delta_lake_demo is not empty.));\n",
      "\n"
     ]
    }
   ],
   "source": [
    "spark.sql(f\"DROP DATABASE IF EXISTS {database}\")"
   ]
  },
  {
   "cell_type": "code",
   "execution_count": 13,
   "metadata": {},
   "outputs": [
    {
     "data": {
      "application/vnd.jupyter.widget-view+json": {
       "model_id": "6dd07f5f85f54a2c8b35074f50832855",
       "version_major": 2,
       "version_minor": 0
      },
      "text/plain": [
       "VBox()"
      ]
     },
     "metadata": {},
     "output_type": "display_data"
    },
    {
     "data": {
      "application/vnd.jupyter.widget-view+json": {
       "model_id": "",
       "version_major": 2,
       "version_minor": 0
      },
      "text/plain": [
       "FloatProgress(value=0.0, bar_style='info', description='Progress:', layout=Layout(height='25px', width='50%'),…"
      ]
     },
     "metadata": {},
     "output_type": "display_data"
    },
    {
     "name": "stdout",
     "output_type": "stream",
     "text": [
      "DataFrame[]"
     ]
    }
   ],
   "source": [
    "spark.sql(f\"CREATE DATABASE IF NOT EXISTS {database}\")\n",
    "spark.sql(f\"USE {database}\")"
   ]
  },
  {
   "cell_type": "markdown",
   "metadata": {},
   "source": [
    "\n",
    "###  WRITE to Delta\n"
   ]
  },
  {
   "cell_type": "code",
   "execution_count": 42,
   "metadata": {},
   "outputs": [
    {
     "data": {
      "application/vnd.jupyter.widget-view+json": {
       "model_id": "2f3e10bfcd8d481eade651238d64aa25",
       "version_major": 2,
       "version_minor": 0
      },
      "text/plain": [
       "VBox()"
      ]
     },
     "metadata": {},
     "output_type": "display_data"
    },
    {
     "data": {
      "application/vnd.jupyter.widget-view+json": {
       "model_id": "",
       "version_major": 2,
       "version_minor": 0
      },
      "text/plain": [
       "FloatProgress(value=0.0, bar_style='info', description='Progress:', layout=Layout(height='25px', width='50%'),…"
      ]
     },
     "metadata": {},
     "output_type": "display_data"
    }
   ],
   "source": [
    "# write using Databricks Delta format\n",
    "(rawDF.write\n",
    "  .mode(\"overwrite\")\n",
    "  .format(\"delta\")\n",
    "  .partitionBy(\"state\")\n",
    "  .option(\"overwriteSchema\", \"true\")\n",
    "  .saveAsTable(f\"{target_table}\") )"
   ]
  },
  {
   "cell_type": "code",
   "execution_count": 43,
   "metadata": {
    "scrolled": false
   },
   "outputs": [
    {
     "data": {
      "application/vnd.jupyter.widget-view+json": {
       "model_id": "d6a119e87b374032b1f815cee338d140",
       "version_major": 2,
       "version_minor": 0
      },
      "text/plain": [
       "VBox()"
      ]
     },
     "metadata": {},
     "output_type": "display_data"
    },
    {
     "data": {
      "application/vnd.jupyter.widget-view+json": {
       "model_id": "",
       "version_major": 2,
       "version_minor": 0
      },
      "text/plain": [
       "FloatProgress(value=0.0, bar_style='info', description='Progress:', layout=Layout(height='25px', width='50%'),…"
      ]
     },
     "metadata": {},
     "output_type": "display_data"
    },
    {
     "name": "stdout",
     "output_type": "stream",
     "text": [
      "+------+--------------------+----------+-----------+--------------------+--------------------+------+\n",
      "|    id|        company_name| telephone|      state|          created_at|          updated_at|active|\n",
      "+------+--------------------+----------+-----------+--------------------+--------------------+------+\n",
      "|177863|  Bellelyse Boutique|      null|  suspended|2020-12-31 04:56:...|2021-02-19 16:53:...|  true|\n",
      "| 50742|Thenaricalicollec...|5049394269|  suspended|2019-03-22 03:57:...|2019-05-15 00:54:...|  true|\n",
      "|176321|   CLICK MY CART LTD|6479863690|  suspended|2020-12-23 06:20:...|2020-12-24 04:53:...|  true|\n",
      "|144524|     Rachid hamzaoui| 639756718|       free|2020-09-21 17:18:...|2020-10-22 11:15:...|  true|\n",
      "|140294|              myself|7149259700|       free|2020-09-05 17:41:...|2020-10-06 11:15:...|  true|\n",
      "|156444|     Only The Flyest|4049038447|       free|2020-10-27 05:26:...|2020-11-26 11:15:...|  true|\n",
      "|156237|          Washer Fan|      null|provisioned|2020-10-26 20:10:...|2020-10-26 20:53:...|  true|\n",
      "| 44082|Quick Draw Outdoo...|3182596422|provisioned|2019-02-04 16:57:...|2021-02-10 02:07:...|  true|\n",
      "|178307|            MSI Kart|9319919988|trial_ended|2021-01-02 09:33:...|2021-01-02 09:39:...|  true|\n",
      "|165163|  JeeJee’s Boutique |      null|trial_ended|2020-11-20 16:31:...|2020-11-20 16:33:...|  true|\n",
      "+------+--------------------+----------+-----------+--------------------+--------------------+------+"
     ]
    }
   ],
   "source": [
    "spark.sql(f\"\"\"select * from {target_table}\"\"\").show()"
   ]
  },
  {
   "cell_type": "code",
   "execution_count": 44,
   "metadata": {},
   "outputs": [
    {
     "data": {
      "application/vnd.jupyter.widget-view+json": {
       "model_id": "f296bf92ed7e4fd7b01e1f3fc84e1044",
       "version_major": 2,
       "version_minor": 0
      },
      "text/plain": [
       "VBox()"
      ]
     },
     "metadata": {},
     "output_type": "display_data"
    },
    {
     "data": {
      "application/vnd.jupyter.widget-view+json": {
       "model_id": "",
       "version_major": 2,
       "version_minor": 0
      },
      "text/plain": [
       "FloatProgress(value=0.0, bar_style='info', description='Progress:', layout=Layout(height='25px', width='50%'),…"
      ]
     },
     "metadata": {},
     "output_type": "display_data"
    }
   ],
   "source": [
    "def create_glue_table_hudi(rawDF, clean_output_path, table_name, glue_database, partition_key_list):\n",
    "\n",
    "    # Reading dataframe column name and datatypes\n",
    "    input_list = rawDF.dtypes\n",
    "    glue_column_list = []\n",
    "\n",
    "    # Making column list for glue api call\n",
    "    for each in input_list:\n",
    "        column_dict = {}\n",
    "        column_dict[\"Type\"] = each[1].replace(\"integer\", \"int\").replace(\"long\", \"bigint\")\n",
    "        column_dict[\"Name\"] = each[0]\n",
    "        glue_column_list.append(column_dict.copy())\n",
    "\n",
    "    # Removing partition keys from columns list\n",
    "    partition_key = []\n",
    "    for i in partition_key_list:\n",
    "        for each in glue_column_list:\n",
    "            if each[\"Name\"] == i:\n",
    "                partition_key.append(each)\n",
    "                glue_column_list.remove(each)\n",
    "\n",
    "    glue_database_name = glue_database\n",
    "    glue_table_name = table_name\n",
    "    glue_table_location = clean_output_path\n",
    "    response = client.create_table(\n",
    "        DatabaseName=glue_database_name,\n",
    "        TableInput={\"Name\": glue_table_name,\n",
    "                    \"StorageDescriptor\": {\n",
    "                        \"OutputFormat\": \"org.apache.hadoop.hive.ql.io.parquet.MapredParquetOutputFormat\",\n",
    "                        \"SortColumns\": [],\n",
    "                        \"InputFormat\": \"org.apache.hudi.hadoop.HoodieParquetInputFormat\",\n",
    "                        \"SerdeInfo\": {\n",
    "                            \"SerializationLibrary\": \"org.apache.hadoop.hive.ql.io.parquet.serde.ParquetHiveSerDe\",\n",
    "                            \"Parameters\": {\n",
    "                                \"serialization.format\": \"1\"\n",
    "                            }\n",
    "                        },\n",
    "                        \"BucketColumns\": [],\n",
    "                        \"Parameters\": {\n",
    "                            \"CrawlerSchemaDeserializerVersion\": \"1.0\",\n",
    "                            \"compressionType\": \"none\",\n",
    "                            \"classification\": \"parquet\",\n",
    "                            \"typeOfData\": \"file\",\n",
    "                            \"CrawlerSchemaSerializerVersion\": \"1.0\"\n",
    "                        },\n",
    "                        \"Location\": glue_table_location,\n",
    "                        \"NumberOfBuckets\": -1,\n",
    "                        \"StoredAsSubDirectories\": False,\n",
    "                        \"Columns\": glue_column_list,\n",
    "                        \"Compressed\": False\n",
    "                    },\n",
    "                    \"PartitionKeys\": partition_key,\n",
    "                    \"Parameters\": {\n",
    "                        \"CrawlerSchemaDeserializerVersion\": \"1.0\",\n",
    "                        \"compressionType\": \"none\",\n",
    "                        \"classification\": \"parquet\",\n",
    "                        \"typeOfData\": \"file\",\n",
    "                        \"CrawlerSchemaSerializerVersion\": \"1.0\"\n",
    "                    },\n",
    "                    \"Owner\": \"owner\",\n",
    "                    \"TableType\": \"EXTERNAL_TABLE\"\n",
    "                    }\n",
    "    )"
   ]
  },
  {
   "cell_type": "code",
   "execution_count": 5,
   "metadata": {},
   "outputs": [
    {
     "data": {
      "application/vnd.jupyter.widget-view+json": {
       "model_id": "ea3f734033764b7bab45f54998541033",
       "version_major": 2,
       "version_minor": 0
      },
      "text/plain": [
       "VBox()"
      ]
     },
     "metadata": {},
     "output_type": "display_data"
    },
    {
     "data": {
      "application/vnd.jupyter.widget-view+json": {
       "model_id": "",
       "version_major": 2,
       "version_minor": 0
      },
      "text/plain": [
       "FloatProgress(value=0.0, bar_style='info', description='Progress:', layout=Layout(height='25px', width='50%'),…"
      ]
     },
     "metadata": {},
     "output_type": "display_data"
    }
   ],
   "source": [
    "client = boto3.client('glue',region_name='us-west-2')\n",
    "clean_output_path = \"s3://aws-poc-serverless-analytics/delta_lake_demo/clean/delta_dw/delta_lake_demo.db/merchants_cln/\"\n",
    "table_name = \"merchants_cln_glue\"\n",
    "glue_database = \"delta_lake_demo\"\n",
    "partition_key_list = ['state']"
   ]
  },
  {
   "cell_type": "code",
   "execution_count": 45,
   "metadata": {
    "scrolled": true
   },
   "outputs": [
    {
     "data": {
      "application/vnd.jupyter.widget-view+json": {
       "model_id": "366880a9a8ab4a69803cd9a2bd2c9b16",
       "version_major": 2,
       "version_minor": 0
      },
      "text/plain": [
       "VBox()"
      ]
     },
     "metadata": {},
     "output_type": "display_data"
    },
    {
     "data": {
      "application/vnd.jupyter.widget-view+json": {
       "model_id": "",
       "version_major": 2,
       "version_minor": 0
      },
      "text/plain": [
       "FloatProgress(value=0.0, bar_style='info', description='Progress:', layout=Layout(height='25px', width='50%'),…"
      ]
     },
     "metadata": {},
     "output_type": "display_data"
    }
   ],
   "source": [
    "create_glue_table_hudi(rawDF, clean_output_path, table_name, glue_database, partition_key_list)"
   ]
  },
  {
   "cell_type": "code",
   "execution_count": null,
   "metadata": {},
   "outputs": [],
   "source": []
  },
  {
   "cell_type": "code",
   "execution_count": 146,
   "metadata": {},
   "outputs": [
    {
     "data": {
      "application/vnd.jupyter.widget-view+json": {
       "model_id": "d1778654bf0143e9aa84fe1bc2a1f9d2",
       "version_major": 2,
       "version_minor": 0
      },
      "text/plain": [
       "VBox()"
      ]
     },
     "metadata": {},
     "output_type": "display_data"
    },
    {
     "data": {
      "application/vnd.jupyter.widget-view+json": {
       "model_id": "",
       "version_major": 2,
       "version_minor": 0
      },
      "text/plain": [
       "FloatProgress(value=0.0, bar_style='info', description='Progress:', layout=Layout(height='25px', width='50%'),…"
      ]
     },
     "metadata": {},
     "output_type": "display_data"
    },
    {
     "name": "stdout",
     "output_type": "stream",
     "text": [
      "DataFrame[]"
     ]
    }
   ],
   "source": [
    "spark.sql(f\"\"\"GENERATE symlink_format_manifest FOR TABLE {target_table}\"\"\")"
   ]
  },
  {
   "cell_type": "code",
   "execution_count": 120,
   "metadata": {},
   "outputs": [
    {
     "data": {
      "application/vnd.jupyter.widget-view+json": {
       "model_id": "262cfe0256cd4a02af6251fb237c632c",
       "version_major": 2,
       "version_minor": 0
      },
      "text/plain": [
       "VBox()"
      ]
     },
     "metadata": {},
     "output_type": "display_data"
    },
    {
     "data": {
      "application/vnd.jupyter.widget-view+json": {
       "model_id": "",
       "version_major": 2,
       "version_minor": 0
      },
      "text/plain": [
       "FloatProgress(value=0.0, bar_style='info', description='Progress:', layout=Layout(height='25px', width='50%'),…"
      ]
     },
     "metadata": {},
     "output_type": "display_data"
    },
    {
     "name": "stderr",
     "output_type": "stream",
     "text": [
      "An error was encountered:\n",
      "Table or view 'merchants_cln_external' already exists in database 'delta_lake_demo';\n",
      "Traceback (most recent call last):\n",
      "  File \"/usr/lib/spark/python/lib/pyspark.zip/pyspark/sql/session.py\", line 649, in sql\n",
      "    return DataFrame(self._jsparkSession.sql(sqlQuery), self._wrapped)\n",
      "  File \"/usr/lib/spark/python/lib/py4j-0.10.9-src.zip/py4j/java_gateway.py\", line 1305, in __call__\n",
      "    answer, self.gateway_client, self.target_id, self.name)\n",
      "  File \"/usr/lib/spark/python/lib/pyspark.zip/pyspark/sql/utils.py\", line 134, in deco\n",
      "    raise_from(converted)\n",
      "  File \"<string>\", line 3, in raise_from\n",
      "pyspark.sql.utils.AnalysisException: Table or view 'merchants_cln_external' already exists in database 'delta_lake_demo';\n",
      "\n"
     ]
    }
   ],
   "source": [
    "spark.sql(f\"\"\" CREATE EXTERNAL TABLE {target_table}_external (id INT, company_name STRING, telephone LONG, created_at TIMESTAMP, updated_at TIMESTAMP, active STRING)\n",
    "PARTITIONED BY (state STRING)\n",
    "ROW FORMAT SERDE 'org.apache.hadoop.hive.ql.io.parquet.serde.ParquetHiveSerDe'\n",
    "STORED AS INPUTFORMAT 'org.apache.hadoop.hive.ql.io.SymlinkTextInputFormat'\n",
    "OUTPUTFORMAT 'org.apache.hadoop.hive.ql.io.HiveIgnoreKeyTextOutputFormat'\n",
    "LOCATION 's3://aws-poc-serverless-analytics/delta_lake_demo/clean/delta_dw/delta_lake_demo.db/merchants_cln/_symlink_format_manifest/' \n",
    "\"\"\")"
   ]
  },
  {
   "cell_type": "code",
   "execution_count": 147,
   "metadata": {},
   "outputs": [
    {
     "data": {
      "application/vnd.jupyter.widget-view+json": {
       "model_id": "aa491add6fb94e41b29e26faccc769f0",
       "version_major": 2,
       "version_minor": 0
      },
      "text/plain": [
       "VBox()"
      ]
     },
     "metadata": {},
     "output_type": "display_data"
    },
    {
     "data": {
      "application/vnd.jupyter.widget-view+json": {
       "model_id": "",
       "version_major": 2,
       "version_minor": 0
      },
      "text/plain": [
       "FloatProgress(value=0.0, bar_style='info', description='Progress:', layout=Layout(height='25px', width='50%'),…"
      ]
     },
     "metadata": {},
     "output_type": "display_data"
    },
    {
     "name": "stdout",
     "output_type": "stream",
     "text": [
      "DataFrame[]"
     ]
    }
   ],
   "source": [
    "spark.sql(f\"\"\"MSCK REPAIR TABLE {target_table}_external\"\"\")"
   ]
  },
  {
   "cell_type": "markdown",
   "metadata": {},
   "source": [
    "## Read in Some New Data for SCD 1"
   ]
  },
  {
   "cell_type": "code",
   "execution_count": 8,
   "metadata": {},
   "outputs": [
    {
     "data": {
      "application/vnd.jupyter.widget-view+json": {
       "model_id": "18c5bc5a7e3c462d8f1b03c1b5696ff3",
       "version_major": 2,
       "version_minor": 0
      },
      "text/plain": [
       "VBox()"
      ]
     },
     "metadata": {},
     "output_type": "display_data"
    },
    {
     "data": {
      "application/vnd.jupyter.widget-view+json": {
       "model_id": "",
       "version_major": 2,
       "version_minor": 0
      },
      "text/plain": [
       "FloatProgress(value=0.0, bar_style='info', description='Progress:', layout=Layout(height='25px', width='50%'),…"
      ]
     },
     "metadata": {},
     "output_type": "display_data"
    }
   ],
   "source": [
    "miniDataInputPath = \"s3a://aws-poc-serverless-analytics/delta_lake_demo/raw/merchants_SCD1.txt\""
   ]
  },
  {
   "cell_type": "code",
   "execution_count": 14,
   "metadata": {},
   "outputs": [
    {
     "data": {
      "application/vnd.jupyter.widget-view+json": {
       "model_id": "0f484b22102a4283a2f81f3fa1790e22",
       "version_major": 2,
       "version_minor": 0
      },
      "text/plain": [
       "VBox()"
      ]
     },
     "metadata": {},
     "output_type": "display_data"
    },
    {
     "data": {
      "application/vnd.jupyter.widget-view+json": {
       "model_id": "",
       "version_major": 2,
       "version_minor": 0
      },
      "text/plain": [
       "FloatProgress(value=0.0, bar_style='info', description='Progress:', layout=Layout(height='25px', width='50%'),…"
      ]
     },
     "metadata": {},
     "output_type": "display_data"
    }
   ],
   "source": [
    "inputSchema = \"id INT, company_name STRING, telephone LONG, state STRING, created_at TIMESTAMP, updated_at TIMESTAMP\"\n",
    "\n",
    "newDataDF = (spark.read \n",
    "  .option(\"header\", \"true\")\n",
    "  .schema(inputSchema)\n",
    "  .csv(miniDataInputPath) \n",
    ")\n",
    "newDataDF = newDataDF.withColumn('active', lit(\"true\"))"
   ]
  },
  {
   "cell_type": "code",
   "execution_count": 15,
   "metadata": {},
   "outputs": [
    {
     "data": {
      "application/vnd.jupyter.widget-view+json": {
       "model_id": "289e85f0d793489f953a542c4622aa54",
       "version_major": 2,
       "version_minor": 0
      },
      "text/plain": [
       "VBox()"
      ]
     },
     "metadata": {},
     "output_type": "display_data"
    },
    {
     "data": {
      "application/vnd.jupyter.widget-view+json": {
       "model_id": "",
       "version_major": 2,
       "version_minor": 0
      },
      "text/plain": [
       "FloatProgress(value=0.0, bar_style='info', description='Progress:', layout=Layout(height='25px', width='50%'),…"
      ]
     },
     "metadata": {},
     "output_type": "display_data"
    }
   ],
   "source": [
    "# write using Databricks Delta format\n",
    "(newDataDF.write\n",
    "  .mode(\"overwrite\")\n",
    "  .format(\"delta\")\n",
    "  .option(\"overwriteSchema\",\"true\")\n",
    "  .partitionBy(\"state\")\n",
    "  .saveAsTable(f\"{stg_table}\") )"
   ]
  },
  {
   "cell_type": "code",
   "execution_count": 16,
   "metadata": {
    "scrolled": true
   },
   "outputs": [
    {
     "data": {
      "application/vnd.jupyter.widget-view+json": {
       "model_id": "1e396ae2cad5469a9e53756eebf2d7c6",
       "version_major": 2,
       "version_minor": 0
      },
      "text/plain": [
       "VBox()"
      ]
     },
     "metadata": {},
     "output_type": "display_data"
    },
    {
     "data": {
      "application/vnd.jupyter.widget-view+json": {
       "model_id": "",
       "version_major": 2,
       "version_minor": 0
      },
      "text/plain": [
       "FloatProgress(value=0.0, bar_style='info', description='Progress:', layout=Layout(height='25px', width='50%'),…"
      ]
     },
     "metadata": {},
     "output_type": "display_data"
    },
    {
     "name": "stdout",
     "output_type": "stream",
     "text": [
      "+------+--------------------+----------+-----------+--------------------+--------------------+------+\n",
      "|    id|        company_name| telephone|      state|          created_at|          updated_at|active|\n",
      "+------+--------------------+----------+-----------+--------------------+--------------------+------+\n",
      "|177863|  Bellelyse Boutique|      null|  suspended|2020-12-31 04:56:...|2021-02-19 16:53:...|  true|\n",
      "| 50742|Thenaricalicollec...|5049394269|  suspended|2019-03-22 03:57:...|2019-05-15 00:54:...|  true|\n",
      "|176321|   CLICK MY CART LTD|6479863690|  suspended|2020-12-23 06:20:...|2020-12-24 04:53:...|  true|\n",
      "|144524|     Rachid hamzaoui| 639756718|       free|2020-09-21 17:18:...|2020-10-22 11:15:...|  true|\n",
      "|140294|              myself|7149259700|       free|2020-09-05 17:41:...|2020-10-06 11:15:...|  true|\n",
      "|156444|     Only The Flyest|4049038447|       free|2020-10-27 05:26:...|2020-11-26 11:15:...|  true|\n",
      "|156237|          Washer Fan|      null|provisioned|2020-10-26 20:10:...|2020-10-26 20:53:...|  true|\n",
      "| 44082|Quick Draw Outdoo...|3182596422|provisioned|2019-02-04 16:57:...|2021-02-10 02:07:...|  true|\n",
      "|178307|            MSI Kart|9319919988|trial_ended|2021-01-02 09:33:...|2021-01-02 09:39:...|  true|\n",
      "|165163|  JeeJee’s Boutique |      null|trial_ended|2020-11-20 16:31:...|2020-11-20 16:33:...|  true|\n",
      "+------+--------------------+----------+-----------+--------------------+--------------------+------+"
     ]
    }
   ],
   "source": [
    "spark.sql(f\"\"\"select * from {stg_table}\"\"\").show()"
   ]
  },
  {
   "cell_type": "code",
   "execution_count": 17,
   "metadata": {},
   "outputs": [
    {
     "data": {
      "application/vnd.jupyter.widget-view+json": {
       "model_id": "69b3075e29b14af2bf9f9fdc1ea613c9",
       "version_major": 2,
       "version_minor": 0
      },
      "text/plain": [
       "VBox()"
      ]
     },
     "metadata": {},
     "output_type": "display_data"
    },
    {
     "data": {
      "application/vnd.jupyter.widget-view+json": {
       "model_id": "",
       "version_major": 2,
       "version_minor": 0
      },
      "text/plain": [
       "FloatProgress(value=0.0, bar_style='info', description='Progress:', layout=Layout(height='25px', width='50%'),…"
      ]
     },
     "metadata": {},
     "output_type": "display_data"
    },
    {
     "name": "stdout",
     "output_type": "stream",
     "text": [
      "DataFrame[]"
     ]
    }
   ],
   "source": [
    "spark.sql(f\"\"\" \n",
    "              MERGE INTO {target_table}\n",
    "              USING {stg_table}\n",
    "              on {target_table}.id = {stg_table}.id\n",
    "              WHEN MATCHED THEN \n",
    "                  UPDATE SET *\n",
    "              WHEN NOT MATCHED \n",
    "                  THEN INSERT *\n",
    "              \n",
    "            \"\"\")"
   ]
  },
  {
   "cell_type": "code",
   "execution_count": 18,
   "metadata": {
    "scrolled": false
   },
   "outputs": [
    {
     "data": {
      "application/vnd.jupyter.widget-view+json": {
       "model_id": "4e69a7ced1db48b2851dc15c0f622968",
       "version_major": 2,
       "version_minor": 0
      },
      "text/plain": [
       "VBox()"
      ]
     },
     "metadata": {},
     "output_type": "display_data"
    },
    {
     "data": {
      "application/vnd.jupyter.widget-view+json": {
       "model_id": "",
       "version_major": 2,
       "version_minor": 0
      },
      "text/plain": [
       "FloatProgress(value=0.0, bar_style='info', description='Progress:', layout=Layout(height='25px', width='50%'),…"
      ]
     },
     "metadata": {},
     "output_type": "display_data"
    },
    {
     "name": "stdout",
     "output_type": "stream",
     "text": [
      "+------+--------------------+----------+-----------+--------------------+--------------------+------+\n",
      "|    id|        company_name| telephone|      state|          created_at|          updated_at|active|\n",
      "+------+--------------------+----------+-----------+--------------------+--------------------+------+\n",
      "| 50742|Thenaricalicollec...|5049394269|  suspended|2019-03-22 03:57:...|2019-05-15 00:54:...|  true|\n",
      "| 44082|Quick Draw Outdoo...|3182596422|provisioned|2019-02-04 16:57:...|2021-02-10 02:07:...|  true|\n",
      "|156444|     Only The Flyest|4049038447|       free|2020-10-27 05:26:...|2020-11-26 11:15:...|  true|\n",
      "|176321|   CLICK MY CART LTD|6479863690|  suspended|2020-12-23 06:20:...|2020-12-24 04:53:...|  true|\n",
      "|165163|  JeeJee’s Boutique |      null|trial_ended|2020-11-20 16:31:...|2020-11-20 16:33:...|  true|\n",
      "|144524|     Rachid hamzaoui| 639756718|       free|2020-09-21 17:18:...|2020-10-22 11:15:...|  true|\n",
      "|178307|            MSI Kart|9319919988|trial_ended|2021-01-02 09:33:...|2021-01-02 09:39:...|  true|\n",
      "|177863|  Bellelyse Boutique|      null|  suspended|2020-12-31 04:56:...|2021-02-19 16:53:...|  true|\n",
      "|156237|          Washer Fan|      null|provisioned|2020-10-26 20:10:...|2020-10-26 20:53:...|  true|\n",
      "|140294|              myself|7149259700|       free|2020-09-05 17:41:...|2020-10-06 11:15:...|  true|\n",
      "+------+--------------------+----------+-----------+--------------------+--------------------+------+"
     ]
    }
   ],
   "source": [
    "spark.sql(f\"\"\"select * from {target_table}\"\"\").show()"
   ]
  },
  {
   "cell_type": "code",
   "execution_count": 19,
   "metadata": {},
   "outputs": [
    {
     "data": {
      "application/vnd.jupyter.widget-view+json": {
       "model_id": "9f0f59738be245288ce57ff7d9943e77",
       "version_major": 2,
       "version_minor": 0
      },
      "text/plain": [
       "VBox()"
      ]
     },
     "metadata": {},
     "output_type": "display_data"
    },
    {
     "data": {
      "application/vnd.jupyter.widget-view+json": {
       "model_id": "",
       "version_major": 2,
       "version_minor": 0
      },
      "text/plain": [
       "FloatProgress(value=0.0, bar_style='info', description='Progress:', layout=Layout(height='25px', width='50%'),…"
      ]
     },
     "metadata": {},
     "output_type": "display_data"
    }
   ],
   "source": [
    "existing_table_schema_json = client.get_table(DatabaseName=glue_database, Name=table_name)"
   ]
  },
  {
   "cell_type": "code",
   "execution_count": 20,
   "metadata": {},
   "outputs": [
    {
     "data": {
      "application/vnd.jupyter.widget-view+json": {
       "model_id": "f35a0f2bdf8d4f66b8013d454461c6da",
       "version_major": 2,
       "version_minor": 0
      },
      "text/plain": [
       "VBox()"
      ]
     },
     "metadata": {},
     "output_type": "display_data"
    },
    {
     "data": {
      "application/vnd.jupyter.widget-view+json": {
       "model_id": "",
       "version_major": 2,
       "version_minor": 0
      },
      "text/plain": [
       "FloatProgress(value=0.0, bar_style='info', description='Progress:', layout=Layout(height='25px', width='50%'),…"
      ]
     },
     "metadata": {},
     "output_type": "display_data"
    },
    {
     "name": "stdout",
     "output_type": "stream",
     "text": [
      "{'Table': {'Name': 'merchants_cln_glue', 'DatabaseName': 'delta_lake_demo', 'Owner': 'owner', 'CreateTime': datetime.datetime(2021, 3, 2, 13, 10, tzinfo=tzlocal()), 'UpdateTime': datetime.datetime(2021, 3, 2, 13, 11, 12, tzinfo=tzlocal()), 'Retention': 0, 'StorageDescriptor': {'Columns': [{'Name': 'id', 'Type': 'int'}, {'Name': 'company_name', 'Type': 'string'}, {'Name': 'telephone', 'Type': 'bigint'}, {'Name': 'created_at', 'Type': 'timestamp'}, {'Name': 'updated_at', 'Type': 'timestamp'}, {'Name': 'active', 'Type': 'string'}], 'Location': 's3://aws-poc-serverless-analytics/delta_lake_demo/clean/delta_dw/delta_lake_demo.db/merchants_cln/', 'InputFormat': 'org.apache.hudi.hadoop.HoodieParquetInputFormat', 'OutputFormat': 'org.apache.hadoop.hive.ql.io.parquet.MapredParquetOutputFormat', 'Compressed': False, 'NumberOfBuckets': -1, 'SerdeInfo': {'SerializationLibrary': 'org.apache.hadoop.hive.ql.io.parquet.serde.ParquetHiveSerDe', 'Parameters': {'serialization.format': '1'}}, 'BucketColumns': [], 'SortColumns': [], 'Parameters': {'CrawlerSchemaDeserializerVersion': '1.0', 'CrawlerSchemaSerializerVersion': '1.0', 'classification': 'parquet', 'compressionType': 'none', 'typeOfData': 'file'}, 'StoredAsSubDirectories': False}, 'PartitionKeys': [{'Name': 'state', 'Type': 'string'}], 'TableType': 'EXTERNAL_TABLE', 'Parameters': {'CrawlerSchemaDeserializerVersion': '1.0', 'CrawlerSchemaSerializerVersion': '1.0', 'classification': 'parquet', 'compressionType': 'none', 'typeOfData': 'file'}, 'CreatedBy': 'arn:aws:sts::342445952537:assumed-role/EMR_EC2_DefaultRole/i-0b5793dd5d43f6558', 'IsRegisteredWithLakeFormation': False, 'CatalogId': '342445952537'}, 'ResponseMetadata': {'RequestId': '9671fbb2-ceba-4252-b364-04865e4fb818', 'HTTPStatusCode': 200, 'HTTPHeaders': {'date': 'Tue, 02 Mar 2021 15:03:23 GMT', 'content-type': 'application/x-amz-json-1.1', 'content-length': '1514', 'connection': 'keep-alive', 'x-amzn-requestid': '9671fbb2-ceba-4252-b364-04865e4fb818'}, 'RetryAttempts': 0}}"
     ]
    }
   ],
   "source": [
    "existing_table_schema_json"
   ]
  },
  {
   "cell_type": "code",
   "execution_count": 26,
   "metadata": {
    "scrolled": true
   },
   "outputs": [
    {
     "data": {
      "application/vnd.jupyter.widget-view+json": {
       "model_id": "2456eec00516490a8e6bfaf51bd737e4",
       "version_major": 2,
       "version_minor": 0
      },
      "text/plain": [
       "VBox()"
      ]
     },
     "metadata": {},
     "output_type": "display_data"
    },
    {
     "data": {
      "application/vnd.jupyter.widget-view+json": {
       "model_id": "",
       "version_major": 2,
       "version_minor": 0
      },
      "text/plain": [
       "FloatProgress(value=0.0, bar_style='info', description='Progress:', layout=Layout(height='25px', width='50%'),…"
      ]
     },
     "metadata": {},
     "output_type": "display_data"
    },
    {
     "name": "stdout",
     "output_type": "stream",
     "text": [
      "{'id': 'int', 'company_name': 'string', 'telephone': 'bigint', 'state': 'string', 'created_at': 'timestamp', 'updated_at': 'timestamp', 'active': 'string'}"
     ]
    }
   ],
   "source": [
    "new_table_json = dict(newDataDF.dtypes)\n",
    "new_table_json"
   ]
  },
  {
   "cell_type": "code",
   "execution_count": 32,
   "metadata": {},
   "outputs": [
    {
     "data": {
      "application/vnd.jupyter.widget-view+json": {
       "model_id": "90852350217940389bccab944cf43c65",
       "version_major": 2,
       "version_minor": 0
      },
      "text/plain": [
       "VBox()"
      ]
     },
     "metadata": {},
     "output_type": "display_data"
    },
    {
     "data": {
      "application/vnd.jupyter.widget-view+json": {
       "model_id": "",
       "version_major": 2,
       "version_minor": 0
      },
      "text/plain": [
       "FloatProgress(value=0.0, bar_style='info', description='Progress:', layout=Layout(height='25px', width='50%'),…"
      ]
     },
     "metadata": {},
     "output_type": "display_data"
    }
   ],
   "source": [
    "def update_glue_catalog(existing_table_schema_json, new_table_json, partition_key_list,\n",
    "                        clean_output_path, glue_database):\n",
    "    \"\"\"\n",
    "    This function is used for updating the glue location\n",
    "    :param existing_table_schema_json: Previous glue schema json.\n",
    "    :param new_table_json: Datatypes of delta dataframes in dictionary type\n",
    "    :param dataset: Dataset name\n",
    "    :param partition_key_list: List of partition column names ['c1',c2',..]. Empty list if no partitions\n",
    "    :param clean_output_path: New S3 location where the table needs to point.\n",
    "    :param glue_database: Glue database name\n",
    "    :return: Updates the glue table with new location\n",
    "    \"\"\"\n",
    "    # Load the schema json into json object\n",
    "    schema_json = existing_table_schema_json\n",
    "\n",
    "    temp_json_l = []\n",
    "    for i, j in new_table_json.items():\n",
    "        temp_json = {}\n",
    "        temp_json['Name'] = i\n",
    "        temp_json['Type'] = j\n",
    "        temp_json_l.append(temp_json)\n",
    "    new_column_list = []\n",
    "    for each in temp_json_l:\n",
    "        if each[\"Name\"] not in partition_key_list:\n",
    "            new_column_list.append(each)\n",
    "\n",
    "    new_s3_location = clean_output_path\n",
    "    # Get required keys from the schema_json to avoid newly added keys from glue\n",
    "    main_req = [\"StorageDescriptor\", \"PartitionKeys\", \"Name\", \"Owner\", \"TableType\", \"Retention\"]\n",
    "    seperate_list = [\"OutputFormat\", \"SortColumns\", \"InputFormat\", \"SerdeInfo\", \"BucketColumns\", \"Parameters\",\n",
    "                     \"Location\", \"NumberOfBuckets\", \"StoredAsSubDirectories\", \"Compressed\", \"Columns\"]\n",
    "    updated_schema_json = dict((k, schema_json[\"Table\"][k]) for k in main_req if k in schema_json['Table'].keys())\n",
    "    selected_schema_json = dict((k, updated_schema_json['StorageDescriptor'][k]) for k in seperate_list if\n",
    "                                k in updated_schema_json['StorageDescriptor'].keys())\n",
    "    updated_schema_json[\"StorageDescriptor\"] = selected_schema_json\n",
    "    # Adding new column list\n",
    "    updated_schema_json[\"StorageDescriptor\"][\"Columns\"] = new_column_list\n",
    "    # changing the location\n",
    "    updated_schema_json[\"StorageDescriptor\"][\"Location\"] = new_s3_location\n",
    "    print(\"####### - changing glue table location to \" + new_s3_location)\n",
    "    return updated_schema_json"
   ]
  },
  {
   "cell_type": "raw",
   "metadata": {},
   "source": [
    "# Write the temp json into temp json file\n",
    "temp_json_file = '/home/hadoop/clean/shell-scripts/' + dataset + '_temp_glue.json'\n",
    "with open(temp_json_file, 'w') as json_file:\n",
    "    json.dump(updated_schema_json, json_file)\n",
    "subprocess.run(['/bin/bash', '/home/hadoop/clean/shell-scripts/glue_table_updater.sh',\n",
    "                '-d', dataset, '-g', glue_database])\n",
    "print(\"Glue Location Updated Successfully\")"
   ]
  },
  {
   "cell_type": "code",
   "execution_count": 34,
   "metadata": {},
   "outputs": [
    {
     "data": {
      "application/vnd.jupyter.widget-view+json": {
       "model_id": "a8394e8f7a0242118daa8e324eb2c995",
       "version_major": 2,
       "version_minor": 0
      },
      "text/plain": [
       "VBox()"
      ]
     },
     "metadata": {},
     "output_type": "display_data"
    },
    {
     "data": {
      "application/vnd.jupyter.widget-view+json": {
       "model_id": "",
       "version_major": 2,
       "version_minor": 0
      },
      "text/plain": [
       "FloatProgress(value=0.0, bar_style='info', description='Progress:', layout=Layout(height='25px', width='50%'),…"
      ]
     },
     "metadata": {},
     "output_type": "display_data"
    },
    {
     "name": "stdout",
     "output_type": "stream",
     "text": [
      "####### - changing glue table location to s3://aws-poc-serverless-analytics/delta_lake_demo/clean/delta_dw/delta_lake_demo.db/merchants_cln/"
     ]
    }
   ],
   "source": [
    "updated_schema_json = update_glue_catalog(existing_table_schema_json, new_table_json, partition_key_list, clean_output_path, glue_database)"
   ]
  },
  {
   "cell_type": "code",
   "execution_count": 35,
   "metadata": {},
   "outputs": [
    {
     "data": {
      "application/vnd.jupyter.widget-view+json": {
       "model_id": "ce73965469f449e68257ca8f9dddef4d",
       "version_major": 2,
       "version_minor": 0
      },
      "text/plain": [
       "VBox()"
      ]
     },
     "metadata": {},
     "output_type": "display_data"
    },
    {
     "data": {
      "application/vnd.jupyter.widget-view+json": {
       "model_id": "",
       "version_major": 2,
       "version_minor": 0
      },
      "text/plain": [
       "FloatProgress(value=0.0, bar_style='info', description='Progress:', layout=Layout(height='25px', width='50%'),…"
      ]
     },
     "metadata": {},
     "output_type": "display_data"
    },
    {
     "name": "stdout",
     "output_type": "stream",
     "text": [
      "{'StorageDescriptor': {'OutputFormat': 'org.apache.hadoop.hive.ql.io.parquet.MapredParquetOutputFormat', 'SortColumns': [], 'InputFormat': 'org.apache.hudi.hadoop.HoodieParquetInputFormat', 'SerdeInfo': {'SerializationLibrary': 'org.apache.hadoop.hive.ql.io.parquet.serde.ParquetHiveSerDe', 'Parameters': {'serialization.format': '1'}}, 'BucketColumns': [], 'Parameters': {'CrawlerSchemaDeserializerVersion': '1.0', 'CrawlerSchemaSerializerVersion': '1.0', 'classification': 'parquet', 'compressionType': 'none', 'typeOfData': 'file'}, 'Location': 's3://aws-poc-serverless-analytics/delta_lake_demo/clean/delta_dw/delta_lake_demo.db/merchants_cln/', 'NumberOfBuckets': -1, 'StoredAsSubDirectories': False, 'Compressed': False, 'Columns': [{'Name': 'id', 'Type': 'int'}, {'Name': 'company_name', 'Type': 'string'}, {'Name': 'telephone', 'Type': 'bigint'}, {'Name': 'created_at', 'Type': 'timestamp'}, {'Name': 'updated_at', 'Type': 'timestamp'}, {'Name': 'active', 'Type': 'string'}]}, 'PartitionKeys': [{'Name': 'state', 'Type': 'string'}], 'Name': 'merchants_cln_glue', 'Owner': 'owner', 'TableType': 'EXTERNAL_TABLE', 'Retention': 0}"
     ]
    }
   ],
   "source": [
    "updated_schema_json"
   ]
  },
  {
   "cell_type": "code",
   "execution_count": 128,
   "metadata": {
    "scrolled": true
   },
   "outputs": [
    {
     "data": {
      "application/vnd.jupyter.widget-view+json": {
       "model_id": "bf9ddebd16d247d1a59e384cc4c59a22",
       "version_major": 2,
       "version_minor": 0
      },
      "text/plain": [
       "VBox()"
      ]
     },
     "metadata": {},
     "output_type": "display_data"
    },
    {
     "data": {
      "application/vnd.jupyter.widget-view+json": {
       "model_id": "",
       "version_major": 2,
       "version_minor": 0
      },
      "text/plain": [
       "FloatProgress(value=0.0, bar_style='info', description='Progress:', layout=Layout(height='25px', width='50%'),…"
      ]
     },
     "metadata": {},
     "output_type": "display_data"
    },
    {
     "name": "stdout",
     "output_type": "stream",
     "text": [
      "DataFrame[]"
     ]
    }
   ],
   "source": [
    "spark.sql(f\"\"\"GENERATE symlink_format_manifest FOR TABLE {target_table}\"\"\")"
   ]
  },
  {
   "cell_type": "code",
   "execution_count": null,
   "metadata": {},
   "outputs": [],
   "source": [
    "spark.sql(f\"\"\"MSCK REPAIR TABLE {target_table}_external\"\"\")"
   ]
  },
  {
   "cell_type": "markdown",
   "metadata": {},
   "source": [
    "## Read in Some New Data for SCD 2 "
   ]
  },
  {
   "cell_type": "code",
   "execution_count": 148,
   "metadata": {},
   "outputs": [
    {
     "data": {
      "application/vnd.jupyter.widget-view+json": {
       "model_id": "f4b6756125db4edf868a0ee08da95a99",
       "version_major": 2,
       "version_minor": 0
      },
      "text/plain": [
       "VBox()"
      ]
     },
     "metadata": {},
     "output_type": "display_data"
    },
    {
     "data": {
      "application/vnd.jupyter.widget-view+json": {
       "model_id": "",
       "version_major": 2,
       "version_minor": 0
      },
      "text/plain": [
       "FloatProgress(value=0.0, bar_style='info', description='Progress:', layout=Layout(height='25px', width='50%'),…"
      ]
     },
     "metadata": {},
     "output_type": "display_data"
    }
   ],
   "source": [
    "SCD2_Path = \"s3a://aws-poc-serverless-analytics/delta_lake_demo/raw/merchants_SCD2.txt\""
   ]
  },
  {
   "cell_type": "code",
   "execution_count": 149,
   "metadata": {},
   "outputs": [
    {
     "data": {
      "application/vnd.jupyter.widget-view+json": {
       "model_id": "ca84e0952cfa489aa1d8a8c2ef0d9f4f",
       "version_major": 2,
       "version_minor": 0
      },
      "text/plain": [
       "VBox()"
      ]
     },
     "metadata": {},
     "output_type": "display_data"
    },
    {
     "data": {
      "application/vnd.jupyter.widget-view+json": {
       "model_id": "",
       "version_major": 2,
       "version_minor": 0
      },
      "text/plain": [
       "FloatProgress(value=0.0, bar_style='info', description='Progress:', layout=Layout(height='25px', width='50%'),…"
      ]
     },
     "metadata": {},
     "output_type": "display_data"
    }
   ],
   "source": [
    "inputSchema = \"id INT, company_name STRING, telephone LONG, state STRING, created_at TIMESTAMP, updated_at TIMESTAMP\"\n",
    "\n",
    "rawDF = (spark.read \n",
    "  .option(\"header\", \"true\")\n",
    "  .schema(inputSchema)\n",
    "  .csv(SCD2_Path) \n",
    ")\n",
    "rawDF = rawDF.withColumn('active', lit(\"true\"))"
   ]
  },
  {
   "cell_type": "code",
   "execution_count": 150,
   "metadata": {},
   "outputs": [
    {
     "data": {
      "application/vnd.jupyter.widget-view+json": {
       "model_id": "5a45fa148ec34569b85f4d1765a74cae",
       "version_major": 2,
       "version_minor": 0
      },
      "text/plain": [
       "VBox()"
      ]
     },
     "metadata": {},
     "output_type": "display_data"
    },
    {
     "data": {
      "application/vnd.jupyter.widget-view+json": {
       "model_id": "",
       "version_major": 2,
       "version_minor": 0
      },
      "text/plain": [
       "FloatProgress(value=0.0, bar_style='info', description='Progress:', layout=Layout(height='25px', width='50%'),…"
      ]
     },
     "metadata": {},
     "output_type": "display_data"
    }
   ],
   "source": [
    "# write using Databricks Delta format\n",
    "(rawDF.write\n",
    "  .mode(\"overwrite\") \n",
    "  .format(\"delta\")\n",
    "  .partitionBy(\"state\")\n",
    "  .option(\"overwriteSchema\",\"true\")\n",
    "  .saveAsTable(f\"{stg_table}\") )"
   ]
  },
  {
   "cell_type": "code",
   "execution_count": 151,
   "metadata": {
    "scrolled": true
   },
   "outputs": [
    {
     "data": {
      "application/vnd.jupyter.widget-view+json": {
       "model_id": "2f9ac7de08ee4f5a8d9f3c50e87433a0",
       "version_major": 2,
       "version_minor": 0
      },
      "text/plain": [
       "VBox()"
      ]
     },
     "metadata": {},
     "output_type": "display_data"
    },
    {
     "data": {
      "application/vnd.jupyter.widget-view+json": {
       "model_id": "",
       "version_major": 2,
       "version_minor": 0
      },
      "text/plain": [
       "FloatProgress(value=0.0, bar_style='info', description='Progress:', layout=Layout(height='25px', width='50%'),…"
      ]
     },
     "metadata": {},
     "output_type": "display_data"
    },
    {
     "name": "stdout",
     "output_type": "stream",
     "text": [
      "DataFrame[]"
     ]
    }
   ],
   "source": [
    "spark.sql(f\"\"\" MERGE INTO {target_table}\n",
    "USING (\n",
    "   SELECT {stg_table}.id as mergeKey, {stg_table}.*\n",
    "  FROM {stg_table}\n",
    "  \n",
    "  UNION ALL\n",
    "    SELECT NULL as mergeKey, {stg_table}.*\n",
    "  FROM {stg_table} JOIN {target_table}\n",
    "  ON {stg_table}.id = {target_table}.id \n",
    "  WHERE {target_table}.active = true AND {stg_table}.updated_at <> {target_table}.updated_at \n",
    "  \n",
    ") staged_updates\n",
    "ON {target_table}.id = mergeKey\n",
    "WHEN MATCHED AND {target_table}.active = true AND {target_table}.updated_at <> staged_updates.updated_at THEN  \n",
    "  UPDATE SET active = false\n",
    "WHEN NOT MATCHED THEN \n",
    "  INSERT *\n",
    "            \"\"\")\n",
    "\n"
   ]
  },
  {
   "cell_type": "raw",
   "metadata": {},
   "source": [
    "spark.sql(F\"\"\"UPDATE {target_table}\n",
    "        SET active = true\n",
    "        WHERE active = null\"\"\")\n",
    "\n",
    "spark.sql(f\"\"\"ALTER TABLE {target_table} DROP COLUMN mergeKey\"\"\")\n"
   ]
  },
  {
   "cell_type": "code",
   "execution_count": 152,
   "metadata": {},
   "outputs": [
    {
     "data": {
      "application/vnd.jupyter.widget-view+json": {
       "model_id": "6c642de5f8034d84b4386419c9d881a9",
       "version_major": 2,
       "version_minor": 0
      },
      "text/plain": [
       "VBox()"
      ]
     },
     "metadata": {},
     "output_type": "display_data"
    },
    {
     "data": {
      "application/vnd.jupyter.widget-view+json": {
       "model_id": "",
       "version_major": 2,
       "version_minor": 0
      },
      "text/plain": [
       "FloatProgress(value=0.0, bar_style='info', description='Progress:', layout=Layout(height='25px', width='50%'),…"
      ]
     },
     "metadata": {},
     "output_type": "display_data"
    },
    {
     "name": "stdout",
     "output_type": "stream",
     "text": [
      "+------+--------------------+----------+-----------+--------------------+--------------------+------+\n",
      "|    id|        company_name| telephone|      state|          created_at|          updated_at|active|\n",
      "+------+--------------------+----------+-----------+--------------------+--------------------+------+\n",
      "|177863|  Bellelyse Boutique|      null|  suspended|2020-12-31 04:56:...|2021-02-19 16:53:...|  true|\n",
      "| 50742|Thenaricalicollec...|5049394269|  suspended|2019-03-22 03:57:...|2019-05-15 00:54:...|  true|\n",
      "|176321|   CLICK MY CART LTD|6479863690|  suspended|2020-12-23 06:20:...|2020-12-24 04:53:...|  true|\n",
      "| 44082|Quick Draw Outdoo...|3182596422|  suspended|2019-02-04 16:57:...|2021-02-11 02:07:...|  true|\n",
      "|144524|     Rachid hamzaoui| 639756718|       free|2020-09-21 17:18:...|2020-10-22 11:15:...|  true|\n",
      "|140294|              myself|7149259700|       free|2020-09-05 17:41:...|2020-10-06 11:15:...|  true|\n",
      "|156444|     Only The Flyest|4049038447|       free|2020-10-27 05:26:...|2020-11-26 11:15:...|  true|\n",
      "| 44084|          Washer Fan|      null|       free|2021-03-01 20:10:...|2021-03-01 20:53:...|  true|\n",
      "|156237|          Washer Fan|      null|provisioned|2020-10-26 20:10:...|2020-10-26 20:53:...|  true|\n",
      "|178307|            MSI Kart|9319919988|trial_ended|2021-01-02 09:33:...|2021-01-02 09:39:...|  true|\n",
      "|165163|  JeeJee’s Boutique |      null|trial_ended|2020-11-20 16:31:...|2020-11-20 16:33:...|  true|\n",
      "+------+--------------------+----------+-----------+--------------------+--------------------+------+"
     ]
    }
   ],
   "source": [
    "spark.sql(f\"\"\"select * from {stg_table}\"\"\").show()"
   ]
  },
  {
   "cell_type": "code",
   "execution_count": 153,
   "metadata": {},
   "outputs": [
    {
     "data": {
      "application/vnd.jupyter.widget-view+json": {
       "model_id": "e671d61fb9f64254bb683a88d155cf5a",
       "version_major": 2,
       "version_minor": 0
      },
      "text/plain": [
       "VBox()"
      ]
     },
     "metadata": {},
     "output_type": "display_data"
    },
    {
     "data": {
      "application/vnd.jupyter.widget-view+json": {
       "model_id": "",
       "version_major": 2,
       "version_minor": 0
      },
      "text/plain": [
       "FloatProgress(value=0.0, bar_style='info', description='Progress:', layout=Layout(height='25px', width='50%'),…"
      ]
     },
     "metadata": {},
     "output_type": "display_data"
    },
    {
     "name": "stdout",
     "output_type": "stream",
     "text": [
      "+------+--------------------+----------+-----------+--------------------+--------------------+------+--------+\n",
      "|    id|        company_name| telephone|      state|          created_at|          updated_at|active|mergeKey|\n",
      "+------+--------------------+----------+-----------+--------------------+--------------------+------+--------+\n",
      "| 44082|Quick Draw Outdoo...|3182596422|  suspended|2019-02-04 16:57:...|2021-02-11 02:07:...|  true|    null|\n",
      "| 44082|Quick Draw Outdoo...|3182596422|provisioned|2019-02-04 16:57:...|2021-02-10 02:07:...| false|    null|\n",
      "|156237|          Washer Fan|      null|provisioned|2020-10-26 20:10:...|2020-10-26 20:53:...|  true|    null|\n",
      "|176321|   CLICK MY CART LTD|6479863690|  suspended|2020-12-23 06:20:...|2020-12-24 04:53:...|  true|    null|\n",
      "| 50742|Thenaricalicollec...|5049394269|  suspended|2019-03-22 03:57:...|2019-05-15 00:54:...|  true|    null|\n",
      "|165163|  JeeJee’s Boutique |      null|trial_ended|2020-11-20 16:31:...|2020-11-20 16:33:...|  true|    null|\n",
      "|144524|     Rachid hamzaoui| 639756718|       free|2020-09-21 17:18:...|2020-10-22 11:15:...|  true|    null|\n",
      "|156444|     Only The Flyest|4049038447|       free|2020-10-27 05:26:...|2020-11-26 11:15:...|  true|    null|\n",
      "|140294|              myself|7149259700|       free|2020-09-05 17:41:...|2020-10-06 11:15:...|  true|    null|\n",
      "|178307|            MSI Kart|9319919988|trial_ended|2021-01-02 09:33:...|2021-01-02 09:39:...|  true|    null|\n",
      "|177863|  Bellelyse Boutique|      null|  suspended|2020-12-31 04:56:...|2021-02-19 16:53:...|  true|    null|\n",
      "| 44084|          Washer Fan|      null|       free|2021-03-01 20:10:...|2021-03-01 20:53:...|  true|   44084|\n",
      "+------+--------------------+----------+-----------+--------------------+--------------------+------+--------+"
     ]
    }
   ],
   "source": [
    "spark.sql(f\"\"\"select * from {target_table}\"\"\").show()"
   ]
  },
  {
   "cell_type": "code",
   "execution_count": 155,
   "metadata": {},
   "outputs": [
    {
     "data": {
      "application/vnd.jupyter.widget-view+json": {
       "model_id": "086a5f26c8674755b38579500dc7e0af",
       "version_major": 2,
       "version_minor": 0
      },
      "text/plain": [
       "VBox()"
      ]
     },
     "metadata": {},
     "output_type": "display_data"
    },
    {
     "data": {
      "application/vnd.jupyter.widget-view+json": {
       "model_id": "",
       "version_major": 2,
       "version_minor": 0
      },
      "text/plain": [
       "FloatProgress(value=0.0, bar_style='info', description='Progress:', layout=Layout(height='25px', width='50%'),…"
      ]
     },
     "metadata": {},
     "output_type": "display_data"
    },
    {
     "name": "stdout",
     "output_type": "stream",
     "text": [
      "DataFrame[]"
     ]
    }
   ],
   "source": [
    "spark.sql(f\"\"\"GENERATE symlink_format_manifest FOR TABLE {target_table}\"\"\")"
   ]
  },
  {
   "cell_type": "code",
   "execution_count": 156,
   "metadata": {},
   "outputs": [
    {
     "data": {
      "application/vnd.jupyter.widget-view+json": {
       "model_id": "af22c9e658264480b1e87c1dacc5dc5d",
       "version_major": 2,
       "version_minor": 0
      },
      "text/plain": [
       "VBox()"
      ]
     },
     "metadata": {},
     "output_type": "display_data"
    },
    {
     "data": {
      "application/vnd.jupyter.widget-view+json": {
       "model_id": "",
       "version_major": 2,
       "version_minor": 0
      },
      "text/plain": [
       "FloatProgress(value=0.0, bar_style='info', description='Progress:', layout=Layout(height='25px', width='50%'),…"
      ]
     },
     "metadata": {},
     "output_type": "display_data"
    },
    {
     "name": "stdout",
     "output_type": "stream",
     "text": [
      "DataFrame[]"
     ]
    }
   ],
   "source": [
    "spark.sql(f\"\"\"MSCK REPAIR TABLE {target_table}_external\"\"\")"
   ]
  },
  {
   "cell_type": "code",
   "execution_count": null,
   "metadata": {},
   "outputs": [],
   "source": []
  }
 ],
 "metadata": {
  "kernelspec": {
   "display_name": "Python 3 (ipykernel)",
   "language": "python",
   "name": "python3"
  },
  "language_info": {
   "codemirror_mode": {
    "name": "ipython",
    "version": 3
   },
   "file_extension": ".py",
   "mimetype": "text/x-python",
   "name": "python",
   "nbconvert_exporter": "python",
   "pygments_lexer": "ipython3",
   "version": "3.8.10"
  }
 },
 "nbformat": 4,
 "nbformat_minor": 4
}
