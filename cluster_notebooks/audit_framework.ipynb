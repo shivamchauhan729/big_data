{
 "cells": [
  {
   "cell_type": "code",
   "execution_count": 3,
   "id": "guided-termination",
   "metadata": {
    "scrolled": false
   },
   "outputs": [
    {
     "data": {
      "application/vnd.jupyter.widget-view+json": {
       "model_id": "736262123d6d4b2ca7907f92b4dcb2f0",
       "version_major": 2,
       "version_minor": 0
      },
      "text/plain": [
       "VBox()"
      ]
     },
     "metadata": {},
     "output_type": "display_data"
    },
    {
     "data": {
      "application/vnd.jupyter.widget-view+json": {
       "model_id": "",
       "version_major": 2,
       "version_minor": 0
      },
      "text/plain": [
       "FloatProgress(value=0.0, bar_style='info', description='Progress:', layout=Layout(height='25px', width='50%'),…"
      ]
     },
     "metadata": {},
     "output_type": "display_data"
    }
   ],
   "source": [
    "import boto3,time\n",
    "from pyspark.sql.functions import *"
   ]
  },
  {
   "cell_type": "code",
   "execution_count": 4,
   "id": "flush-addiction",
   "metadata": {},
   "outputs": [
    {
     "data": {
      "application/vnd.jupyter.widget-view+json": {
       "model_id": "5925a1046b07494ba72087067d97ea8c",
       "version_major": 2,
       "version_minor": 0
      },
      "text/plain": [
       "VBox()"
      ]
     },
     "metadata": {},
     "output_type": "display_data"
    },
    {
     "data": {
      "application/vnd.jupyter.widget-view+json": {
       "model_id": "",
       "version_major": 2,
       "version_minor": 0
      },
      "text/plain": [
       "FloatProgress(value=0.0, bar_style='info', description='Progress:', layout=Layout(height='25px', width='50%'),…"
      ]
     },
     "metadata": {},
     "output_type": "display_data"
    }
   ],
   "source": [
    "TABLE_NAME = \"dataset_info\"\n",
    "dynamodb = boto3.resource('dynamodb',\n",
    "                          region_name=\"us-west-2\"\n",
    ")\n",
    "\n",
    "table = dynamodb.Table(TABLE_NAME)\n",
    "\n",
    "response = table.scan()\n",
    "data = response['Items']\n",
    "\n",
    "while 'LastEvaluatedKey' in response:\n",
    "    response = table.scan(ExclusiveStartKey=response['LastEvaluatedKey'])\n",
    "    data.extend(response['Items'])"
   ]
  },
  {
   "cell_type": "code",
   "execution_count": 5,
   "id": "large-sewing",
   "metadata": {},
   "outputs": [
    {
     "data": {
      "application/vnd.jupyter.widget-view+json": {
       "model_id": "c2f3084797dd43a68ca94cc01112e87c",
       "version_major": 2,
       "version_minor": 0
      },
      "text/plain": [
       "VBox()"
      ]
     },
     "metadata": {},
     "output_type": "display_data"
    },
    {
     "data": {
      "application/vnd.jupyter.widget-view+json": {
       "model_id": "",
       "version_major": 2,
       "version_minor": 0
      },
      "text/plain": [
       "FloatProgress(value=0.0, bar_style='info', description='Progress:', layout=Layout(height='25px', width='50%'),…"
      ]
     },
     "metadata": {},
     "output_type": "display_data"
    }
   ],
   "source": [
    "cust_schema = \"\"\" dataset_key  string, created_ts  string, data_layer  string, data_location  string, dataset_id  string, dataset_refresh_end_ts  string, dataset_refresh_start_ts  string, full_load_start_ts  string, last_update_ts  string, run_mode  string, sla string, source_name  string, watermark_ts string \"\"\""
   ]
  },
  {
   "cell_type": "code",
   "execution_count": 6,
   "id": "jewish-ending",
   "metadata": {
    "scrolled": true
   },
   "outputs": [
    {
     "data": {
      "application/vnd.jupyter.widget-view+json": {
       "model_id": "439f9a8cfbb24cfdaab3480d55f495c9",
       "version_major": 2,
       "version_minor": 0
      },
      "text/plain": [
       "VBox()"
      ]
     },
     "metadata": {},
     "output_type": "display_data"
    },
    {
     "data": {
      "application/vnd.jupyter.widget-view+json": {
       "model_id": "",
       "version_major": 2,
       "version_minor": 0
      },
      "text/plain": [
       "FloatProgress(value=0.0, bar_style='info', description='Progress:', layout=Layout(height='25px', width='50%'),…"
      ]
     },
     "metadata": {},
     "output_type": "display_data"
    }
   ],
   "source": [
    "df = spark.createDataFrame(data,cust_schema)"
   ]
  },
  {
   "cell_type": "code",
   "execution_count": 7,
   "id": "liable-clock",
   "metadata": {
    "scrolled": true
   },
   "outputs": [
    {
     "data": {
      "application/vnd.jupyter.widget-view+json": {
       "model_id": "37fafa6d880c40a79a0d0820bb9f5119",
       "version_major": 2,
       "version_minor": 0
      },
      "text/plain": [
       "VBox()"
      ]
     },
     "metadata": {},
     "output_type": "display_data"
    },
    {
     "data": {
      "application/vnd.jupyter.widget-view+json": {
       "model_id": "",
       "version_major": 2,
       "version_minor": 0
      },
      "text/plain": [
       "FloatProgress(value=0.0, bar_style='info', description='Progress:', layout=Layout(height='25px', width='50%'),…"
      ]
     },
     "metadata": {},
     "output_type": "display_data"
    }
   ],
   "source": [
    "df = df.withColumn(\"data_location\", when((df.data_location.isNull() | (df.data_location == ' ') | (df.data_location == '')) ,'null').otherwise(col(\"data_location\")))\n",
    "df = df.withColumn(\"full_load_start_ts\", when((df.full_load_start_ts.isNull() | (df.full_load_start_ts == \" \") | (df.full_load_start_ts == '')) ,\"null\").otherwise(col(\"full_load_start_ts\")))\n",
    "df = df.withColumn(\"run_mode\", when((df.run_mode.isNull() | (df.run_mode == ' ') | (df.run_mode == '')) ,'null').otherwise(col(\"run_mode\")))\n",
    "df = df.withColumn(\"sla\", when((df.sla.isNull() | (df.sla == ' ') | (df.sla == '')) ,'-1').otherwise(col(\"sla\")))\n",
    "df = df.withColumn(\"watermark_ts\", when((df.watermark_ts.isNull() | (df.watermark_ts == ' ') | (df.watermark_ts == '')) ,'null').otherwise(col(\"watermark_ts\")))"
   ]
  },
  {
   "cell_type": "code",
   "execution_count": 8,
   "id": "sudden-property",
   "metadata": {},
   "outputs": [
    {
     "data": {
      "application/vnd.jupyter.widget-view+json": {
       "model_id": "d68ce16bb47344a8bc4181554d47e645",
       "version_major": 2,
       "version_minor": 0
      },
      "text/plain": [
       "VBox()"
      ]
     },
     "metadata": {},
     "output_type": "display_data"
    },
    {
     "data": {
      "application/vnd.jupyter.widget-view+json": {
       "model_id": "",
       "version_major": 2,
       "version_minor": 0
      },
      "text/plain": [
       "FloatProgress(value=0.0, bar_style='info', description='Progress:', layout=Layout(height='25px', width='50%'),…"
      ]
     },
     "metadata": {},
     "output_type": "display_data"
    }
   ],
   "source": [
    "start = time.time()\n",
    "df.coalesce(1).write.mode(\"overwrite\").option(\"header\",\"true\").csv(\"s3://gd-emeadataunif-dev-private-gde-audit-report/dataset_info/\")\n",
    "end = time.time()"
   ]
  },
  {
   "cell_type": "code",
   "execution_count": 9,
   "id": "portable-gothic",
   "metadata": {},
   "outputs": [
    {
     "data": {
      "application/vnd.jupyter.widget-view+json": {
       "model_id": "e11d80e9efa942899f20f9270cd1c469",
       "version_major": 2,
       "version_minor": 0
      },
      "text/plain": [
       "VBox()"
      ]
     },
     "metadata": {},
     "output_type": "display_data"
    },
    {
     "data": {
      "application/vnd.jupyter.widget-view+json": {
       "model_id": "",
       "version_major": 2,
       "version_minor": 0
      },
      "text/plain": [
       "FloatProgress(value=0.0, bar_style='info', description='Progress:', layout=Layout(height='25px', width='50%'),…"
      ]
     },
     "metadata": {},
     "output_type": "display_data"
    },
    {
     "name": "stdout",
     "output_type": "stream",
     "text": [
      "5.468175649642944"
     ]
    }
   ],
   "source": [
    "end-start"
   ]
  },
  {
   "cell_type": "markdown",
   "id": "occupational-sewing",
   "metadata": {},
   "source": [
    "####  job_run_details"
   ]
  },
  {
   "cell_type": "code",
   "execution_count": 10,
   "id": "boring-ribbon",
   "metadata": {},
   "outputs": [
    {
     "data": {
      "application/vnd.jupyter.widget-view+json": {
       "model_id": "32df95c5c9f64ffa86a9c98d4bb64fa0",
       "version_major": 2,
       "version_minor": 0
      },
      "text/plain": [
       "VBox()"
      ]
     },
     "metadata": {},
     "output_type": "display_data"
    },
    {
     "data": {
      "application/vnd.jupyter.widget-view+json": {
       "model_id": "",
       "version_major": 2,
       "version_minor": 0
      },
      "text/plain": [
       "FloatProgress(value=0.0, bar_style='info', description='Progress:', layout=Layout(height='25px', width='50%'),…"
      ]
     },
     "metadata": {},
     "output_type": "display_data"
    }
   ],
   "source": [
    "TABLE_NAME = \"job_run_details\"\n",
    "\n",
    "dynamodb = boto3.resource('dynamodb', region_name=\"us-west-2\")\n",
    "table = dynamodb.Table(TABLE_NAME)\n",
    "response = table.scan()\n",
    "data = response['Items']\n",
    "\n",
    "while 'LastEvaluatedKey' in response:\n",
    "    response = table.scan(ExclusiveStartKey=response['LastEvaluatedKey'])\n",
    "    data.extend(response['Items'])"
   ]
  },
  {
   "cell_type": "code",
   "execution_count": 11,
   "id": "rubber-lotus",
   "metadata": {},
   "outputs": [
    {
     "data": {
      "application/vnd.jupyter.widget-view+json": {
       "model_id": "9330ea75b113445db4bd7d9baa68da19",
       "version_major": 2,
       "version_minor": 0
      },
      "text/plain": [
       "VBox()"
      ]
     },
     "metadata": {},
     "output_type": "display_data"
    },
    {
     "data": {
      "application/vnd.jupyter.widget-view+json": {
       "model_id": "",
       "version_major": 2,
       "version_minor": 0
      },
      "text/plain": [
       "FloatProgress(value=0.0, bar_style='info', description='Progress:', layout=Layout(height='25px', width='50%'),…"
      ]
     },
     "metadata": {},
     "output_type": "display_data"
    }
   ],
   "source": [
    "cust_schema = \"\"\" error_message string, target_records string, dataset_id string, source string, job_key string, source_records string, dataset string, layer_name string, job_name string, end_ts string, start_ts string, job_run_date string, job_status string\"\"\""
   ]
  },
  {
   "cell_type": "code",
   "execution_count": 12,
   "id": "fresh-flood",
   "metadata": {
    "scrolled": true
   },
   "outputs": [
    {
     "data": {
      "application/vnd.jupyter.widget-view+json": {
       "model_id": "15249ce5bc874863a92130dfdc615450",
       "version_major": 2,
       "version_minor": 0
      },
      "text/plain": [
       "VBox()"
      ]
     },
     "metadata": {},
     "output_type": "display_data"
    },
    {
     "data": {
      "application/vnd.jupyter.widget-view+json": {
       "model_id": "",
       "version_major": 2,
       "version_minor": 0
      },
      "text/plain": [
       "FloatProgress(value=0.0, bar_style='info', description='Progress:', layout=Layout(height='25px', width='50%'),…"
      ]
     },
     "metadata": {},
     "output_type": "display_data"
    }
   ],
   "source": [
    "df = spark.createDataFrame(data,cust_schema)"
   ]
  },
  {
   "cell_type": "code",
   "execution_count": 13,
   "id": "saving-wayne",
   "metadata": {},
   "outputs": [
    {
     "data": {
      "application/vnd.jupyter.widget-view+json": {
       "model_id": "b9a6c518bde044659e98aa145d338fde",
       "version_major": 2,
       "version_minor": 0
      },
      "text/plain": [
       "VBox()"
      ]
     },
     "metadata": {},
     "output_type": "display_data"
    },
    {
     "data": {
      "application/vnd.jupyter.widget-view+json": {
       "model_id": "",
       "version_major": 2,
       "version_minor": 0
      },
      "text/plain": [
       "FloatProgress(value=0.0, bar_style='info', description='Progress:', layout=Layout(height='25px', width='50%'),…"
      ]
     },
     "metadata": {},
     "output_type": "display_data"
    }
   ],
   "source": [
    "df = df.withColumn(\"dataset_id\",  when((df.dataset_id.isNull() | (df.dataset_id == \"\")| (df.dataset_id == \" \")) ,'-1').otherwise(col(\"dataset_id\")))\n",
    "df = df.withColumn(\"target_records\",  when((df.target_records.isNull() | (df.target_records == \"\")| (df.target_records == \" \")) ,'-1').otherwise(col(\"target_records\")))\n",
    "df = df.withColumn(\"source_records\",  when((df.source_records.isNull() | (df.source_records == \"\")| (df.source_records == \" \")) ,'-1').otherwise(col(\"source_records\")))\n",
    "df = df.withColumn(\"start_ts\", when((df.start_ts.isNull()| (df.start_ts == '')| (df.start_ts == ' ')),'-1').otherwise(col(\"start_ts\")))\n",
    "df = df.withColumn(\"end_ts\", when((df.end_ts.isNull() | (df.end_ts == '')| (df.end_ts == ' ')) ,'-1').otherwise(col(\"end_ts\")))\n",
    "df = df.withColumn(\"source\", when((df.source.isNull() | (df.source == '') | (df.source == ' ')),'null').otherwise(col(\"source\")))\n",
    "df = df.withColumn(\"dataset\", when((df.dataset.isNull() | (df.dataset == '') | (df.dataset == ' ')),'null').otherwise(col(\"dataset\")))\n",
    "df = df.withColumn(\"layer_name\", when((df.layer_name.isNull() | (df.layer_name == '') | (df.layer_name == ' ')),'null').otherwise(col(\"layer_name\")))\n",
    "df = df.withColumn(\"job_name\", when((df.job_name.isNull() | (df.job_name == '') | (df.job_name == ' ')),'null').otherwise(col(\"job_name\")))\n",
    "df = df.withColumn(\"job_run_date\", when((df.job_run_date.isNull() | (df.job_run_date == '') | (df.job_run_date == ' ')),'null').otherwise(col(\"job_run_date\")))\n",
    "\n",
    "df = df.withColumn(\"error_message\", when((df.target_records.isNull() | (df.error_message == '') | (df.error_message == ' ')),'null').otherwise(col(\"error_message\")))\n",
    "df = df.withColumn(\"error_message\", when(df.error_message != 'null',lit('Spark Error')).otherwise(col(\"error_message\")))"
   ]
  },
  {
   "cell_type": "code",
   "execution_count": 14,
   "id": "fitting-container",
   "metadata": {},
   "outputs": [
    {
     "data": {
      "application/vnd.jupyter.widget-view+json": {
       "model_id": "cb9703a579d145aa9c294196b6697da8",
       "version_major": 2,
       "version_minor": 0
      },
      "text/plain": [
       "VBox()"
      ]
     },
     "metadata": {},
     "output_type": "display_data"
    },
    {
     "data": {
      "application/vnd.jupyter.widget-view+json": {
       "model_id": "",
       "version_major": 2,
       "version_minor": 0
      },
      "text/plain": [
       "FloatProgress(value=0.0, bar_style='info', description='Progress:', layout=Layout(height='25px', width='50%'),…"
      ]
     },
     "metadata": {},
     "output_type": "display_data"
    }
   ],
   "source": [
    "start = time.time()\n",
    "df.coalesce(1).write.mode(\"overwrite\").option(\"header\",\"true\").csv(\"s3://gd-emeadataunif-dev-private-gde-audit-report/job_run_details/\")\n",
    "end = time.time()"
   ]
  },
  {
   "cell_type": "code",
   "execution_count": 15,
   "id": "afraid-engagement",
   "metadata": {
    "scrolled": true
   },
   "outputs": [
    {
     "data": {
      "application/vnd.jupyter.widget-view+json": {
       "model_id": "cb3706e038f940db83e646f564101d2e",
       "version_major": 2,
       "version_minor": 0
      },
      "text/plain": [
       "VBox()"
      ]
     },
     "metadata": {},
     "output_type": "display_data"
    },
    {
     "data": {
      "application/vnd.jupyter.widget-view+json": {
       "model_id": "",
       "version_major": 2,
       "version_minor": 0
      },
      "text/plain": [
       "FloatProgress(value=0.0, bar_style='info', description='Progress:', layout=Layout(height='25px', width='50%'),…"
      ]
     },
     "metadata": {},
     "output_type": "display_data"
    },
    {
     "name": "stdout",
     "output_type": "stream",
     "text": [
      "13.884445190429688"
     ]
    }
   ],
   "source": [
    "end-start"
   ]
  },
  {
   "cell_type": "code",
   "execution_count": null,
   "id": "prospective-cleaning",
   "metadata": {},
   "outputs": [],
   "source": []
  }
 ],
 "metadata": {
  "kernelspec": {
   "display_name": "Python 3 (ipykernel)",
   "language": "python",
   "name": "python3"
  },
  "language_info": {
   "codemirror_mode": {
    "name": "ipython",
    "version": 3
   },
   "file_extension": ".py",
   "mimetype": "text/x-python",
   "name": "python",
   "nbconvert_exporter": "python",
   "pygments_lexer": "ipython3",
   "version": "3.8.10"
  }
 },
 "nbformat": 4,
 "nbformat_minor": 5
}
