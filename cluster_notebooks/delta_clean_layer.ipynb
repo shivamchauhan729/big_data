{
 "cells": [
  {
   "cell_type": "code",
   "execution_count": 2,
   "metadata": {},
   "outputs": [
    {
     "name": "stdout",
     "output_type": "stream",
     "text": [
      "Starting Spark application\n"
     ]
    },
    {
     "data": {
      "text/html": [
       "<table>\n",
       "<tr><th>ID</th><th>YARN Application ID</th><th>Kind</th><th>State</th><th>Spark UI</th><th>Driver log</th><th>Current session?</th></tr><tr><td>12</td><td>application_1622352033254_0013</td><td>pyspark</td><td>idle</td><td><a target=\"_blank\" href=\"http://ip-10-117-72-37.us-west-2.compute.internal:20888/proxy/application_1622352033254_0013/\" class=\"emr-proxy-link\" emr-resource=\"j-7W8LV4UU6VZ3\n",
       "\" application-id=\"application_1622352033254_0013\">Link</a></td><td><a target=\"_blank\" href=\"http://ip-10-117-72-37.us-west-2.compute.internal:8042/node/containerlogs/container_1622352033254_0013_01_000001/livy\" >Link</a></td><td>✔</td></tr></table>"
      ],
      "text/plain": [
       "<IPython.core.display.HTML object>"
      ]
     },
     "metadata": {},
     "output_type": "display_data"
    },
    {
     "data": {
      "application/vnd.jupyter.widget-view+json": {
       "model_id": "",
       "version_major": 2,
       "version_minor": 0
      },
      "text/plain": [
       "FloatProgress(value=0.0, bar_style='info', description='Progress:', layout=Layout(height='25px', width='50%'),…"
      ]
     },
     "metadata": {},
     "output_type": "display_data"
    },
    {
     "name": "stdout",
     "output_type": "stream",
     "text": [
      "SparkSession available as 'spark'.\n"
     ]
    },
    {
     "data": {
      "text/html": [
       "Current session configs: <tt>{'conf': {'spark.databricks.hive.metastore.glueCatalog.enabled': 'true', 'spark.jars.packages': 'io.delta:delta-core_2.12:0.8.0', 'spark.sql.extensions': 'io.delta.sql.DeltaSparkSessionExtension', 'spark.sql.catalog.spark_catalog': 'org.apache.spark.sql.delta.catalog.DeltaCatalog', 'spark.sql.warehouse.dir': 's3://aws-poc-serverless-analytics/delta_lake_demo/clean/delta_dw/'}, 'proxyUser': 'assumed-role_GD-AWS-USA-CMO-EMEADataUnif-Dev-Private-PowerUser_vjadhav_godaddy_com', 'kind': 'pyspark'}</tt><br>"
      ],
      "text/plain": [
       "<IPython.core.display.HTML object>"
      ]
     },
     "metadata": {},
     "output_type": "display_data"
    },
    {
     "data": {
      "text/html": [
       "<table>\n",
       "<tr><th>ID</th><th>YARN Application ID</th><th>Kind</th><th>State</th><th>Spark UI</th><th>Driver log</th><th>Current session?</th></tr><tr><td>10</td><td>application_1622352033254_0011</td><td>pyspark</td><td>idle</td><td><a target=\"_blank\" href=\"http://ip-10-117-72-37.us-west-2.compute.internal:20888/proxy/application_1622352033254_0011/\" class=\"emr-proxy-link\" emr-resource=\"j-7W8LV4UU6VZ3\n",
       "\" application-id=\"application_1622352033254_0011\">Link</a></td><td><a target=\"_blank\" href=\"http://ip-10-117-72-37.us-west-2.compute.internal:8042/node/containerlogs/container_1622352033254_0011_01_000001/livy\" >Link</a></td><td></td></tr><tr><td>12</td><td>application_1622352033254_0013</td><td>pyspark</td><td>idle</td><td><a target=\"_blank\" href=\"http://ip-10-117-72-37.us-west-2.compute.internal:20888/proxy/application_1622352033254_0013/\" class=\"emr-proxy-link\" emr-resource=\"j-7W8LV4UU6VZ3\n",
       "\" application-id=\"application_1622352033254_0013\">Link</a></td><td><a target=\"_blank\" href=\"http://ip-10-117-72-37.us-west-2.compute.internal:8042/node/containerlogs/container_1622352033254_0013_01_000001/livy\" >Link</a></td><td>✔</td></tr></table>"
      ],
      "text/plain": [
       "<IPython.core.display.HTML object>"
      ]
     },
     "metadata": {},
     "output_type": "display_data"
    }
   ],
   "source": [
    "%%configure -f\n",
    "{ \"conf\":{    \n",
    "          \"spark.databricks.hive.metastore.glueCatalog.enabled\" : \"true\",\n",
    "          \"spark.jars.packages\": \"io.delta:delta-core_2.12:0.8.0\",\n",
    "          \"spark.sql.extensions\": \"io.delta.sql.DeltaSparkSessionExtension\",\n",
    "          \"spark.sql.catalog.spark_catalog\": \"org.apache.spark.sql.delta.catalog.DeltaCatalog\",\n",
    "          \"spark.sql.warehouse.dir\": \"s3://aws-poc-serverless-analytics/delta_lake_demo/clean/delta_dw/\"\n",
    "    \n",
    "         }\n",
    "}\n"
   ]
  },
  {
   "cell_type": "code",
   "execution_count": 3,
   "metadata": {},
   "outputs": [
    {
     "data": {
      "application/vnd.jupyter.widget-view+json": {
       "model_id": "45ce9fcb87d34ec0b3e62ead164e0ae9",
       "version_major": 2,
       "version_minor": 0
      },
      "text/plain": [
       "VBox()"
      ]
     },
     "metadata": {},
     "output_type": "display_data"
    },
    {
     "data": {
      "application/vnd.jupyter.widget-view+json": {
       "model_id": "",
       "version_major": 2,
       "version_minor": 0
      },
      "text/plain": [
       "FloatProgress(value=0.0, bar_style='info', description='Progress:', layout=Layout(height='25px', width='50%'),…"
      ]
     },
     "metadata": {},
     "output_type": "display_data"
    }
   ],
   "source": [
    "import logging\n",
    "logger = logging.getLogger(__name__)\n",
    "logging.basicConfig(level=logging.INFO, format='%(levelname)s: %(message)s')"
   ]
  },
  {
   "cell_type": "code",
   "execution_count": 4,
   "metadata": {},
   "outputs": [
    {
     "data": {
      "application/vnd.jupyter.widget-view+json": {
       "model_id": "2ffea2845f5c4b139a61b8195895369f",
       "version_major": 2,
       "version_minor": 0
      },
      "text/plain": [
       "VBox()"
      ]
     },
     "metadata": {},
     "output_type": "display_data"
    },
    {
     "data": {
      "application/vnd.jupyter.widget-view+json": {
       "model_id": "",
       "version_major": 2,
       "version_minor": 0
      },
      "text/plain": [
       "FloatProgress(value=0.0, bar_style='info', description='Progress:', layout=Layout(height='25px', width='50%'),…"
      ]
     },
     "metadata": {},
     "output_type": "display_data"
    }
   ],
   "source": [
    "def get_source_df_with_custom_schema( file_format, custom_schema, raw_file_location):\n",
    "    logger.info(\"Checking the file extension and reading as dataframe\")\n",
    "    if file_format == 'csv' or file_format == 'txt':\n",
    "        logger.info(\"Reading csv/txt file\")\n",
    "        raw_df = spark.read.csv(raw_file_location, header=True, sep=',', schema=custom_schema)\n",
    "    elif file_format == 'parquet':\n",
    "        logger.info(\"Reading parquet file\")\n",
    "        raw_df = spark.read.parquet(raw_file_location, schema=custom_schema)\n",
    "    elif file_format == 'json':\n",
    "        logger.info(\"Reading json file\")\n",
    "        raw_df = spark.read.json(raw_file_location, schema=custom_schema)\n",
    "    else:\n",
    "        logger.info(\"File format not supported\")\n",
    "    return raw_df"
   ]
  },
  {
   "cell_type": "code",
   "execution_count": 16,
   "metadata": {},
   "outputs": [
    {
     "data": {
      "application/vnd.jupyter.widget-view+json": {
       "model_id": "174c3bd4d21c484a87874e4d5835705c",
       "version_major": 2,
       "version_minor": 0
      },
      "text/plain": [
       "VBox()"
      ]
     },
     "metadata": {},
     "output_type": "display_data"
    },
    {
     "data": {
      "application/vnd.jupyter.widget-view+json": {
       "model_id": "",
       "version_major": 2,
       "version_minor": 0
      },
      "text/plain": [
       "FloatProgress(value=0.0, bar_style='info', description='Progress:', layout=Layout(height='25px', width='50%'),…"
      ]
     },
     "metadata": {},
     "output_type": "display_data"
    }
   ],
   "source": [
    "def delta_save(rawDF,clean_table,scd_type,partition_key_list,pk):\n",
    "    logger.info(\"Checking the SCD Type given\")\n",
    "    if scd_type == 'scd0':\n",
    "        (rawDF.write.mode(\"overwrite\").format(\"delta\").partitionBy(partition_key_list).saveAsTable(f\"{clean_table}\"))\n",
    "    elif scd_type == 'scd1':\n",
    "        logger.info(\"Executing scd type 1 \")\n",
    "        stg_table = (f\"{clean_table}_stg\")\n",
    "        rawDF.createOrReplaceTempView(f\"{stg_table}\")\n",
    "        spark.sql(f\"\"\" \n",
    "                      MERGE INTO {clean_table}\n",
    "                      USING {stg_table}\n",
    "                      on {clean_table}.{pk} = {stg_table}.{pk}\n",
    "                      WHEN MATCHED THEN \n",
    "                          UPDATE SET *\n",
    "                      WHEN NOT MATCHED \n",
    "                          THEN INSERT *  \n",
    "                    \"\"\")\n",
    "    elif scd_type =='scd2':\n",
    "        logger.info(\"Executing scd type 2 \")\n",
    "        stg_table = (f\"{clean_table}_stg\")\n",
    "        rawDF = rawDF.withColumn(\"active_flag\", lit(\"true\"))\n",
    "        rawDF.createOrReplaceTempView(f\"{stg_table}\")\n",
    "        spark.sql(f\"\"\" MERGE INTO {clean_table}\n",
    "                       USING (\n",
    "                       SELECT {stg_table}.{pk} as mergeKey, {stg_table}.*\n",
    "                       FROM {stg_table}\n",
    "                       \n",
    "                       UNION ALL\n",
    "                           SELECT NULL as mergeKey, {stg_table}.*\n",
    "                           FROM {stg_table} JOIN {clean_table}\n",
    "                           ON {stg_table}.{pk} = {clean_table}.{pk} \n",
    "                           WHERE {clean_table}.active_flag = 'true' AND {stg_table}.updated_at <> {clean_table}.updated_at \n",
    "                       \n",
    "                       ) staged_updates\n",
    "                       ON {clean_table}.{pk} = staged_updates.mergeKey\n",
    "                       WHEN MATCHED AND {clean_table}.active_flag = 'true' AND {clean_table}.updated_at <> staged_updates.updated_at THEN  \n",
    "                       UPDATE SET active_flag = 'false'\n",
    "                       WHEN NOT MATCHED THEN \n",
    "                       INSERT *      \n",
    "                                   \"\"\")\n",
    "        "
   ]
  },
  {
   "cell_type": "code",
   "execution_count": 6,
   "metadata": {},
   "outputs": [
    {
     "data": {
      "application/vnd.jupyter.widget-view+json": {
       "model_id": "ceb8803e18944d7282b18c28f26af3b2",
       "version_major": 2,
       "version_minor": 0
      },
      "text/plain": [
       "VBox()"
      ]
     },
     "metadata": {},
     "output_type": "display_data"
    },
    {
     "data": {
      "application/vnd.jupyter.widget-view+json": {
       "model_id": "",
       "version_major": 2,
       "version_minor": 0
      },
      "text/plain": [
       "FloatProgress(value=0.0, bar_style='info', description='Progress:', layout=Layout(height='25px', width='50%'),…"
      ]
     },
     "metadata": {},
     "output_type": "display_data"
    }
   ],
   "source": [
    "config_file_path = \"s3://aws-poc-serverless-analytics/delta_lake_demo/config/config.json\""
   ]
  },
  {
   "cell_type": "code",
   "execution_count": 7,
   "metadata": {},
   "outputs": [
    {
     "data": {
      "application/vnd.jupyter.widget-view+json": {
       "model_id": "8b4e8784302e4b69bc6d53e192e75ce4",
       "version_major": 2,
       "version_minor": 0
      },
      "text/plain": [
       "VBox()"
      ]
     },
     "metadata": {},
     "output_type": "display_data"
    },
    {
     "data": {
      "application/vnd.jupyter.widget-view+json": {
       "model_id": "",
       "version_major": 2,
       "version_minor": 0
      },
      "text/plain": [
       "FloatProgress(value=0.0, bar_style='info', description='Progress:', layout=Layout(height='25px', width='50%'),…"
      ]
     },
     "metadata": {},
     "output_type": "display_data"
    }
   ],
   "source": [
    "logger.info(\"Reading configuration file\")    \n",
    "config_json = spark.read.option(\"multiline\", \"true\").json(config_file_path)\n",
    "run_constants = list(map(lambda row: row.asDict(),config_json.collect()))[0]\n"
   ]
  },
  {
   "cell_type": "code",
   "execution_count": 8,
   "metadata": {},
   "outputs": [
    {
     "data": {
      "application/vnd.jupyter.widget-view+json": {
       "model_id": "6a05954bae014bbd97fc19cf3c77b52f",
       "version_major": 2,
       "version_minor": 0
      },
      "text/plain": [
       "VBox()"
      ]
     },
     "metadata": {},
     "output_type": "display_data"
    },
    {
     "data": {
      "application/vnd.jupyter.widget-view+json": {
       "model_id": "",
       "version_major": 2,
       "version_minor": 0
      },
      "text/plain": [
       "FloatProgress(value=0.0, bar_style='info', description='Progress:', layout=Layout(height='25px', width='50%'),…"
      ]
     },
     "metadata": {},
     "output_type": "display_data"
    }
   ],
   "source": [
    "logger.info(\"Reading constants from configuration file\")        \n",
    "Env = 'dev'\n",
    "database = run_constants[Env]['glue_database']\n",
    "datasets = run_constants[Env]['dataset']\n",
    "dataset = 'merchants'\n",
    "file_format = run_constants[Env][dataset]['file_format']\n",
    "scd_type = run_constants[Env][dataset]['scd_type']\n",
    "clean_table = run_constants[Env][dataset]['glue_table']\n",
    "custom_schema = run_constants[Env][dataset]['custom_schema']\n",
    "partition_key_list = run_constants[Env][dataset]['partition_key']\n",
    "pk = run_constants[Env][dataset]['primary_key']\n"
   ]
  },
  {
   "cell_type": "markdown",
   "metadata": {},
   "source": [
    "### Overwrite file from raw location to clean location"
   ]
  },
  {
   "cell_type": "code",
   "execution_count": 9,
   "metadata": {},
   "outputs": [
    {
     "data": {
      "application/vnd.jupyter.widget-view+json": {
       "model_id": "b304d1a12eef4a92b956f87c48341926",
       "version_major": 2,
       "version_minor": 0
      },
      "text/plain": [
       "VBox()"
      ]
     },
     "metadata": {},
     "output_type": "display_data"
    },
    {
     "data": {
      "application/vnd.jupyter.widget-view+json": {
       "model_id": "",
       "version_major": 2,
       "version_minor": 0
      },
      "text/plain": [
       "FloatProgress(value=0.0, bar_style='info', description='Progress:', layout=Layout(height='25px', width='50%'),…"
      ]
     },
     "metadata": {},
     "output_type": "display_data"
    }
   ],
   "source": [
    "file_format = 'csv'\n",
    "custom_schema = \"id STRING, company_name STRING, telephone STRING, state STRING, created_at STRING, updated_at STRING\"\n",
    "#raw_file_location = \"s3://aws-poc-serverless-analytics/delta_lake_demo/test_data/merchants_SCD1.csv\"\n",
    "raw_file_location = \"s3://aws-poc-serverless-analytics/delta_lake_demo/test_data/merchants.csv\""
   ]
  },
  {
   "cell_type": "code",
   "execution_count": 10,
   "metadata": {},
   "outputs": [
    {
     "data": {
      "application/vnd.jupyter.widget-view+json": {
       "model_id": "a8d430cae20445caa2b72e956e45b4cb",
       "version_major": 2,
       "version_minor": 0
      },
      "text/plain": [
       "VBox()"
      ]
     },
     "metadata": {},
     "output_type": "display_data"
    },
    {
     "data": {
      "application/vnd.jupyter.widget-view+json": {
       "model_id": "",
       "version_major": 2,
       "version_minor": 0
      },
      "text/plain": [
       "FloatProgress(value=0.0, bar_style='info', description='Progress:', layout=Layout(height='25px', width='50%'),…"
      ]
     },
     "metadata": {},
     "output_type": "display_data"
    }
   ],
   "source": [
    "raw_df = get_source_df_with_custom_schema( file_format, custom_schema, raw_file_location)"
   ]
  },
  {
   "cell_type": "code",
   "execution_count": 11,
   "metadata": {},
   "outputs": [
    {
     "data": {
      "application/vnd.jupyter.widget-view+json": {
       "model_id": "bd8906d7fe6d4ed88eb3273c083e442c",
       "version_major": 2,
       "version_minor": 0
      },
      "text/plain": [
       "VBox()"
      ]
     },
     "metadata": {},
     "output_type": "display_data"
    },
    {
     "data": {
      "application/vnd.jupyter.widget-view+json": {
       "model_id": "",
       "version_major": 2,
       "version_minor": 0
      },
      "text/plain": [
       "FloatProgress(value=0.0, bar_style='info', description='Progress:', layout=Layout(height='25px', width='50%'),…"
      ]
     },
     "metadata": {},
     "output_type": "display_data"
    },
    {
     "name": "stdout",
     "output_type": "stream",
     "text": [
      "+------+--------------------+------------+-----------+--------------------+--------------------+\n",
      "|    id|        company_name|   telephone|      state|          created_at|          updated_at|\n",
      "+------+--------------------+------------+-----------+--------------------+--------------------+\n",
      "|178307|            MSI Kart|  9319919988|trial_ended|2021-01-02 09:33:...|2021-01-02 09:39:...|\n",
      "|177863|  Bellelyse Boutique|000-000-0000|  suspended|2020-12-31 04:56:...|2021-02-19 16:53:...|\n",
      "|144524|     Rachid hamzaoui|  0639756718|       free|2020-09-21 17:18:...|2020-10-22 11:15:...|\n",
      "| 50742|Thenaricalicollec...|  5049394269|  suspended|2019-03-22 03:57:...|2019-05-15 00:54:...|\n",
      "|176321|   CLICK MY CART LTD|  6479863690|  suspended|2020-12-23 06:20:...|2020-12-24 04:53:...|\n",
      "|140294|              myself|  7149259700|       free|2020-09-05 17:41:...|2020-10-06 11:15:...|\n",
      "|165163|  JeeJee’s Boutique |208-202-9314|trial_ended|2020-11-20 16:31:...|2020-11-20 16:33:...|\n",
      "|156444|     Only The Flyest|  4049038447|       free|2020-10-27 05:26:...|2020-11-26 11:15:...|\n",
      "|156237|          Washer Fan|000-000-0000|provisioned|2020-10-26 20:10:...|2020-10-26 20:53:...|\n",
      "| 44082|Quick Draw Outdoo...|  3182596422|provisioned|2019-02-04 16:57:...|2021-02-10 02:07:...|\n",
      "+------+--------------------+------------+-----------+--------------------+--------------------+"
     ]
    }
   ],
   "source": [
    "raw_df.show()"
   ]
  },
  {
   "cell_type": "code",
   "execution_count": 12,
   "metadata": {},
   "outputs": [
    {
     "data": {
      "application/vnd.jupyter.widget-view+json": {
       "model_id": "33c1c991200e46768e44638a58476287",
       "version_major": 2,
       "version_minor": 0
      },
      "text/plain": [
       "VBox()"
      ]
     },
     "metadata": {},
     "output_type": "display_data"
    },
    {
     "data": {
      "application/vnd.jupyter.widget-view+json": {
       "model_id": "",
       "version_major": 2,
       "version_minor": 0
      },
      "text/plain": [
       "FloatProgress(value=0.0, bar_style='info', description='Progress:', layout=Layout(height='25px', width='50%'),…"
      ]
     },
     "metadata": {},
     "output_type": "display_data"
    }
   ],
   "source": [
    "rawDF = raw_df\n",
    "scd_type = 'scd2'\n",
    "pk = 'id'"
   ]
  },
  {
   "cell_type": "code",
   "execution_count": 18,
   "metadata": {},
   "outputs": [
    {
     "data": {
      "application/vnd.jupyter.widget-view+json": {
       "model_id": "695d2810744c41308920e333c5e14991",
       "version_major": 2,
       "version_minor": 0
      },
      "text/plain": [
       "VBox()"
      ]
     },
     "metadata": {},
     "output_type": "display_data"
    },
    {
     "data": {
      "application/vnd.jupyter.widget-view+json": {
       "model_id": "",
       "version_major": 2,
       "version_minor": 0
      },
      "text/plain": [
       "FloatProgress(value=0.0, bar_style='info', description='Progress:', layout=Layout(height='25px', width='50%'),…"
      ]
     },
     "metadata": {},
     "output_type": "display_data"
    },
    {
     "name": "stdout",
     "output_type": "stream",
     "text": [
      "DataFrame[]"
     ]
    }
   ],
   "source": [
    "from pyspark.sql.functions import *\n",
    "spark.sql(f\"USE {database}\")"
   ]
  },
  {
   "cell_type": "code",
   "execution_count": 19,
   "metadata": {},
   "outputs": [
    {
     "data": {
      "application/vnd.jupyter.widget-view+json": {
       "model_id": "1ebe56ac6f814fd29fdc9155cee6557c",
       "version_major": 2,
       "version_minor": 0
      },
      "text/plain": [
       "VBox()"
      ]
     },
     "metadata": {},
     "output_type": "display_data"
    },
    {
     "data": {
      "application/vnd.jupyter.widget-view+json": {
       "model_id": "",
       "version_major": 2,
       "version_minor": 0
      },
      "text/plain": [
       "FloatProgress(value=0.0, bar_style='info', description='Progress:', layout=Layout(height='25px', width='50%'),…"
      ]
     },
     "metadata": {},
     "output_type": "display_data"
    }
   ],
   "source": [
    "delta_save(rawDF,clean_table,scd_type,partition_key_list,pk)"
   ]
  },
  {
   "cell_type": "code",
   "execution_count": 81,
   "metadata": {},
   "outputs": [
    {
     "data": {
      "application/vnd.jupyter.widget-view+json": {
       "model_id": "beac55194f0043bbaf1ea8f13978a991",
       "version_major": 2,
       "version_minor": 0
      },
      "text/plain": [
       "VBox()"
      ]
     },
     "metadata": {},
     "output_type": "display_data"
    },
    {
     "data": {
      "application/vnd.jupyter.widget-view+json": {
       "model_id": "",
       "version_major": 2,
       "version_minor": 0
      },
      "text/plain": [
       "FloatProgress(value=0.0, bar_style='info', description='Progress:', layout=Layout(height='25px', width='50%'),…"
      ]
     },
     "metadata": {},
     "output_type": "display_data"
    }
   ],
   "source": [
    "spark.stop()"
   ]
  }
 ],
 "metadata": {
  "kernelspec": {
   "display_name": "Python 3 (ipykernel)",
   "language": "python",
   "name": "python3"
  },
  "language_info": {
   "codemirror_mode": {
    "name": "ipython",
    "version": 3
   },
   "file_extension": ".py",
   "mimetype": "text/x-python",
   "name": "python",
   "nbconvert_exporter": "python",
   "pygments_lexer": "ipython3",
   "version": "3.8.10"
  }
 },
 "nbformat": 4,
 "nbformat_minor": 4
}
