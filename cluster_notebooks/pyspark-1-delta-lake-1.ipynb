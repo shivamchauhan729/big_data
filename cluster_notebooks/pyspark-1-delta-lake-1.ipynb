{
 "cells": [
  {
   "cell_type": "code",
   "execution_count": 3,
   "metadata": {
    "scrolled": true
   },
   "outputs": [
    {
     "data": {
      "application/vnd.jupyter.widget-view+json": {
       "model_id": "5c27bf3fa05e4174b0a159e07d8d861c",
       "version_major": 2,
       "version_minor": 0
      },
      "text/plain": [
       "VBox()"
      ]
     },
     "metadata": {},
     "output_type": "display_data"
    },
    {
     "data": {
      "application/vnd.jupyter.widget-view+json": {
       "model_id": "",
       "version_major": 2,
       "version_minor": 0
      },
      "text/plain": [
       "FloatProgress(value=0.0, bar_style='info', description='Progress:', layout=Layout(height='25px', width='50%'),…"
      ]
     },
     "metadata": {},
     "output_type": "display_data"
    },
    {
     "name": "stdout",
     "output_type": "stream",
     "text": [
      "DataFrame[key: string, value: string]"
     ]
    }
   ],
   "source": [
    "from pyspark.sql.functions import *\n",
    "from delta.tables import *\n",
    "spark.sql(\"SET spark.databricks.delta.schema.autoMerge.enabled = true\") \n",
    "#import boto3"
   ]
  },
  {
   "cell_type": "code",
   "execution_count": 2,
   "metadata": {},
   "outputs": [
    {
     "name": "stdout",
     "output_type": "stream",
     "text": [
      "Starting Spark application\n"
     ]
    },
    {
     "data": {
      "text/html": [
       "<table>\n",
       "<tr><th>ID</th><th>YARN Application ID</th><th>Kind</th><th>State</th><th>Spark UI</th><th>Driver log</th><th>Current session?</th></tr><tr><td>4</td><td>application_1614925776834_0007</td><td>pyspark</td><td>idle</td><td><a target=\"_blank\" href=\"http://ip-10-117-72-24.us-west-2.compute.internal:20888/proxy/application_1614925776834_0007/\" >Link</a></td><td><a target=\"_blank\" href=\"http://ip-10-117-72-30.us-west-2.compute.internal:8042/node/containerlogs/container_1614925776834_0007_01_000001/livy\" >Link</a></td><td>✔</td></tr></table>"
      ],
      "text/plain": [
       "<IPython.core.display.HTML object>"
      ]
     },
     "metadata": {},
     "output_type": "display_data"
    },
    {
     "data": {
      "application/vnd.jupyter.widget-view+json": {
       "model_id": "",
       "version_major": 2,
       "version_minor": 0
      },
      "text/plain": [
       "FloatProgress(value=0.0, bar_style='info', description='Progress:', layout=Layout(height='25px', width='50%'),…"
      ]
     },
     "metadata": {},
     "output_type": "display_data"
    },
    {
     "name": "stdout",
     "output_type": "stream",
     "text": [
      "SparkSession available as 'spark'.\n"
     ]
    },
    {
     "data": {
      "text/html": [
       "Current session configs: <tt>{'conf': {'spark.databricks.hive.metastore.glueCatalog.enabled': 'true', 'spark.jars.packages': 'io.delta:delta-core_2.12:0.8.0', 'spark.sql.extensions': 'io.delta.sql.DeltaSparkSessionExtension', 'spark.sql.catalog.spark_catalog': 'org.apache.spark.sql.delta.catalog.DeltaCatalog', 'spark.sql.warehouse.dir': 's3://aws-poc-serverless-analytics/delta_lake_demo/clean/delta_dw/'}, 'kind': 'pyspark'}</tt><br>"
      ],
      "text/plain": [
       "<IPython.core.display.HTML object>"
      ]
     },
     "metadata": {},
     "output_type": "display_data"
    },
    {
     "data": {
      "text/html": [
       "<table>\n",
       "<tr><th>ID</th><th>YARN Application ID</th><th>Kind</th><th>State</th><th>Spark UI</th><th>Driver log</th><th>Current session?</th></tr><tr><td>1</td><td>application_1614925776834_0003</td><td>pyspark</td><td>dead</td><td><a target=\"_blank\" href=\"http://ip-10-117-72-24.us-west-2.compute.internal:20888/proxy/application_1614925776834_0003/\" >Link</a></td><td><a target=\"_blank\" href=\"http://ip-10-117-72-24.us-west-2.compute.internal:8188/applicationhistory/logs/ip-10-117-72-30.us-west-2.compute.internal:8041/container_1614925776834_0003_01_000001/container_1614925776834_0003_01_000001/livy\" >Link</a></td><td></td></tr><tr><td>4</td><td>application_1614925776834_0007</td><td>pyspark</td><td>idle</td><td><a target=\"_blank\" href=\"http://ip-10-117-72-24.us-west-2.compute.internal:20888/proxy/application_1614925776834_0007/\" >Link</a></td><td><a target=\"_blank\" href=\"http://ip-10-117-72-30.us-west-2.compute.internal:8042/node/containerlogs/container_1614925776834_0007_01_000001/livy\" >Link</a></td><td>✔</td></tr></table>"
      ],
      "text/plain": [
       "<IPython.core.display.HTML object>"
      ]
     },
     "metadata": {},
     "output_type": "display_data"
    }
   ],
   "source": [
    "%%configure -f\n",
    "{ \"conf\":{    \n",
    "          \"spark.databricks.hive.metastore.glueCatalog.enabled\" : \"true\",\n",
    "          \"spark.jars.packages\": \"io.delta:delta-core_2.12:0.8.0\",\n",
    "          \"spark.sql.extensions\": \"io.delta.sql.DeltaSparkSessionExtension\",\n",
    "          \"spark.sql.catalog.spark_catalog\": \"org.apache.spark.sql.delta.catalog.DeltaCatalog\",\n",
    "          \"spark.sql.warehouse.dir\": \"s3://aws-poc-serverless-analytics/delta_lake_demo/clean/delta_dw/\"\n",
    "    \n",
    "         }\n",
    "}\n"
   ]
  },
  {
   "cell_type": "markdown",
   "metadata": {},
   "source": [
    "#### Overwrite"
   ]
  },
  {
   "cell_type": "code",
   "execution_count": null,
   "metadata": {},
   "outputs": [],
   "source": [
    "# 0\n",
    "spark.read.format(\"delta\").load(\"s3://aws-poc-serverless-analytics/dev/clean/merchants_cln/\").show()"
   ]
  },
  {
   "cell_type": "markdown",
   "metadata": {},
   "source": [
    "#### SCD-1"
   ]
  },
  {
   "cell_type": "code",
   "execution_count": null,
   "metadata": {},
   "outputs": [],
   "source": [
    "# 1\n",
    "spark.read.format(\"delta\").load(\"s3://aws-poc-serverless-analytics/dev/clean/merchants_cln/\").show()"
   ]
  },
  {
   "cell_type": "markdown",
   "metadata": {},
   "source": [
    "#### SCD-2"
   ]
  },
  {
   "cell_type": "code",
   "execution_count": 4,
   "metadata": {},
   "outputs": [
    {
     "data": {
      "application/vnd.jupyter.widget-view+json": {
       "model_id": "8294270c9aef43f5b8aee7e84881dd24",
       "version_major": 2,
       "version_minor": 0
      },
      "text/plain": [
       "VBox()"
      ]
     },
     "metadata": {},
     "output_type": "display_data"
    },
    {
     "data": {
      "application/vnd.jupyter.widget-view+json": {
       "model_id": "",
       "version_major": 2,
       "version_minor": 0
      },
      "text/plain": [
       "FloatProgress(value=0.0, bar_style='info', description='Progress:', layout=Layout(height='25px', width='50%'),…"
      ]
     },
     "metadata": {},
     "output_type": "display_data"
    },
    {
     "name": "stdout",
     "output_type": "stream",
     "text": [
      "+------------+--------------------+------------+-----------+--------------------+--------------------+------+\n",
      "|merchants_id|        company_name|   telephone|      state|          created_at|          updated_at|active|\n",
      "+------------+--------------------+------------+-----------+--------------------+--------------------+------+\n",
      "|       44082|Quick Draw Outdoo...|  3182596422|provisioned|2019-02-04 16:57:...|2021-02-10 02:07:...|  true|\n",
      "|       44083|Quick Draw Outdoo...|  3182596422|provisioned|2019-02-04 16:57:...|2021-02-10 02:07:...|  true|\n",
      "|       50742|Thenaricalicollec...|  5049394269|  suspended|2019-03-22 03:57:...|2019-05-15 00:54:...|  true|\n",
      "|      165163|  JeeJee’s Boutique |208-202-9314|trial_ended|2020-11-20 16:31:...|2020-11-20 16:33:...|  true|\n",
      "|      176321|   CLICK MY CART LTD|  6479863690|  suspended|2020-12-23 06:20:...|2020-12-24 04:53:...|  true|\n",
      "|      177863|  Bellelyse Boutique|000-000-0000|  suspended|2020-12-31 04:56:...|2021-02-19 16:53:...|  true|\n",
      "|      178307|            MSI Kart|  9319919988|trial_ended|2021-01-02 09:33:...|2021-01-02 09:39:...|  true|\n",
      "|      156237|          Washer Fan|000-000-0000|provisioned|2020-10-26 20:10:...|2020-10-26 20:53:...|  true|\n",
      "|      144524|     Rachid hamzaoui|  0639756718|       free|2020-09-21 17:18:...|2020-10-22 11:15:...|  true|\n",
      "|      156444|     Only The Flyest|  4049038447|       free|2020-10-27 05:26:...|2020-11-26 11:15:...|  true|\n",
      "|      140294|              myself|  7149259700|       free|2020-09-05 17:41:...|2020-10-06 11:15:...|  true|\n",
      "+------------+--------------------+------------+-----------+--------------------+--------------------+------+"
     ]
    }
   ],
   "source": [
    "# 2\n",
    "spark.read.format(\"delta\").load(\"s3://aws-poc-serverless-analytics/dev/clean/merchants_cln/\").show()"
   ]
  }
 ],
 "metadata": {
  "kernelspec": {
   "display_name": "Python 3 (ipykernel)",
   "language": "python",
   "name": "python3"
  },
  "language_info": {
   "codemirror_mode": {
    "name": "ipython",
    "version": 3
   },
   "file_extension": ".py",
   "mimetype": "text/x-python",
   "name": "python",
   "nbconvert_exporter": "python",
   "pygments_lexer": "ipython3",
   "version": "3.8.10"
  }
 },
 "nbformat": 4,
 "nbformat_minor": 4
}
