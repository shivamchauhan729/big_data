{
 "cells": [
  {
   "cell_type": "code",
   "execution_count": 1,
   "id": "bcaa0dcc",
   "metadata": {},
   "outputs": [],
   "source": [
    "from pyspark.sql import SparkSession\n",
    "from pyspark.sql.functions import *\n"
   ]
  },
  {
   "cell_type": "code",
   "execution_count": 2,
   "id": "2256f489",
   "metadata": {},
   "outputs": [
    {
     "name": "stderr",
     "output_type": "stream",
     "text": [
      "21/11/14 08:48:36 WARN Utils: Your hostname, shivam-Vostro-3559 resolves to a loopback address: 127.0.1.1; using 192.168.0.105 instead (on interface wlx7cc2c61989aa)\n",
      "21/11/14 08:48:36 WARN Utils: Set SPARK_LOCAL_IP if you need to bind to another address\n",
      "WARNING: An illegal reflective access operation has occurred\n",
      "WARNING: Illegal reflective access by org.apache.spark.unsafe.Platform (file:/usr/local/lib/python3.8/dist-packages/pyspark/jars/spark-unsafe_2.12-3.1.2.jar) to constructor java.nio.DirectByteBuffer(long,int)\n",
      "WARNING: Please consider reporting this to the maintainers of org.apache.spark.unsafe.Platform\n",
      "WARNING: Use --illegal-access=warn to enable warnings of further illegal reflective access operations\n",
      "WARNING: All illegal access operations will be denied in a future release\n",
      "21/11/14 08:48:40 WARN NativeCodeLoader: Unable to load native-hadoop library for your platform... using builtin-java classes where applicable\n",
      "Using Spark's default log4j profile: org/apache/spark/log4j-defaults.properties\n",
      "Setting default log level to \"WARN\".\n",
      "To adjust logging level use sc.setLogLevel(newLevel). For SparkR, use setLogLevel(newLevel).\n"
     ]
    }
   ],
   "source": [
    "spark = SparkSession.builder.appName(\"spark_app\").master(\"local[*]\").getOrCreate()"
   ]
  },
  {
   "cell_type": "code",
   "execution_count": 3,
   "id": "2e1bd799",
   "metadata": {},
   "outputs": [
    {
     "name": "stdout",
     "output_type": "stream",
     "text": [
      "hello\n"
     ]
    }
   ],
   "source": [
    "if __name__ == \"__main__\":\n",
    "    print(\"hello\")"
   ]
  },
  {
   "cell_type": "code",
   "execution_count": 4,
   "id": "fa86e077",
   "metadata": {},
   "outputs": [],
   "source": [
    "df = spark.read.format('csv').option(\"header\",\"true\").option(\"inferSchema\",\"true\").option(\"path\",r'data/merchants.csv').load()"
   ]
  },
  {
   "cell_type": "code",
   "execution_count": 5,
   "id": "6bb4b2da",
   "metadata": {},
   "outputs": [
    {
     "name": "stdout",
     "output_type": "stream",
     "text": [
      "root\n",
      " |-- id: integer (nullable = true)\n",
      " |-- company_name: string (nullable = true)\n",
      " |-- telephone: string (nullable = true)\n",
      " |-- state: string (nullable = true)\n",
      " |-- created_at: string (nullable = true)\n",
      " |-- updated_at: string (nullable = true)\n",
      "\n",
      "+------+---------------------------+------------+-----------+--------------------------+--------------------------+\n",
      "|id    |company_name               |telephone   |state      |created_at                |updated_at                |\n",
      "+------+---------------------------+------------+-----------+--------------------------+--------------------------+\n",
      "|178307|MSI Kart                   |9319919988  |trial_ended|2021-01-02 09:33:02.178749|2021-01-02 09:39:08.302584|\n",
      "|177863|Bellelyse Boutique         |000-000-0000|suspended  |2020-12-31 04:56:24.296919|2021-02-19 16:53:22.503263|\n",
      "|144524|Rachid hamzaoui            |0639756718  |free       |2020-09-21 17:18:02.35187 |2020-10-22 11:15:07.122165|\n",
      "|50742 |Thenaricalicollection      |5049394269  |suspended  |2019-03-22 03:57:02.244211|2019-05-15 00:54:55.439291|\n",
      "|176321|CLICK MY CART LTD          |6479863690  |suspended  |2020-12-23 06:20:41.788311|2020-12-24 04:53:02.186645|\n",
      "|140294|myself                     |7149259700  |free       |2020-09-05 17:41:02.896855|2020-10-06 11:15:11.226982|\n",
      "|165163|JeeJee’s Boutique          |208-202-9314|trial_ended|2020-11-20 16:31:41.993005|2020-11-20 16:33:01.43    |\n",
      "|156444|Only The Flyest            |4049038447  |free       |2020-10-27 05:26:41.925243|2020-11-26 11:15:34.635622|\n",
      "|156237|Washer Fan                 |000-000-0000|provisioned|2020-10-26 20:10:01.021332|2020-10-26 20:53:29.316381|\n",
      "|44082 |Quick Draw Outdoor Gear llc|3182596422  |provisioned|2019-02-04 16:57:43.781315|2021-02-10 02:07:13.924941|\n",
      "+------+---------------------------+------------+-----------+--------------------------+--------------------------+\n",
      "\n"
     ]
    }
   ],
   "source": [
    "df.printSchema()\n",
    "df.show(truncate=False)"
   ]
  },
  {
   "cell_type": "code",
   "execution_count": 6,
   "id": "f10745dc",
   "metadata": {},
   "outputs": [
    {
     "data": {
      "text/plain": [
       "DataFrame[id: int, company_name: string, telephone: string, state: string, created_at: string, updated_at: string, phone_num: bigint]"
      ]
     },
     "execution_count": 6,
     "metadata": {},
     "output_type": "execute_result"
    }
   ],
   "source": [
    "df.selectExpr(\"*\",\"cast(telephone as long) as phone_num\")"
   ]
  },
  {
   "cell_type": "code",
   "execution_count": 7,
   "id": "4458fe5b",
   "metadata": {},
   "outputs": [
    {
     "data": {
      "text/plain": [
       "DataFrame[id: int, company_name: string, telephone: string, state: string, created_at: string, updated_at: string, phone_num: bigint]"
      ]
     },
     "execution_count": 7,
     "metadata": {},
     "output_type": "execute_result"
    }
   ],
   "source": [
    "# cast column by adding column with different name\n",
    "df.select(col('*'),col('telephone').cast('long').alias('phone_num'))"
   ]
  },
  {
   "cell_type": "code",
   "execution_count": 8,
   "id": "287ce132",
   "metadata": {},
   "outputs": [
    {
     "data": {
      "text/plain": [
       "DataFrame[id: int, company_name: string, telephone: bigint, state: string, created_at: string, updated_at: string]"
      ]
     },
     "execution_count": 8,
     "metadata": {},
     "output_type": "execute_result"
    }
   ],
   "source": [
    "## cast column by replacing existsting column\n",
    "df.withColumn('telephone',col('telephone').cast('long'))"
   ]
  },
  {
   "cell_type": "code",
   "execution_count": 9,
   "id": "feec1fdf",
   "metadata": {},
   "outputs": [
    {
     "data": {
      "text/plain": [
       "DataFrame[id: string, company_name: string]"
      ]
     },
     "execution_count": 9,
     "metadata": {},
     "output_type": "execute_result"
    }
   ],
   "source": [
    "df.select(expr(\"cast( id  as string)\"), \"company_name\")"
   ]
  },
  {
   "cell_type": "code",
   "execution_count": 10,
   "id": "c0836ec2",
   "metadata": {},
   "outputs": [
    {
     "data": {
      "text/plain": [
       "DataFrame[id: int, company_name: string, telephone: string, state: string, created_at: timestamp, updated_at: string]"
      ]
     },
     "execution_count": 10,
     "metadata": {},
     "output_type": "execute_result"
    }
   ],
   "source": [
    "df.withColumn('created_at',col('created_at').cast('timestamp'))"
   ]
  },
  {
   "cell_type": "code",
   "execution_count": 11,
   "id": "b077c63e",
   "metadata": {},
   "outputs": [],
   "source": [
    "df = df.withColumn('telephone',col('telephone').cast('long')) \\\n",
    "    .withColumn('created_at',col('created_at').cast('timestamp')) \\\n",
    "    .withColumn('updated_at',col('updated_at').cast('timestamp'))"
   ]
  },
  {
   "cell_type": "code",
   "execution_count": 12,
   "id": "77ae5f8a",
   "metadata": {},
   "outputs": [
    {
     "name": "stdout",
     "output_type": "stream",
     "text": [
      "root\n",
      " |-- id: integer (nullable = true)\n",
      " |-- company_name: string (nullable = true)\n",
      " |-- telephone: long (nullable = true)\n",
      " |-- state: string (nullable = true)\n",
      " |-- created_at: timestamp (nullable = true)\n",
      " |-- updated_at: timestamp (nullable = true)\n",
      "\n",
      "+------+---------------------------+----------+-----------+--------------------------+--------------------------+\n",
      "|id    |company_name               |telephone |state      |created_at                |updated_at                |\n",
      "+------+---------------------------+----------+-----------+--------------------------+--------------------------+\n",
      "|178307|MSI Kart                   |9319919988|trial_ended|2021-01-02 09:33:02.178749|2021-01-02 09:39:08.302584|\n",
      "|177863|Bellelyse Boutique         |null      |suspended  |2020-12-31 04:56:24.296919|2021-02-19 16:53:22.503263|\n",
      "|144524|Rachid hamzaoui            |639756718 |free       |2020-09-21 17:18:02.35187 |2020-10-22 11:15:07.122165|\n",
      "|50742 |Thenaricalicollection      |5049394269|suspended  |2019-03-22 03:57:02.244211|2019-05-15 00:54:55.439291|\n",
      "|176321|CLICK MY CART LTD          |6479863690|suspended  |2020-12-23 06:20:41.788311|2020-12-24 04:53:02.186645|\n",
      "|140294|myself                     |7149259700|free       |2020-09-05 17:41:02.896855|2020-10-06 11:15:11.226982|\n",
      "|165163|JeeJee’s Boutique          |null      |trial_ended|2020-11-20 16:31:41.993005|2020-11-20 16:33:01.43    |\n",
      "|156444|Only The Flyest            |4049038447|free       |2020-10-27 05:26:41.925243|2020-11-26 11:15:34.635622|\n",
      "|156237|Washer Fan                 |null      |provisioned|2020-10-26 20:10:01.021332|2020-10-26 20:53:29.316381|\n",
      "|44082 |Quick Draw Outdoor Gear llc|3182596422|provisioned|2019-02-04 16:57:43.781315|2021-02-10 02:07:13.924941|\n",
      "+------+---------------------------+----------+-----------+--------------------------+--------------------------+\n",
      "\n"
     ]
    }
   ],
   "source": [
    "df.printSchema()\n",
    "df.show(truncate=False)"
   ]
  },
  {
   "cell_type": "code",
   "execution_count": 13,
   "id": "89c45c95",
   "metadata": {},
   "outputs": [
    {
     "name": "stdout",
     "output_type": "stream",
     "text": [
      "+------------+------------+---------------------------------------+---------------+--------------+-----------------+---------------------+\n",
      "|updated_date|created_date|difference                             |date_difference|months_between|rounded_months_bw|years_between        |\n",
      "+------------+------------+---------------------------------------+---------------+--------------+-----------------+---------------------+\n",
      "|2021-01-02  |2021-01-02  |6 minutes 6.123835 seconds             |0              |0.0           |0.0              |0.0                  |\n",
      "|2021-02-19  |2020-12-31  |1211 hours 56 minutes 58.206344 seconds|50             |1.62896431    |2.0              |0.13574702583333334  |\n",
      "|2020-10-22  |2020-09-21  |737 hours 57 minutes 4.770295 seconds  |31             |1.02412821    |1.0              |0.0853440175         |\n",
      "|2019-05-15  |2019-03-22  |1292 hours 57 minutes 53.19508 seconds |54             |1.77011387    |2.0              |0.14750948916666667  |\n",
      "|2020-12-24  |2020-12-23  |22 hours 32 minutes 20.398334 seconds  |1              |0.03029458    |0.0              |0.0025245483333333333|\n",
      "|2020-10-06  |2020-09-05  |737 hours 34 minutes 8.330127 seconds  |31             |1.02361447    |1.0              |0.08530120583333334  |\n",
      "|2020-11-20  |2020-11-20  |1 minutes 19.436995 seconds            |0              |0.0           |0.0              |0.0                  |\n",
      "|2020-11-26  |2020-10-27  |725 hours 48 minutes 52.710379 seconds |30             |0.97555742    |1.0              |0.08129645166666667  |\n",
      "|2020-10-26  |2020-10-26  |43 minutes 28.295049 seconds           |0              |0.0           |0.0              |0.0                  |\n",
      "|2021-02-10  |2019-02-04  |17673 hours 9 minutes 30.143626 seconds|737            |24.17359991   |24.0             |2.0144666591666667   |\n",
      "+------------+------------+---------------------------------------+---------------+--------------+-----------------+---------------------+\n",
      "\n"
     ]
    }
   ],
   "source": [
    "df.select(to_date('updated_at').alias('updated_date'), \\\n",
    "         to_date('created_at').alias('created_date'), \\\n",
    "         (col('updated_at')-col('created_at')).alias('difference'), \\\n",
    "         datediff('updated_at','created_at').alias('date_difference'), \\\n",
    "         months_between('updated_at','created_at').alias('months_between'), \\\n",
    "         round(months_between('updated_at','created_at')).alias('rounded_months_bw'), \\\n",
    "         (months_between('updated_at','created_at') / lit(12)).alias('years_between')).show(truncate=False)"
   ]
  },
  {
   "cell_type": "code",
   "execution_count": 14,
   "id": "99791bd9",
   "metadata": {},
   "outputs": [
    {
     "name": "stdout",
     "output_type": "stream",
     "text": [
      "root\n",
      " |-- id: long (nullable = true)\n",
      " |-- name: string (nullable = true)\n",
      " |-- no: long (nullable = true)\n",
      "\n"
     ]
    },
    {
     "name": "stderr",
     "output_type": "stream",
     "text": [
      "\r",
      "[Stage 5:>                                                          (0 + 1) / 1]\r"
     ]
    },
    {
     "name": "stdout",
     "output_type": "stream",
     "text": [
      "+---+----+---+\n",
      "| id|name| no|\n",
      "+---+----+---+\n",
      "|  1| abc| 23|\n",
      "|  2| xyz| 45|\n",
      "+---+----+---+\n",
      "\n"
     ]
    },
    {
     "name": "stderr",
     "output_type": "stream",
     "text": [
      "\r",
      "                                                                                \r"
     ]
    }
   ],
   "source": [
    "l = [(1,'abc',23),(2,'xyz',45)]\n",
    "s = ['id','name','no']\n",
    "spark.createDataFrame(l,schema=s).printSchema()\n",
    "spark.createDataFrame(l,schema=s).show()"
   ]
  },
  {
   "cell_type": "code",
   "execution_count": 15,
   "id": "783080ba",
   "metadata": {},
   "outputs": [
    {
     "name": "stdout",
     "output_type": "stream",
     "text": [
      "root\n",
      " |-- id: integer (nullable = true)\n",
      " |-- name: string (nullable = true)\n",
      " |-- no: long (nullable = true)\n",
      "\n",
      "+---+----+---+\n",
      "| id|name| no|\n",
      "+---+----+---+\n",
      "|  1| abc| 23|\n",
      "|  2| xyz| 45|\n",
      "+---+----+---+\n",
      "\n"
     ]
    }
   ],
   "source": [
    "sc = \"id int, name string, no long\"\n",
    "spark.createDataFrame(l,schema=sc).printSchema()\n",
    "spark.createDataFrame(l,schema=sc).show()"
   ]
  },
  {
   "cell_type": "code",
   "execution_count": 16,
   "id": "00f27842",
   "metadata": {},
   "outputs": [
    {
     "name": "stdout",
     "output_type": "stream",
     "text": [
      "+------+--------------------+----------+-----------+--------------------+--------------------+\n",
      "|    id|        company_name| telephone|      state|          created_at|          updated_at|\n",
      "+------+--------------------+----------+-----------+--------------------+--------------------+\n",
      "|178307|            MSI Kart|9319919988|trial_ended|2021-01-02 09:33:...|2021-01-02 09:39:...|\n",
      "|177863|  Bellelyse Boutique|      null|  suspended|2020-12-31 04:56:...|2021-02-19 16:53:...|\n",
      "|144524|     Rachid hamzaoui| 639756718|       free|2020-09-21 17:18:...|2020-10-22 11:15:...|\n",
      "| 50742|Thenaricalicollec...|5049394269|  suspended|2019-03-22 03:57:...|2019-05-15 00:54:...|\n",
      "|176321|   CLICK MY CART LTD|6479863690|  suspended|2020-12-23 06:20:...|2020-12-24 04:53:...|\n",
      "|140294|              myself|7149259700|       free|2020-09-05 17:41:...|2020-10-06 11:15:...|\n",
      "|165163|  JeeJee’s Boutique |      null|trial_ended|2020-11-20 16:31:...|2020-11-20 16:33:...|\n",
      "|156444|     Only The Flyest|4049038447|       free|2020-10-27 05:26:...|2020-11-26 11:15:...|\n",
      "|156237|          Washer Fan|      null|provisioned|2020-10-26 20:10:...|2020-10-26 20:53:...|\n",
      "| 44082|Quick Draw Outdoo...|3182596422|provisioned|2019-02-04 16:57:...|2021-02-10 02:07:...|\n",
      "+------+--------------------+----------+-----------+--------------------+--------------------+\n",
      "\n"
     ]
    }
   ],
   "source": [
    "df.show()"
   ]
  },
  {
   "cell_type": "code",
   "execution_count": 17,
   "id": "68041524",
   "metadata": {},
   "outputs": [
    {
     "name": "stderr",
     "output_type": "stream",
     "text": [
      "                                                                                \r"
     ]
    },
    {
     "name": "stdout",
     "output_type": "stream",
     "text": [
      "+-----------+-----+\n",
      "|      state|count|\n",
      "+-----------+-----+\n",
      "|  suspended|    3|\n",
      "|provisioned|    2|\n",
      "|       free|    3|\n",
      "|trial_ended|    2|\n",
      "+-----------+-----+\n",
      "\n"
     ]
    }
   ],
   "source": [
    "df.groupBy('state').count().show()"
   ]
  },
  {
   "cell_type": "code",
   "execution_count": 18,
   "id": "44181bc0",
   "metadata": {},
   "outputs": [
    {
     "name": "stdout",
     "output_type": "stream",
     "text": [
      "+-----------+-----+\n",
      "|      state|count|\n",
      "+-----------+-----+\n",
      "|  suspended|    3|\n",
      "|provisioned|    2|\n",
      "|       free|    3|\n",
      "|trial_ended|    2|\n",
      "+-----------+-----+\n",
      "\n"
     ]
    }
   ],
   "source": [
    "df.groupBy('state').agg(count('id').alias('count')).show()"
   ]
  },
  {
   "cell_type": "code",
   "execution_count": 19,
   "id": "d9e72be1",
   "metadata": {},
   "outputs": [
    {
     "name": "stdout",
     "output_type": "stream",
     "text": [
      "+-----------+------------------------------------------------------------------------------------+\n",
      "|state      |collect_list(created_at)                                                            |\n",
      "+-----------+------------------------------------------------------------------------------------+\n",
      "|suspended  |[2020-12-31 04:56:24.296919, 2019-03-22 03:57:02.244211, 2020-12-23 06:20:41.788311]|\n",
      "|provisioned|[2020-10-26 20:10:01.021332, 2019-02-04 16:57:43.781315]                            |\n",
      "|free       |[2020-09-21 17:18:02.35187, 2020-09-05 17:41:02.896855, 2020-10-27 05:26:41.925243] |\n",
      "|trial_ended|[2021-01-02 09:33:02.178749, 2020-11-20 16:31:41.993005]                            |\n",
      "+-----------+------------------------------------------------------------------------------------+\n",
      "\n"
     ]
    }
   ],
   "source": [
    "df.groupBy('state').agg(collect_list('created_at')).show(truncate=False)"
   ]
  },
  {
   "cell_type": "code",
   "execution_count": 20,
   "id": "2a2bbdfc",
   "metadata": {},
   "outputs": [
    {
     "name": "stdout",
     "output_type": "stream",
     "text": [
      "+-----------+--------------------------+\n",
      "|state      |max(created_at)           |\n",
      "+-----------+--------------------------+\n",
      "|suspended  |2020-12-31 04:56:24.296919|\n",
      "|provisioned|2020-10-26 20:10:01.021332|\n",
      "|free       |2020-10-27 05:26:41.925243|\n",
      "|trial_ended|2021-01-02 09:33:02.178749|\n",
      "+-----------+--------------------------+\n",
      "\n"
     ]
    }
   ],
   "source": [
    "df.groupBy('state').agg(max('created_at')).show(truncate=False)"
   ]
  },
  {
   "cell_type": "code",
   "execution_count": 21,
   "id": "3e072652",
   "metadata": {},
   "outputs": [
    {
     "name": "stdout",
     "output_type": "stream",
     "text": [
      "+----------+-------------------+\n",
      "| telephone|coalesce(telephone)|\n",
      "+----------+-------------------+\n",
      "|9319919988|         9319919988|\n",
      "|      null|               null|\n",
      "| 639756718|          639756718|\n",
      "|5049394269|         5049394269|\n",
      "|6479863690|         6479863690|\n",
      "|7149259700|         7149259700|\n",
      "|      null|               null|\n",
      "|4049038447|         4049038447|\n",
      "|      null|               null|\n",
      "|3182596422|         3182596422|\n",
      "+----------+-------------------+\n",
      "\n"
     ]
    }
   ],
   "source": [
    "df.select('telephone',coalesce('telephone')).show()"
   ]
  },
  {
   "cell_type": "code",
   "execution_count": 22,
   "id": "2f9af563",
   "metadata": {},
   "outputs": [
    {
     "name": "stdout",
     "output_type": "stream",
     "text": [
      "+-----------+------------------------------+\n",
      "|      state|coalesce(sum(company_name), 0)|\n",
      "+-----------+------------------------------+\n",
      "|  suspended|                           0.0|\n",
      "|provisioned|                           0.0|\n",
      "|       free|                           0.0|\n",
      "|trial_ended|                           0.0|\n",
      "+-----------+------------------------------+\n",
      "\n"
     ]
    }
   ],
   "source": [
    "## coalesce returns first non null column so in this case all values in first col i.e. sum(company_name) was null,\n",
    "## so it coalesce returned non null value i.e. 0\n",
    "df.groupBy('state').agg(coalesce(sum('company_name'),lit(0))).show()"
   ]
  },
  {
   "cell_type": "code",
   "execution_count": 23,
   "id": "914a2884",
   "metadata": {},
   "outputs": [
    {
     "name": "stderr",
     "output_type": "stream",
     "text": [
      "21/11/14 08:49:19 WARN package: Truncated the string representation of a plan since it was too large. This behavior can be adjusted by setting 'spark.sql.debug.maxToStringFields'.\n"
     ]
    },
    {
     "name": "stdout",
     "output_type": "stream",
     "text": [
      "+-----------+-------------------------+\n",
      "|      state|approx_count_distinct(id)|\n",
      "+-----------+-------------------------+\n",
      "|  suspended|                        3|\n",
      "|provisioned|                        2|\n",
      "|       free|                        3|\n",
      "|trial_ended|                        2|\n",
      "+-----------+-------------------------+\n",
      "\n"
     ]
    }
   ],
   "source": [
    "df.groupBy('state').agg(approx_count_distinct('id')).show()"
   ]
  },
  {
   "cell_type": "code",
   "execution_count": 24,
   "id": "d6c321e8",
   "metadata": {},
   "outputs": [
    {
     "name": "stdout",
     "output_type": "stream",
     "text": [
      "+-----------+-------------------------+\n",
      "|      state|approx_count_distinct(id)|\n",
      "+-----------+-------------------------+\n",
      "|  suspended|                        3|\n",
      "|provisioned|                        2|\n",
      "|       free|                        3|\n",
      "|trial_ended|                        2|\n",
      "+-----------+-------------------------+\n",
      "\n"
     ]
    }
   ],
   "source": [
    "df.groupBy('state').agg(approxCountDistinct('id')).show()"
   ]
  },
  {
   "cell_type": "code",
   "execution_count": 25,
   "id": "58d82631",
   "metadata": {},
   "outputs": [
    {
     "name": "stdout",
     "output_type": "stream",
     "text": [
      "+--------+\n",
      "| avg(id)|\n",
      "+--------+\n",
      "|138997.7|\n",
      "+--------+\n",
      "\n"
     ]
    }
   ],
   "source": [
    "df.select(avg('id')).show()"
   ]
  },
  {
   "cell_type": "code",
   "execution_count": 26,
   "id": "20892db1",
   "metadata": {},
   "outputs": [
    {
     "name": "stdout",
     "output_type": "stream",
     "text": [
      "+------------------------------------------------------------------------------+\n",
      "|collect_list(id)                                                              |\n",
      "+------------------------------------------------------------------------------+\n",
      "|[178307, 177863, 144524, 50742, 176321, 140294, 165163, 156444, 156237, 44082]|\n",
      "+------------------------------------------------------------------------------+\n",
      "\n"
     ]
    }
   ],
   "source": [
    "df.select(collect_list('id')).show(truncate=False)"
   ]
  },
  {
   "cell_type": "code",
   "execution_count": 27,
   "id": "2d8d67f6",
   "metadata": {},
   "outputs": [
    {
     "name": "stdout",
     "output_type": "stream",
     "text": [
      "+------------------+\n",
      "|count(DISTINCT id)|\n",
      "+------------------+\n",
      "|                10|\n",
      "+------------------+\n",
      "\n"
     ]
    }
   ],
   "source": [
    "df.select(countDistinct('id')).show()"
   ]
  },
  {
   "cell_type": "code",
   "execution_count": 28,
   "id": "f1602ccf",
   "metadata": {},
   "outputs": [
    {
     "name": "stdout",
     "output_type": "stream",
     "text": [
      "+------+--------------------+----------+-----------+--------------------+--------------------+\n",
      "|    id|        company_name| telephone|      state|          created_at|          updated_at|\n",
      "+------+--------------------+----------+-----------+--------------------+--------------------+\n",
      "|178307|            MSI Kart|9319919988|trial_ended|2021-01-02 09:33:...|2021-01-02 09:39:...|\n",
      "|177863|  Bellelyse Boutique|      null|  suspended|2020-12-31 04:56:...|2021-02-19 16:53:...|\n",
      "|144524|     Rachid hamzaoui| 639756718|       free|2020-09-21 17:18:...|2020-10-22 11:15:...|\n",
      "| 50742|Thenaricalicollec...|5049394269|  suspended|2019-03-22 03:57:...|2019-05-15 00:54:...|\n",
      "|176321|   CLICK MY CART LTD|6479863690|  suspended|2020-12-23 06:20:...|2020-12-24 04:53:...|\n",
      "|140294|              myself|7149259700|       free|2020-09-05 17:41:...|2020-10-06 11:15:...|\n",
      "|165163|  JeeJee’s Boutique |      null|trial_ended|2020-11-20 16:31:...|2020-11-20 16:33:...|\n",
      "|156444|     Only The Flyest|4049038447|       free|2020-10-27 05:26:...|2020-11-26 11:15:...|\n",
      "|156237|          Washer Fan|      null|provisioned|2020-10-26 20:10:...|2020-10-26 20:53:...|\n",
      "| 44082|Quick Draw Outdoo...|3182596422|provisioned|2019-02-04 16:57:...|2021-02-10 02:07:...|\n",
      "+------+--------------------+----------+-----------+--------------------+--------------------+\n",
      "\n"
     ]
    }
   ],
   "source": [
    "df.show()"
   ]
  },
  {
   "cell_type": "code",
   "execution_count": 29,
   "id": "64cc4e5d",
   "metadata": {},
   "outputs": [],
   "source": [
    "df.createOrReplaceTempView('df')"
   ]
  },
  {
   "cell_type": "code",
   "execution_count": 30,
   "id": "de022de2",
   "metadata": {},
   "outputs": [
    {
     "name": "stdout",
     "output_type": "stream",
     "text": [
      "+------+--------------------+-----------+-------+\n",
      "|    id|        company_name|      state|row_num|\n",
      "+------+--------------------+-----------+-------+\n",
      "|177863|  Bellelyse Boutique|  suspended|      1|\n",
      "|176321|   CLICK MY CART LTD|  suspended|      2|\n",
      "| 50742|Thenaricalicollec...|  suspended|      3|\n",
      "|156237|          Washer Fan|provisioned|      1|\n",
      "| 44082|Quick Draw Outdoo...|provisioned|      2|\n",
      "|156444|     Only The Flyest|       free|      1|\n",
      "|144524|     Rachid hamzaoui|       free|      2|\n",
      "|140294|              myself|       free|      3|\n",
      "|178307|            MSI Kart|trial_ended|      1|\n",
      "|165163|  JeeJee’s Boutique |trial_ended|      2|\n",
      "+------+--------------------+-----------+-------+\n",
      "\n"
     ]
    }
   ],
   "source": [
    "spark.sql(\"\"\"select id, company_name, state, \n",
    "        row_number() over (partition by state order by id desc) as row_num from df\"\"\").show()"
   ]
  },
  {
   "cell_type": "code",
   "execution_count": 31,
   "id": "207a9e48",
   "metadata": {},
   "outputs": [],
   "source": [
    "from pyspark.sql import Window"
   ]
  },
  {
   "cell_type": "code",
   "execution_count": 32,
   "id": "552d38b0",
   "metadata": {},
   "outputs": [
    {
     "name": "stdout",
     "output_type": "stream",
     "text": [
      "+------+--------------------+-----------+-------+\n",
      "|    id|        company_name|      state|row_num|\n",
      "+------+--------------------+-----------+-------+\n",
      "| 50742|Thenaricalicollec...|  suspended|      1|\n",
      "|176321|   CLICK MY CART LTD|  suspended|      2|\n",
      "|177863|  Bellelyse Boutique|  suspended|      3|\n",
      "| 44082|Quick Draw Outdoo...|provisioned|      1|\n",
      "|156237|          Washer Fan|provisioned|      2|\n",
      "|140294|              myself|       free|      1|\n",
      "|144524|     Rachid hamzaoui|       free|      2|\n",
      "|156444|     Only The Flyest|       free|      3|\n",
      "|165163|  JeeJee’s Boutique |trial_ended|      1|\n",
      "|178307|            MSI Kart|trial_ended|      2|\n",
      "+------+--------------------+-----------+-------+\n",
      "\n"
     ]
    }
   ],
   "source": [
    "windowSpec = Window.partitionBy('state').orderBy('id')\n",
    "df.select('id','company_name','state',row_number().over(windowSpec).alias('row_num')).show()"
   ]
  },
  {
   "cell_type": "code",
   "execution_count": 33,
   "id": "15760cee",
   "metadata": {},
   "outputs": [
    {
     "name": "stdout",
     "output_type": "stream",
     "text": [
      "+------+--------------------+-----------+-------+\n",
      "|    id|        company_name|      state|ranking|\n",
      "+------+--------------------+-----------+-------+\n",
      "| 50742|Thenaricalicollec...|  suspended|      1|\n",
      "|176321|   CLICK MY CART LTD|  suspended|      2|\n",
      "|177863|  Bellelyse Boutique|  suspended|      3|\n",
      "| 44082|Quick Draw Outdoo...|provisioned|      1|\n",
      "|156237|          Washer Fan|provisioned|      2|\n",
      "|140294|              myself|       free|      1|\n",
      "|144524|     Rachid hamzaoui|       free|      2|\n",
      "|156444|     Only The Flyest|       free|      3|\n",
      "|165163|  JeeJee’s Boutique |trial_ended|      1|\n",
      "|178307|            MSI Kart|trial_ended|      2|\n",
      "+------+--------------------+-----------+-------+\n",
      "\n"
     ]
    }
   ],
   "source": [
    "## rank leaves gap in ranking when there are ties\n",
    "windowSpec = Window.partitionBy('state').orderBy('id')\n",
    "df.select('id','company_name','state',rank().over(windowSpec).alias('ranking')).show()"
   ]
  },
  {
   "cell_type": "code",
   "execution_count": 34,
   "id": "651e5de3",
   "metadata": {},
   "outputs": [
    {
     "name": "stdout",
     "output_type": "stream",
     "text": [
      "+------+--------------------+-----------+-------+\n",
      "|    id|        company_name|      state|ranking|\n",
      "+------+--------------------+-----------+-------+\n",
      "| 50742|Thenaricalicollec...|  suspended|      1|\n",
      "|176321|   CLICK MY CART LTD|  suspended|      2|\n",
      "|177863|  Bellelyse Boutique|  suspended|      3|\n",
      "| 44082|Quick Draw Outdoo...|provisioned|      1|\n",
      "|156237|          Washer Fan|provisioned|      2|\n",
      "|140294|              myself|       free|      1|\n",
      "|144524|     Rachid hamzaoui|       free|      2|\n",
      "|156444|     Only The Flyest|       free|      3|\n",
      "|165163|  JeeJee’s Boutique |trial_ended|      1|\n",
      "|178307|            MSI Kart|trial_ended|      2|\n",
      "+------+--------------------+-----------+-------+\n",
      "\n"
     ]
    }
   ],
   "source": [
    "spark.sql(\"\"\"select id, company_name, state,\n",
    "        rank() over(partition by state order by id) as ranking from df\"\"\").show()"
   ]
  },
  {
   "cell_type": "code",
   "execution_count": 35,
   "id": "38f06a58",
   "metadata": {},
   "outputs": [
    {
     "name": "stdout",
     "output_type": "stream",
     "text": [
      "+------+--------------------+-----------+-------------+\n",
      "|    id|        company_name|      state|dense_Ranking|\n",
      "+------+--------------------+-----------+-------------+\n",
      "| 50742|Thenaricalicollec...|  suspended|            1|\n",
      "|176321|   CLICK MY CART LTD|  suspended|            2|\n",
      "|177863|  Bellelyse Boutique|  suspended|            3|\n",
      "| 44082|Quick Draw Outdoo...|provisioned|            1|\n",
      "|156237|          Washer Fan|provisioned|            2|\n",
      "|140294|              myself|       free|            1|\n",
      "|144524|     Rachid hamzaoui|       free|            2|\n",
      "|156444|     Only The Flyest|       free|            3|\n",
      "|165163|  JeeJee’s Boutique |trial_ended|            1|\n",
      "|178307|            MSI Kart|trial_ended|            2|\n",
      "+------+--------------------+-----------+-------------+\n",
      "\n"
     ]
    }
   ],
   "source": [
    "## dense rank doesnt leaves gap in ranking when there are ties\n",
    "windowSpec = Window.partitionBy('state').orderBy('id')\n",
    "df.select('id','company_name','state',dense_rank().over(windowSpec).alias('dense_Ranking')).show()"
   ]
  },
  {
   "cell_type": "code",
   "execution_count": 36,
   "id": "fcf19858",
   "metadata": {},
   "outputs": [
    {
     "name": "stdout",
     "output_type": "stream",
     "text": [
      "+------+--------------------+-----------+------+------+\n",
      "|    id|        company_name|      state|   lag|  lead|\n",
      "+------+--------------------+-----------+------+------+\n",
      "| 50742|Thenaricalicollec...|  suspended|  null|176321|\n",
      "|176321|   CLICK MY CART LTD|  suspended| 50742|177863|\n",
      "|177863|  Bellelyse Boutique|  suspended|176321|  null|\n",
      "| 44082|Quick Draw Outdoo...|provisioned|  null|156237|\n",
      "|156237|          Washer Fan|provisioned| 44082|  null|\n",
      "|140294|              myself|       free|  null|144524|\n",
      "|144524|     Rachid hamzaoui|       free|140294|156444|\n",
      "|156444|     Only The Flyest|       free|144524|  null|\n",
      "|165163|  JeeJee’s Boutique |trial_ended|  null|178307|\n",
      "|178307|            MSI Kart|trial_ended|165163|  null|\n",
      "+------+--------------------+-----------+------+------+\n",
      "\n"
     ]
    }
   ],
   "source": [
    "windowSpec = Window.partitionBy('state').orderBy('id')\n",
    "df.select('id','company_name','state',lag('id',1).over(windowSpec).alias('lag'),lead('id',1).over(windowSpec).alias('lead')).show()"
   ]
  },
  {
   "cell_type": "code",
   "execution_count": 37,
   "id": "ea1db1a8",
   "metadata": {},
   "outputs": [
    {
     "name": "stdout",
     "output_type": "stream",
     "text": [
      "+------+--------------------+-----------+\n",
      "|    id|        company_name|      state|\n",
      "+------+--------------------+-----------+\n",
      "| 50742|Thenaricalicollec...|  suspended|\n",
      "| 44082|Quick Draw Outdoo...|provisioned|\n",
      "|140294|              myself|       free|\n",
      "|165163|  JeeJee’s Boutique |trial_ended|\n",
      "+------+--------------------+-----------+\n",
      "\n"
     ]
    }
   ],
   "source": [
    "windowSpec = Window.partitionBy('state').orderBy('id')\n",
    "df.withColumn(\"row\",row_number().over(windowSpec)).where(col('row') == 1).select('id','company_name','state').show()"
   ]
  },
  {
   "cell_type": "code",
   "execution_count": 38,
   "id": "21200b66",
   "metadata": {},
   "outputs": [
    {
     "name": "stdout",
     "output_type": "stream",
     "text": [
      "+------+---------------+----------+-----+--------------------+--------------------+\n",
      "|    id|   company_name| telephone|state|          created_at|          updated_at|\n",
      "+------+---------------+----------+-----+--------------------+--------------------+\n",
      "|144524|Rachid hamzaoui| 639756718| free|2020-09-21 17:18:...|2020-10-22 11:15:...|\n",
      "|140294|         myself|7149259700| free|2020-09-05 17:41:...|2020-10-06 11:15:...|\n",
      "|156444|Only The Flyest|4049038447| free|2020-10-27 05:26:...|2020-11-26 11:15:...|\n",
      "+------+---------------+----------+-----+--------------------+--------------------+\n",
      "\n"
     ]
    }
   ],
   "source": [
    "df.where(col('state')=='free').show()"
   ]
  },
  {
   "cell_type": "code",
   "execution_count": 39,
   "id": "429589ed",
   "metadata": {},
   "outputs": [
    {
     "name": "stdout",
     "output_type": "stream",
     "text": [
      "+------+--------------------+-----------+------+\n",
      "|    id|        company_name|      state|max_id|\n",
      "+------+--------------------+-----------+------+\n",
      "| 50742|Thenaricalicollec...|  suspended|177863|\n",
      "| 44082|Quick Draw Outdoo...|provisioned|156237|\n",
      "|140294|              myself|       free|156444|\n",
      "|165163|  JeeJee’s Boutique |trial_ended|178307|\n",
      "+------+--------------------+-----------+------+\n",
      "\n"
     ]
    }
   ],
   "source": [
    "windowSpecAgg = Window.partitionBy('state')\n",
    "df.withColumn('row',row_number().over(windowSpec))\\\n",
    ".withColumn('max_id',max(col('id')).over(windowSpecAgg)) \\\n",
    ".select('id','company_name','state','max_id') \\\n",
    ".where(col('row')==1).show()"
   ]
  },
  {
   "cell_type": "code",
   "execution_count": 40,
   "id": "ea256871",
   "metadata": {},
   "outputs": [
    {
     "name": "stdout",
     "output_type": "stream",
     "text": [
      "+--------------------------+------------+----------------+\n",
      "|created_at                |created_date|created_date_new|\n",
      "+--------------------------+------------+----------------+\n",
      "|2021-01-02 09:33:02.178749|02-01-2021  |2021-01-02      |\n",
      "|2020-12-31 04:56:24.296919|31-12-2020  |2020-12-31      |\n",
      "|2020-09-21 17:18:02.35187 |21-09-2020  |2020-09-21      |\n",
      "|2019-03-22 03:57:02.244211|22-03-2019  |2019-03-22      |\n",
      "|2020-12-23 06:20:41.788311|23-12-2020  |2020-12-23      |\n",
      "|2020-09-05 17:41:02.896855|05-09-2020  |2020-09-05      |\n",
      "|2020-11-20 16:31:41.993005|20-11-2020  |2020-11-20      |\n",
      "|2020-10-27 05:26:41.925243|27-10-2020  |2020-10-27      |\n",
      "|2020-10-26 20:10:01.021332|26-10-2020  |2020-10-26      |\n",
      "|2019-02-04 16:57:43.781315|04-02-2019  |2019-02-04      |\n",
      "+--------------------------+------------+----------------+\n",
      "\n"
     ]
    }
   ],
   "source": [
    "df.select('created_at',date_format(col('created_at'),'dd-MM-yyyy').alias('created_date'), to_date('created_at').alias('created_date_new')).show(truncate=False)"
   ]
  },
  {
   "cell_type": "code",
   "execution_count": 41,
   "id": "62db772c",
   "metadata": {},
   "outputs": [
    {
     "name": "stdout",
     "output_type": "stream",
     "text": [
      "+------------+------------+\n",
      "|created_date|updated_date|\n",
      "+------------+------------+\n",
      "|  02-01-2021|  2021-03-02|\n",
      "|  31-12-2020|  2021-02-28|\n",
      "|  21-09-2020|  2020-11-21|\n",
      "|  22-03-2019|  2019-05-22|\n",
      "|  23-12-2020|  2021-02-23|\n",
      "|  05-09-2020|  2020-11-05|\n",
      "|  20-11-2020|  2021-01-20|\n",
      "|  27-10-2020|  2020-12-27|\n",
      "|  26-10-2020|  2020-12-26|\n",
      "|  04-02-2019|  2019-04-04|\n",
      "+------------+------------+\n",
      "\n"
     ]
    }
   ],
   "source": [
    "## add_months() to the column by adding months\n",
    "df.select(date_format('created_at','dd-MM-yyyy').alias('created_date'),add_months('created_at',2).alias('updated_date')).show()"
   ]
  },
  {
   "cell_type": "code",
   "execution_count": 42,
   "id": "a944ac22",
   "metadata": {},
   "outputs": [
    {
     "name": "stdout",
     "output_type": "stream",
     "text": [
      "+--------------------------------------------+\n",
      "|months_between(updated_at, created_at, true)|\n",
      "+--------------------------------------------+\n",
      "|                                         0.0|\n",
      "|                                  1.62896431|\n",
      "|                                  1.02412821|\n",
      "|                                  1.77011387|\n",
      "|                                  0.03029458|\n",
      "|                                  1.02361447|\n",
      "|                                         0.0|\n",
      "|                                  0.97555742|\n",
      "|                                         0.0|\n",
      "|                                 24.17359991|\n",
      "+--------------------------------------------+\n",
      "\n"
     ]
    }
   ],
   "source": [
    "df.select(months_between('updated_at','created_at')).show()"
   ]
  },
  {
   "cell_type": "code",
   "execution_count": 43,
   "id": "ab560e89",
   "metadata": {},
   "outputs": [
    {
     "name": "stdout",
     "output_type": "stream",
     "text": [
      "+------------+----+-----+-----------+------------+-----------+-----------------+----+\n",
      "|created_date|year|month|day_of_week|day_of_month|day_of_year|last_Day_of_month|hour|\n",
      "+------------+----+-----+-----------+------------+-----------+-----------------+----+\n",
      "|  02-01-2021|2021|    1|          7|           2|          2|       2021-01-31|   9|\n",
      "|  31-12-2020|2020|   12|          5|          31|        366|       2020-12-31|   4|\n",
      "|  21-09-2020|2020|    9|          2|          21|        265|       2020-09-30|  17|\n",
      "|  22-03-2019|2019|    3|          6|          22|         81|       2019-03-31|   3|\n",
      "|  23-12-2020|2020|   12|          4|          23|        358|       2020-12-31|   6|\n",
      "|  05-09-2020|2020|    9|          7|           5|        249|       2020-09-30|  17|\n",
      "|  20-11-2020|2020|   11|          6|          20|        325|       2020-11-30|  16|\n",
      "|  27-10-2020|2020|   10|          3|          27|        301|       2020-10-31|   5|\n",
      "|  26-10-2020|2020|   10|          2|          26|        300|       2020-10-31|  20|\n",
      "|  04-02-2019|2019|    2|          2|           4|         35|       2019-02-28|  16|\n",
      "+------------+----+-----+-----------+------------+-----------+-----------------+----+\n",
      "\n"
     ]
    }
   ],
   "source": [
    "## day_of_week  -> 1 for sunday , 7 for saturday, day of month is same as day in the date, \n",
    "df.select(date_format('created_at','dd-MM-yyyy').alias('created_date'), \\\n",
    "         year('created_at').alias('year'), \\\n",
    "         month('created_at').alias('month'),\n",
    "         dayofweek('created_at').alias('day_of_week'), \\\n",
    "         dayofmonth('created_at').alias('day_of_month'), \\\n",
    "         dayofyear('created_at').alias('day_of_year'), \\\n",
    "         last_day('created_at').alias('last_Day_of_month'), \\\n",
    "         hour('created_at').alias('hour')).show()"
   ]
  },
  {
   "cell_type": "code",
   "execution_count": 44,
   "id": "bec913ab",
   "metadata": {},
   "outputs": [
    {
     "name": "stdout",
     "output_type": "stream",
     "text": [
      "+---+--------------------------------------------------------------------------+\n",
      "|id |value                                                                     |\n",
      "+---+--------------------------------------------------------------------------+\n",
      "|1  |{\"Zipcode\":704,\"ZipCodeType\":\"STANDARD\",\"City\":\"PARC PARQUE\",\"State\":\"PR\"}|\n",
      "+---+--------------------------------------------------------------------------+\n",
      "\n"
     ]
    }
   ],
   "source": [
    "jsonString=\"\"\"{\"Zipcode\":704,\"ZipCodeType\":\"STANDARD\",\"City\":\"PARC PARQUE\",\"State\":\"PR\"}\"\"\"\n",
    "df_json=spark.createDataFrame([(1, jsonString)],[\"id\",\"value\"])\n",
    "df_json.show(truncate=False)"
   ]
  },
  {
   "cell_type": "code",
   "execution_count": 45,
   "id": "cea7d9ea",
   "metadata": {},
   "outputs": [
    {
     "name": "stdout",
     "output_type": "stream",
     "text": [
      "root\n",
      " |-- id: long (nullable = true)\n",
      " |-- value: string (nullable = true)\n",
      "\n"
     ]
    }
   ],
   "source": [
    "df_json.printSchema()"
   ]
  },
  {
   "cell_type": "code",
   "execution_count": 46,
   "id": "5bd08788",
   "metadata": {},
   "outputs": [],
   "source": [
    "from pyspark.sql.types import *"
   ]
  },
  {
   "cell_type": "code",
   "execution_count": 47,
   "id": "dd193009",
   "metadata": {},
   "outputs": [
    {
     "name": "stdout",
     "output_type": "stream",
     "text": [
      "root\n",
      " |-- id: long (nullable = true)\n",
      " |-- value: map (nullable = true)\n",
      " |    |-- key: string\n",
      " |    |-- value: string (valueContainsNull = true)\n",
      "\n",
      "+---+---------------------------------------------------------------------------+\n",
      "|id |value                                                                      |\n",
      "+---+---------------------------------------------------------------------------+\n",
      "|1  |{Zipcode -> 704, ZipCodeType -> STANDARD, City -> PARC PARQUE, State -> PR}|\n",
      "+---+---------------------------------------------------------------------------+\n",
      "\n"
     ]
    }
   ],
   "source": [
    "df2=df_json.withColumn(\"value\",from_json(df_json.value,MapType(StringType(),StringType())))\n",
    "df2.printSchema()\n",
    "df2.show(truncate=False)"
   ]
  },
  {
   "cell_type": "code",
   "execution_count": 48,
   "id": "61764553",
   "metadata": {},
   "outputs": [
    {
     "name": "stdout",
     "output_type": "stream",
     "text": [
      "+------+--------------------+----------+-----------+--------------------+--------------------+\n",
      "|    id|        company_name| telephone|      state|          created_at|          updated_at|\n",
      "+------+--------------------+----------+-----------+--------------------+--------------------+\n",
      "|178307|            MSI Kart|9319919988|trial_ended|2021-01-02 09:33:...|2021-01-02 09:39:...|\n",
      "|177863|  Bellelyse Boutique|      null|  suspended|2020-12-31 04:56:...|2021-02-19 16:53:...|\n",
      "|144524|     Rachid hamzaoui| 639756718|       free|2020-09-21 17:18:...|2020-10-22 11:15:...|\n",
      "| 50742|Thenaricalicollec...|5049394269|  suspended|2019-03-22 03:57:...|2019-05-15 00:54:...|\n",
      "|176321|   CLICK MY CART LTD|6479863690|  suspended|2020-12-23 06:20:...|2020-12-24 04:53:...|\n",
      "|140294|              myself|7149259700|       free|2020-09-05 17:41:...|2020-10-06 11:15:...|\n",
      "|165163|  JeeJee’s Boutique |      null|trial_ended|2020-11-20 16:31:...|2020-11-20 16:33:...|\n",
      "|156444|     Only The Flyest|4049038447|       free|2020-10-27 05:26:...|2020-11-26 11:15:...|\n",
      "|156237|          Washer Fan|      null|provisioned|2020-10-26 20:10:...|2020-10-26 20:53:...|\n",
      "| 44082|Quick Draw Outdoo...|3182596422|provisioned|2019-02-04 16:57:...|2021-02-10 02:07:...|\n",
      "+------+--------------------+----------+-----------+--------------------+--------------------+\n",
      "\n"
     ]
    }
   ],
   "source": [
    "df.show()"
   ]
  },
  {
   "cell_type": "code",
   "execution_count": 49,
   "id": "10dee77b",
   "metadata": {},
   "outputs": [
    {
     "name": "stdout",
     "output_type": "stream",
     "text": [
      "+------+--------------------+-----------+--------------+\n",
      "|    id|        company_name|      state|     new_state|\n",
      "+------+--------------------+-----------+--------------+\n",
      "|178307|            MSI Kart|trial_ended|same as before|\n",
      "|177863|  Bellelyse Boutique|  suspended|       waiting|\n",
      "|144524|     Rachid hamzaoui|       free|    terminated|\n",
      "| 50742|Thenaricalicollec...|  suspended|       waiting|\n",
      "|176321|   CLICK MY CART LTD|  suspended|       waiting|\n",
      "|140294|              myself|       free|    terminated|\n",
      "|165163|  JeeJee’s Boutique |trial_ended|same as before|\n",
      "|156444|     Only The Flyest|       free|    terminated|\n",
      "|156237|          Washer Fan|provisioned|same as before|\n",
      "| 44082|Quick Draw Outdoo...|provisioned|same as before|\n",
      "+------+--------------------+-----------+--------------+\n",
      "\n"
     ]
    }
   ],
   "source": [
    "df.withColumn('new_state', when(col('state') == 'free', \"terminated\")\n",
    "                        .when(col('state') == 'suspended', \"waiting\")\n",
    "                        .otherwise('same as before')) \\\n",
    "                        .select('id','company_name','state','new_state').show()"
   ]
  },
  {
   "cell_type": "code",
   "execution_count": 50,
   "id": "c6f6256f",
   "metadata": {},
   "outputs": [
    {
     "name": "stdout",
     "output_type": "stream",
     "text": [
      "+------+--------------------+-----------+--------------+\n",
      "|    id|        company_name|      state|     new_state|\n",
      "+------+--------------------+-----------+--------------+\n",
      "|178307|            MSI Kart|trial_ended|same as before|\n",
      "|177863|  Bellelyse Boutique|  suspended|       waiting|\n",
      "|144524|     Rachid hamzaoui|       free|    terminated|\n",
      "| 50742|Thenaricalicollec...|  suspended|       waiting|\n",
      "|176321|   CLICK MY CART LTD|  suspended|       waiting|\n",
      "|140294|              myself|       free|    terminated|\n",
      "|165163|  JeeJee’s Boutique |trial_ended|same as before|\n",
      "|156444|     Only The Flyest|       free|    terminated|\n",
      "|156237|          Washer Fan|provisioned|same as before|\n",
      "| 44082|Quick Draw Outdoo...|provisioned|same as before|\n",
      "+------+--------------------+-----------+--------------+\n",
      "\n"
     ]
    }
   ],
   "source": [
    "spark.sql(\"\"\"select id, company_name, state,\n",
    "            case when state = 'free' then 'terminated'\n",
    "                when state = 'suspended' then 'waiting'\n",
    "                else 'same as before'\n",
    "            end as new_state from df\"\"\").show()"
   ]
  },
  {
   "cell_type": "code",
   "execution_count": 51,
   "id": "820b685d",
   "metadata": {},
   "outputs": [
    {
     "name": "stdout",
     "output_type": "stream",
     "text": [
      "+------+--------------------+----------+-----------+--------------------+--------------------+------+\n",
      "|    id|        company_name| telephone|      state|          created_at|          updated_at|new_id|\n",
      "+------+--------------------+----------+-----------+--------------------+--------------------+------+\n",
      "|178307|            MSI Kart|9319919988|trial_ended|2021-01-02 09:33:...|2021-01-02 09:39:...|     5|\n",
      "|177863|  Bellelyse Boutique|      null|  suspended|2020-12-31 04:56:...|2021-02-19 16:53:...|     5|\n",
      "|144524|     Rachid hamzaoui| 639756718|       free|2020-09-21 17:18:...|2020-10-22 11:15:...|     5|\n",
      "| 50742|Thenaricalicollec...|5049394269|  suspended|2019-03-22 03:57:...|2019-05-15 00:54:...|     5|\n",
      "|176321|   CLICK MY CART LTD|6479863690|  suspended|2020-12-23 06:20:...|2020-12-24 04:53:...|     5|\n",
      "|140294|              myself|7149259700|       free|2020-09-05 17:41:...|2020-10-06 11:15:...|     5|\n",
      "|165163|  JeeJee’s Boutique |      null|trial_ended|2020-11-20 16:31:...|2020-11-20 16:33:...|     5|\n",
      "|156444|     Only The Flyest|4049038447|       free|2020-10-27 05:26:...|2020-11-26 11:15:...|     5|\n",
      "|156237|          Washer Fan|      null|provisioned|2020-10-26 20:10:...|2020-10-26 20:53:...|     5|\n",
      "| 44082|Quick Draw Outdoo...|3182596422|provisioned|2019-02-04 16:57:...|2021-02-10 02:07:...|     5|\n",
      "+------+--------------------+----------+-----------+--------------------+--------------------+------+\n",
      "\n"
     ]
    }
   ],
   "source": [
    "df.withColumn(\"new_id\",lit(5)).show()"
   ]
  },
  {
   "cell_type": "code",
   "execution_count": 52,
   "id": "1ed0dc5f",
   "metadata": {},
   "outputs": [
    {
     "name": "stdout",
     "output_type": "stream",
     "text": [
      "+---------------------+---------------------+\n",
      "|company_name         |new_company_name     |\n",
      "+---------------------+---------------------+\n",
      "|MSI Kart             |MSI                  |\n",
      "|MSI Kart             |Kart                 |\n",
      "|Bellelyse Boutique   |Bellelyse            |\n",
      "|Bellelyse Boutique   |Boutique             |\n",
      "|Rachid hamzaoui      |Rachid               |\n",
      "|Rachid hamzaoui      |hamzaoui             |\n",
      "|Thenaricalicollection|Thenaricalicollection|\n",
      "|CLICK MY CART LTD    |CLICK                |\n",
      "|CLICK MY CART LTD    |MY                   |\n",
      "|CLICK MY CART LTD    |CART                 |\n",
      "|CLICK MY CART LTD    |LTD                  |\n",
      "|myself               |myself               |\n",
      "|JeeJee’s Boutique    |JeeJee’s             |\n",
      "|JeeJee’s Boutique    |Boutique             |\n",
      "|JeeJee’s Boutique    |                     |\n",
      "|Only The Flyest      |Only                 |\n",
      "|Only The Flyest      |The                  |\n",
      "|Only The Flyest      |Flyest               |\n",
      "|Washer Fan           |Washer               |\n",
      "|Washer Fan           |Fan                  |\n",
      "+---------------------+---------------------+\n",
      "only showing top 20 rows\n",
      "\n"
     ]
    }
   ],
   "source": [
    "## split the column into an array type and then explode the array elements into separate rows\n",
    "df.select('company_name',explode(split('company_name',' ')).alias('new_company_name')).show(truncate=False)"
   ]
  },
  {
   "cell_type": "code",
   "execution_count": 53,
   "id": "d210bee9",
   "metadata": {},
   "outputs": [
    {
     "name": "stdout",
     "output_type": "stream",
     "text": [
      "+---------------------------+---------------------------+\n",
      "|company_name               |new_company_name           |\n",
      "+---------------------------+---------------------------+\n",
      "|MSI Kart                   |MSI,Kart                   |\n",
      "|Bellelyse Boutique         |Bellelyse,Boutique         |\n",
      "|Rachid hamzaoui            |Rachid,hamzaoui            |\n",
      "|Thenaricalicollection      |Thenaricalicollection      |\n",
      "|CLICK MY CART LTD          |CLICK,MY,CART,LTD          |\n",
      "|myself                     |myself                     |\n",
      "|JeeJee’s Boutique          |JeeJee’s,Boutique,         |\n",
      "|Only The Flyest            |Only,The,Flyest            |\n",
      "|Washer Fan                 |Washer,Fan                 |\n",
      "|Quick Draw Outdoor Gear llc|Quick,Draw,Outdoor,Gear,llc|\n",
      "+---------------------------+---------------------------+\n",
      "\n"
     ]
    }
   ],
   "source": [
    "## convert array column to string\n",
    "df.select('company_name',concat_ws(',',split('company_name',' ')).alias('new_company_name')).show(truncate=False)"
   ]
  },
  {
   "cell_type": "code",
   "execution_count": 54,
   "id": "489a240c",
   "metadata": {},
   "outputs": [
    {
     "name": "stdout",
     "output_type": "stream",
     "text": [
      "+-----------+---------+\n",
      "|      state|new_state|\n",
      "+-----------+---------+\n",
      "|trial_ended|       tr|\n",
      "|  suspended|       su|\n",
      "|       free|       fr|\n",
      "|  suspended|       su|\n",
      "|  suspended|       su|\n",
      "|       free|       fr|\n",
      "|trial_ended|       tr|\n",
      "|       free|       fr|\n",
      "|provisioned|       pr|\n",
      "|provisioned|       pr|\n",
      "+-----------+---------+\n",
      "\n"
     ]
    }
   ],
   "source": [
    "## using substring by giving column name , starting position, and length of substring\n",
    "df.select('state',substring('state',1,2).alias('new_state')).show()"
   ]
  },
  {
   "cell_type": "code",
   "execution_count": 55,
   "id": "7e64ad95",
   "metadata": {},
   "outputs": [
    {
     "name": "stdout",
     "output_type": "stream",
     "text": [
      "+-----------+-----------+\n",
      "|state      |translator |\n",
      "+-----------+-----------+\n",
      "|trial_ended|tr91l_5n454|\n",
      "|suspended  |susp5n454  |\n",
      "|free       |6r55       |\n",
      "|suspended  |susp5n454  |\n",
      "|suspended  |susp5n454  |\n",
      "|free       |6r55       |\n",
      "|trial_ended|tr91l_5n454|\n",
      "|free       |6r55       |\n",
      "|provisioned|prov9s9on54|\n",
      "|provisioned|prov9s9on54|\n",
      "+-----------+-----------+\n",
      "\n"
     ]
    }
   ],
   "source": [
    "## translate every character present in the column with another character given as parameter\n",
    "df.select('state',translate('state','abcdefghij','123456789').alias('translator')).show(truncate=False)"
   ]
  },
  {
   "cell_type": "code",
   "execution_count": 56,
   "id": "cc32c647",
   "metadata": {},
   "outputs": [
    {
     "name": "stdout",
     "output_type": "stream",
     "text": [
      "+-----------+-----------+\n",
      "|      state|  new_State|\n",
      "+-----------+-----------+\n",
      "|trial_ended|trial ended|\n",
      "|  suspended|  suspended|\n",
      "|       free|       free|\n",
      "|  suspended|  suspended|\n",
      "|  suspended|  suspended|\n",
      "|       free|       free|\n",
      "|trial_ended|trial ended|\n",
      "|       free|       free|\n",
      "|provisioned|provisioned|\n",
      "|provisioned|provisioned|\n",
      "+-----------+-----------+\n",
      "\n"
     ]
    }
   ],
   "source": [
    "## replace column value with the 3rd parameter by matching column value with the second parameter and ignore if \n",
    "## doesnt matches\n",
    "df.select('state',regexp_replace('state','_',' ').alias('new_State')).show()"
   ]
  },
  {
   "cell_type": "code",
   "execution_count": 57,
   "id": "0fccd00e",
   "metadata": {},
   "outputs": [
    {
     "name": "stdout",
     "output_type": "stream",
     "text": [
      "+-----------+-----------+\n",
      "|      state|  overlayed|\n",
      "+-----------+-----------+\n",
      "|trial_ended|6rial_ended|\n",
      "|  suspended|  6uspended|\n",
      "|       free|       6ree|\n",
      "|  suspended|  6uspended|\n",
      "|  suspended|  6uspended|\n",
      "|       free|       6ree|\n",
      "|trial_ended|6rial_ended|\n",
      "|       free|       6ree|\n",
      "|provisioned|6rovisioned|\n",
      "|provisioned|6rovisioned|\n",
      "+-----------+-----------+\n",
      "\n"
     ]
    }
   ],
   "source": [
    "## replacing column value of state with another value starting from the index mentioned in the 3rd parameter\n",
    "df.select('state',overlay('state',lit('6'),1).alias('overlayed')).show()"
   ]
  },
  {
   "cell_type": "code",
   "execution_count": 58,
   "id": "a9c7e3eb",
   "metadata": {},
   "outputs": [
    {
     "name": "stdout",
     "output_type": "stream",
     "text": [
      "+--------------------+--------------------+---------+--------------+\n",
      "|        company_name|          first_name|last_name|array_contains|\n",
      "+--------------------+--------------------+---------+--------------+\n",
      "|            MSI Kart|                 MSI|     Kart|          true|\n",
      "|  Bellelyse Boutique|           Bellelyse| Boutique|         false|\n",
      "|     Rachid hamzaoui|              Rachid| hamzaoui|         false|\n",
      "|Thenaricalicollec...|Thenaricalicollec...|     null|         false|\n",
      "|   CLICK MY CART LTD|               CLICK|       MY|         false|\n",
      "|              myself|              myself|     null|         false|\n",
      "|  JeeJee’s Boutique |            JeeJee’s| Boutique|         false|\n",
      "|     Only The Flyest|                Only|      The|         false|\n",
      "|          Washer Fan|              Washer|      Fan|         false|\n",
      "|Quick Draw Outdoo...|               Quick|     Draw|         false|\n",
      "+--------------------+--------------------+---------+--------------+\n",
      "\n"
     ]
    }
   ],
   "source": [
    "df.withColumn('new_company_name',split('company_name',' ')) \\\n",
    "    .select('company_name',col('new_company_name').getItem(0).alias('first_name') \\\n",
    "            ,col('new_company_name').getItem(1).alias('last_name') \\\n",
    "           ,array_contains('new_company_name','MSI').alias('array_contains')).show()"
   ]
  },
  {
   "cell_type": "code",
   "execution_count": 59,
   "id": "74e64387",
   "metadata": {},
   "outputs": [
    {
     "data": {
      "text/plain": [
       "['trial_ended',\n",
       " 'suspended',\n",
       " 'free',\n",
       " 'suspended',\n",
       " 'suspended',\n",
       " 'free',\n",
       " 'trial_ended',\n",
       " 'free',\n",
       " 'provisioned',\n",
       " 'provisioned']"
      ]
     },
     "execution_count": 59,
     "metadata": {},
     "output_type": "execute_result"
    }
   ],
   "source": [
    "## all col values in list\n",
    "df.select('state').rdd.map(lambda x:x[0]).collect()"
   ]
  },
  {
   "cell_type": "code",
   "execution_count": 60,
   "id": "f2680dd7",
   "metadata": {},
   "outputs": [
    {
     "name": "stderr",
     "output_type": "stream",
     "text": [
      "\r",
      "[Stage 191:==========================================>          (160 + 4) / 200]\r",
      "\r",
      "                                                                                \r"
     ]
    },
    {
     "data": {
      "text/plain": [
       "10"
      ]
     },
     "execution_count": 60,
     "metadata": {},
     "output_type": "execute_result"
    }
   ],
   "source": [
    "df.distinct().count()"
   ]
  },
  {
   "cell_type": "code",
   "execution_count": 61,
   "id": "3016e07c",
   "metadata": {},
   "outputs": [
    {
     "name": "stdout",
     "output_type": "stream",
     "text": [
      "+------------------+\n",
      "|count(DISTINCT id)|\n",
      "+------------------+\n",
      "|                10|\n",
      "+------------------+\n",
      "\n"
     ]
    }
   ],
   "source": [
    "df.select(countDistinct('id')).show()"
   ]
  },
  {
   "cell_type": "code",
   "execution_count": 62,
   "id": "12834912",
   "metadata": {},
   "outputs": [
    {
     "name": "stdout",
     "output_type": "stream",
     "text": [
      "+----------+----------------------+\n",
      "| telephone|coalesce(telephone, 0)|\n",
      "+----------+----------------------+\n",
      "|9319919988|            9319919988|\n",
      "|      null|                     0|\n",
      "| 639756718|             639756718|\n",
      "|5049394269|            5049394269|\n",
      "|6479863690|            6479863690|\n",
      "|7149259700|            7149259700|\n",
      "|      null|                     0|\n",
      "|4049038447|            4049038447|\n",
      "|      null|                     0|\n",
      "|3182596422|            3182596422|\n",
      "+----------+----------------------+\n",
      "\n"
     ]
    }
   ],
   "source": [
    "## coalesce returns the first non null column\n",
    "df.select('telephone',coalesce(col('telephone'),lit(0))).show()"
   ]
  },
  {
   "cell_type": "code",
   "execution_count": 63,
   "id": "94f98878",
   "metadata": {},
   "outputs": [
    {
     "name": "stdout",
     "output_type": "stream",
     "text": [
      "+------+--------------------+----------+-----------+--------------------+--------------------+\n",
      "|    id|        company_name| telephone|      state|          created_at|          updated_at|\n",
      "+------+--------------------+----------+-----------+--------------------+--------------------+\n",
      "|178307|            MSI Kart|9319919988|trial_ended|2021-01-02 09:33:...|2021-01-02 09:39:...|\n",
      "|177863|  Bellelyse Boutique|        -1|  suspended|2020-12-31 04:56:...|2021-02-19 16:53:...|\n",
      "|144524|     Rachid hamzaoui| 639756718|       free|2020-09-21 17:18:...|2020-10-22 11:15:...|\n",
      "| 50742|Thenaricalicollec...|5049394269|  suspended|2019-03-22 03:57:...|2019-05-15 00:54:...|\n",
      "|176321|   CLICK MY CART LTD|6479863690|  suspended|2020-12-23 06:20:...|2020-12-24 04:53:...|\n",
      "|140294|              myself|7149259700|       free|2020-09-05 17:41:...|2020-10-06 11:15:...|\n",
      "|165163|  JeeJee’s Boutique |        -1|trial_ended|2020-11-20 16:31:...|2020-11-20 16:33:...|\n",
      "|156444|     Only The Flyest|4049038447|       free|2020-10-27 05:26:...|2020-11-26 11:15:...|\n",
      "|156237|          Washer Fan|        -1|provisioned|2020-10-26 20:10:...|2020-10-26 20:53:...|\n",
      "| 44082|Quick Draw Outdoo...|3182596422|provisioned|2019-02-04 16:57:...|2021-02-10 02:07:...|\n",
      "+------+--------------------+----------+-----------+--------------------+--------------------+\n",
      "\n"
     ]
    }
   ],
   "source": [
    "## replaces all null values from telephone column to -1 using when otherwise stmt\n",
    "df.withColumn('telephone',when(col('telephone').isNull(), -1).otherwise(col('telephone'))).show()"
   ]
  },
  {
   "cell_type": "code",
   "execution_count": 64,
   "id": "7cfe634b",
   "metadata": {},
   "outputs": [
    {
     "name": "stdout",
     "output_type": "stream",
     "text": [
      "+------+--------------------+----------+-----------+--------------------+--------------------+\n",
      "|    id|        company_name| telephone|      state|          created_at|          updated_at|\n",
      "+------+--------------------+----------+-----------+--------------------+--------------------+\n",
      "|178307|            MSI Kart|9319919988|trial_ended|2021-01-02 09:33:...|2021-01-02 09:39:...|\n",
      "|177863|  Bellelyse Boutique|        NA|  suspended|2020-12-31 04:56:...|2021-02-19 16:53:...|\n",
      "|144524|     Rachid hamzaoui| 639756718|       free|2020-09-21 17:18:...|2020-10-22 11:15:...|\n",
      "| 50742|Thenaricalicollec...|5049394269|  suspended|2019-03-22 03:57:...|2019-05-15 00:54:...|\n",
      "|176321|   CLICK MY CART LTD|6479863690|  suspended|2020-12-23 06:20:...|2020-12-24 04:53:...|\n",
      "|140294|              myself|7149259700|       free|2020-09-05 17:41:...|2020-10-06 11:15:...|\n",
      "|165163|  JeeJee’s Boutique |        NA|trial_ended|2020-11-20 16:31:...|2020-11-20 16:33:...|\n",
      "|156444|     Only The Flyest|4049038447|       free|2020-10-27 05:26:...|2020-11-26 11:15:...|\n",
      "|156237|          Washer Fan|        NA|provisioned|2020-10-26 20:10:...|2020-10-26 20:53:...|\n",
      "| 44082|Quick Draw Outdoo...|3182596422|provisioned|2019-02-04 16:57:...|2021-02-10 02:07:...|\n",
      "+------+--------------------+----------+-----------+--------------------+--------------------+\n",
      "\n"
     ]
    }
   ],
   "source": [
    "df.select([when(col(c).isNull(), 'NA').otherwise(col(c)).alias(c) for c in df.columns]).show()"
   ]
  },
  {
   "cell_type": "code",
   "execution_count": 65,
   "id": "d360b004",
   "metadata": {},
   "outputs": [
    {
     "name": "stdout",
     "output_type": "stream",
     "text": [
      "+------+--------------------+----------+-----------+--------------------+--------------------+\n",
      "|    id|        company_name| telephone|      state|          created_at|          updated_at|\n",
      "+------+--------------------+----------+-----------+--------------------+--------------------+\n",
      "|178307|            MSI Kart|9319919988|trial_ended|2021-01-02 09:33:...|2021-01-02 09:39:...|\n",
      "|177863|  Bellelyse Boutique|        -1|  suspended|2020-12-31 04:56:...|2021-02-19 16:53:...|\n",
      "|144524|     Rachid hamzaoui| 639756718|       free|2020-09-21 17:18:...|2020-10-22 11:15:...|\n",
      "| 50742|Thenaricalicollec...|5049394269|  suspended|2019-03-22 03:57:...|2019-05-15 00:54:...|\n",
      "|176321|   CLICK MY CART LTD|6479863690|  suspended|2020-12-23 06:20:...|2020-12-24 04:53:...|\n",
      "|140294|              myself|7149259700|       free|2020-09-05 17:41:...|2020-10-06 11:15:...|\n",
      "|165163|  JeeJee’s Boutique |        -1|trial_ended|2020-11-20 16:31:...|2020-11-20 16:33:...|\n",
      "|156444|     Only The Flyest|4049038447|       free|2020-10-27 05:26:...|2020-11-26 11:15:...|\n",
      "|156237|          Washer Fan|        -1|provisioned|2020-10-26 20:10:...|2020-10-26 20:53:...|\n",
      "| 44082|Quick Draw Outdoo...|3182596422|provisioned|2019-02-04 16:57:...|2021-02-10 02:07:...|\n",
      "+------+--------------------+----------+-----------+--------------------+--------------------+\n",
      "\n"
     ]
    }
   ],
   "source": [
    "df.fillna(-1).show()"
   ]
  },
  {
   "cell_type": "code",
   "execution_count": 66,
   "id": "df876db9",
   "metadata": {},
   "outputs": [
    {
     "name": "stdout",
     "output_type": "stream",
     "text": [
      "+------+--------------------+----------+-----------+--------------------+--------------------+\n",
      "|    id|        company_name| telephone|      state|          created_at|          updated_at|\n",
      "+------+--------------------+----------+-----------+--------------------+--------------------+\n",
      "|178307|            MSI Kart|9319919988|trial_ended|2021-01-02 09:33:...|2021-01-02 09:39:...|\n",
      "|177863|  Bellelyse Boutique|        -1|  suspended|2020-12-31 04:56:...|2021-02-19 16:53:...|\n",
      "|144524|     Rachid hamzaoui| 639756718|       free|2020-09-21 17:18:...|2020-10-22 11:15:...|\n",
      "| 50742|Thenaricalicollec...|5049394269|  suspended|2019-03-22 03:57:...|2019-05-15 00:54:...|\n",
      "|176321|   CLICK MY CART LTD|6479863690|  suspended|2020-12-23 06:20:...|2020-12-24 04:53:...|\n",
      "|140294|              myself|7149259700|       free|2020-09-05 17:41:...|2020-10-06 11:15:...|\n",
      "|165163|  JeeJee’s Boutique |        -1|trial_ended|2020-11-20 16:31:...|2020-11-20 16:33:...|\n",
      "|156444|     Only The Flyest|4049038447|       free|2020-10-27 05:26:...|2020-11-26 11:15:...|\n",
      "|156237|          Washer Fan|        -1|provisioned|2020-10-26 20:10:...|2020-10-26 20:53:...|\n",
      "| 44082|Quick Draw Outdoo...|3182596422|provisioned|2019-02-04 16:57:...|2021-02-10 02:07:...|\n",
      "+------+--------------------+----------+-----------+--------------------+--------------------+\n",
      "\n"
     ]
    }
   ],
   "source": [
    "df.na.fill(-1).show()"
   ]
  },
  {
   "cell_type": "code",
   "execution_count": 67,
   "id": "77a48903",
   "metadata": {},
   "outputs": [
    {
     "name": "stdout",
     "output_type": "stream",
     "text": [
      "+------+--------------------+----------+-----------+--------------------+--------------------+\n",
      "|    id|        company_name| telephone|      state|          created_at|          updated_at|\n",
      "+------+--------------------+----------+-----------+--------------------+--------------------+\n",
      "|178307|            MSI Kart|9319919988|trial_ended|2021-01-02 09:33:...|2021-01-02 09:39:...|\n",
      "|177863|  Bellelyse Boutique|         0|  suspended|2020-12-31 04:56:...|2021-02-19 16:53:...|\n",
      "|144524|     Rachid hamzaoui| 639756718|       free|2020-09-21 17:18:...|2020-10-22 11:15:...|\n",
      "| 50742|Thenaricalicollec...|5049394269|  suspended|2019-03-22 03:57:...|2019-05-15 00:54:...|\n",
      "|176321|   CLICK MY CART LTD|6479863690|  suspended|2020-12-23 06:20:...|2020-12-24 04:53:...|\n",
      "|140294|              myself|7149259700|       free|2020-09-05 17:41:...|2020-10-06 11:15:...|\n",
      "|165163|  JeeJee’s Boutique |         0|trial_ended|2020-11-20 16:31:...|2020-11-20 16:33:...|\n",
      "|156444|     Only The Flyest|4049038447|       free|2020-10-27 05:26:...|2020-11-26 11:15:...|\n",
      "|156237|          Washer Fan|         0|provisioned|2020-10-26 20:10:...|2020-10-26 20:53:...|\n",
      "| 44082|Quick Draw Outdoo...|3182596422|provisioned|2019-02-04 16:57:...|2021-02-10 02:07:...|\n",
      "+------+--------------------+----------+-----------+--------------------+--------------------+\n",
      "\n"
     ]
    }
   ],
   "source": [
    "df.na.fill(0,['telephone']).show()"
   ]
  },
  {
   "cell_type": "code",
   "execution_count": 68,
   "id": "7ea6c52e",
   "metadata": {},
   "outputs": [
    {
     "data": {
      "text/plain": [
       "[(178307, 'MSI Kart--trial_ended'),\n",
       " (177863, 'Bellelyse Boutique--suspended'),\n",
       " (144524, 'Rachid hamzaoui--free'),\n",
       " (50742, 'Thenaricalicollection--suspended'),\n",
       " (176321, 'CLICK MY CART LTD--suspended'),\n",
       " (140294, 'myself--free'),\n",
       " (165163, 'JeeJee’s Boutique --trial_ended'),\n",
       " (156444, 'Only The Flyest--free'),\n",
       " (156237, 'Washer Fan--provisioned'),\n",
       " (44082, 'Quick Draw Outdoor Gear llc--provisioned')]"
      ]
     },
     "execution_count": 68,
     "metadata": {},
     "output_type": "execute_result"
    }
   ],
   "source": [
    "df.rdd.map(lambda x : (x[0],x[1]+ '--' + x[3])).collect()"
   ]
  },
  {
   "cell_type": "code",
   "execution_count": 82,
   "id": "847880d6",
   "metadata": {},
   "outputs": [
    {
     "name": "stdout",
     "output_type": "stream",
     "text": [
      "+------+------------------------------------------+\n",
      "|id    |concat                                    |\n",
      "+------+------------------------------------------+\n",
      "|178307|MSI Kart -- trial_ended                   |\n",
      "|177863|Bellelyse Boutique -- suspended           |\n",
      "|144524|Rachid hamzaoui -- free                   |\n",
      "|50742 |Thenaricalicollection -- suspended        |\n",
      "|176321|CLICK MY CART LTD -- suspended            |\n",
      "|140294|myself -- free                            |\n",
      "|165163|JeeJee’s Boutique  -- trial_ended         |\n",
      "|156444|Only The Flyest -- free                   |\n",
      "|156237|Washer Fan -- provisioned                 |\n",
      "|44082 |Quick Draw Outdoor Gear llc -- provisioned|\n",
      "+------+------------------------------------------+\n",
      "\n"
     ]
    }
   ],
   "source": [
    "df.select('id',concat_ws(' -- ','company_name','state').alias('concat')).show(truncate=False)"
   ]
  },
  {
   "cell_type": "code",
   "execution_count": 69,
   "id": "5dc465d9",
   "metadata": {
    "scrolled": true
   },
   "outputs": [
    {
     "name": "stdout",
     "output_type": "stream",
     "text": [
      "+------+------------------------------------------+\n",
      "|id    |concat                                    |\n",
      "+------+------------------------------------------+\n",
      "|178307|MSI Kart -- trial_ended                   |\n",
      "|177863|Bellelyse Boutique -- suspended           |\n",
      "|144524|Rachid hamzaoui -- free                   |\n",
      "|50742 |Thenaricalicollection -- suspended        |\n",
      "|176321|CLICK MY CART LTD -- suspended            |\n",
      "|140294|myself -- free                            |\n",
      "|165163|JeeJee’s Boutique  -- trial_ended         |\n",
      "|156444|Only The Flyest -- free                   |\n",
      "|156237|Washer Fan -- provisioned                 |\n",
      "|44082 |Quick Draw Outdoor Gear llc -- provisioned|\n",
      "+------+------------------------------------------+\n",
      "\n"
     ]
    }
   ],
   "source": [
    "df.rdd.map(lambda x : (x[0],x[1]+ ' -- ' + x['state'])).toDF(['id','concat']).show(truncate=False)"
   ]
  },
  {
   "cell_type": "code",
   "execution_count": 70,
   "id": "4a968c4e",
   "metadata": {},
   "outputs": [],
   "source": [
    "df.foreach(lambda x : (x[0],x[1]+'--'+x[3]))"
   ]
  },
  {
   "cell_type": "code",
   "execution_count": 71,
   "id": "8c1feabc",
   "metadata": {},
   "outputs": [],
   "source": [
    "## to enable apache arrow with spark\n",
    "## spark uses arrow which is an in-memory columnar format to transfer data between python and jvm\n",
    "spark.conf.set('spark.sql.execution.arrow.pyspark.enabled','true')"
   ]
  },
  {
   "cell_type": "code",
   "execution_count": 72,
   "id": "15d2a66d",
   "metadata": {
    "scrolled": true
   },
   "outputs": [],
   "source": [
    "pandasDF = df.toPandas()"
   ]
  },
  {
   "cell_type": "code",
   "execution_count": 73,
   "id": "6a0a0e1a",
   "metadata": {},
   "outputs": [
    {
     "data": {
      "text/html": [
       "<div>\n",
       "<style scoped>\n",
       "    .dataframe tbody tr th:only-of-type {\n",
       "        vertical-align: middle;\n",
       "    }\n",
       "\n",
       "    .dataframe tbody tr th {\n",
       "        vertical-align: top;\n",
       "    }\n",
       "\n",
       "    .dataframe thead th {\n",
       "        text-align: right;\n",
       "    }\n",
       "</style>\n",
       "<table border=\"1\" class=\"dataframe\">\n",
       "  <thead>\n",
       "    <tr style=\"text-align: right;\">\n",
       "      <th></th>\n",
       "      <th>id</th>\n",
       "      <th>company_name</th>\n",
       "      <th>telephone</th>\n",
       "      <th>state</th>\n",
       "      <th>created_at</th>\n",
       "      <th>updated_at</th>\n",
       "    </tr>\n",
       "  </thead>\n",
       "  <tbody>\n",
       "    <tr>\n",
       "      <th>0</th>\n",
       "      <td>178307</td>\n",
       "      <td>MSI Kart</td>\n",
       "      <td>9.319920e+09</td>\n",
       "      <td>trial_ended</td>\n",
       "      <td>2021-01-02 09:33:02.178749</td>\n",
       "      <td>2021-01-02 09:39:08.302584</td>\n",
       "    </tr>\n",
       "    <tr>\n",
       "      <th>1</th>\n",
       "      <td>177863</td>\n",
       "      <td>Bellelyse Boutique</td>\n",
       "      <td>NaN</td>\n",
       "      <td>suspended</td>\n",
       "      <td>2020-12-31 04:56:24.296919</td>\n",
       "      <td>2021-02-19 16:53:22.503263</td>\n",
       "    </tr>\n",
       "    <tr>\n",
       "      <th>2</th>\n",
       "      <td>144524</td>\n",
       "      <td>Rachid hamzaoui</td>\n",
       "      <td>6.397567e+08</td>\n",
       "      <td>free</td>\n",
       "      <td>2020-09-21 17:18:02.351870</td>\n",
       "      <td>2020-10-22 11:15:07.122165</td>\n",
       "    </tr>\n",
       "    <tr>\n",
       "      <th>3</th>\n",
       "      <td>50742</td>\n",
       "      <td>Thenaricalicollection</td>\n",
       "      <td>5.049394e+09</td>\n",
       "      <td>suspended</td>\n",
       "      <td>2019-03-22 03:57:02.244211</td>\n",
       "      <td>2019-05-15 00:54:55.439291</td>\n",
       "    </tr>\n",
       "    <tr>\n",
       "      <th>4</th>\n",
       "      <td>176321</td>\n",
       "      <td>CLICK MY CART LTD</td>\n",
       "      <td>6.479864e+09</td>\n",
       "      <td>suspended</td>\n",
       "      <td>2020-12-23 06:20:41.788311</td>\n",
       "      <td>2020-12-24 04:53:02.186645</td>\n",
       "    </tr>\n",
       "  </tbody>\n",
       "</table>\n",
       "</div>"
      ],
      "text/plain": [
       "       id           company_name     telephone        state  \\\n",
       "0  178307               MSI Kart  9.319920e+09  trial_ended   \n",
       "1  177863     Bellelyse Boutique           NaN    suspended   \n",
       "2  144524        Rachid hamzaoui  6.397567e+08         free   \n",
       "3   50742  Thenaricalicollection  5.049394e+09    suspended   \n",
       "4  176321      CLICK MY CART LTD  6.479864e+09    suspended   \n",
       "\n",
       "                  created_at                 updated_at  \n",
       "0 2021-01-02 09:33:02.178749 2021-01-02 09:39:08.302584  \n",
       "1 2020-12-31 04:56:24.296919 2021-02-19 16:53:22.503263  \n",
       "2 2020-09-21 17:18:02.351870 2020-10-22 11:15:07.122165  \n",
       "3 2019-03-22 03:57:02.244211 2019-05-15 00:54:55.439291  \n",
       "4 2020-12-23 06:20:41.788311 2020-12-24 04:53:02.186645  "
      ]
     },
     "execution_count": 73,
     "metadata": {},
     "output_type": "execute_result"
    }
   ],
   "source": [
    "pandasDF.head()"
   ]
  },
  {
   "cell_type": "code",
   "execution_count": 74,
   "id": "5a687e59",
   "metadata": {},
   "outputs": [
    {
     "data": {
      "text/plain": [
       "id                       int32\n",
       "company_name            object\n",
       "telephone              float64\n",
       "state                   object\n",
       "created_at      datetime64[ns]\n",
       "updated_at      datetime64[ns]\n",
       "dtype: object"
      ]
     },
     "execution_count": 74,
     "metadata": {},
     "output_type": "execute_result"
    }
   ],
   "source": [
    "pandasDF.dtypes"
   ]
  },
  {
   "cell_type": "code",
   "execution_count": 86,
   "id": "2e9306fd",
   "metadata": {},
   "outputs": [],
   "source": [
    "## to make udf first create python function \n",
    "def convertCase(string):\n",
    "    res = ''\n",
    "    for s in string.split('_'):\n",
    "        res += s[0:1].upper() + s[1:] + '_'\n",
    "    return res[:-1]"
   ]
  },
  {
   "cell_type": "code",
   "execution_count": 87,
   "id": "2e97bcd9",
   "metadata": {},
   "outputs": [
    {
     "data": {
      "text/plain": [
       "'Trail_Ended'"
      ]
     },
     "execution_count": 87,
     "metadata": {},
     "output_type": "execute_result"
    }
   ],
   "source": [
    "convertCase('trail_ended')"
   ]
  },
  {
   "cell_type": "code",
   "execution_count": 89,
   "id": "a0dbc093",
   "metadata": {},
   "outputs": [],
   "source": [
    "# now register python function to pyspark udf\n",
    "converUDF = udf(convertCase,StringType())"
   ]
  },
  {
   "cell_type": "code",
   "execution_count": 90,
   "id": "c4dc343b",
   "metadata": {},
   "outputs": [
    {
     "name": "stdout",
     "output_type": "stream",
     "text": [
      "+-----------+--------------+\n",
      "|      state|convertUDFcase|\n",
      "+-----------+--------------+\n",
      "|trial_ended|   Trial_Ended|\n",
      "|  suspended|     Suspended|\n",
      "|       free|          Free|\n",
      "|  suspended|     Suspended|\n",
      "|  suspended|     Suspended|\n",
      "|       free|          Free|\n",
      "|trial_ended|   Trial_Ended|\n",
      "|       free|          Free|\n",
      "|provisioned|   Provisioned|\n",
      "|provisioned|   Provisioned|\n",
      "+-----------+--------------+\n",
      "\n"
     ]
    }
   ],
   "source": [
    "df.select('state',converUDF('state').alias('convertUDFcase')).show()"
   ]
  },
  {
   "cell_type": "code",
   "execution_count": 92,
   "id": "8d2c69cc",
   "metadata": {},
   "outputs": [],
   "source": [
    "def upperCase(string):\n",
    "    return string.upper()\n",
    "\n",
    "upperUDF = udf(upperCase,StringType())"
   ]
  },
  {
   "cell_type": "code",
   "execution_count": 93,
   "id": "c6e4c466",
   "metadata": {},
   "outputs": [
    {
     "name": "stdout",
     "output_type": "stream",
     "text": [
      "+-----------+-----------+\n",
      "|      state|upper_state|\n",
      "+-----------+-----------+\n",
      "|trial_ended|TRIAL_ENDED|\n",
      "|  suspended|  SUSPENDED|\n",
      "|       free|       FREE|\n",
      "|  suspended|  SUSPENDED|\n",
      "|  suspended|  SUSPENDED|\n",
      "|       free|       FREE|\n",
      "|trial_ended|TRIAL_ENDED|\n",
      "|       free|       FREE|\n",
      "|provisioned|PROVISIONED|\n",
      "|provisioned|PROVISIONED|\n",
      "+-----------+-----------+\n",
      "\n"
     ]
    }
   ],
   "source": [
    "df.select('state',upperUDF('state').alias('upper_state')).show()"
   ]
  },
  {
   "cell_type": "code",
   "execution_count": 94,
   "id": "3a922901",
   "metadata": {},
   "outputs": [
    {
     "data": {
      "text/plain": [
       "<function __main__.convertCase(string)>"
      ]
     },
     "execution_count": 94,
     "metadata": {},
     "output_type": "execute_result"
    }
   ],
   "source": [
    "## another method for udf...in pyspark sql is by registering it\n",
    "spark.udf.register('converUDF_sql', convertCase, StringType())"
   ]
  },
  {
   "cell_type": "code",
   "execution_count": 95,
   "id": "aa9691f2",
   "metadata": {},
   "outputs": [
    {
     "name": "stdout",
     "output_type": "stream",
     "text": [
      "+-----------+-------------+\n",
      "|      state|ConverUDFcase|\n",
      "+-----------+-------------+\n",
      "|trial_ended|  Trial_Ended|\n",
      "|  suspended|    Suspended|\n",
      "|       free|         Free|\n",
      "|  suspended|    Suspended|\n",
      "|  suspended|    Suspended|\n",
      "|       free|         Free|\n",
      "|trial_ended|  Trial_Ended|\n",
      "|       free|         Free|\n",
      "|provisioned|  Provisioned|\n",
      "|provisioned|  Provisioned|\n",
      "+-----------+-------------+\n",
      "\n"
     ]
    }
   ],
   "source": [
    "spark.sql(\"\"\"select state, converUDF_sql(state) as ConverUDFcase from df\"\"\").show()"
   ]
  },
  {
   "cell_type": "code",
   "execution_count": 96,
   "id": "d6b5ac89",
   "metadata": {},
   "outputs": [
    {
     "data": {
      "text/plain": [
       "<function __main__.upperCase(string)>"
      ]
     },
     "execution_count": 96,
     "metadata": {},
     "output_type": "execute_result"
    }
   ],
   "source": [
    "spark.udf.register('upperUDF_sql',upperCase, StringType())"
   ]
  },
  {
   "cell_type": "code",
   "execution_count": 97,
   "id": "203ed917",
   "metadata": {},
   "outputs": [
    {
     "name": "stdout",
     "output_type": "stream",
     "text": [
      "+-----------+-----------+\n",
      "|      state|   upperUDF|\n",
      "+-----------+-----------+\n",
      "|trial_ended|TRIAL_ENDED|\n",
      "|  suspended|  SUSPENDED|\n",
      "|       free|       FREE|\n",
      "|  suspended|  SUSPENDED|\n",
      "|  suspended|  SUSPENDED|\n",
      "|       free|       FREE|\n",
      "|trial_ended|TRIAL_ENDED|\n",
      "|       free|       FREE|\n",
      "|provisioned|PROVISIONED|\n",
      "|provisioned|PROVISIONED|\n",
      "+-----------+-----------+\n",
      "\n"
     ]
    }
   ],
   "source": [
    "spark.sql(\"\"\"select state, upperUDF_sql(state) as upperUDF from df\"\"\").show()"
   ]
  },
  {
   "cell_type": "code",
   "execution_count": null,
   "id": "7798087a",
   "metadata": {},
   "outputs": [],
   "source": []
  }
 ],
 "metadata": {
  "kernelspec": {
   "display_name": "Python 3 (ipykernel)",
   "language": "python",
   "name": "python3"
  },
  "language_info": {
   "codemirror_mode": {
    "name": "ipython",
    "version": 3
   },
   "file_extension": ".py",
   "mimetype": "text/x-python",
   "name": "python",
   "nbconvert_exporter": "python",
   "pygments_lexer": "ipython3",
   "version": "3.8.10"
  }
 },
 "nbformat": 4,
 "nbformat_minor": 5
}
