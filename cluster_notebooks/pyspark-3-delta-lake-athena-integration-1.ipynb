{
 "cells": [
  {
   "cell_type": "code",
   "execution_count": 2,
   "id": "b97c4b39",
   "metadata": {},
   "outputs": [
    {
     "name": "stdout",
     "output_type": "stream",
     "text": [
      "Starting Spark application\n"
     ]
    },
    {
     "data": {
      "text/html": [
       "<table>\n",
       "<tr><th>ID</th><th>YARN Application ID</th><th>Kind</th><th>State</th><th>Spark UI</th><th>Driver log</th><th>Current session?</th></tr><tr><td>3</td><td>application_1619432290004_0014</td><td>pyspark</td><td>idle</td><td><a target=\"_blank\" href=\"http://ip-10-117-72-20.us-west-2.compute.internal:20888/proxy/application_1619432290004_0014/\" >Link</a></td><td><a target=\"_blank\" href=\"http://ip-10-117-72-20.us-west-2.compute.internal:8042/node/containerlogs/container_1619432290004_0014_01_000001/livy\" >Link</a></td><td>✔</td></tr></table>"
      ],
      "text/plain": [
       "<IPython.core.display.HTML object>"
      ]
     },
     "metadata": {},
     "output_type": "display_data"
    },
    {
     "data": {
      "application/vnd.jupyter.widget-view+json": {
       "model_id": "",
       "version_major": 2,
       "version_minor": 0
      },
      "text/plain": [
       "FloatProgress(value=0.0, bar_style='info', description='Progress:', layout=Layout(height='25px', width='50%'),…"
      ]
     },
     "metadata": {},
     "output_type": "display_data"
    },
    {
     "name": "stdout",
     "output_type": "stream",
     "text": [
      "SparkSession available as 'spark'.\n"
     ]
    },
    {
     "data": {
      "text/html": [
       "Current session configs: <tt>{'conf': {'spark.databricks.hive.metastore.glueCatalog.enabled': 'true', 'spark.jars.packages': 'io.delta:delta-core_2.12:0.8.0', 'spark.sql.extensions': 'io.delta.sql.DeltaSparkSessionExtension', 'spark.sql.catalog.spark_catalog': 'org.apache.spark.sql.delta.catalog.DeltaCatalog', 'spark.sql.warehouse.dir': 's3://aws-poc-serverless-analytics/dev/clean/delta_dw/'}, 'proxyUser': 'assumed-role_GD-AWS-USA-CMO-EMEADataUnif-Dev-Private-PowerUser_vjadhav_godaddy_com', 'kind': 'pyspark'}</tt><br>"
      ],
      "text/plain": [
       "<IPython.core.display.HTML object>"
      ]
     },
     "metadata": {},
     "output_type": "display_data"
    },
    {
     "data": {
      "text/html": [
       "<table>\n",
       "<tr><th>ID</th><th>YARN Application ID</th><th>Kind</th><th>State</th><th>Spark UI</th><th>Driver log</th><th>Current session?</th></tr><tr><td>3</td><td>application_1619432290004_0014</td><td>pyspark</td><td>idle</td><td><a target=\"_blank\" href=\"http://ip-10-117-72-20.us-west-2.compute.internal:20888/proxy/application_1619432290004_0014/\" >Link</a></td><td><a target=\"_blank\" href=\"http://ip-10-117-72-20.us-west-2.compute.internal:8042/node/containerlogs/container_1619432290004_0014_01_000001/livy\" >Link</a></td><td>✔</td></tr></table>"
      ],
      "text/plain": [
       "<IPython.core.display.HTML object>"
      ]
     },
     "metadata": {},
     "output_type": "display_data"
    }
   ],
   "source": [
    "%%configure -f\n",
    "{ \"conf\":{    \n",
    "          \"spark.databricks.hive.metastore.glueCatalog.enabled\" : \"true\",\n",
    "          \"spark.jars.packages\": \"io.delta:delta-core_2.12:0.8.0\",\n",
    "          \"spark.sql.extensions\": \"io.delta.sql.DeltaSparkSessionExtension\",\n",
    "          \"spark.sql.catalog.spark_catalog\": \"org.apache.spark.sql.delta.catalog.DeltaCatalog\",\n",
    "          \"spark.sql.warehouse.dir\": \"s3://aws-poc-serverless-analytics/dev/clean/delta_dw/\"\n",
    "    \n",
    "         }\n",
    "}\n"
   ]
  },
  {
   "cell_type": "code",
   "execution_count": 3,
   "id": "a07743f9",
   "metadata": {},
   "outputs": [
    {
     "data": {
      "application/vnd.jupyter.widget-view+json": {
       "model_id": "983561bb446d48528e7e2e802bbc5d24",
       "version_major": 2,
       "version_minor": 0
      },
      "text/plain": [
       "VBox()"
      ]
     },
     "metadata": {},
     "output_type": "display_data"
    },
    {
     "data": {
      "application/vnd.jupyter.widget-view+json": {
       "model_id": "",
       "version_major": 2,
       "version_minor": 0
      },
      "text/plain": [
       "FloatProgress(value=0.0, bar_style='info', description='Progress:', layout=Layout(height='25px', width='50%'),…"
      ]
     },
     "metadata": {},
     "output_type": "display_data"
    },
    {
     "name": "stdout",
     "output_type": "stream",
     "text": [
      "DataFrame[key: string, value: string]"
     ]
    }
   ],
   "source": [
    "from pyspark.sql.functions import *\n",
    "from delta.tables import *\n",
    "spark.sql(\"SET spark.databricks.delta.schema.autoMerge.enabled = true\") \n",
    "#import boto3"
   ]
  },
  {
   "cell_type": "code",
   "execution_count": 6,
   "id": "4f49ed07",
   "metadata": {},
   "outputs": [
    {
     "data": {
      "application/vnd.jupyter.widget-view+json": {
       "model_id": "463d9e87846249ddabdbca5d55d48d8d",
       "version_major": 2,
       "version_minor": 0
      },
      "text/plain": [
       "VBox()"
      ]
     },
     "metadata": {},
     "output_type": "display_data"
    },
    {
     "data": {
      "application/vnd.jupyter.widget-view+json": {
       "model_id": "",
       "version_major": 2,
       "version_minor": 0
      },
      "text/plain": [
       "FloatProgress(value=0.0, bar_style='info', description='Progress:', layout=Layout(height='25px', width='50%'),…"
      ]
     },
     "metadata": {},
     "output_type": "display_data"
    }
   ],
   "source": [
    "target_table = \"merchants_cln\"\n",
    "stg_table = \"merchants_cln_stg\"\n",
    "database = \"delta_lake_demo\""
   ]
  },
  {
   "cell_type": "code",
   "execution_count": 5,
   "id": "37477e56",
   "metadata": {},
   "outputs": [
    {
     "data": {
      "application/vnd.jupyter.widget-view+json": {
       "model_id": "8656ef782cbc4a80a5e2a7e77846aa77",
       "version_major": 2,
       "version_minor": 0
      },
      "text/plain": [
       "VBox()"
      ]
     },
     "metadata": {},
     "output_type": "display_data"
    },
    {
     "data": {
      "application/vnd.jupyter.widget-view+json": {
       "model_id": "",
       "version_major": 2,
       "version_minor": 0
      },
      "text/plain": [
       "FloatProgress(value=0.0, bar_style='info', description='Progress:', layout=Layout(height='25px', width='50%'),…"
      ]
     },
     "metadata": {},
     "output_type": "display_data"
    },
    {
     "name": "stdout",
     "output_type": "stream",
     "text": [
      "DataFrame[]"
     ]
    }
   ],
   "source": [
    "spark.sql(f\"DROP TABLE IF EXISTS {target_table}\")\n",
    "#spark.sql(f\"DROP TABLE IF EXISTS {stg_table}\")\n",
    "spark.sql(f\"DROP TABLE IF EXISTS merchants_cln_external\")\n",
    "spark.sql(f\"DROP DATABASE IF EXISTS {database}\")"
   ]
  },
  {
   "cell_type": "code",
   "execution_count": 8,
   "id": "d15f0d5a",
   "metadata": {},
   "outputs": [
    {
     "data": {
      "application/vnd.jupyter.widget-view+json": {
       "model_id": "7caa27b410db4d51abfb9f6355b49173",
       "version_major": 2,
       "version_minor": 0
      },
      "text/plain": [
       "VBox()"
      ]
     },
     "metadata": {},
     "output_type": "display_data"
    },
    {
     "data": {
      "application/vnd.jupyter.widget-view+json": {
       "model_id": "",
       "version_major": 2,
       "version_minor": 0
      },
      "text/plain": [
       "FloatProgress(value=0.0, bar_style='info', description='Progress:', layout=Layout(height='25px', width='50%'),…"
      ]
     },
     "metadata": {},
     "output_type": "display_data"
    },
    {
     "name": "stdout",
     "output_type": "stream",
     "text": [
      "DataFrame[]"
     ]
    }
   ],
   "source": [
    "spark.sql(f\"CREATE DATABASE IF NOT EXISTS {database}\")\n",
    "spark.sql(f\"USE {database}\")"
   ]
  },
  {
   "cell_type": "code",
   "execution_count": 27,
   "id": "1b9b8c43",
   "metadata": {},
   "outputs": [
    {
     "data": {
      "application/vnd.jupyter.widget-view+json": {
       "model_id": "67541abcb9814e748e8b964c16a750a8",
       "version_major": 2,
       "version_minor": 0
      },
      "text/plain": [
       "VBox()"
      ]
     },
     "metadata": {},
     "output_type": "display_data"
    },
    {
     "data": {
      "application/vnd.jupyter.widget-view+json": {
       "model_id": "",
       "version_major": 2,
       "version_minor": 0
      },
      "text/plain": [
       "FloatProgress(value=0.0, bar_style='info', description='Progress:', layout=Layout(height='25px', width='50%'),…"
      ]
     },
     "metadata": {},
     "output_type": "display_data"
    },
    {
     "name": "stdout",
     "output_type": "stream",
     "text": [
      "[('id', 'string'), ('company_name', 'string'), ('telephone', 'string'), ('state', 'string'), ('created_at', 'string'), ('updated_at', 'string'), ('active', 'string')]"
     ]
    }
   ],
   "source": [
    "col_schema_list = spark.sql(\"\"\"select * from merchants_cln\"\"\").dtypes\n",
    "col_schema_list"
   ]
  },
  {
   "cell_type": "code",
   "execution_count": 28,
   "id": "d6ce8257",
   "metadata": {},
   "outputs": [
    {
     "data": {
      "application/vnd.jupyter.widget-view+json": {
       "model_id": "5f66e65ae0844a5d9c96fc6c95a33543",
       "version_major": 2,
       "version_minor": 0
      },
      "text/plain": [
       "VBox()"
      ]
     },
     "metadata": {},
     "output_type": "display_data"
    },
    {
     "data": {
      "application/vnd.jupyter.widget-view+json": {
       "model_id": "",
       "version_major": 2,
       "version_minor": 0
      },
      "text/plain": [
       "FloatProgress(value=0.0, bar_style='info', description='Progress:', layout=Layout(height='25px', width='50%'),…"
      ]
     },
     "metadata": {},
     "output_type": "display_data"
    }
   ],
   "source": [
    "partition_key_list = ['state']"
   ]
  },
  {
   "cell_type": "code",
   "execution_count": 29,
   "id": "99b779ff",
   "metadata": {},
   "outputs": [
    {
     "data": {
      "application/vnd.jupyter.widget-view+json": {
       "model_id": "9541ccb518854394bce8818c763dbb52",
       "version_major": 2,
       "version_minor": 0
      },
      "text/plain": [
       "VBox()"
      ]
     },
     "metadata": {},
     "output_type": "display_data"
    },
    {
     "data": {
      "application/vnd.jupyter.widget-view+json": {
       "model_id": "",
       "version_major": 2,
       "version_minor": 0
      },
      "text/plain": [
       "FloatProgress(value=0.0, bar_style='info', description='Progress:', layout=Layout(height='25px', width='50%'),…"
      ]
     },
     "metadata": {},
     "output_type": "display_data"
    }
   ],
   "source": [
    "## taking partition_key schema out from table schema \n",
    "partition_key_schema = ''\n",
    "for i in partition_key_list:\n",
    "    for schema in col_schema_list:\n",
    "        if schema[0] == i:\n",
    "            #partition_key_schema.append(i + ' ' + schema[1])\n",
    "            partition_key_schema+=i + ' ' + schema[1] + ','\n",
    "            col_schema_list.remove(schema)"
   ]
  },
  {
   "cell_type": "code",
   "execution_count": 30,
   "id": "6a8ebdf7",
   "metadata": {},
   "outputs": [
    {
     "data": {
      "application/vnd.jupyter.widget-view+json": {
       "model_id": "e24747804259451998239cc12dc22cf8",
       "version_major": 2,
       "version_minor": 0
      },
      "text/plain": [
       "VBox()"
      ]
     },
     "metadata": {},
     "output_type": "display_data"
    },
    {
     "data": {
      "application/vnd.jupyter.widget-view+json": {
       "model_id": "",
       "version_major": 2,
       "version_minor": 0
      },
      "text/plain": [
       "FloatProgress(value=0.0, bar_style='info', description='Progress:', layout=Layout(height='25px', width='50%'),…"
      ]
     },
     "metadata": {},
     "output_type": "display_data"
    },
    {
     "name": "stdout",
     "output_type": "stream",
     "text": [
      "'state string'"
     ]
    }
   ],
   "source": [
    "partition_key_schema[:-1]"
   ]
  },
  {
   "cell_type": "code",
   "execution_count": 31,
   "id": "00628f24",
   "metadata": {},
   "outputs": [
    {
     "data": {
      "application/vnd.jupyter.widget-view+json": {
       "model_id": "0fc00cf323654ef6b09a731339fd215e",
       "version_major": 2,
       "version_minor": 0
      },
      "text/plain": [
       "VBox()"
      ]
     },
     "metadata": {},
     "output_type": "display_data"
    },
    {
     "data": {
      "application/vnd.jupyter.widget-view+json": {
       "model_id": "",
       "version_major": 2,
       "version_minor": 0
      },
      "text/plain": [
       "FloatProgress(value=0.0, bar_style='info', description='Progress:', layout=Layout(height='25px', width='50%'),…"
      ]
     },
     "metadata": {},
     "output_type": "display_data"
    },
    {
     "name": "stdout",
     "output_type": "stream",
     "text": [
      "[('id', 'string'), ('company_name', 'string'), ('telephone', 'string'), ('created_at', 'string'), ('updated_at', 'string'), ('active', 'string')]"
     ]
    }
   ],
   "source": [
    "col_schema_list"
   ]
  },
  {
   "cell_type": "code",
   "execution_count": 32,
   "id": "18d426de",
   "metadata": {},
   "outputs": [
    {
     "data": {
      "application/vnd.jupyter.widget-view+json": {
       "model_id": "a936034cd5dc4f36a97361b13b9cecce",
       "version_major": 2,
       "version_minor": 0
      },
      "text/plain": [
       "VBox()"
      ]
     },
     "metadata": {},
     "output_type": "display_data"
    },
    {
     "data": {
      "application/vnd.jupyter.widget-view+json": {
       "model_id": "",
       "version_major": 2,
       "version_minor": 0
      },
      "text/plain": [
       "FloatProgress(value=0.0, bar_style='info', description='Progress:', layout=Layout(height='25px', width='50%'),…"
      ]
     },
     "metadata": {},
     "output_type": "display_data"
    }
   ],
   "source": [
    "## creating schema in python string format\n",
    "col_type_schema = ''\n",
    "for schema in col_schema_list:\n",
    "    col_type_schema += schema[0] + ' ' + schema[1] + ','"
   ]
  },
  {
   "cell_type": "code",
   "execution_count": 33,
   "id": "1a7ff22b",
   "metadata": {},
   "outputs": [
    {
     "data": {
      "application/vnd.jupyter.widget-view+json": {
       "model_id": "23404c8d5009495687e23cbdb4f54a26",
       "version_major": 2,
       "version_minor": 0
      },
      "text/plain": [
       "VBox()"
      ]
     },
     "metadata": {},
     "output_type": "display_data"
    },
    {
     "data": {
      "application/vnd.jupyter.widget-view+json": {
       "model_id": "",
       "version_major": 2,
       "version_minor": 0
      },
      "text/plain": [
       "FloatProgress(value=0.0, bar_style='info', description='Progress:', layout=Layout(height='25px', width='50%'),…"
      ]
     },
     "metadata": {},
     "output_type": "display_data"
    },
    {
     "name": "stdout",
     "output_type": "stream",
     "text": [
      "'id string,company_name string,telephone string,created_at string,updated_at string,active string'"
     ]
    }
   ],
   "source": [
    "col_type_schema[:-1]"
   ]
  },
  {
   "cell_type": "code",
   "execution_count": 19,
   "id": "e6c283af",
   "metadata": {},
   "outputs": [
    {
     "data": {
      "application/vnd.jupyter.widget-view+json": {
       "model_id": "92c984766c0a43468b929e51f00bd11a",
       "version_major": 2,
       "version_minor": 0
      },
      "text/plain": [
       "VBox()"
      ]
     },
     "metadata": {},
     "output_type": "display_data"
    },
    {
     "data": {
      "application/vnd.jupyter.widget-view+json": {
       "model_id": "",
       "version_major": 2,
       "version_minor": 0
      },
      "text/plain": [
       "FloatProgress(value=0.0, bar_style='info', description='Progress:', layout=Layout(height='25px', width='50%'),…"
      ]
     },
     "metadata": {},
     "output_type": "display_data"
    }
   ],
   "source": [
    "## reading csv file from csv\n",
    "inputPath = \"s3://aws-poc-serverless-analytics/dev/flattened_raw/mr/\"\n",
    "input_df = spark.read.csv(inputPath, header=True, sep=',')"
   ]
  },
  {
   "cell_type": "code",
   "execution_count": 37,
   "id": "ef0fd63a",
   "metadata": {},
   "outputs": [
    {
     "data": {
      "application/vnd.jupyter.widget-view+json": {
       "model_id": "1e78d28b2f834d19a91f0f76507258b0",
       "version_major": 2,
       "version_minor": 0
      },
      "text/plain": [
       "VBox()"
      ]
     },
     "metadata": {},
     "output_type": "display_data"
    },
    {
     "data": {
      "application/vnd.jupyter.widget-view+json": {
       "model_id": "",
       "version_major": 2,
       "version_minor": 0
      },
      "text/plain": [
       "FloatProgress(value=0.0, bar_style='info', description='Progress:', layout=Layout(height='25px', width='50%'),…"
      ]
     },
     "metadata": {},
     "output_type": "display_data"
    }
   ],
   "source": [
    "## overwriting as staging table\n",
    "source_staging_df = input_df.withColumn(\"active\", lit(\"true\"))\n",
    "source_staging_df.write.format(\"delta\").mode('overwrite').option(\"overwriteSchema\", \"true\").saveAsTable(target_table)"
   ]
  },
  {
   "cell_type": "code",
   "execution_count": 38,
   "id": "b24334c0",
   "metadata": {},
   "outputs": [
    {
     "data": {
      "application/vnd.jupyter.widget-view+json": {
       "model_id": "81bd3852ecae401fb1339bca90911a62",
       "version_major": 2,
       "version_minor": 0
      },
      "text/plain": [
       "VBox()"
      ]
     },
     "metadata": {},
     "output_type": "display_data"
    },
    {
     "data": {
      "application/vnd.jupyter.widget-view+json": {
       "model_id": "",
       "version_major": 2,
       "version_minor": 0
      },
      "text/plain": [
       "FloatProgress(value=0.0, bar_style='info', description='Progress:', layout=Layout(height='25px', width='50%'),…"
      ]
     },
     "metadata": {},
     "output_type": "display_data"
    },
    {
     "name": "stdout",
     "output_type": "stream",
     "text": [
      "DataFrame[]"
     ]
    }
   ],
   "source": [
    "## this is done to create sylink file , which is used by external tables to integrate with athena\n",
    "spark.sql(f\"\"\"GENERATE symlink_format_manifest FOR TABLE {target_table}\"\"\")"
   ]
  },
  {
   "cell_type": "code",
   "execution_count": 40,
   "id": "7d2b8d03",
   "metadata": {},
   "outputs": [
    {
     "data": {
      "application/vnd.jupyter.widget-view+json": {
       "model_id": "bf8db726637946119ff4e1bac36cc0b5",
       "version_major": 2,
       "version_minor": 0
      },
      "text/plain": [
       "VBox()"
      ]
     },
     "metadata": {},
     "output_type": "display_data"
    },
    {
     "data": {
      "application/vnd.jupyter.widget-view+json": {
       "model_id": "",
       "version_major": 2,
       "version_minor": 0
      },
      "text/plain": [
       "FloatProgress(value=0.0, bar_style='info', description='Progress:', layout=Layout(height='25px', width='50%'),…"
      ]
     },
     "metadata": {},
     "output_type": "display_data"
    },
    {
     "name": "stderr",
     "output_type": "stream",
     "text": [
      "An error was encountered:\n",
      "\n",
      "mismatched input 'id' expecting {<EOF>, ';'}(line 1, pos 60)\n",
      "\n",
      "== SQL ==\n",
      " CREATE EXTERNAL TABLE IF NOT EXISTS merchants_cln_external id string,company_name string,telephone string,created_at string,updated_at string,active string)\n",
      "------------------------------------------------------------^^^\n",
      "PARTITIONED BY (state string)\n",
      "ROW FORMAT SERDE 'org.apache.hadoop.hive.ql.io.parquet.serde.ParquetHiveSerDe'\n",
      "STORED AS INPUTFORMAT 'org.apache.hadoop.hive.ql.io.SymlinkTextInputFormat'\n",
      "OUTPUTFORMAT 'org.apache.hadoop.hive.ql.io.HiveIgnoreKeyTextOutputFormat'\n",
      "LOCATION 's3://aws-poc-serverless-analytics/dev/clean/delta_dw/delta_lake_demo.db/merchants_cln/_symlink_format_manifest/' \n",
      "\n",
      "Traceback (most recent call last):\n",
      "  File \"/usr/lib/spark/python/lib/pyspark.zip/pyspark/sql/session.py\", line 649, in sql\n",
      "    return DataFrame(self._jsparkSession.sql(sqlQuery), self._wrapped)\n",
      "  File \"/usr/lib/spark/python/lib/py4j-0.10.9-src.zip/py4j/java_gateway.py\", line 1305, in __call__\n",
      "    answer, self.gateway_client, self.target_id, self.name)\n",
      "  File \"/usr/lib/spark/python/lib/pyspark.zip/pyspark/sql/utils.py\", line 134, in deco\n",
      "    raise_from(converted)\n",
      "  File \"<string>\", line 3, in raise_from\n",
      "pyspark.sql.utils.ParseException: \n",
      "mismatched input 'id' expecting {<EOF>, ';'}(line 1, pos 60)\n",
      "\n",
      "== SQL ==\n",
      " CREATE EXTERNAL TABLE IF NOT EXISTS merchants_cln_external id string,company_name string,telephone string,created_at string,updated_at string,active string)\n",
      "------------------------------------------------------------^^^\n",
      "PARTITIONED BY (state string)\n",
      "ROW FORMAT SERDE 'org.apache.hadoop.hive.ql.io.parquet.serde.ParquetHiveSerDe'\n",
      "STORED AS INPUTFORMAT 'org.apache.hadoop.hive.ql.io.SymlinkTextInputFormat'\n",
      "OUTPUTFORMAT 'org.apache.hadoop.hive.ql.io.HiveIgnoreKeyTextOutputFormat'\n",
      "LOCATION 's3://aws-poc-serverless-analytics/dev/clean/delta_dw/delta_lake_demo.db/merchants_cln/_symlink_format_manifest/' \n",
      "\n",
      "\n"
     ]
    }
   ],
   "source": [
    "## creating external table with the help of symlink file so that table written to \n",
    "## target location could be read in athena\n",
    "spark.sql(f\"\"\" CREATE EXTERNAL TABLE IF NOT EXISTS {target_table}_external {col_type_schema[:-1]})\n",
    "PARTITIONED BY ({partition_key_schema[:-1]})\n",
    "ROW FORMAT SERDE 'org.apache.hadoop.hive.ql.io.parquet.serde.ParquetHiveSerDe'\n",
    "STORED AS INPUTFORMAT 'org.apache.hadoop.hive.ql.io.SymlinkTextInputFormat'  ---symlink file format\n",
    "OUTPUTFORMAT 'org.apache.hadoop.hive.ql.io.HiveIgnoreKeyTextOutputFormat'  --output file format, readable in athena\n",
    "LOCATION 's3://aws-poc-serverless-analytics/dev/clean/delta_dw/delta_lake_demo.db/merchants_cln/_symlink_format_manifest/' \n",
    "\"\"\")  ## location of symlink file"
   ]
  }
 ],
 "metadata": {
  "kernelspec": {
   "display_name": "Python 3 (ipykernel)",
   "language": "python",
   "name": "python3"
  },
  "language_info": {
   "codemirror_mode": {
    "name": "ipython",
    "version": 3
   },
   "file_extension": ".py",
   "mimetype": "text/x-python",
   "name": "python",
   "nbconvert_exporter": "python",
   "pygments_lexer": "ipython3",
   "version": "3.8.10"
  }
 },
 "nbformat": 4,
 "nbformat_minor": 5
}
