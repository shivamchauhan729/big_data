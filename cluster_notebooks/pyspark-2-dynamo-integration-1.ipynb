{
 "cells": [
  {
   "cell_type": "code",
   "execution_count": 28,
   "id": "guided-termination",
   "metadata": {
    "scrolled": false
   },
   "outputs": [
    {
     "data": {
      "application/vnd.jupyter.widget-view+json": {
       "model_id": "5e19fb6659bc411d82109bc7e06a449e",
       "version_major": 2,
       "version_minor": 0
      },
      "text/plain": [
       "VBox()"
      ]
     },
     "metadata": {},
     "output_type": "display_data"
    },
    {
     "data": {
      "application/vnd.jupyter.widget-view+json": {
       "model_id": "",
       "version_major": 2,
       "version_minor": 0
      },
      "text/plain": [
       "FloatProgress(value=0.0, bar_style='info', description='Progress:', layout=Layout(height='25px', width='50%'),…"
      ]
     },
     "metadata": {},
     "output_type": "display_data"
    }
   ],
   "source": [
    "import boto3,time\n",
    "from pyspark.sql.functions import *"
   ]
  },
  {
   "cell_type": "code",
   "execution_count": 29,
   "id": "dressed-label",
   "metadata": {},
   "outputs": [
    {
     "data": {
      "application/vnd.jupyter.widget-view+json": {
       "model_id": "f838dec09e464748b0b6e42e338f61a4",
       "version_major": 2,
       "version_minor": 0
      },
      "text/plain": [
       "VBox()"
      ]
     },
     "metadata": {},
     "output_type": "display_data"
    },
    {
     "data": {
      "application/vnd.jupyter.widget-view+json": {
       "model_id": "",
       "version_major": 2,
       "version_minor": 0
      },
      "text/plain": [
       "FloatProgress(value=0.0, bar_style='info', description='Progress:', layout=Layout(height='25px', width='50%'),…"
      ]
     },
     "metadata": {},
     "output_type": "display_data"
    }
   ],
   "source": [
    "## connnecting with dynamodb table and reading the content of table\n",
    "TABLE_NAME = \"dataset_info\"\n",
    "dynamodb = boto3.resource('dynamodb',\n",
    "                          region_name=\"us-west-2\"\n",
    ")\n",
    "\n",
    "table = dynamodb.Table(TABLE_NAME)\n",
    "\n",
    "response = table.scan()\n",
    "data = response['Items']\n",
    "\n",
    "while 'LastEvaluatedKey' in response:\n",
    "    response = table.scan(ExclusiveStartKey=response['LastEvaluatedKey'])\n",
    "    data.extend(response['Items'])"
   ]
  },
  {
   "cell_type": "code",
   "execution_count": 30,
   "id": "large-sewing",
   "metadata": {},
   "outputs": [
    {
     "data": {
      "application/vnd.jupyter.widget-view+json": {
       "model_id": "a2e14007119f4198aee7b93d0e1306d8",
       "version_major": 2,
       "version_minor": 0
      },
      "text/plain": [
       "VBox()"
      ]
     },
     "metadata": {},
     "output_type": "display_data"
    },
    {
     "data": {
      "application/vnd.jupyter.widget-view+json": {
       "model_id": "",
       "version_major": 2,
       "version_minor": 0
      },
      "text/plain": [
       "FloatProgress(value=0.0, bar_style='info', description='Progress:', layout=Layout(height='25px', width='50%'),…"
      ]
     },
     "metadata": {},
     "output_type": "display_data"
    }
   ],
   "source": [
    "## schema for the data extracted in sting format\n",
    "cust_schema = \"\"\" dataset_key  string, created_ts  string, data_layer  string, data_location  string, dataset_id  string, dataset_refresh_end_ts  string, dataset_refresh_start_ts  string, full_load_start_ts  string, last_update_ts  string, run_mode  string, sla string, source_name  string, watermark_ts string \"\"\""
   ]
  },
  {
   "cell_type": "code",
   "execution_count": 89,
   "id": "jewish-ending",
   "metadata": {
    "scrolled": true
   },
   "outputs": [
    {
     "data": {
      "application/vnd.jupyter.widget-view+json": {
       "model_id": "3fb2fa9e11f643a79e63cc2c0ef94688",
       "version_major": 2,
       "version_minor": 0
      },
      "text/plain": [
       "VBox()"
      ]
     },
     "metadata": {},
     "output_type": "display_data"
    },
    {
     "data": {
      "application/vnd.jupyter.widget-view+json": {
       "model_id": "",
       "version_major": 2,
       "version_minor": 0
      },
      "text/plain": [
       "FloatProgress(value=0.0, bar_style='info', description='Progress:', layout=Layout(height='25px', width='50%'),…"
      ]
     },
     "metadata": {},
     "output_type": "display_data"
    }
   ],
   "source": [
    "## creating spark dataframe from dynamo table\n",
    "df = spark.createDataFrame(data,cust_schema)"
   ]
  },
  {
   "cell_type": "code",
   "execution_count": 90,
   "id": "incoming-moscow",
   "metadata": {
    "scrolled": true
   },
   "outputs": [
    {
     "data": {
      "application/vnd.jupyter.widget-view+json": {
       "model_id": "10f5473c2b5c43acb1b59cd1d62b8bce",
       "version_major": 2,
       "version_minor": 0
      },
      "text/plain": [
       "VBox()"
      ]
     },
     "metadata": {},
     "output_type": "display_data"
    },
    {
     "data": {
      "application/vnd.jupyter.widget-view+json": {
       "model_id": "",
       "version_major": 2,
       "version_minor": 0
      },
      "text/plain": [
       "FloatProgress(value=0.0, bar_style='info', description='Progress:', layout=Layout(height='25px', width='50%'),…"
      ]
     },
     "metadata": {},
     "output_type": "display_data"
    }
   ],
   "source": [
    "## doing processing in dataframe with some business logic...i.e adding columns using 'when' 'otherwise' statements\n",
    "\n",
    "df = df.withColumn(\"data_location\", when((df.data_location.isNull() | (df.data_location == ' ') | (df.data_location == '')) ,'null').otherwise(col(\"data_location\")))\n",
    "df = df.withColumn(\"full_load_start_ts\", when((df.full_load_start_ts.isNull() | (df.full_load_start_ts == \" \") | (df.full_load_start_ts == '')) ,\"null\").otherwise(col(\"full_load_start_ts\")))\n",
    "df = df.withColumn(\"run_mode\", when((df.run_mode.isNull() | (df.run_mode == ' ') | (df.run_mode == '')) ,'null').otherwise(col(\"run_mode\")))\n",
    "df = df.withColumn(\"sla\", when((df.sla.isNull() | (df.sla == ' ') | (df.sla == '')) ,'-1').otherwise(col(\"sla\")))\n",
    "df = df.withColumn(\"watermark_ts\", when((df.watermark_ts.isNull() | (df.watermark_ts == ' ') | (df.watermark_ts == '')) ,'null').otherwise(col(\"watermark_ts\")))"
   ]
  },
  {
   "cell_type": "code",
   "execution_count": 92,
   "id": "sudden-property",
   "metadata": {},
   "outputs": [
    {
     "data": {
      "application/vnd.jupyter.widget-view+json": {
       "model_id": "144327721f0c416aa4d4d4288abdfbed",
       "version_major": 2,
       "version_minor": 0
      },
      "text/plain": [
       "VBox()"
      ]
     },
     "metadata": {},
     "output_type": "display_data"
    },
    {
     "data": {
      "application/vnd.jupyter.widget-view+json": {
       "model_id": "",
       "version_major": 2,
       "version_minor": 0
      },
      "text/plain": [
       "FloatProgress(value=0.0, bar_style='info', description='Progress:', layout=Layout(height='25px', width='50%'),…"
      ]
     },
     "metadata": {},
     "output_type": "display_data"
    }
   ],
   "source": [
    "start = time.time()\n",
    "df.coalesce(1).write.mode(\"overwrite\").option(\"header\",\"true\").csv(\"s3://aws-poc-serverless-analytics/data/audit_tables/dataset_info/\")\n",
    "end = time.time()"
   ]
  },
  {
   "cell_type": "code",
   "execution_count": 93,
   "id": "portable-gothic",
   "metadata": {},
   "outputs": [
    {
     "data": {
      "application/vnd.jupyter.widget-view+json": {
       "model_id": "ef72ac0bdc2d4eb38317cfac86936d58",
       "version_major": 2,
       "version_minor": 0
      },
      "text/plain": [
       "VBox()"
      ]
     },
     "metadata": {},
     "output_type": "display_data"
    },
    {
     "data": {
      "application/vnd.jupyter.widget-view+json": {
       "model_id": "",
       "version_major": 2,
       "version_minor": 0
      },
      "text/plain": [
       "FloatProgress(value=0.0, bar_style='info', description='Progress:', layout=Layout(height='25px', width='50%'),…"
      ]
     },
     "metadata": {},
     "output_type": "display_data"
    },
    {
     "name": "stdout",
     "output_type": "stream",
     "text": [
      "1.6347332000732422"
     ]
    }
   ],
   "source": [
    "# to check the writing time in the s3 location\n",
    "end-start"
   ]
  },
  {
   "cell_type": "markdown",
   "id": "occupational-sewing",
   "metadata": {},
   "source": [
    "####  job_run_details"
   ]
  },
  {
   "cell_type": "code",
   "execution_count": 94,
   "id": "boring-ribbon",
   "metadata": {},
   "outputs": [
    {
     "data": {
      "application/vnd.jupyter.widget-view+json": {
       "model_id": "6d4984132236467caf522f3cd5fca225",
       "version_major": 2,
       "version_minor": 0
      },
      "text/plain": [
       "VBox()"
      ]
     },
     "metadata": {},
     "output_type": "display_data"
    },
    {
     "data": {
      "application/vnd.jupyter.widget-view+json": {
       "model_id": "",
       "version_major": 2,
       "version_minor": 0
      },
      "text/plain": [
       "FloatProgress(value=0.0, bar_style='info', description='Progress:', layout=Layout(height='25px', width='50%'),…"
      ]
     },
     "metadata": {},
     "output_type": "display_data"
    }
   ],
   "source": [
    "## reading table from dynamodb\n",
    "TABLE_NAME = \"job_run_details\"\n",
    "\n",
    "dynamodb = boto3.resource('dynamodb', region_name=\"us-west-2\")\n",
    "table = dynamodb.Table(TABLE_NAME)\n",
    "response = table.scan()\n",
    "data = response['Items']\n",
    "\n",
    "while 'LastEvaluatedKey' in response:\n",
    "    response = table.scan(ExclusiveStartKey=response['LastEvaluatedKey'])\n",
    "    data.extend(response['Items'])"
   ]
  },
  {
   "cell_type": "code",
   "execution_count": 95,
   "id": "rubber-lotus",
   "metadata": {},
   "outputs": [
    {
     "data": {
      "application/vnd.jupyter.widget-view+json": {
       "model_id": "72f4b0c090644d44af9940ef57a4e56c",
       "version_major": 2,
       "version_minor": 0
      },
      "text/plain": [
       "VBox()"
      ]
     },
     "metadata": {},
     "output_type": "display_data"
    },
    {
     "data": {
      "application/vnd.jupyter.widget-view+json": {
       "model_id": "",
       "version_major": 2,
       "version_minor": 0
      },
      "text/plain": [
       "FloatProgress(value=0.0, bar_style='info', description='Progress:', layout=Layout(height='25px', width='50%'),…"
      ]
     },
     "metadata": {},
     "output_type": "display_data"
    }
   ],
   "source": [
    "cust_schema = \"\"\" error_message string, target_records string, dataset_id string, source string, job_key string, source_records string, dataset string, layer_name string, job_name string, end_ts string, start_ts string, job_run_date string, job_status string\"\"\""
   ]
  },
  {
   "cell_type": "code",
   "execution_count": 123,
   "id": "fresh-flood",
   "metadata": {
    "scrolled": true
   },
   "outputs": [
    {
     "data": {
      "application/vnd.jupyter.widget-view+json": {
       "model_id": "2a7a0f67f5444d78bf69f8e9b56ac515",
       "version_major": 2,
       "version_minor": 0
      },
      "text/plain": [
       "VBox()"
      ]
     },
     "metadata": {},
     "output_type": "display_data"
    },
    {
     "data": {
      "application/vnd.jupyter.widget-view+json": {
       "model_id": "",
       "version_major": 2,
       "version_minor": 0
      },
      "text/plain": [
       "FloatProgress(value=0.0, bar_style='info', description='Progress:', layout=Layout(height='25px', width='50%'),…"
      ]
     },
     "metadata": {},
     "output_type": "display_data"
    }
   ],
   "source": [
    "df = spark.createDataFrame(data,cust_schema)"
   ]
  },
  {
   "cell_type": "code",
   "execution_count": 124,
   "id": "hollywood-match",
   "metadata": {},
   "outputs": [
    {
     "data": {
      "application/vnd.jupyter.widget-view+json": {
       "model_id": "0db90634dc284dc49273e56e72f0348a",
       "version_major": 2,
       "version_minor": 0
      },
      "text/plain": [
       "VBox()"
      ]
     },
     "metadata": {},
     "output_type": "display_data"
    },
    {
     "data": {
      "application/vnd.jupyter.widget-view+json": {
       "model_id": "",
       "version_major": 2,
       "version_minor": 0
      },
      "text/plain": [
       "FloatProgress(value=0.0, bar_style='info', description='Progress:', layout=Layout(height='25px', width='50%'),…"
      ]
     },
     "metadata": {},
     "output_type": "display_data"
    }
   ],
   "source": [
    "df = df.withColumn(\"dataset_id\",  when((df.dataset_id.isNull() | (df.dataset_id == \"\")| (df.dataset_id == \" \")) ,'-1').otherwise(col(\"dataset_id\")))\n",
    "df = df.withColumn(\"target_records\",  when((df.target_records.isNull() | (df.target_records == \"\")| (df.target_records == \" \")) ,'-1').otherwise(col(\"target_records\")))\n",
    "df = df.withColumn(\"source_records\",  when((df.source_records.isNull() | (df.source_records == \"\")| (df.source_records == \" \")) ,'-1').otherwise(col(\"source_records\")))\n",
    "df = df.withColumn(\"start_ts\", when((df.start_ts.isNull()| (df.start_ts == '')| (df.start_ts == ' ')),'-1').otherwise(col(\"start_ts\")))\n",
    "df = df.withColumn(\"end_ts\", when((df.end_ts.isNull() | (df.end_ts == '')| (df.end_ts == ' ')) ,'-1').otherwise(col(\"end_ts\")))\n",
    "df = df.withColumn(\"source\", when((df.source.isNull() | (df.source == '') | (df.source == ' ')),'null').otherwise(col(\"source\")))\n",
    "df = df.withColumn(\"dataset\", when((df.dataset.isNull() | (df.dataset == '') | (df.dataset == ' ')),'null').otherwise(col(\"dataset\")))\n",
    "df = df.withColumn(\"layer_name\", when((df.layer_name.isNull() | (df.layer_name == '') | (df.layer_name == ' ')),'null').otherwise(col(\"layer_name\")))\n",
    "df = df.withColumn(\"job_name\", when((df.job_name.isNull() | (df.job_name == '') | (df.job_name == ' ')),'null').otherwise(col(\"job_name\")))\n",
    "df = df.withColumn(\"job_run_date\", when((df.job_run_date.isNull() | (df.job_run_date == '') | (df.job_run_date == ' ')),'null').otherwise(col(\"job_run_date\")))\n",
    "\n",
    "df = df.withColumn(\"error_message\", when((df.target_records.isNull() | (df.error_message == '') | (df.error_message == ' ')),'null').otherwise(col(\"error_message\")))\n",
    "df = df.withColumn(\"error_message\", when(df.error_message != 'null',lit('Spark Error')).otherwise(col(\"error_message\")))"
   ]
  },
  {
   "cell_type": "code",
   "execution_count": 125,
   "id": "fitting-container",
   "metadata": {},
   "outputs": [
    {
     "data": {
      "application/vnd.jupyter.widget-view+json": {
       "model_id": "f60aa4f5055b4eeeb65e61690cb6760a",
       "version_major": 2,
       "version_minor": 0
      },
      "text/plain": [
       "VBox()"
      ]
     },
     "metadata": {},
     "output_type": "display_data"
    },
    {
     "data": {
      "application/vnd.jupyter.widget-view+json": {
       "model_id": "",
       "version_major": 2,
       "version_minor": 0
      },
      "text/plain": [
       "FloatProgress(value=0.0, bar_style='info', description='Progress:', layout=Layout(height='25px', width='50%'),…"
      ]
     },
     "metadata": {},
     "output_type": "display_data"
    }
   ],
   "source": [
    "start = time.time()\n",
    "df.coalesce(1).write.mode(\"overwrite\").option(\"header\",\"true\").csv(\"s3://aws-poc-serverless-analytics/data/audit_tables/job_run_details/\")\n",
    "end = time.time()"
   ]
  },
  {
   "cell_type": "code",
   "execution_count": 126,
   "id": "afraid-engagement",
   "metadata": {
    "scrolled": true
   },
   "outputs": [
    {
     "data": {
      "application/vnd.jupyter.widget-view+json": {
       "model_id": "f2d629dab2a64ece9785443409e10110",
       "version_major": 2,
       "version_minor": 0
      },
      "text/plain": [
       "VBox()"
      ]
     },
     "metadata": {},
     "output_type": "display_data"
    },
    {
     "data": {
      "application/vnd.jupyter.widget-view+json": {
       "model_id": "",
       "version_major": 2,
       "version_minor": 0
      },
      "text/plain": [
       "FloatProgress(value=0.0, bar_style='info', description='Progress:', layout=Layout(height='25px', width='50%'),…"
      ]
     },
     "metadata": {},
     "output_type": "display_data"
    },
    {
     "name": "stdout",
     "output_type": "stream",
     "text": [
      "13.380788564682007"
     ]
    }
   ],
   "source": [
    "end-start"
   ]
  },
  {
   "cell_type": "code",
   "execution_count": null,
   "id": "9c775334",
   "metadata": {},
   "outputs": [],
   "source": []
  },
  {
   "cell_type": "markdown",
   "id": "dfd75cde",
   "metadata": {},
   "source": [
    "#### integration of delta tables, pyspark with athena"
   ]
  },
  {
   "cell_type": "code",
   "execution_count": 11,
   "id": "60963ac3",
   "metadata": {},
   "outputs": [
    {
     "name": "stdout",
     "output_type": "stream",
     "text": [
      "Starting Spark application\n"
     ]
    },
    {
     "data": {
      "text/html": [
       "<table>\n",
       "<tr><th>ID</th><th>YARN Application ID</th><th>Kind</th><th>State</th><th>Spark UI</th><th>Driver log</th><th>Current session?</th></tr><tr><td>3</td><td>application_1621492246389_0008</td><td>pyspark</td><td>idle</td><td><a target=\"_blank\" href=\"http://ip-10-117-72-38.us-west-2.compute.internal:20888/proxy/application_1621492246389_0008/\" class=\"emr-proxy-link\" emr-resource=\"j-BGEYO2APXVYE\n",
       "\" application-id=\"application_1621492246389_0008\">Link</a></td><td><a target=\"_blank\" href=\"http://ip-10-117-72-38.us-west-2.compute.internal:8042/node/containerlogs/container_1621492246389_0008_01_000001/livy\" >Link</a></td><td>✔</td></tr></table>"
      ],
      "text/plain": [
       "<IPython.core.display.HTML object>"
      ]
     },
     "metadata": {},
     "output_type": "display_data"
    },
    {
     "data": {
      "application/vnd.jupyter.widget-view+json": {
       "model_id": "",
       "version_major": 2,
       "version_minor": 0
      },
      "text/plain": [
       "FloatProgress(value=0.0, bar_style='info', description='Progress:', layout=Layout(height='25px', width='50%'),…"
      ]
     },
     "metadata": {},
     "output_type": "display_data"
    },
    {
     "name": "stdout",
     "output_type": "stream",
     "text": [
      "SparkSession available as 'spark'.\n"
     ]
    },
    {
     "data": {
      "text/html": [
       "Current session configs: <tt>{'conf': {'spark.databricks.hive.metastore.glueCatalog.enabled': 'true', 'spark.jars.packages': 'io.delta:delta-core_2.12:0.8.0', 'spark.sql.extensions': 'io.delta.sql.DeltaSparkSessionExtension', 'spark.sql.catalog.spark_catalog': 'org.apache.spark.sql.delta.catalog.DeltaCatalog', 'spark.sql.warehouse.dir': 's3://aws-poc-serverless-analytics/dev/clean/delta_dw/'}, 'proxyUser': 'assumed-role_GD-AWS-USA-CMO-EMEADataUnif-Dev-Private-PowerUser_vjadhav_godaddy_com', 'kind': 'pyspark'}</tt><br>"
      ],
      "text/plain": [
       "<IPython.core.display.HTML object>"
      ]
     },
     "metadata": {},
     "output_type": "display_data"
    },
    {
     "data": {
      "text/html": [
       "<table>\n",
       "<tr><th>ID</th><th>YARN Application ID</th><th>Kind</th><th>State</th><th>Spark UI</th><th>Driver log</th><th>Current session?</th></tr><tr><td>3</td><td>application_1621492246389_0008</td><td>pyspark</td><td>idle</td><td><a target=\"_blank\" href=\"http://ip-10-117-72-38.us-west-2.compute.internal:20888/proxy/application_1621492246389_0008/\" class=\"emr-proxy-link\" emr-resource=\"j-BGEYO2APXVYE\n",
       "\" application-id=\"application_1621492246389_0008\">Link</a></td><td><a target=\"_blank\" href=\"http://ip-10-117-72-38.us-west-2.compute.internal:8042/node/containerlogs/container_1621492246389_0008_01_000001/livy\" >Link</a></td><td>✔</td></tr></table>"
      ],
      "text/plain": [
       "<IPython.core.display.HTML object>"
      ]
     },
     "metadata": {},
     "output_type": "display_data"
    }
   ],
   "source": [
    "%%configure -f\n",
    "{ \"conf\":{    \n",
    "          \"spark.databricks.hive.metastore.glueCatalog.enabled\" : \"true\",\n",
    "          \"spark.jars.packages\": \"io.delta:delta-core_2.12:0.8.0\",\n",
    "          \"spark.sql.extensions\": \"io.delta.sql.DeltaSparkSessionExtension\",\n",
    "          \"spark.sql.catalog.spark_catalog\": \"org.apache.spark.sql.delta.catalog.DeltaCatalog\",\n",
    "          \"spark.sql.warehouse.dir\": \"s3://aws-poc-serverless-analytics/dev/clean/delta_dw/\"\n",
    "    \n",
    "         }\n",
    "}\n"
   ]
  },
  {
   "cell_type": "code",
   "execution_count": 12,
   "id": "prospective-cleaning",
   "metadata": {},
   "outputs": [
    {
     "data": {
      "application/vnd.jupyter.widget-view+json": {
       "model_id": "9bedcb7e89734767b7fc7db653f9ae7b",
       "version_major": 2,
       "version_minor": 0
      },
      "text/plain": [
       "VBox()"
      ]
     },
     "metadata": {},
     "output_type": "display_data"
    },
    {
     "data": {
      "application/vnd.jupyter.widget-view+json": {
       "model_id": "",
       "version_major": 2,
       "version_minor": 0
      },
      "text/plain": [
       "FloatProgress(value=0.0, bar_style='info', description='Progress:', layout=Layout(height='25px', width='50%'),…"
      ]
     },
     "metadata": {},
     "output_type": "display_data"
    }
   ],
   "source": [
    "from delta.tables import *"
   ]
  },
  {
   "cell_type": "code",
   "execution_count": 26,
   "id": "20f0684a",
   "metadata": {},
   "outputs": [
    {
     "data": {
      "application/vnd.jupyter.widget-view+json": {
       "model_id": "b59637b4036646d8b237189acec060fa",
       "version_major": 2,
       "version_minor": 0
      },
      "text/plain": [
       "VBox()"
      ]
     },
     "metadata": {},
     "output_type": "display_data"
    },
    {
     "data": {
      "application/vnd.jupyter.widget-view+json": {
       "model_id": "",
       "version_major": 2,
       "version_minor": 0
      },
      "text/plain": [
       "FloatProgress(value=0.0, bar_style='info', description='Progress:', layout=Layout(height='25px', width='50%'),…"
      ]
     },
     "metadata": {},
     "output_type": "display_data"
    }
   ],
   "source": [
    "deltaTable = DeltaTable.forPath(spark,'s3://aws-poc-serverless-analytics/dev/clean/clean_delta_lake_test/delta_lake_demo_new.db/merchants_clean')\n"
   ]
  },
  {
   "cell_type": "code",
   "execution_count": 27,
   "id": "0e99b82e",
   "metadata": {},
   "outputs": [
    {
     "data": {
      "application/vnd.jupyter.widget-view+json": {
       "model_id": "3ee104fd0fba4120b36e1d96cca2078e",
       "version_major": 2,
       "version_minor": 0
      },
      "text/plain": [
       "VBox()"
      ]
     },
     "metadata": {},
     "output_type": "display_data"
    },
    {
     "data": {
      "application/vnd.jupyter.widget-view+json": {
       "model_id": "",
       "version_major": 2,
       "version_minor": 0
      },
      "text/plain": [
       "FloatProgress(value=0.0, bar_style='info', description='Progress:', layout=Layout(height='25px', width='50%'),…"
      ]
     },
     "metadata": {},
     "output_type": "display_data"
    }
   ],
   "source": [
    "df1 = spark.read.format(\"delta\").load(\"s3://aws-poc-serverless-analytics/dev/clean/clean_delta_lake_test/delta_lake_demo_new.db/merchants_clean/\")\n"
   ]
  },
  {
   "cell_type": "code",
   "execution_count": 41,
   "id": "d4beabad",
   "metadata": {},
   "outputs": [
    {
     "data": {
      "application/vnd.jupyter.widget-view+json": {
       "model_id": "dec08c3156934593839e7d56897c6bea",
       "version_major": 2,
       "version_minor": 0
      },
      "text/plain": [
       "VBox()"
      ]
     },
     "metadata": {},
     "output_type": "display_data"
    },
    {
     "data": {
      "application/vnd.jupyter.widget-view+json": {
       "model_id": "",
       "version_major": 2,
       "version_minor": 0
      },
      "text/plain": [
       "FloatProgress(value=0.0, bar_style='info', description='Progress:', layout=Layout(height='25px', width='50%'),…"
      ]
     },
     "metadata": {},
     "output_type": "display_data"
    },
    {
     "name": "stdout",
     "output_type": "stream",
     "text": [
      "+-----------+--------------------+----------+-----------+--------------------+--------------------+\n",
      "|merchant_id|        company_name| telephone|      state|          created_at|          updated_at|\n",
      "+-----------+--------------------+----------+-----------+--------------------+--------------------+\n",
      "|      44082|Quick Draw Outdoo...|3182596422|       free|2019-02-04 16:57:...|2021-02-10 02:07:...|\n",
      "|      44083|Quick Draw Outdoo...|3182596422|trial_ended|2019-02-04 16:57:...|2021-03-05 02:07:...|\n",
      "|     156237|          Washer Fan|      null|provisioned|2020-10-26 20:10:...|2020-10-26 20:53:...|\n",
      "|     176321|   CLICK MY CART LTD|6479863690|  suspended|2020-12-23 06:20:...|2020-12-24 04:53:...|\n",
      "|      50742|Thenaricalicollec...|5049394269|  suspended|2019-03-22 03:57:...|2019-05-15 00:54:...|\n",
      "|      44084|         godaddy llc|3182596422|provisioned|2019-02-04 16:57:...|2021-02-10 02:07:...|\n",
      "|     144524|     Rachid hamzaoui| 639756718|       free|2020-09-21 17:18:...|2020-10-22 11:15:...|\n",
      "|     156444|     Only The Flyest|4049038447|       free|2020-10-27 05:26:...|2020-11-26 11:15:...|\n",
      "|     140294|              myself|7149259700|       free|2020-09-05 17:41:...|2020-10-06 11:15:...|\n",
      "|     178307|            MSI Kart|9319919988|trial_ended|2021-01-02 09:33:...|2021-01-02 09:39:...|\n",
      "|     177863|  Bellelyse Boutique|      null|  suspended|2020-12-31 04:56:...|2021-02-19 16:53:...|\n",
      "|     165163|  JeeJee’s Boutique |      null|trial_ended|2020-11-20 16:31:...|2020-11-20 16:33:...|\n",
      "+-----------+--------------------+----------+-----------+--------------------+--------------------+"
     ]
    }
   ],
   "source": [
    "df1.show()"
   ]
  },
  {
   "cell_type": "code",
   "execution_count": 30,
   "id": "32a411e9",
   "metadata": {},
   "outputs": [
    {
     "data": {
      "application/vnd.jupyter.widget-view+json": {
       "model_id": "2aca5d70690344b099e8a16bd52ab659",
       "version_major": 2,
       "version_minor": 0
      },
      "text/plain": [
       "VBox()"
      ]
     },
     "metadata": {},
     "output_type": "display_data"
    },
    {
     "data": {
      "application/vnd.jupyter.widget-view+json": {
       "model_id": "",
       "version_major": 2,
       "version_minor": 0
      },
      "text/plain": [
       "FloatProgress(value=0.0, bar_style='info', description='Progress:', layout=Layout(height='25px', width='50%'),…"
      ]
     },
     "metadata": {},
     "output_type": "display_data"
    }
   ],
   "source": [
    "deltaTable.generate(\"symlink_format_manifest\")"
   ]
  },
  {
   "cell_type": "code",
   "execution_count": null,
   "id": "ffc47add",
   "metadata": {},
   "outputs": [],
   "source": [
    "deltaTable.create"
   ]
  },
  {
   "cell_type": "code",
   "execution_count": 34,
   "id": "b063ae73",
   "metadata": {},
   "outputs": [
    {
     "data": {
      "application/vnd.jupyter.widget-view+json": {
       "model_id": "68262ea6e025450ba9820147e27bcae4",
       "version_major": 2,
       "version_minor": 0
      },
      "text/plain": [
       "VBox()"
      ]
     },
     "metadata": {},
     "output_type": "display_data"
    },
    {
     "data": {
      "application/vnd.jupyter.widget-view+json": {
       "model_id": "",
       "version_major": 2,
       "version_minor": 0
      },
      "text/plain": [
       "FloatProgress(value=0.0, bar_style='info', description='Progress:', layout=Layout(height='25px', width='50%'),…"
      ]
     },
     "metadata": {},
     "output_type": "display_data"
    },
    {
     "name": "stdout",
     "output_type": "stream",
     "text": [
      "DataFrame[]"
     ]
    }
   ],
   "source": [
    "spark.sql(\"use delta_lake_Demo_new\")\n"
   ]
  },
  {
   "cell_type": "code",
   "execution_count": 45,
   "id": "525d25a1",
   "metadata": {},
   "outputs": [
    {
     "data": {
      "application/vnd.jupyter.widget-view+json": {
       "model_id": "09f0eacab8d1407580b67c0e99c37043",
       "version_major": 2,
       "version_minor": 0
      },
      "text/plain": [
       "VBox()"
      ]
     },
     "metadata": {},
     "output_type": "display_data"
    },
    {
     "data": {
      "application/vnd.jupyter.widget-view+json": {
       "model_id": "",
       "version_major": 2,
       "version_minor": 0
      },
      "text/plain": [
       "FloatProgress(value=0.0, bar_style='info', description='Progress:', layout=Layout(height='25px', width='50%'),…"
      ]
     },
     "metadata": {},
     "output_type": "display_data"
    },
    {
     "name": "stdout",
     "output_type": "stream",
     "text": [
      "DataFrame[]"
     ]
    }
   ],
   "source": [
    "spark.sql(\"CREATE EXTERNAL TABLE merchnats_externals (merchant_id string,company_name string,telephone long,created_at string,updated_at string)\\\n",
    "PARTITIONED BY (state string)\\\n",
    "ROW FORMAT SERDE 'org.apache.hadoop.hive.ql.io.parquet.serde.ParquetHiveSerDe'\\\n",
    "STORED AS INPUTFORMAT 'org.apache.hadoop.hive.ql.io.SymlinkTextInputFormat'\\\n",
    "OUTPUTFORMAT 'org.apache.hadoop.hive.ql.io.HiveIgnoreKeyTextOutputFormat'\\\n",
    "LOCATION 's3://aws-poc-serverless-analytics/dev/clean/clean_delta_lake_test/delta_lake_demo_new.db/merchants_clean/_symlink_format_manifest/'\")"
   ]
  }
 ],
 "metadata": {
  "kernelspec": {
   "display_name": "Python 3 (ipykernel)",
   "language": "python",
   "name": "python3"
  },
  "language_info": {
   "codemirror_mode": {
    "name": "ipython",
    "version": 3
   },
   "file_extension": ".py",
   "mimetype": "text/x-python",
   "name": "python",
   "nbconvert_exporter": "python",
   "pygments_lexer": "ipython3",
   "version": "3.8.10"
  }
 },
 "nbformat": 4,
 "nbformat_minor": 5
}
