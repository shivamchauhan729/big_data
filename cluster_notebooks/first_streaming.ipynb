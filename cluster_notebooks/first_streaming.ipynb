{
 "cells": [
  {
   "cell_type": "code",
   "execution_count": 1,
   "metadata": {},
   "outputs": [],
   "source": [
    "from pyspark.sql import SparkSession\n",
    "from pyspark.sql.functions import *"
   ]
  },
  {
   "cell_type": "code",
   "execution_count": 2,
   "metadata": {
    "scrolled": true
   },
   "outputs": [
    {
     "name": "stderr",
     "output_type": "stream",
     "text": [
      "21/10/13 13:21:23 WARN Utils: Your hostname, shivam-Vostro-3559 resolves to a loopback address: 127.0.1.1; using 192.168.0.104 instead (on interface wlp2s0)\n",
      "21/10/13 13:21:23 WARN Utils: Set SPARK_LOCAL_IP if you need to bind to another address\n",
      "WARNING: An illegal reflective access operation has occurred\n",
      "WARNING: Illegal reflective access by org.apache.spark.unsafe.Platform (file:/usr/local/lib/python3.8/dist-packages/pyspark/jars/spark-unsafe_2.12-3.1.2.jar) to constructor java.nio.DirectByteBuffer(long,int)\n",
      "WARNING: Please consider reporting this to the maintainers of org.apache.spark.unsafe.Platform\n",
      "WARNING: Use --illegal-access=warn to enable warnings of further illegal reflective access operations\n",
      "WARNING: All illegal access operations will be denied in a future release\n",
      "21/10/13 13:21:33 WARN NativeCodeLoader: Unable to load native-hadoop library for your platform... using builtin-java classes where applicable\n",
      "Using Spark's default log4j profile: org/apache/spark/log4j-defaults.properties\n",
      "Setting default log level to \"WARN\".\n",
      "To adjust logging level use sc.setLogLevel(newLevel). For SparkR, use setLogLevel(newLevel).\n"
     ]
    }
   ],
   "source": [
    "spark = SparkSession.builder \\\n",
    "    .master(\"local\") \\\n",
    "    .appName(\"Streaming Word Count\") \\\n",
    "    .config(\"spark.streaming.stopGracefullyOnShutdown\",\"true\") \\\n",
    "    .config(\"spark.sql.shuffle.partitions\", 10) \\\n",
    "    .getOrCreate()\n",
    "\n"
   ]
  },
  {
   "cell_type": "code",
   "execution_count": 3,
   "metadata": {},
   "outputs": [
    {
     "data": {
      "text/html": [
       "\n",
       "            <div>\n",
       "                <p><b>SparkSession - in-memory</b></p>\n",
       "                \n",
       "        <div>\n",
       "            <p><b>SparkContext</b></p>\n",
       "\n",
       "            <p><a href=\"http://192.168.0.104:4040\">Spark UI</a></p>\n",
       "\n",
       "            <dl>\n",
       "              <dt>Version</dt>\n",
       "                <dd><code>v3.1.2</code></dd>\n",
       "              <dt>Master</dt>\n",
       "                <dd><code>local</code></dd>\n",
       "              <dt>AppName</dt>\n",
       "                <dd><code>Streaming Word Count</code></dd>\n",
       "            </dl>\n",
       "        </div>\n",
       "        \n",
       "            </div>\n",
       "        "
      ],
      "text/plain": [
       "<pyspark.sql.session.SparkSession at 0x7fdaa00a5160>"
      ]
     },
     "execution_count": 3,
     "metadata": {},
     "output_type": "execute_result"
    }
   ],
   "source": [
    "spark"
   ]
  },
  {
   "cell_type": "code",
   "execution_count": 4,
   "metadata": {},
   "outputs": [
    {
     "name": "stderr",
     "output_type": "stream",
     "text": [
      "21/10/12 23:56:54 WARN TextSocketSourceProvider: The socket source should not be used for production applications! It does not support recovery.\n"
     ]
    }
   ],
   "source": [
    "linesdf = spark.readStream.format(\"socket\").option(\"host\",\"localhost\").option(\"port\",\"9999\").load()"
   ]
  },
  {
   "cell_type": "code",
   "execution_count": null,
   "metadata": {
    "scrolled": true
   },
   "outputs": [
    {
     "name": "stderr",
     "output_type": "stream",
     "text": [
      "21/10/12 23:57:32 WARN OffsetSeqMetadata: Updating the value of conf 'spark.sql.shuffle.partitions' in current session from '10' to '200'.\n",
      "21/10/12 23:57:35 WARN HDFSBackedStateStoreProvider: The state for version 8 doesn't exist in loadedMaps. Reading snapshot file and delta files if needed...Note that this is normal for the first batch of starting query.\n",
      "21/10/12 23:57:35 WARN HDFSBackedStateStoreProvider: The state for version 8 doesn't exist in loadedMaps. Reading snapshot file and delta files if needed...Note that this is normal for the first batch of starting query.\n",
      "21/10/12 23:57:35 WARN HDFSBackedStateStoreProvider: The state for version 8 doesn't exist in loadedMaps. Reading snapshot file and delta files if needed...Note that this is normal for the first batch of starting query.\n",
      "21/10/12 23:57:35 WARN HDFSBackedStateStoreProvider: The state for version 8 doesn't exist in loadedMaps. Reading snapshot file and delta files if needed...Note that this is normal for the first batch of starting query.\n",
      "21/10/12 23:57:35 WARN HDFSBackedStateStoreProvider: The state for version 8 doesn't exist in loadedMaps. Reading snapshot file and delta files if needed...Note that this is normal for the first batch of starting query.\n",
      "21/10/12 23:57:35 WARN HDFSBackedStateStoreProvider: The state for version 8 doesn't exist in loadedMaps. Reading snapshot file and delta files if needed...Note that this is normal for the first batch of starting query.\n",
      "21/10/12 23:57:35 WARN HDFSBackedStateStoreProvider: The state for version 8 doesn't exist in loadedMaps. Reading snapshot file and delta files if needed...Note that this is normal for the first batch of starting query.\n",
      "21/10/12 23:57:35 WARN HDFSBackedStateStoreProvider: The state for version 8 doesn't exist in loadedMaps. Reading snapshot file and delta files if needed...Note that this is normal for the first batch of starting query.\n",
      "21/10/12 23:57:36 WARN HDFSBackedStateStoreProvider: The state for version 8 doesn't exist in loadedMaps. Reading snapshot file and delta files if needed...Note that this is normal for the first batch of starting query.\n",
      "21/10/12 23:57:36 WARN HDFSBackedStateStoreProvider: The state for version 8 doesn't exist in loadedMaps. Reading snapshot file and delta files if needed...Note that this is normal for the first batch of starting query.\n",
      "21/10/12 23:57:36 WARN HDFSBackedStateStoreProvider: The state for version 8 doesn't exist in loadedMaps. Reading snapshot file and delta files if needed...Note that this is normal for the first batch of starting query.\n",
      "21/10/12 23:57:36 WARN HDFSBackedStateStoreProvider: The state for version 8 doesn't exist in loadedMaps. Reading snapshot file and delta files if needed...Note that this is normal for the first batch of starting query.\n",
      "21/10/12 23:57:36 WARN HDFSBackedStateStoreProvider: The state for version 8 doesn't exist in loadedMaps. Reading snapshot file and delta files if needed...Note that this is normal for the first batch of starting query.\n",
      "21/10/12 23:57:36 WARN HDFSBackedStateStoreProvider: The state for version 8 doesn't exist in loadedMaps. Reading snapshot file and delta files if needed...Note that this is normal for the first batch of starting query.\n",
      "21/10/12 23:57:36 WARN HDFSBackedStateStoreProvider: The state for version 8 doesn't exist in loadedMaps. Reading snapshot file and delta files if needed...Note that this is normal for the first batch of starting query.\n",
      "21/10/12 23:57:36 WARN HDFSBackedStateStoreProvider: The state for version 8 doesn't exist in loadedMaps. Reading snapshot file and delta files if needed...Note that this is normal for the first batch of starting query.\n",
      "21/10/12 23:57:36 WARN HDFSBackedStateStoreProvider: The state for version 8 doesn't exist in loadedMaps. Reading snapshot file and delta files if needed...Note that this is normal for the first batch of starting query.\n",
      "21/10/12 23:57:36 WARN HDFSBackedStateStoreProvider: The state for version 8 doesn't exist in loadedMaps. Reading snapshot file and delta files if needed...Note that this is normal for the first batch of starting query.\n",
      "21/10/12 23:57:36 WARN HDFSBackedStateStoreProvider: The state for version 8 doesn't exist in loadedMaps. Reading snapshot file and delta files if needed...Note that this is normal for the first batch of starting query.\n",
      "21/10/12 23:57:36 WARN HDFSBackedStateStoreProvider: The state for version 8 doesn't exist in loadedMaps. Reading snapshot file and delta files if needed...Note that this is normal for the first batch of starting query.\n",
      "21/10/12 23:57:36 WARN HDFSBackedStateStoreProvider: The state for version 8 doesn't exist in loadedMaps. Reading snapshot file and delta files if needed...Note that this is normal for the first batch of starting query.\n",
      "21/10/12 23:57:36 WARN HDFSBackedStateStoreProvider: The state for version 8 doesn't exist in loadedMaps. Reading snapshot file and delta files if needed...Note that this is normal for the first batch of starting query.\n",
      "21/10/12 23:57:36 WARN HDFSBackedStateStoreProvider: The state for version 8 doesn't exist in loadedMaps. Reading snapshot file and delta files if needed...Note that this is normal for the first batch of starting query.\n",
      "21/10/12 23:57:37 WARN HDFSBackedStateStoreProvider: The state for version 8 doesn't exist in loadedMaps. Reading snapshot file and delta files if needed...Note that this is normal for the first batch of starting query.\n",
      "21/10/12 23:57:37 WARN HDFSBackedStateStoreProvider: The state for version 8 doesn't exist in loadedMaps. Reading snapshot file and delta files if needed...Note that this is normal for the first batch of starting query.\n",
      "21/10/12 23:57:37 WARN HDFSBackedStateStoreProvider: The state for version 8 doesn't exist in loadedMaps. Reading snapshot file and delta files if needed...Note that this is normal for the first batch of starting query.\n",
      "21/10/12 23:57:37 WARN HDFSBackedStateStoreProvider: The state for version 8 doesn't exist in loadedMaps. Reading snapshot file and delta files if needed...Note that this is normal for the first batch of starting query.\n",
      "21/10/12 23:57:37 WARN HDFSBackedStateStoreProvider: The state for version 8 doesn't exist in loadedMaps. Reading snapshot file and delta files if needed...Note that this is normal for the first batch of starting query.\n",
      "21/10/12 23:57:37 WARN HDFSBackedStateStoreProvider: The state for version 8 doesn't exist in loadedMaps. Reading snapshot file and delta files if needed...Note that this is normal for the first batch of starting query.\n",
      "21/10/12 23:57:37 WARN HDFSBackedStateStoreProvider: The state for version 8 doesn't exist in loadedMaps. Reading snapshot file and delta files if needed...Note that this is normal for the first batch of starting query.\n",
      "21/10/12 23:57:37 WARN HDFSBackedStateStoreProvider: The state for version 8 doesn't exist in loadedMaps. Reading snapshot file and delta files if needed...Note that this is normal for the first batch of starting query.\n",
      "21/10/12 23:57:37 WARN HDFSBackedStateStoreProvider: The state for version 8 doesn't exist in loadedMaps. Reading snapshot file and delta files if needed...Note that this is normal for the first batch of starting query.\n",
      "21/10/12 23:57:37 WARN HDFSBackedStateStoreProvider: The state for version 8 doesn't exist in loadedMaps. Reading snapshot file and delta files if needed...Note that this is normal for the first batch of starting query.\n",
      "21/10/12 23:57:37 WARN HDFSBackedStateStoreProvider: The state for version 8 doesn't exist in loadedMaps. Reading snapshot file and delta files if needed...Note that this is normal for the first batch of starting query.\n",
      "21/10/12 23:57:37 WARN HDFSBackedStateStoreProvider: The state for version 8 doesn't exist in loadedMaps. Reading snapshot file and delta files if needed...Note that this is normal for the first batch of starting query.\n",
      "21/10/12 23:57:37 WARN HDFSBackedStateStoreProvider: The state for version 8 doesn't exist in loadedMaps. Reading snapshot file and delta files if needed...Note that this is normal for the first batch of starting query.\n",
      "21/10/12 23:57:37 WARN HDFSBackedStateStoreProvider: The state for version 8 doesn't exist in loadedMaps. Reading snapshot file and delta files if needed...Note that this is normal for the first batch of starting query.\n",
      "21/10/12 23:57:38 WARN HDFSBackedStateStoreProvider: The state for version 8 doesn't exist in loadedMaps. Reading snapshot file and delta files if needed...Note that this is normal for the first batch of starting query.\n"
     ]
    },
    {
     "name": "stderr",
     "output_type": "stream",
     "text": [
      "21/10/12 23:57:38 WARN HDFSBackedStateStoreProvider: The state for version 8 doesn't exist in loadedMaps. Reading snapshot file and delta files if needed...Note that this is normal for the first batch of starting query.\n",
      "21/10/12 23:57:38 WARN HDFSBackedStateStoreProvider: The state for version 8 doesn't exist in loadedMaps. Reading snapshot file and delta files if needed...Note that this is normal for the first batch of starting query.\n",
      "21/10/12 23:57:38 WARN HDFSBackedStateStoreProvider: The state for version 8 doesn't exist in loadedMaps. Reading snapshot file and delta files if needed...Note that this is normal for the first batch of starting query.\n",
      "21/10/12 23:57:38 WARN HDFSBackedStateStoreProvider: The state for version 8 doesn't exist in loadedMaps. Reading snapshot file and delta files if needed...Note that this is normal for the first batch of starting query.\n",
      "21/10/12 23:57:38 WARN HDFSBackedStateStoreProvider: The state for version 8 doesn't exist in loadedMaps. Reading snapshot file and delta files if needed...Note that this is normal for the first batch of starting query.\n",
      "21/10/12 23:57:38 WARN HDFSBackedStateStoreProvider: The state for version 8 doesn't exist in loadedMaps. Reading snapshot file and delta files if needed...Note that this is normal for the first batch of starting query.\n",
      "21/10/12 23:57:38 WARN HDFSBackedStateStoreProvider: The state for version 8 doesn't exist in loadedMaps. Reading snapshot file and delta files if needed...Note that this is normal for the first batch of starting query.\n",
      "21/10/12 23:57:38 WARN HDFSBackedStateStoreProvider: The state for version 8 doesn't exist in loadedMaps. Reading snapshot file and delta files if needed...Note that this is normal for the first batch of starting query.\n",
      "21/10/12 23:57:38 WARN HDFSBackedStateStoreProvider: The state for version 8 doesn't exist in loadedMaps. Reading snapshot file and delta files if needed...Note that this is normal for the first batch of starting query.\n",
      "21/10/12 23:57:38 WARN HDFSBackedStateStoreProvider: The state for version 8 doesn't exist in loadedMaps. Reading snapshot file and delta files if needed...Note that this is normal for the first batch of starting query.\n",
      "21/10/12 23:57:38 WARN HDFSBackedStateStoreProvider: The state for version 8 doesn't exist in loadedMaps. Reading snapshot file and delta files if needed...Note that this is normal for the first batch of starting query.\n",
      "21/10/12 23:57:38 WARN HDFSBackedStateStoreProvider: The state for version 8 doesn't exist in loadedMaps. Reading snapshot file and delta files if needed...Note that this is normal for the first batch of starting query.\n",
      "21/10/12 23:57:38 WARN HDFSBackedStateStoreProvider: The state for version 8 doesn't exist in loadedMaps. Reading snapshot file and delta files if needed...Note that this is normal for the first batch of starting query.\n",
      "21/10/12 23:57:38 WARN HDFSBackedStateStoreProvider: The state for version 8 doesn't exist in loadedMaps. Reading snapshot file and delta files if needed...Note that this is normal for the first batch of starting query.\n",
      "21/10/12 23:57:38 WARN HDFSBackedStateStoreProvider: The state for version 8 doesn't exist in loadedMaps. Reading snapshot file and delta files if needed...Note that this is normal for the first batch of starting query.\n",
      "21/10/12 23:57:38 WARN HDFSBackedStateStoreProvider: The state for version 8 doesn't exist in loadedMaps. Reading snapshot file and delta files if needed...Note that this is normal for the first batch of starting query.\n",
      "21/10/12 23:57:38 WARN HDFSBackedStateStoreProvider: The state for version 8 doesn't exist in loadedMaps. Reading snapshot file and delta files if needed...Note that this is normal for the first batch of starting query.\n",
      "21/10/12 23:57:38 WARN HDFSBackedStateStoreProvider: The state for version 8 doesn't exist in loadedMaps. Reading snapshot file and delta files if needed...Note that this is normal for the first batch of starting query.\n",
      "21/10/12 23:57:38 WARN HDFSBackedStateStoreProvider: The state for version 8 doesn't exist in loadedMaps. Reading snapshot file and delta files if needed...Note that this is normal for the first batch of starting query.\n",
      "21/10/12 23:57:38 WARN HDFSBackedStateStoreProvider: The state for version 8 doesn't exist in loadedMaps. Reading snapshot file and delta files if needed...Note that this is normal for the first batch of starting query.\n",
      "21/10/12 23:57:38 WARN HDFSBackedStateStoreProvider: The state for version 8 doesn't exist in loadedMaps. Reading snapshot file and delta files if needed...Note that this is normal for the first batch of starting query.\n",
      "21/10/12 23:57:39 WARN HDFSBackedStateStoreProvider: The state for version 8 doesn't exist in loadedMaps. Reading snapshot file and delta files if needed...Note that this is normal for the first batch of starting query.\n",
      "21/10/12 23:57:39 WARN HDFSBackedStateStoreProvider: The state for version 8 doesn't exist in loadedMaps. Reading snapshot file and delta files if needed...Note that this is normal for the first batch of starting query.\n",
      "21/10/12 23:57:39 WARN HDFSBackedStateStoreProvider: The state for version 8 doesn't exist in loadedMaps. Reading snapshot file and delta files if needed...Note that this is normal for the first batch of starting query.\n",
      "21/10/12 23:57:39 WARN HDFSBackedStateStoreProvider: The state for version 8 doesn't exist in loadedMaps. Reading snapshot file and delta files if needed...Note that this is normal for the first batch of starting query.\n",
      "21/10/12 23:57:39 WARN HDFSBackedStateStoreProvider: The state for version 8 doesn't exist in loadedMaps. Reading snapshot file and delta files if needed...Note that this is normal for the first batch of starting query.\n",
      "21/10/12 23:57:39 WARN HDFSBackedStateStoreProvider: The state for version 8 doesn't exist in loadedMaps. Reading snapshot file and delta files if needed...Note that this is normal for the first batch of starting query.\n",
      "21/10/12 23:57:39 WARN HDFSBackedStateStoreProvider: The state for version 8 doesn't exist in loadedMaps. Reading snapshot file and delta files if needed...Note that this is normal for the first batch of starting query.\n",
      "21/10/12 23:57:39 WARN HDFSBackedStateStoreProvider: The state for version 8 doesn't exist in loadedMaps. Reading snapshot file and delta files if needed...Note that this is normal for the first batch of starting query.\n",
      "21/10/12 23:57:39 WARN HDFSBackedStateStoreProvider: The state for version 8 doesn't exist in loadedMaps. Reading snapshot file and delta files if needed...Note that this is normal for the first batch of starting query.\n",
      "21/10/12 23:57:39 WARN HDFSBackedStateStoreProvider: The state for version 8 doesn't exist in loadedMaps. Reading snapshot file and delta files if needed...Note that this is normal for the first batch of starting query.\n",
      "21/10/12 23:57:39 WARN HDFSBackedStateStoreProvider: The state for version 8 doesn't exist in loadedMaps. Reading snapshot file and delta files if needed...Note that this is normal for the first batch of starting query.\n",
      "21/10/12 23:57:39 WARN HDFSBackedStateStoreProvider: The state for version 8 doesn't exist in loadedMaps. Reading snapshot file and delta files if needed...Note that this is normal for the first batch of starting query.\n",
      "21/10/12 23:57:39 WARN HDFSBackedStateStoreProvider: The state for version 8 doesn't exist in loadedMaps. Reading snapshot file and delta files if needed...Note that this is normal for the first batch of starting query.\n",
      "21/10/12 23:57:39 WARN HDFSBackedStateStoreProvider: The state for version 8 doesn't exist in loadedMaps. Reading snapshot file and delta files if needed...Note that this is normal for the first batch of starting query.\n",
      "21/10/12 23:57:39 WARN HDFSBackedStateStoreProvider: The state for version 8 doesn't exist in loadedMaps. Reading snapshot file and delta files if needed...Note that this is normal for the first batch of starting query.\n",
      "21/10/12 23:57:39 WARN HDFSBackedStateStoreProvider: The state for version 8 doesn't exist in loadedMaps. Reading snapshot file and delta files if needed...Note that this is normal for the first batch of starting query.\n",
      "21/10/12 23:57:39 WARN HDFSBackedStateStoreProvider: The state for version 8 doesn't exist in loadedMaps. Reading snapshot file and delta files if needed...Note that this is normal for the first batch of starting query.\n",
      "21/10/12 23:57:39 WARN HDFSBackedStateStoreProvider: The state for version 8 doesn't exist in loadedMaps. Reading snapshot file and delta files if needed...Note that this is normal for the first batch of starting query.\n",
      "21/10/12 23:57:39 WARN HDFSBackedStateStoreProvider: The state for version 8 doesn't exist in loadedMaps. Reading snapshot file and delta files if needed...Note that this is normal for the first batch of starting query.\n",
      "21/10/12 23:57:39 WARN HDFSBackedStateStoreProvider: The state for version 8 doesn't exist in loadedMaps. Reading snapshot file and delta files if needed...Note that this is normal for the first batch of starting query.\n",
      "21/10/12 23:57:39 WARN HDFSBackedStateStoreProvider: The state for version 8 doesn't exist in loadedMaps. Reading snapshot file and delta files if needed...Note that this is normal for the first batch of starting query.\n",
      "21/10/12 23:57:39 WARN HDFSBackedStateStoreProvider: The state for version 8 doesn't exist in loadedMaps. Reading snapshot file and delta files if needed...Note that this is normal for the first batch of starting query.\n",
      "21/10/12 23:57:39 WARN HDFSBackedStateStoreProvider: The state for version 8 doesn't exist in loadedMaps. Reading snapshot file and delta files if needed...Note that this is normal for the first batch of starting query.\n",
      "21/10/12 23:57:39 WARN HDFSBackedStateStoreProvider: The state for version 8 doesn't exist in loadedMaps. Reading snapshot file and delta files if needed...Note that this is normal for the first batch of starting query.\n",
      "21/10/12 23:57:39 WARN HDFSBackedStateStoreProvider: The state for version 8 doesn't exist in loadedMaps. Reading snapshot file and delta files if needed...Note that this is normal for the first batch of starting query.\n",
      "21/10/12 23:57:39 WARN HDFSBackedStateStoreProvider: The state for version 8 doesn't exist in loadedMaps. Reading snapshot file and delta files if needed...Note that this is normal for the first batch of starting query.\n",
      "21/10/12 23:57:40 WARN HDFSBackedStateStoreProvider: The state for version 8 doesn't exist in loadedMaps. Reading snapshot file and delta files if needed...Note that this is normal for the first batch of starting query.\n",
      "21/10/12 23:57:40 WARN HDFSBackedStateStoreProvider: The state for version 8 doesn't exist in loadedMaps. Reading snapshot file and delta files if needed...Note that this is normal for the first batch of starting query.\n",
      "21/10/12 23:57:40 WARN HDFSBackedStateStoreProvider: The state for version 8 doesn't exist in loadedMaps. Reading snapshot file and delta files if needed...Note that this is normal for the first batch of starting query.\n",
      "21/10/12 23:57:40 WARN HDFSBackedStateStoreProvider: The state for version 8 doesn't exist in loadedMaps. Reading snapshot file and delta files if needed...Note that this is normal for the first batch of starting query.\n",
      "21/10/12 23:57:40 WARN HDFSBackedStateStoreProvider: The state for version 8 doesn't exist in loadedMaps. Reading snapshot file and delta files if needed...Note that this is normal for the first batch of starting query.\n",
      "21/10/12 23:57:40 WARN HDFSBackedStateStoreProvider: The state for version 8 doesn't exist in loadedMaps. Reading snapshot file and delta files if needed...Note that this is normal for the first batch of starting query.\n",
      "21/10/12 23:57:40 WARN HDFSBackedStateStoreProvider: The state for version 8 doesn't exist in loadedMaps. Reading snapshot file and delta files if needed...Note that this is normal for the first batch of starting query.\n",
      "21/10/12 23:57:40 WARN HDFSBackedStateStoreProvider: The state for version 8 doesn't exist in loadedMaps. Reading snapshot file and delta files if needed...Note that this is normal for the first batch of starting query.\n",
      "21/10/12 23:57:40 WARN HDFSBackedStateStoreProvider: The state for version 8 doesn't exist in loadedMaps. Reading snapshot file and delta files if needed...Note that this is normal for the first batch of starting query.\n",
      "21/10/12 23:57:40 WARN HDFSBackedStateStoreProvider: The state for version 8 doesn't exist in loadedMaps. Reading snapshot file and delta files if needed...Note that this is normal for the first batch of starting query.\n",
      "21/10/12 23:57:40 WARN HDFSBackedStateStoreProvider: The state for version 8 doesn't exist in loadedMaps. Reading snapshot file and delta files if needed...Note that this is normal for the first batch of starting query.\n",
      "21/10/12 23:57:40 WARN HDFSBackedStateStoreProvider: The state for version 8 doesn't exist in loadedMaps. Reading snapshot file and delta files if needed...Note that this is normal for the first batch of starting query.\n",
      "21/10/12 23:57:40 WARN HDFSBackedStateStoreProvider: The state for version 8 doesn't exist in loadedMaps. Reading snapshot file and delta files if needed...Note that this is normal for the first batch of starting query.\n",
      "21/10/12 23:57:40 WARN HDFSBackedStateStoreProvider: The state for version 8 doesn't exist in loadedMaps. Reading snapshot file and delta files if needed...Note that this is normal for the first batch of starting query.\n",
      "21/10/12 23:57:40 WARN HDFSBackedStateStoreProvider: The state for version 8 doesn't exist in loadedMaps. Reading snapshot file and delta files if needed...Note that this is normal for the first batch of starting query.\n",
      "21/10/12 23:57:40 WARN HDFSBackedStateStoreProvider: The state for version 8 doesn't exist in loadedMaps. Reading snapshot file and delta files if needed...Note that this is normal for the first batch of starting query.\n",
      "21/10/12 23:57:40 WARN HDFSBackedStateStoreProvider: The state for version 8 doesn't exist in loadedMaps. Reading snapshot file and delta files if needed...Note that this is normal for the first batch of starting query.\n",
      "21/10/12 23:57:40 WARN HDFSBackedStateStoreProvider: The state for version 8 doesn't exist in loadedMaps. Reading snapshot file and delta files if needed...Note that this is normal for the first batch of starting query.\n",
      "21/10/12 23:57:40 WARN HDFSBackedStateStoreProvider: The state for version 8 doesn't exist in loadedMaps. Reading snapshot file and delta files if needed...Note that this is normal for the first batch of starting query.\n",
      "21/10/12 23:57:40 WARN HDFSBackedStateStoreProvider: The state for version 8 doesn't exist in loadedMaps. Reading snapshot file and delta files if needed...Note that this is normal for the first batch of starting query.\n",
      "21/10/12 23:57:40 WARN HDFSBackedStateStoreProvider: The state for version 8 doesn't exist in loadedMaps. Reading snapshot file and delta files if needed...Note that this is normal for the first batch of starting query.\n",
      "21/10/12 23:57:40 WARN HDFSBackedStateStoreProvider: The state for version 8 doesn't exist in loadedMaps. Reading snapshot file and delta files if needed...Note that this is normal for the first batch of starting query.\n",
      "21/10/12 23:57:40 WARN HDFSBackedStateStoreProvider: The state for version 8 doesn't exist in loadedMaps. Reading snapshot file and delta files if needed...Note that this is normal for the first batch of starting query.\n",
      "21/10/12 23:57:40 WARN HDFSBackedStateStoreProvider: The state for version 8 doesn't exist in loadedMaps. Reading snapshot file and delta files if needed...Note that this is normal for the first batch of starting query.\n",
      "21/10/12 23:57:40 WARN HDFSBackedStateStoreProvider: The state for version 8 doesn't exist in loadedMaps. Reading snapshot file and delta files if needed...Note that this is normal for the first batch of starting query.\n",
      "21/10/12 23:57:40 WARN HDFSBackedStateStoreProvider: The state for version 8 doesn't exist in loadedMaps. Reading snapshot file and delta files if needed...Note that this is normal for the first batch of starting query.\n",
      "21/10/12 23:57:40 WARN HDFSBackedStateStoreProvider: The state for version 8 doesn't exist in loadedMaps. Reading snapshot file and delta files if needed...Note that this is normal for the first batch of starting query.\n",
      "21/10/12 23:57:40 WARN HDFSBackedStateStoreProvider: The state for version 8 doesn't exist in loadedMaps. Reading snapshot file and delta files if needed...Note that this is normal for the first batch of starting query.\n",
      "21/10/12 23:57:40 WARN HDFSBackedStateStoreProvider: The state for version 8 doesn't exist in loadedMaps. Reading snapshot file and delta files if needed...Note that this is normal for the first batch of starting query.\n",
      "21/10/12 23:57:40 WARN HDFSBackedStateStoreProvider: The state for version 8 doesn't exist in loadedMaps. Reading snapshot file and delta files if needed...Note that this is normal for the first batch of starting query.\n",
      "21/10/12 23:57:40 WARN HDFSBackedStateStoreProvider: The state for version 8 doesn't exist in loadedMaps. Reading snapshot file and delta files if needed...Note that this is normal for the first batch of starting query.\n",
      "21/10/12 23:57:40 WARN HDFSBackedStateStoreProvider: The state for version 8 doesn't exist in loadedMaps. Reading snapshot file and delta files if needed...Note that this is normal for the first batch of starting query.\n",
      "21/10/12 23:57:40 WARN HDFSBackedStateStoreProvider: The state for version 8 doesn't exist in loadedMaps. Reading snapshot file and delta files if needed...Note that this is normal for the first batch of starting query.\n",
      "21/10/12 23:57:41 WARN HDFSBackedStateStoreProvider: The state for version 8 doesn't exist in loadedMaps. Reading snapshot file and delta files if needed...Note that this is normal for the first batch of starting query.\n"
     ]
    },
    {
     "name": "stderr",
     "output_type": "stream",
     "text": [
      "21/10/12 23:57:41 WARN HDFSBackedStateStoreProvider: The state for version 8 doesn't exist in loadedMaps. Reading snapshot file and delta files if needed...Note that this is normal for the first batch of starting query.\n",
      "21/10/12 23:57:41 WARN HDFSBackedStateStoreProvider: The state for version 8 doesn't exist in loadedMaps. Reading snapshot file and delta files if needed...Note that this is normal for the first batch of starting query.\n",
      "21/10/12 23:57:41 WARN HDFSBackedStateStoreProvider: The state for version 8 doesn't exist in loadedMaps. Reading snapshot file and delta files if needed...Note that this is normal for the first batch of starting query.\n",
      "21/10/12 23:57:41 WARN HDFSBackedStateStoreProvider: The state for version 8 doesn't exist in loadedMaps. Reading snapshot file and delta files if needed...Note that this is normal for the first batch of starting query.\n",
      "21/10/12 23:57:41 WARN HDFSBackedStateStoreProvider: The state for version 8 doesn't exist in loadedMaps. Reading snapshot file and delta files if needed...Note that this is normal for the first batch of starting query.\n",
      "21/10/12 23:57:41 WARN HDFSBackedStateStoreProvider: The state for version 8 doesn't exist in loadedMaps. Reading snapshot file and delta files if needed...Note that this is normal for the first batch of starting query.\n",
      "21/10/12 23:57:41 WARN HDFSBackedStateStoreProvider: The state for version 8 doesn't exist in loadedMaps. Reading snapshot file and delta files if needed...Note that this is normal for the first batch of starting query.\n",
      "21/10/12 23:57:41 WARN HDFSBackedStateStoreProvider: The state for version 8 doesn't exist in loadedMaps. Reading snapshot file and delta files if needed...Note that this is normal for the first batch of starting query.\n",
      "21/10/12 23:57:41 WARN HDFSBackedStateStoreProvider: The state for version 8 doesn't exist in loadedMaps. Reading snapshot file and delta files if needed...Note that this is normal for the first batch of starting query.\n",
      "21/10/12 23:57:41 WARN HDFSBackedStateStoreProvider: The state for version 8 doesn't exist in loadedMaps. Reading snapshot file and delta files if needed...Note that this is normal for the first batch of starting query.\n",
      "21/10/12 23:57:41 WARN HDFSBackedStateStoreProvider: The state for version 8 doesn't exist in loadedMaps. Reading snapshot file and delta files if needed...Note that this is normal for the first batch of starting query.\n",
      "21/10/12 23:57:41 WARN HDFSBackedStateStoreProvider: The state for version 8 doesn't exist in loadedMaps. Reading snapshot file and delta files if needed...Note that this is normal for the first batch of starting query.\n",
      "21/10/12 23:57:41 WARN HDFSBackedStateStoreProvider: The state for version 8 doesn't exist in loadedMaps. Reading snapshot file and delta files if needed...Note that this is normal for the first batch of starting query.\n",
      "21/10/12 23:57:41 WARN HDFSBackedStateStoreProvider: The state for version 8 doesn't exist in loadedMaps. Reading snapshot file and delta files if needed...Note that this is normal for the first batch of starting query.\n",
      "21/10/12 23:57:41 WARN HDFSBackedStateStoreProvider: The state for version 8 doesn't exist in loadedMaps. Reading snapshot file and delta files if needed...Note that this is normal for the first batch of starting query.\n",
      "21/10/12 23:57:41 WARN HDFSBackedStateStoreProvider: The state for version 8 doesn't exist in loadedMaps. Reading snapshot file and delta files if needed...Note that this is normal for the first batch of starting query.\n",
      "21/10/12 23:57:41 WARN HDFSBackedStateStoreProvider: The state for version 8 doesn't exist in loadedMaps. Reading snapshot file and delta files if needed...Note that this is normal for the first batch of starting query.\n",
      "21/10/12 23:57:41 WARN HDFSBackedStateStoreProvider: The state for version 8 doesn't exist in loadedMaps. Reading snapshot file and delta files if needed...Note that this is normal for the first batch of starting query.\n",
      "21/10/12 23:57:41 WARN HDFSBackedStateStoreProvider: The state for version 8 doesn't exist in loadedMaps. Reading snapshot file and delta files if needed...Note that this is normal for the first batch of starting query.\n",
      "21/10/12 23:57:41 WARN HDFSBackedStateStoreProvider: The state for version 8 doesn't exist in loadedMaps. Reading snapshot file and delta files if needed...Note that this is normal for the first batch of starting query.\n",
      "21/10/12 23:57:41 WARN HDFSBackedStateStoreProvider: The state for version 8 doesn't exist in loadedMaps. Reading snapshot file and delta files if needed...Note that this is normal for the first batch of starting query.\n",
      "21/10/12 23:57:41 WARN HDFSBackedStateStoreProvider: The state for version 8 doesn't exist in loadedMaps. Reading snapshot file and delta files if needed...Note that this is normal for the first batch of starting query.\n",
      "21/10/12 23:57:41 WARN HDFSBackedStateStoreProvider: The state for version 8 doesn't exist in loadedMaps. Reading snapshot file and delta files if needed...Note that this is normal for the first batch of starting query.\n",
      "21/10/12 23:57:41 WARN HDFSBackedStateStoreProvider: The state for version 8 doesn't exist in loadedMaps. Reading snapshot file and delta files if needed...Note that this is normal for the first batch of starting query.\n",
      "21/10/12 23:57:41 WARN HDFSBackedStateStoreProvider: The state for version 8 doesn't exist in loadedMaps. Reading snapshot file and delta files if needed...Note that this is normal for the first batch of starting query.\n",
      "21/10/12 23:57:41 WARN HDFSBackedStateStoreProvider: The state for version 8 doesn't exist in loadedMaps. Reading snapshot file and delta files if needed...Note that this is normal for the first batch of starting query.\n",
      "21/10/12 23:57:41 WARN HDFSBackedStateStoreProvider: The state for version 8 doesn't exist in loadedMaps. Reading snapshot file and delta files if needed...Note that this is normal for the first batch of starting query.\n",
      "21/10/12 23:57:41 WARN HDFSBackedStateStoreProvider: The state for version 8 doesn't exist in loadedMaps. Reading snapshot file and delta files if needed...Note that this is normal for the first batch of starting query.\n",
      "21/10/12 23:57:41 WARN HDFSBackedStateStoreProvider: The state for version 8 doesn't exist in loadedMaps. Reading snapshot file and delta files if needed...Note that this is normal for the first batch of starting query.\n",
      "21/10/12 23:57:41 WARN HDFSBackedStateStoreProvider: The state for version 8 doesn't exist in loadedMaps. Reading snapshot file and delta files if needed...Note that this is normal for the first batch of starting query.\n",
      "21/10/12 23:57:41 WARN HDFSBackedStateStoreProvider: The state for version 8 doesn't exist in loadedMaps. Reading snapshot file and delta files if needed...Note that this is normal for the first batch of starting query.\n",
      "21/10/12 23:57:41 WARN HDFSBackedStateStoreProvider: The state for version 8 doesn't exist in loadedMaps. Reading snapshot file and delta files if needed...Note that this is normal for the first batch of starting query.\n",
      "21/10/12 23:57:42 WARN HDFSBackedStateStoreProvider: The state for version 8 doesn't exist in loadedMaps. Reading snapshot file and delta files if needed...Note that this is normal for the first batch of starting query.\n",
      "21/10/12 23:57:42 WARN HDFSBackedStateStoreProvider: The state for version 8 doesn't exist in loadedMaps. Reading snapshot file and delta files if needed...Note that this is normal for the first batch of starting query.\n",
      "21/10/12 23:57:42 WARN HDFSBackedStateStoreProvider: The state for version 8 doesn't exist in loadedMaps. Reading snapshot file and delta files if needed...Note that this is normal for the first batch of starting query.\n",
      "21/10/12 23:57:42 WARN HDFSBackedStateStoreProvider: The state for version 8 doesn't exist in loadedMaps. Reading snapshot file and delta files if needed...Note that this is normal for the first batch of starting query.\n",
      "21/10/12 23:57:42 WARN HDFSBackedStateStoreProvider: The state for version 8 doesn't exist in loadedMaps. Reading snapshot file and delta files if needed...Note that this is normal for the first batch of starting query.\n",
      "21/10/12 23:57:42 WARN HDFSBackedStateStoreProvider: The state for version 8 doesn't exist in loadedMaps. Reading snapshot file and delta files if needed...Note that this is normal for the first batch of starting query.\n",
      "21/10/12 23:57:42 WARN HDFSBackedStateStoreProvider: The state for version 8 doesn't exist in loadedMaps. Reading snapshot file and delta files if needed...Note that this is normal for the first batch of starting query.\n",
      "21/10/12 23:57:42 WARN HDFSBackedStateStoreProvider: The state for version 8 doesn't exist in loadedMaps. Reading snapshot file and delta files if needed...Note that this is normal for the first batch of starting query.\n",
      "21/10/12 23:57:42 WARN HDFSBackedStateStoreProvider: The state for version 8 doesn't exist in loadedMaps. Reading snapshot file and delta files if needed...Note that this is normal for the first batch of starting query.\n",
      "21/10/12 23:57:42 WARN HDFSBackedStateStoreProvider: The state for version 8 doesn't exist in loadedMaps. Reading snapshot file and delta files if needed...Note that this is normal for the first batch of starting query.\n"
     ]
    },
    {
     "name": "stderr",
     "output_type": "stream",
     "text": [
      "21/10/12 23:57:42 WARN HDFSBackedStateStoreProvider: The state for version 8 doesn't exist in loadedMaps. Reading snapshot file and delta files if needed...Note that this is normal for the first batch of starting query.\n",
      "21/10/12 23:57:42 WARN HDFSBackedStateStoreProvider: The state for version 8 doesn't exist in loadedMaps. Reading snapshot file and delta files if needed...Note that this is normal for the first batch of starting query.\n",
      "21/10/12 23:57:42 WARN HDFSBackedStateStoreProvider: The state for version 8 doesn't exist in loadedMaps. Reading snapshot file and delta files if needed...Note that this is normal for the first batch of starting query.\n",
      "21/10/12 23:57:42 WARN HDFSBackedStateStoreProvider: The state for version 8 doesn't exist in loadedMaps. Reading snapshot file and delta files if needed...Note that this is normal for the first batch of starting query.\n",
      "21/10/12 23:57:42 WARN HDFSBackedStateStoreProvider: The state for version 8 doesn't exist in loadedMaps. Reading snapshot file and delta files if needed...Note that this is normal for the first batch of starting query.\n",
      "21/10/12 23:57:42 WARN HDFSBackedStateStoreProvider: The state for version 8 doesn't exist in loadedMaps. Reading snapshot file and delta files if needed...Note that this is normal for the first batch of starting query.\n",
      "21/10/12 23:57:42 WARN HDFSBackedStateStoreProvider: The state for version 8 doesn't exist in loadedMaps. Reading snapshot file and delta files if needed...Note that this is normal for the first batch of starting query.\n",
      "21/10/12 23:57:42 WARN HDFSBackedStateStoreProvider: The state for version 8 doesn't exist in loadedMaps. Reading snapshot file and delta files if needed...Note that this is normal for the first batch of starting query.\n",
      "21/10/12 23:57:42 WARN HDFSBackedStateStoreProvider: The state for version 8 doesn't exist in loadedMaps. Reading snapshot file and delta files if needed...Note that this is normal for the first batch of starting query.\n",
      "21/10/12 23:57:42 WARN HDFSBackedStateStoreProvider: The state for version 8 doesn't exist in loadedMaps. Reading snapshot file and delta files if needed...Note that this is normal for the first batch of starting query.\n",
      "21/10/12 23:57:42 WARN HDFSBackedStateStoreProvider: The state for version 8 doesn't exist in loadedMaps. Reading snapshot file and delta files if needed...Note that this is normal for the first batch of starting query.\n",
      "21/10/12 23:57:42 WARN HDFSBackedStateStoreProvider: The state for version 8 doesn't exist in loadedMaps. Reading snapshot file and delta files if needed...Note that this is normal for the first batch of starting query.\n",
      "21/10/12 23:57:42 WARN HDFSBackedStateStoreProvider: The state for version 8 doesn't exist in loadedMaps. Reading snapshot file and delta files if needed...Note that this is normal for the first batch of starting query.\n",
      "21/10/12 23:57:42 WARN HDFSBackedStateStoreProvider: The state for version 8 doesn't exist in loadedMaps. Reading snapshot file and delta files if needed...Note that this is normal for the first batch of starting query.\n",
      "21/10/12 23:57:42 WARN HDFSBackedStateStoreProvider: The state for version 8 doesn't exist in loadedMaps. Reading snapshot file and delta files if needed...Note that this is normal for the first batch of starting query.\n",
      "21/10/12 23:57:42 WARN HDFSBackedStateStoreProvider: The state for version 8 doesn't exist in loadedMaps. Reading snapshot file and delta files if needed...Note that this is normal for the first batch of starting query.\n",
      "21/10/12 23:57:42 WARN HDFSBackedStateStoreProvider: The state for version 8 doesn't exist in loadedMaps. Reading snapshot file and delta files if needed...Note that this is normal for the first batch of starting query.\n",
      "21/10/12 23:57:42 WARN HDFSBackedStateStoreProvider: The state for version 8 doesn't exist in loadedMaps. Reading snapshot file and delta files if needed...Note that this is normal for the first batch of starting query.\n",
      "21/10/12 23:57:42 WARN HDFSBackedStateStoreProvider: The state for version 8 doesn't exist in loadedMaps. Reading snapshot file and delta files if needed...Note that this is normal for the first batch of starting query.\n",
      "21/10/12 23:57:42 WARN HDFSBackedStateStoreProvider: The state for version 8 doesn't exist in loadedMaps. Reading snapshot file and delta files if needed...Note that this is normal for the first batch of starting query.\n",
      "21/10/12 23:57:43 WARN HDFSBackedStateStoreProvider: The state for version 8 doesn't exist in loadedMaps. Reading snapshot file and delta files if needed...Note that this is normal for the first batch of starting query.\n",
      "21/10/12 23:57:43 WARN HDFSBackedStateStoreProvider: The state for version 8 doesn't exist in loadedMaps. Reading snapshot file and delta files if needed...Note that this is normal for the first batch of starting query.\n",
      "21/10/12 23:57:43 WARN HDFSBackedStateStoreProvider: The state for version 8 doesn't exist in loadedMaps. Reading snapshot file and delta files if needed...Note that this is normal for the first batch of starting query.\n",
      "21/10/12 23:57:43 WARN HDFSBackedStateStoreProvider: The state for version 8 doesn't exist in loadedMaps. Reading snapshot file and delta files if needed...Note that this is normal for the first batch of starting query.\n",
      "21/10/12 23:57:43 WARN HDFSBackedStateStoreProvider: The state for version 8 doesn't exist in loadedMaps. Reading snapshot file and delta files if needed...Note that this is normal for the first batch of starting query.\n",
      "21/10/12 23:57:43 WARN HDFSBackedStateStoreProvider: The state for version 8 doesn't exist in loadedMaps. Reading snapshot file and delta files if needed...Note that this is normal for the first batch of starting query.\n",
      "21/10/12 23:57:43 WARN HDFSBackedStateStoreProvider: The state for version 8 doesn't exist in loadedMaps. Reading snapshot file and delta files if needed...Note that this is normal for the first batch of starting query.\n",
      "21/10/12 23:57:43 WARN HDFSBackedStateStoreProvider: The state for version 8 doesn't exist in loadedMaps. Reading snapshot file and delta files if needed...Note that this is normal for the first batch of starting query.\n",
      "21/10/12 23:57:43 WARN HDFSBackedStateStoreProvider: The state for version 8 doesn't exist in loadedMaps. Reading snapshot file and delta files if needed...Note that this is normal for the first batch of starting query.\n",
      "21/10/12 23:57:43 WARN HDFSBackedStateStoreProvider: The state for version 8 doesn't exist in loadedMaps. Reading snapshot file and delta files if needed...Note that this is normal for the first batch of starting query.\n",
      "21/10/12 23:57:43 WARN HDFSBackedStateStoreProvider: The state for version 8 doesn't exist in loadedMaps. Reading snapshot file and delta files if needed...Note that this is normal for the first batch of starting query.\n",
      "21/10/12 23:57:43 WARN HDFSBackedStateStoreProvider: The state for version 8 doesn't exist in loadedMaps. Reading snapshot file and delta files if needed...Note that this is normal for the first batch of starting query.\n",
      "21/10/12 23:57:43 WARN HDFSBackedStateStoreProvider: The state for version 8 doesn't exist in loadedMaps. Reading snapshot file and delta files if needed...Note that this is normal for the first batch of starting query.\n",
      "21/10/12 23:57:43 WARN HDFSBackedStateStoreProvider: The state for version 8 doesn't exist in loadedMaps. Reading snapshot file and delta files if needed...Note that this is normal for the first batch of starting query.\n",
      "21/10/12 23:57:43 WARN HDFSBackedStateStoreProvider: The state for version 8 doesn't exist in loadedMaps. Reading snapshot file and delta files if needed...Note that this is normal for the first batch of starting query.\n",
      "21/10/12 23:57:43 WARN HDFSBackedStateStoreProvider: The state for version 8 doesn't exist in loadedMaps. Reading snapshot file and delta files if needed...Note that this is normal for the first batch of starting query.\n",
      "21/10/12 23:57:43 WARN HDFSBackedStateStoreProvider: The state for version 8 doesn't exist in loadedMaps. Reading snapshot file and delta files if needed...Note that this is normal for the first batch of starting query.\n",
      "21/10/12 23:57:43 WARN HDFSBackedStateStoreProvider: The state for version 8 doesn't exist in loadedMaps. Reading snapshot file and delta files if needed...Note that this is normal for the first batch of starting query.\n",
      "21/10/12 23:57:43 WARN HDFSBackedStateStoreProvider: The state for version 8 doesn't exist in loadedMaps. Reading snapshot file and delta files if needed...Note that this is normal for the first batch of starting query.\n",
      "                                                                                \r"
     ]
    },
    {
     "name": "stdout",
     "output_type": "stream",
     "text": [
      "-------------------------------------------\n",
      "Batch: 8\n",
      "-------------------------------------------\n",
      "+---------+-----+\n",
      "|     word|count|\n",
      "+---------+-----+\n",
      "|    there|    3|\n",
      "|    hello|    3|\n",
      "|    comes|    1|\n",
      "|streaming|    2|\n",
      "|    spark|    3|\n",
      "|      the|    1|\n",
      "|      hey|    1|\n",
      "+---------+-----+\n",
      "\n"
     ]
    },
    {
     "name": "stderr",
     "output_type": "stream",
     "text": [
      "                                                                                \r"
     ]
    },
    {
     "name": "stdout",
     "output_type": "stream",
     "text": [
      "-------------------------------------------\n",
      "Batch: 9\n",
      "-------------------------------------------\n",
      "+---------+-----+\n",
      "|     word|count|\n",
      "+---------+-----+\n",
      "|    there|    4|\n",
      "|    hello|    4|\n",
      "|    comes|    1|\n",
      "|streaming|    2|\n",
      "|    spark|    3|\n",
      "|      the|    1|\n",
      "|      hey|    1|\n",
      "+---------+-----+\n",
      "\n"
     ]
    },
    {
     "name": "stderr",
     "output_type": "stream",
     "text": [
      "[Stage 5:====================================================>  (191 + 1) / 200]\r"
     ]
    },
    {
     "name": "stdout",
     "output_type": "stream",
     "text": [
      "-------------------------------------------\n",
      "Batch: 10\n",
      "-------------------------------------------\n",
      "+---------+-----+\n",
      "|     word|count|\n",
      "+---------+-----+\n",
      "|    there|    4|\n",
      "|    hello|    4|\n",
      "|    comes|    1|\n",
      "|streaming|    2|\n",
      "|       go|    1|\n",
      "|     lets|    1|\n",
      "|    spark|    3|\n",
      "|      the|    1|\n",
      "|      hey|    1|\n",
      "+---------+-----+\n",
      "\n"
     ]
    },
    {
     "name": "stderr",
     "output_type": "stream",
     "text": [
      "                                                                                \r"
     ]
    },
    {
     "name": "stdout",
     "output_type": "stream",
     "text": [
      "-------------------------------------------\n",
      "Batch: 11\n",
      "-------------------------------------------\n",
      "+---------+-----+\n",
      "|     word|count|\n",
      "+---------+-----+\n",
      "|    there|    4|\n",
      "|    hello|    4|\n",
      "|    comes|    1|\n",
      "|streaming|    2|\n",
      "|       go|    1|\n",
      "|     lets|    1|\n",
      "|    spark|    3|\n",
      "|      the|    1|\n",
      "|    where|    1|\n",
      "|      hey|    1|\n",
      "+---------+-----+\n",
      "\n"
     ]
    },
    {
     "name": "stderr",
     "output_type": "stream",
     "text": [
      "                                                                                \r"
     ]
    },
    {
     "name": "stdout",
     "output_type": "stream",
     "text": [
      "-------------------------------------------\n",
      "Batch: 12\n",
      "-------------------------------------------\n",
      "+---------+-----+\n",
      "|     word|count|\n",
      "+---------+-----+\n",
      "|      you|    1|\n",
      "|    there|    5|\n",
      "|    hello|    4|\n",
      "|    comes|    1|\n",
      "|streaming|    2|\n",
      "|       go|    2|\n",
      "|     lets|    1|\n",
      "|    spark|    3|\n",
      "|      the|    1|\n",
      "|    where|    1|\n",
      "|      hey|    1|\n",
      "+---------+-----+\n",
      "\n"
     ]
    },
    {
     "name": "stderr",
     "output_type": "stream",
     "text": [
      "21/10/13 00:03:09 WARN TextSocketMicroBatchStream: Stream closed by localhost:9999\n"
     ]
    }
   ],
   "source": [
    "words_df = linesdf.select(expr(\"explode(split(value,' ')) as word\"))\n",
    "counts_df = words_df.groupBy(\"word\").count()\n",
    "\n",
    "word_count_query = counts_df.writeStream.format(\"console\").option(\"checkpointLocation\",\"chk_point_dir\").outputMode(\"complete\").start()\n",
    "\n",
    "word_count_query.awaitTermination()\n"
   ]
  }
 ],
 "metadata": {
  "kernelspec": {
   "display_name": "Python 3 (ipykernel)",
   "language": "python",
   "name": "python3"
  },
  "language_info": {
   "codemirror_mode": {
    "name": "ipython",
    "version": 3
   },
   "file_extension": ".py",
   "mimetype": "text/x-python",
   "name": "python",
   "nbconvert_exporter": "python",
   "pygments_lexer": "ipython3",
   "version": "3.8.10"
  }
 },
 "nbformat": 4,
 "nbformat_minor": 2
}
