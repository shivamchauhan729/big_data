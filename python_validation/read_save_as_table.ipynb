{
 "cells": [
  {
   "cell_type": "code",
   "execution_count": 1,
   "id": "df78ce2f",
   "metadata": {},
   "outputs": [],
   "source": [
    "from pyspark.sql import SparkSession\n",
    "from pydeequ.verification import *\n",
    "import pydeequ\n",
    "from pydeequ.checks import *"
   ]
  },
  {
   "cell_type": "code",
   "execution_count": 3,
   "id": "979ee067",
   "metadata": {},
   "outputs": [],
   "source": [
    "spark = SparkSession \\\n",
    "    .builder \\\n",
    "    .appName(\"Python Spark SQL basic example\") \\\n",
    "    .getOrCreate()"
   ]
  },
  {
   "cell_type": "code",
   "execution_count": 52,
   "id": "20699f54",
   "metadata": {},
   "outputs": [],
   "source": [
    "import os"
   ]
  },
  {
   "cell_type": "code",
   "execution_count": 48,
   "id": "aeca8779",
   "metadata": {},
   "outputs": [
    {
     "data": {
      "text/plain": [
       "['Campaign.csv', 'User.csv']"
      ]
     },
     "execution_count": 48,
     "metadata": {},
     "output_type": "execute_result"
    }
   ],
   "source": [
    "files = os.listdir('data/')\n",
    "files"
   ]
  },
  {
   "cell_type": "code",
   "execution_count": null,
   "id": "ae0b2b86",
   "metadata": {},
   "outputs": [],
   "source": [
    "os."
   ]
  },
  {
   "cell_type": "code",
   "execution_count": 51,
   "id": "4030154e",
   "metadata": {},
   "outputs": [
    {
     "name": "stdout",
     "output_type": "stream",
     "text": [
      "Campaign\n",
      "+------------------+--------------------+------------------+-------+-----------+-----------+----------+----------+--------------------+------+--------------------+\n",
      "|               _c0|                 _c1|               _c2|    _c3|        _c4|        _c5|       _c6|       _c7|                 _c8|   _c9|                _c10|\n",
      "+------------------+--------------------+------------------+-------+-----------+-----------+----------+----------+--------------------+------+--------------------+\n",
      "|Campaign Legacy Id|       Campaign Name|Location Legacy Id|   Type|Record Type|     Status|Start Date|  End Date|Expected Revenue ...|Active|         Description|\n",
      "|          EF0621AE|Email Fundraising...|           COPHCLB|  Email|  Marketing|In Progress|  6/1/2021| 6/30/2021|               10000|  TRUE|Email marketing c...|\n",
      "|          TRQ32021|Power Hour Tutor ...|             PLMOC|  Email|    General|    Planned|  9/1/2021|12/21/2021|                   0| FALSE|Email blast for r...|\n",
      "|        TPSWEB2021|Triple Play Soul ...|              null|Webinar|Fundraising|In Progress|  1/1/2021|12/31/2021|                   0|  TRUE|Series of webinar...|\n",
      "|        ASEFQ22021|All Stars Sponsor...|           COPHCLB|  Email|  Marketing|In Progress| 5/21/2021|  9/1/2021|               50000|  TRUE|Corporate sponsor...|\n",
      "|       SGVRRCC2021|Smart Girls Volun...|            ROCKCC|  Email|      Event|In Progress|  1/1/2021|12/31/2021|                   0|  TRUE|Smart Girls volun...|\n",
      "+------------------+--------------------+------------------+-------+-----------+-----------+----------+----------+--------------------+------+--------------------+\n",
      "\n",
      "User\n",
      "+--------------------+----------+----------+\n",
      "|                 _c0|       _c1|       _c2|\n",
      "+--------------------+----------+----------+\n",
      "|               Email|First Name| Last Name|\n",
      "|jane.doe@bcgasamp...|      Jane|       Doe|\n",
      "|alexis.washington...|    Alexis|Washington|\n",
      "|reginald.anderson...|  Reginald|  Anderson|\n",
      "|tatiana.smithson@...|   Tatiana|  Smithson|\n",
      "|james.sample@bcga...|     James|    Sample|\n",
      "+--------------------+----------+----------+\n",
      "\n"
     ]
    }
   ],
   "source": [
    "for i in files:\n",
    "    file_name = i.split('.')[0]\n",
    "    print(file_name)\n",
    "    df = spark.read.csv('data/'+i)\n",
    "    df.show()\n",
    "    df.write.mode('overwrite').saveAsTable(file_name)"
   ]
  },
  {
   "cell_type": "code",
   "execution_count": null,
   "id": "8a6507fd",
   "metadata": {},
   "outputs": [],
   "source": []
  }
 ],
 "metadata": {
  "kernelspec": {
   "display_name": "Python 3",
   "language": "python",
   "name": "python3"
  },
  "language_info": {
   "codemirror_mode": {
    "name": "ipython",
    "version": 3
   },
   "file_extension": ".py",
   "mimetype": "text/x-python",
   "name": "python",
   "nbconvert_exporter": "python",
   "pygments_lexer": "ipython3",
   "version": "3.7.6"
  }
 },
 "nbformat": 4,
 "nbformat_minor": 5
}
