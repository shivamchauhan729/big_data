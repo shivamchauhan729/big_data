{
 "cells": [
  {
   "cell_type": "code",
   "execution_count": 2,
   "id": "958204f4",
   "metadata": {},
   "outputs": [],
   "source": [
    "from pyspark.sql import SparkSession\n",
    "from pydeequ.verification import *\n",
    "import pydeequ\n",
    "from pydeequ.checks import *"
   ]
  },
  {
   "cell_type": "code",
   "execution_count": 3,
   "id": "e66d4e6a",
   "metadata": {},
   "outputs": [],
   "source": [
    "spark = SparkSession \\\n",
    "    .builder \\\n",
    "    .appName(\"Python Spark SQL basic example\") \\\n",
    "    .config(\"spark.jars.packages\", pydeequ.deequ_maven_coord)\\\n",
    "    .config(\"spark.jars.excludes\", pydeequ.f2j_maven_coord)\\\n",
    "    .getOrCreate()"
   ]
  },
  {
   "cell_type": "code",
   "execution_count": null,
   "id": "821652f8",
   "metadata": {},
   "outputs": [],
   "source": []
  },
  {
   "cell_type": "code",
   "execution_count": 66,
   "id": "ac02dfb4",
   "metadata": {},
   "outputs": [],
   "source": [
    "## user"
   ]
  },
  {
   "cell_type": "code",
   "execution_count": 85,
   "id": "0c7a8e91",
   "metadata": {},
   "outputs": [],
   "source": [
    "df = spark.read.csv(r'Templates/User - Import Template.csv', header=True)"
   ]
  },
  {
   "cell_type": "code",
   "execution_count": 86,
   "id": "27a20145",
   "metadata": {
    "scrolled": true
   },
   "outputs": [
    {
     "name": "stdout",
     "output_type": "stream",
     "text": [
      "+--------------------------------+----------+----------+\n",
      "|Email                           |First Name|Last Name |\n",
      "+--------------------------------+----------+----------+\n",
      "|jane.doe@bcgasample.com         |Jane      |Doe       |\n",
      "|alexis.washington@bcgasample.com|Alexis    |Washington|\n",
      "|reginald.anderson@bcgasample.com|Reginald  |Anderson  |\n",
      "|tatiana.smithson@bgcasample.com |Tatiana   |Smithson  |\n",
      "|james.sample@bcgasample.com     |James     |Sample    |\n",
      "+--------------------------------+----------+----------+\n",
      "\n"
     ]
    }
   ],
   "source": [
    "df.show(truncate=False)"
   ]
  },
  {
   "cell_type": "code",
   "execution_count": 107,
   "id": "3b960670",
   "metadata": {},
   "outputs": [
    {
     "data": {
      "text/plain": [
       "{'check': \".isComplete('First Name').isComplete('Last Name').hasPattern('Email','^[a-z0-9]+[\\\\._]?[a-z0-9]+[@]\\\\w+[.]\\\\w{2,3}$',lambda x:x==1).hasMaxLength('First Name',lambda x:x<9).hasMaxLength('Last Name',lambda x:x<9)\"}"
      ]
     },
     "execution_count": 107,
     "metadata": {},
     "output_type": "execute_result"
    }
   ],
   "source": [
    "config = spark.read.option(\"multiline\",\"true\").json('pydeequ_config.json')\n",
    "config_df = eval(config.toJSON().collect()[0])\n",
    "config_df"
   ]
  },
  {
   "cell_type": "code",
   "execution_count": 108,
   "id": "55aa4919",
   "metadata": {
    "scrolled": true
   },
   "outputs": [
    {
     "name": "stdout",
     "output_type": "stream",
     "text": [
      "+------------+-----------+------------+-------------------------------------------------------------------------+-----------------+-----------------------------------------------------+\n",
      "|check       |check_level|check_status|constraint                                                               |constraint_status|constraint_message                                   |\n",
      "+------------+-----------+------------+-------------------------------------------------------------------------+-----------------+-----------------------------------------------------+\n",
      "|Review Check|Warning    |Warning     |CompletenessConstraint(Completeness(First Name,None))                    |Success          |                                                     |\n",
      "|Review Check|Warning    |Warning     |CompletenessConstraint(Completeness(Last Name,None))                     |Success          |                                                     |\n",
      "|Review Check|Warning    |Warning     |PatternMatchConstraint(Email, ^[a-z0-9]+[\\._]?[a-z0-9]+[@]\\w+[.]\\w{2,3}$)|Success          |                                                     |\n",
      "|Review Check|Warning    |Warning     |MaxLengthConstraint(MaxLength(First Name,None))                          |Success          |                                                     |\n",
      "|Review Check|Warning    |Warning     |MaxLengthConstraint(MaxLength(Last Name,None))                           |Failure          |Value: 10.0 does not meet the constraint requirement!|\n",
      "+------------+-----------+------------+-------------------------------------------------------------------------+-----------------+-----------------------------------------------------+\n",
      "\n"
     ]
    }
   ],
   "source": [
    "\n",
    "check = Check(spark, CheckLevel.Warning, \"Review Check\")\n",
    "checks = \"check\" + config_df['check']\n",
    "\n",
    "checkResult = VerificationSuite(spark) \\\n",
    ".onData(df) \\\n",
    ".addCheck(eval(checks)).run()\n",
    "\n",
    "checkResult_df = VerificationResult.checkResultsAsDataFrame(spark, checkResult)\n",
    "checkResult_df.show(truncate=False)"
   ]
  },
  {
   "cell_type": "code",
   "execution_count": null,
   "id": "dcfe2697",
   "metadata": {},
   "outputs": [],
   "source": []
  },
  {
   "cell_type": "code",
   "execution_count": null,
   "id": "c9a7390d",
   "metadata": {},
   "outputs": [],
   "source": []
  },
  {
   "cell_type": "code",
   "execution_count": 1,
   "id": "484d3cc3",
   "metadata": {},
   "outputs": [],
   "source": [
    "### relationship"
   ]
  },
  {
   "cell_type": "code",
   "execution_count": 4,
   "id": "152d4327",
   "metadata": {},
   "outputs": [],
   "source": [
    "df = spark.read.csv(r'Templates/Relationship - Import Template.csv', header=True)"
   ]
  },
  {
   "cell_type": "code",
   "execution_count": 5,
   "id": "22705dd7",
   "metadata": {},
   "outputs": [
    {
     "name": "stdout",
     "output_type": "stream",
     "text": [
      "+----------------------+-----------------+-------------------------------------+-------------------------+-------+--------+\n",
      "|Relationship Legacy ID|Contact Legacy ID|Description                          |Related Contact Legacy ID|Status |Type    |\n",
      "+----------------------+-----------------+-------------------------------------+-------------------------+-------+--------+\n",
      "|DEF123                |122              |Ronald McHenry is Irene maddox's son |36812245                 |Current|Parent  |\n",
      "|DEF124                |156              |Related contact is contact's son     |36812452                 |Current|Parent  |\n",
      "|DEF125                |36774867         |Related contact is contact's son     |36812975                 |Current|Parent  |\n",
      "|DEF126                |36786050         |Related contact is contact's son     |36814590                 |Current|Friend  |\n",
      "|DEF127                |36806536         |Related contact is contact's coworker|36816516                 |Current|Coworker|\n",
      "+----------------------+-----------------+-------------------------------------+-------------------------+-------+--------+\n",
      "\n"
     ]
    }
   ],
   "source": [
    "df.show(truncate=False)"
   ]
  },
  {
   "cell_type": "code",
   "execution_count": 8,
   "id": "31c1e773",
   "metadata": {},
   "outputs": [
    {
     "name": "stdout",
     "output_type": "stream",
     "text": [
      "+------------+-----------+------------+--------------------+-----------------+------------------+\n",
      "|       check|check_level|check_status|          constraint|constraint_status|constraint_message|\n",
      "+------------+-----------+------------+--------------------+-----------------+------------------+\n",
      "|Review Check|    Warning|     Success|UniquenessConstra...|          Success|                  |\n",
      "|Review Check|    Warning|     Success|CompletenessConst...|          Success|                  |\n",
      "|Review Check|    Warning|     Success|CompletenessConst...|          Success|                  |\n",
      "|Review Check|    Warning|     Success|ComplianceConstra...|          Success|                  |\n",
      "|Review Check|    Warning|     Success|ComplianceConstra...|          Success|                  |\n",
      "+------------+-----------+------------+--------------------+-----------------+------------------+\n",
      "\n"
     ]
    }
   ],
   "source": [
    "\n",
    "check = Check(spark, CheckLevel.Warning, \"Review Check\")\n",
    "\n",
    "checkResult = VerificationSuite(spark) \\\n",
    ".onData(df) \\\n",
    ".addCheck(\n",
    "check.isUnique('Relationship Legacy ID')\\\n",
    ".isComplete('Contact Legacy ID')\\\n",
    ".isComplete('Related Contact Legacy ID')\\\n",
    ".isContainedIn('Status',['Current','Former'])\\\n",
    ".isContainedIn('Type',['Friend','Family','Coworker','Father','Mother','Parent','Son','Daughter','Child','Aunt','Uncle','Husband','Wife','Partner','Cousin','Grandmother','Grandfather','Grandparent','Grandson','Granddaughter','Grandchild','Employer','Employee','Case Worker','Teacher','Sibling','Guardian','Foster Parent','Other'])).run()\n",
    "\n",
    "checkResult_df = VerificationResult.checkResultsAsDataFrame(spark, checkResult)\n",
    "checkResult_df.show()"
   ]
  },
  {
   "cell_type": "code",
   "execution_count": null,
   "id": "598b2c9e",
   "metadata": {},
   "outputs": [],
   "source": []
  },
  {
   "cell_type": "code",
   "execution_count": null,
   "id": "03eb383a",
   "metadata": {},
   "outputs": [],
   "source": []
  },
  {
   "cell_type": "code",
   "execution_count": 9,
   "id": "fc3daa71",
   "metadata": {},
   "outputs": [],
   "source": [
    "## membership"
   ]
  },
  {
   "cell_type": "code",
   "execution_count": 72,
   "id": "86622f36",
   "metadata": {},
   "outputs": [],
   "source": [
    "df = spark.read.csv(r'Templates/Membership - Import Template.csv', header=True)"
   ]
  },
  {
   "cell_type": "code",
   "execution_count": 44,
   "id": "b4f5a531",
   "metadata": {
    "scrolled": true
   },
   "outputs": [
    {
     "name": "stdout",
     "output_type": "stream",
     "text": [
      "+--------------------+-----------------+-----------------+---------------+-----------------+-------------------------------------------------------------+---------------------+---------------------+-------------------+-----------------------------+\n",
      "|Legacy Id           |Account Legacy Id|Contact Legacy Id|Membership Type|Membership Status|Category Name                                                |Record Type Name     |Membership Start Date|Membership End Date|Membership Category Legacy ID|\n",
      "+--------------------+-----------------+-----------------+---------------+-----------------+-------------------------------------------------------------+---------------------+---------------------+-------------------+-----------------------------+\n",
      "|LegacyMembershipID1 |123181           |113              |Adult          |Draft            |School Year Memberships - James T. Anderson Boys & Girls Club|Punch Pass Membership|8/2/2021             |6/1/2022           |MembershipCategoryID1        |\n",
      "|LegacyMembershipID2 |123185           |117              |Adult          |Active           |Staff and Volunteer                                          |Standard Membership  |5/19/2021            |12/31/2021         |MembershipCategoryID2        |\n",
      "|LegacyMembershipID3 |123188           |120              |Adult          |Active           |Staff and Volunteer                                          |Punch Pass Membership|5/25/2021            |12/31/2021         |MembershipCategoryID3        |\n",
      "|LegacyMembershipID4 |SM3220           |122              |Adult          |Active           |Staff and Volunteer                                          |Standard Membership  |5/19/2021            |12/31/2021         |MembershipCategoryID4        |\n",
      "|LegacyMembershipID5 |SH2504           |156              |Adult          |Pending Active   |School Year Memberships - James T. Anderson Boys & Girls Club|Punch Pass Membership|8/2/2021             |6/1/2022           |MembershipCategoryID5        |\n",
      "|LegacyMembershipID6 |123185           |117              |Adult          |Pending Active   |Haabiba's WSBGClub Main Memberships - SY2021-22              |Standard Membership  |8/30/2021            |6/29/2022          |MembershipCategoryID6        |\n",
      "|LegacyMembershipID7 |123188           |120              |Adult          |Draft            |Cope Boys & Girls Club School Year Memberships               |Punch Pass Membership|8/15/2021            |8/14/2022          |MembershipCategoryID7        |\n",
      "|LegacyMembershipID8 |SM3220           |122              |Adult          |Draft            |School Year Membership - MCAA Boys & Girls Club              |Standard Membership  |8/2/2021             |6/1/2022           |MembershipCategoryID8        |\n",
      "|LegacyMembershipID9 |SH2504           |156              |Adult          |Pending Active   |School Year Membership - MCAA Boys & Girls Club              |Punch Pass Membership|8/2/2021             |6/1/2022           |MembershipCategoryID9        |\n",
      "|LegacyMembershipID10|123181           |113              |Adult          |On Hold          |Test Category Name 1                                         |Standard Membership  |5/28/2021            |5/28/2021          |MembershipCategoryID10       |\n",
      "+--------------------+-----------------+-----------------+---------------+-----------------+-------------------------------------------------------------+---------------------+---------------------+-------------------+-----------------------------+\n",
      "\n"
     ]
    }
   ],
   "source": [
    "df.show(truncate=False)"
   ]
  },
  {
   "cell_type": "code",
   "execution_count": 73,
   "id": "71c87689",
   "metadata": {
    "scrolled": true
   },
   "outputs": [
    {
     "name": "stdout",
     "output_type": "stream",
     "text": [
      "+------------+-----------+------------+-----------------------------------------------------------------------------------------------------------------------------------------------------------------------------------------------------------------------------------------------------------------------------------------------------------------------------------+-----------------+----------------------------------------------------+\n",
      "|check       |check_level|check_status|constraint                                                                                                                                                                                                                                                                                                                         |constraint_status|constraint_message                                  |\n",
      "+------------+-----------+------------+-----------------------------------------------------------------------------------------------------------------------------------------------------------------------------------------------------------------------------------------------------------------------------------------------------------------------------------+-----------------+----------------------------------------------------+\n",
      "|Review Check|Warning    |Warning     |UniquenessConstraint(Uniqueness(List(Legacy ID),None))                                                                                                                                                                                                                                                                             |Success          |                                                    |\n",
      "|Review Check|Warning    |Warning     |CompletenessConstraint(Completeness(Legacy ID,None))                                                                                                                                                                                                                                                                               |Success          |                                                    |\n",
      "|Review Check|Warning    |Warning     |CompletenessConstraint(Completeness(Account Legacy Id,None))                                                                                                                                                                                                                                                                       |Success          |                                                    |\n",
      "|Review Check|Warning    |Warning     |UniquenessConstraint(Uniqueness(List(Account Legacy Id),None))                                                                                                                                                                                                                                                                     |Failure          |Value: 0.0 does not meet the constraint requirement!|\n",
      "|Review Check|Warning    |Warning     |CompletenessConstraint(Completeness(Contact Legacy Id,None))                                                                                                                                                                                                                                                                       |Success          |                                                    |\n",
      "|Review Check|Warning    |Warning     |UniquenessConstraint(Uniqueness(List(Contact Legacy Id),None))                                                                                                                                                                                                                                                                     |Failure          |Value: 0.0 does not meet the constraint requirement!|\n",
      "|Review Check|Warning    |Warning     |MaxLengthConstraint(MaxLength(Category Name,None))                                                                                                                                                                                                                                                                                 |Success          |                                                    |\n",
      "|Review Check|Warning    |Warning     |CompletenessConstraint(Completeness(Record Type Name,None))                                                                                                                                                                                                                                                                        |Success          |                                                    |\n",
      "|Review Check|Warning    |Warning     |ComplianceConstraint(Compliance(Record Type Name contained in Punch Pass Membership,Standard Membership,`Record Type Name` IS NULL OR `Record Type Name` IN ('Punch Pass Membership','Standard Membership'),None))                                                                                                                 |Success          |                                                    |\n",
      "|Review Check|Warning    |Warning     |ComplianceConstraint(Compliance(Membership Status contained in On Hold,Active,Pending Active,Draft,Pending,Cancel,Pending Hold,Pending Transfer,Complete,`Membership Status` IS NULL OR `Membership Status` IN ('On Hold','Active','Pending Active','Draft','Pending','Cancel','Pending Hold','Pending Transfer','Complete'),None))|Success          |                                                    |\n",
      "|Review Check|Warning    |Warning     |CompletenessConstraint(Completeness(Membership Start Date,None))                                                                                                                                                                                                                                                                   |Success          |                                                    |\n",
      "|Review Check|Warning    |Warning     |PatternMatchConstraint(Membership Start Date, \\d.*\\/.*\\d.*\\/.*\\d)                                                                                                                                                                                                                                                                  |Success          |                                                    |\n",
      "|Review Check|Warning    |Warning     |PatternMatchConstraint(Membership End Date, \\d.*\\/.*\\d.*\\/.*\\d)                                                                                                                                                                                                                                                                    |Success          |                                                    |\n",
      "|Review Check|Warning    |Warning     |CompletenessConstraint(Completeness(Membership End Date,None))                                                                                                                                                                                                                                                                     |Success          |                                                    |\n",
      "+------------+-----------+------------+-----------------------------------------------------------------------------------------------------------------------------------------------------------------------------------------------------------------------------------------------------------------------------------------------------------------------------------+-----------------+----------------------------------------------------+\n",
      "\n"
     ]
    }
   ],
   "source": [
    "\n",
    "check = Check(spark, CheckLevel.Warning, \"Review Check\")\n",
    "\n",
    "checkResult = VerificationSuite(spark) \\\n",
    ".onData(df) \\\n",
    ".addCheck(\n",
    "check.isUnique('Legacy ID')\\\n",
    ".isComplete('Legacy ID')\\\n",
    ".isComplete('Account Legacy Id')\\\n",
    ".isUnique('Account Legacy Id')\\\n",
    ".isComplete('Contact Legacy Id')\\\n",
    ".isUnique('Contact Legacy Id')\\\n",
    ".hasMaxLength('Category Name',lambda x:x<=255)\\\n",
    ".isComplete('Record Type Name')\\\n",
    ".isContainedIn('Record Type Name',['Punch Pass Membership', 'Standard Membership'])\\\n",
    ".isContainedIn('Membership Status',['On Hold','Active','Pending Active','Draft','Pending','Cancel','Pending Hold','Pending Transfer','Complete'])\\\n",
    ".isComplete('Membership Start Date')\\\n",
    ".hasPattern(\"Membership Start Date\",\"\\d.*\\/.*\\d.*\\/.*\\d\",lambda x:x==1)\\\n",
    ".hasPattern(\"Membership End Date\",\"\\d.*\\/.*\\d.*\\/.*\\d\",lambda x:x==1)\\\n",
    ".isComplete('Membership End Date')).run()\n",
    "\n",
    "checkResult_df = VerificationResult.checkResultsAsDataFrame(spark, checkResult)\n",
    "checkResult_df.show(truncate=False)"
   ]
  },
  {
   "cell_type": "code",
   "execution_count": null,
   "id": "02060123",
   "metadata": {},
   "outputs": [],
   "source": []
  },
  {
   "cell_type": "code",
   "execution_count": null,
   "id": "96ec9df8",
   "metadata": {},
   "outputs": [],
   "source": []
  },
  {
   "cell_type": "code",
   "execution_count": 47,
   "id": "9f728c6f",
   "metadata": {},
   "outputs": [],
   "source": [
    "##facility visit"
   ]
  },
  {
   "cell_type": "code",
   "execution_count": 68,
   "id": "08c2d679",
   "metadata": {},
   "outputs": [],
   "source": [
    "df = spark.read.csv(r'Templates/Facility Visit - Import Template.csv', header=True)"
   ]
  },
  {
   "cell_type": "code",
   "execution_count": 49,
   "id": "f27059b0",
   "metadata": {
    "scrolled": true
   },
   "outputs": [
    {
     "name": "stdout",
     "output_type": "stream",
     "text": [
      "+------------------+---------------------------------+--------------------------------+-----------------+----------------------------+--------------+--------------+-----------------------+---------------+--------------------+-----------------+-----------------+----------------------+\n",
      "|         Legacy Id|Entry Scanning Location Legacy Id|Exit Scanning Location Legacy Id|Contact Legacy Id|Entry Scanning Location Name|  Scan In Time| Scan Out Time|Legacy Course Option Id|Is Program Scan|Optional Staff Stamp|Requires Scan Out|Grade as of Visit|School as of Scan Date|\n",
      "+------------------+---------------------------------+--------------------------------+-----------------+----------------------------+--------------+--------------+-----------------------+---------------+--------------------+-----------------+-----------------+----------------------+\n",
      "| FacVisitLegacyId1|             ScanLocationLegac...|            ExitLocationLegac...|              113|           Sample Power Hour|5/19/2021 3:22|5/29/2021 3:22|        CourseOptionId1|           TRUE|Optional stamp text1|             TRUE|          Grade 2|            ABC School|\n",
      "| FacVisitLegacyId2|             ScanLocationLegac...|            ExitLocationLegac...|              117|        Sample Visitor Ce...|5/20/2021 3:22|5/30/2021 3:22|        CourseOptionId2|          FALSE|Optional stamp text2|            FALSE|          Grade 3|            ABC School|\n",
      "| FacVisitLegacyId3|             ScanLocationLegac...|            ExitLocationLegac...|              120|           Sample Front Desk|5/21/2021 3:22|5/31/2021 3:22|        CourseOptionId3|           TRUE|Optional stamp text3|             TRUE|          Grade 4|            ABC School|\n",
      "| FacVisitLegacyId4|             ScanLocationLegac...|            ExitLocationLegac...|              122|           Sample Front Desk|5/22/2021 3:22| 6/1/2021 3:22|        CourseOptionId4|          FALSE|Optional stamp text4|            FALSE|          Grade 5|            ABC School|\n",
      "| FacVisitLegacyId5|             ScanLocationLegac...|            ExitLocationLegac...|              156|           Sample Power Hour|5/23/2021 3:22| 6/2/2021 3:22|        CourseOptionId5|           TRUE|Optional stamp text5|             TRUE|          Grade 6|            DEF School|\n",
      "| FacVisitLegacyId6|             ScanLocationLegac...|            ExitLocationLegac...|              117|           Sample Power Hour|5/24/2021 3:22| 6/3/2021 3:22|        CourseOptionId6|          FALSE|Optional stamp text6|            FALSE|          Grade 3|            DEF School|\n",
      "| FacVisitLegacyId7|             ScanLocationLegac...|            ExitLocationLegac...|              120|           Sample After Care|5/25/2021 3:22| 6/4/2021 3:22|        CourseOptionId7|           TRUE|Optional stamp text7|             TRUE|          Grade 4|            DEF School|\n",
      "| FacVisitLegacyId8|             ScanLocationLegac...|            ExitLocationLegac...|              122|           Sample Power Hour|5/26/2021 3:22| 6/5/2021 3:22|        CourseOptionId8|          FALSE|Optional stamp text8|            FALSE|          Grade 5|            DEF School|\n",
      "| FacVisitLegacyId9|             ScanLocationLegac...|            ExitLocationLegac...|              156|           Sample Power Hour|5/27/2021 3:22| 6/6/2021 3:22|        CourseOptionId9|           TRUE|Optional stamp text9|             TRUE|          Grade 6|            DEF School|\n",
      "|FacVisitLegacyId10|             ScanLocationLegac...|            ExitLocationLegac...|              113|        Test Scanning Loc...|5/28/2021 3:22|5/28/2021 3:22|       CourseOptionId10|          FALSE|Optional stamp te...|            FALSE|          Grade 3|            DEF School|\n",
      "+------------------+---------------------------------+--------------------------------+-----------------+----------------------------+--------------+--------------+-----------------------+---------------+--------------------+-----------------+-----------------+----------------------+\n",
      "\n"
     ]
    }
   ],
   "source": [
    "df.show()"
   ]
  },
  {
   "cell_type": "code",
   "execution_count": 69,
   "id": "500843b6",
   "metadata": {
    "scrolled": true
   },
   "outputs": [
    {
     "name": "stdout",
     "output_type": "stream",
     "text": [
      "+------------+-----------+------------+-------------------------------------------------------------------------------------------------------------------------------------------------------+-----------------+------------------+\n",
      "|check       |check_level|check_status|constraint                                                                                                                                             |constraint_status|constraint_message|\n",
      "+------------+-----------+------------+-------------------------------------------------------------------------------------------------------------------------------------------------------+-----------------+------------------+\n",
      "|Review Check|Warning    |Success     |UniquenessConstraint(Uniqueness(List(Legacy ID),None))                                                                                                 |Success          |                  |\n",
      "|Review Check|Warning    |Success     |CompletenessConstraint(Completeness(Legacy ID,None))                                                                                                   |Success          |                  |\n",
      "|Review Check|Warning    |Success     |CompletenessConstraint(Completeness(Entry Scanning Location Legacy Id,None))                                                                           |Success          |                  |\n",
      "|Review Check|Warning    |Success     |CompletenessConstraint(Completeness(Exit Scanning Location Legacy Id,None))                                                                            |Success          |                  |\n",
      "|Review Check|Warning    |Success     |CompletenessConstraint(Completeness(Contact Legacy Id,None))                                                                                           |Success          |                  |\n",
      "|Review Check|Warning    |Success     |MaxLengthConstraint(MaxLength(Entry Scanning Location Name,None))                                                                                      |Success          |                  |\n",
      "|Review Check|Warning    |Success     |CompletenessConstraint(Completeness(Scan In Time,None))                                                                                                |Success          |                  |\n",
      "|Review Check|Warning    |Success     |PatternMatchConstraint(Scan In Time, \\d.*\\/.*\\d.*\\/.*\\d)                                                                                               |Success          |                  |\n",
      "|Review Check|Warning    |Success     |PatternMatchConstraint(Scan Out Time, \\d.*\\/.*\\d.*\\/.*\\d)                                                                                              |Success          |                  |\n",
      "|Review Check|Warning    |Success     |MaxLengthConstraint(MaxLength(Legacy Course Option Id,None))                                                                                           |Success          |                  |\n",
      "|Review Check|Warning    |Success     |MaxLengthConstraint(MaxLength(Optional Staff Stamp,None))                                                                                              |Success          |                  |\n",
      "|Review Check|Warning    |Success     |MaxLengthConstraint(MaxLength(Grade as of Visit,None))                                                                                                 |Success          |                  |\n",
      "|Review Check|Warning    |Success     |MaxLengthConstraint(MaxLength(School as of Scan Date,None))                                                                                            |Success          |                  |\n",
      "|Review Check|Warning    |Success     |ComplianceConstraint(Compliance(Requires Scan Out contained in TRUE,FALSE,`Requires Scan Out` IS NULL OR `Requires Scan Out` IN ('TRUE','FALSE'),None))|Success          |                  |\n",
      "|Review Check|Warning    |Success     |ComplianceConstraint(Compliance(Is Program Scan contained in TRUE,FALSE,`Is Program Scan` IS NULL OR `Is Program Scan` IN ('TRUE','FALSE'),None))      |Success          |                  |\n",
      "+------------+-----------+------------+-------------------------------------------------------------------------------------------------------------------------------------------------------+-----------------+------------------+\n",
      "\n"
     ]
    }
   ],
   "source": [
    "\n",
    "check = Check(spark, CheckLevel.Warning, \"Review Check\")\n",
    "\n",
    "checkResult = VerificationSuite(spark) \\\n",
    ".onData(df) \\\n",
    ".addCheck(\n",
    "check.isUnique('Legacy ID')\\\n",
    ".isComplete('Legacy ID')\\\n",
    ".isComplete('Entry Scanning Location Legacy Id')\\\n",
    ".isComplete('Exit Scanning Location Legacy Id')\\\n",
    ".isComplete('Contact Legacy Id')\\\n",
    ".hasMaxLength('Entry Scanning Location Name',lambda x:x<=100)\\\n",
    ".isComplete('Scan In Time')\\\n",
    ".hasPattern(\"Scan In Time\",\"\\d.*\\/.*\\d.*\\/.*\\d\",lambda x:x==1)\\\n",
    ".hasPattern(\"Scan Out Time\",\"\\d.*\\/.*\\d.*\\/.*\\d\",lambda x:x==1)\\\n",
    ".hasMaxLength('Legacy Course Option Id',lambda x:x<=255)\\\n",
    ".hasMaxLength('Optional Staff Stamp',lambda x:x<=255)\\\n",
    ".hasMaxLength('Grade as of Visit',lambda x:x<=255)\\\n",
    ".hasMaxLength('School as of Scan Date',lambda x:x<=255)\\\n",
    ".isContainedIn('Requires Scan Out',['TRUE', 'FALSE'])\\\n",
    ".isContainedIn('Is Program Scan',['TRUE', 'FALSE'])).run()\n",
    "\n",
    "checkResult_df = VerificationResult.checkResultsAsDataFrame(spark, checkResult)\n",
    "checkResult_df.show(truncate=False)"
   ]
  },
  {
   "cell_type": "code",
   "execution_count": null,
   "id": "58643b9f",
   "metadata": {},
   "outputs": [],
   "source": []
  },
  {
   "cell_type": "code",
   "execution_count": 60,
   "id": "9f4ecd3c",
   "metadata": {},
   "outputs": [],
   "source": [
    "## address"
   ]
  },
  {
   "cell_type": "code",
   "execution_count": 61,
   "id": "d5b43c9a",
   "metadata": {},
   "outputs": [
    {
     "name": "stdout",
     "output_type": "stream",
     "text": [
      "+-----------------+-----------------+------------+-----------+------------+---------------+-----------------------+----------------------+--------------------+---------------+\n",
      "|Address Legacy ID|Account Legacy ID|Address Type|County Name|Mailing City|Mailing Country|Mailing Zip/Postal Code|Mailing State/Province|      Mailing Street|Mailing Street2|\n",
      "+-----------------+-----------------+------------+-----------+------------+---------------+-----------------------+----------------------+--------------------+---------------+\n",
      "|           ABC123|           123181|        Work|   McKinney|      Austin|  United States|                  78759|                 Texas|    1620 Windham Way|         Unit 5|\n",
      "|           ABC124|           123185|        Work|     Dallas|      Austin|  United States|                  78756|                 Texas|     9570 W 35th St.|           null|\n",
      "|           ABC125|           123188|        Work|     Dallas|       Elgin|  United States|                  78753|                 Texas| 7422 N. Lamar Blvd.|           null|\n",
      "|           ABC126|           SM3220|    Vacation|   Richmond|      Austin|  United States|                  78703|                 Texas|      210 W 10th St.|           null|\n",
      "|           ABC127|           SH2504|       Other|   Richmond|      Austin|  United States|                  78703|                 Texas|1615 W Cesar Chav...|   Apartment 10|\n",
      "+-----------------+-----------------+------------+-----------+------------+---------------+-----------------------+----------------------+--------------------+---------------+\n",
      "\n"
     ]
    }
   ],
   "source": [
    "df = spark.read.csv(r'Templates/Address - Import Template.csv', header=True)\n",
    "df.show()"
   ]
  },
  {
   "cell_type": "code",
   "execution_count": 67,
   "id": "25b006bf",
   "metadata": {},
   "outputs": [
    {
     "name": "stdout",
     "output_type": "stream",
     "text": [
      "+------------+-----------+------------+------------------------------------------------------------------------------------------------------------------------------------------------------------------------+-----------------+------------------+\n",
      "|check       |check_level|check_status|constraint                                                                                                                                                              |constraint_status|constraint_message|\n",
      "+------------+-----------+------------+------------------------------------------------------------------------------------------------------------------------------------------------------------------------+-----------------+------------------+\n",
      "|Review Check|Warning    |Success     |CompletenessConstraint(Completeness(Address Legacy ID,None))                                                                                                            |Success          |                  |\n",
      "|Review Check|Warning    |Success     |UniquenessConstraint(Uniqueness(List(Address Legacy ID),None))                                                                                                          |Success          |                  |\n",
      "|Review Check|Warning    |Success     |CompletenessConstraint(Completeness(Account Legacy ID,None))                                                                                                            |Success          |                  |\n",
      "|Review Check|Warning    |Success     |MaxLengthConstraint(MaxLength(County Name,None))                                                                                                                        |Success          |                  |\n",
      "|Review Check|Warning    |Success     |ComplianceConstraint(Compliance(Address Type contained in Work,Other,Vacation,Home,`Address Type` IS NULL OR `Address Type` IN ('Work','Other','Vacation','Home'),None))|Success          |                  |\n",
      "+------------+-----------+------------+------------------------------------------------------------------------------------------------------------------------------------------------------------------------+-----------------+------------------+\n",
      "\n"
     ]
    }
   ],
   "source": [
    "\n",
    "check = Check(spark, CheckLevel.Warning, \"Review Check\")\n",
    "\n",
    "checkResult = VerificationSuite(spark) \\\n",
    ".onData(df) \\\n",
    ".addCheck(\n",
    "check.isComplete('Address Legacy ID')\\\n",
    ".isUnique('Address Legacy ID')\\\n",
    ".isComplete('Account Legacy ID')\n",
    ".hasMaxLength('County Name',lambda x:x<=50)\\\n",
    ".isContainedIn('Address Type',['Work', 'Other','Vacation','Home'])).run()\n",
    "\n",
    "checkResult_df = VerificationResult.checkResultsAsDataFrame(spark, checkResult)\n",
    "checkResult_df.show(truncate=False)"
   ]
  },
  {
   "cell_type": "code",
   "execution_count": null,
   "id": "2fcb9e51",
   "metadata": {},
   "outputs": [],
   "source": []
  }
 ],
 "metadata": {
  "kernelspec": {
   "display_name": "Python 3",
   "language": "python",
   "name": "python3"
  },
  "language_info": {
   "codemirror_mode": {
    "name": "ipython",
    "version": 3
   },
   "file_extension": ".py",
   "mimetype": "text/x-python",
   "name": "python",
   "nbconvert_exporter": "python",
   "pygments_lexer": "ipython3",
   "version": "3.7.6"
  }
 },
 "nbformat": 4,
 "nbformat_minor": 5
}
