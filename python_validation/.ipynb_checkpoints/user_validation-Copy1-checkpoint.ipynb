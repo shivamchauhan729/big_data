{
 "cells": [
  {
   "cell_type": "code",
   "execution_count": 22,
   "id": "dca7e24c",
   "metadata": {},
   "outputs": [],
   "source": [
    "from pyspark.sql import SparkSession\n",
    "from pyspark.sql.functions import *\n",
    "import json"
   ]
  },
  {
   "cell_type": "code",
   "execution_count": 2,
   "id": "6e962a77",
   "metadata": {},
   "outputs": [],
   "source": [
    "spark = SparkSession.builder.getOrCreate()"
   ]
  },
  {
   "cell_type": "code",
   "execution_count": 111,
   "id": "699719e8",
   "metadata": {},
   "outputs": [],
   "source": [
    "config = spark.read.option(\"multiline\",\"true\").json('config.json')\n",
    "config_df = eval(config.toJSON().collect()[0])"
   ]
  },
  {
   "cell_type": "code",
   "execution_count": 112,
   "id": "97e2c320",
   "metadata": {},
   "outputs": [
    {
     "data": {
      "text/plain": [
       "{'character_check': \"[('First Name',40),('Last Name',80)]\",\n",
       " 'validate_null': \"['First Name','Last Name']\"}"
      ]
     },
     "execution_count": 112,
     "metadata": {},
     "output_type": "execute_result"
    }
   ],
   "source": [
    "config_df"
   ]
  },
  {
   "cell_type": "code",
   "execution_count": 113,
   "id": "0d78a74c",
   "metadata": {},
   "outputs": [
    {
     "data": {
      "text/plain": [
       "dict_items([('character_check', \"[('First Name',40),('Last Name',80)]\"), ('validate_null', \"['First Name','Last Name']\")])"
      ]
     },
     "execution_count": 113,
     "metadata": {},
     "output_type": "execute_result"
    }
   ],
   "source": [
    "config_df.items()"
   ]
  },
  {
   "cell_type": "code",
   "execution_count": 94,
   "id": "53b73acc",
   "metadata": {},
   "outputs": [
    {
     "data": {
      "text/plain": [
       "['First Name', 'Last Name']"
      ]
     },
     "execution_count": 94,
     "metadata": {},
     "output_type": "execute_result"
    }
   ],
   "source": [
    "eval(config_df['validate_null'])"
   ]
  },
  {
   "cell_type": "code",
   "execution_count": 103,
   "id": "8d668d0d",
   "metadata": {},
   "outputs": [
    {
     "data": {
      "text/plain": [
       "[('First Name', 40), ('Last Name', 80)]"
      ]
     },
     "execution_count": 103,
     "metadata": {},
     "output_type": "execute_result"
    }
   ],
   "source": [
    "list(config_df['character_check'].items())"
   ]
  },
  {
   "cell_type": "code",
   "execution_count": null,
   "id": "d70b8bb2",
   "metadata": {},
   "outputs": [],
   "source": [
    "config_df['character_check']"
   ]
  },
  {
   "cell_type": "code",
   "execution_count": 110,
   "id": "22dc3df4",
   "metadata": {
    "scrolled": false
   },
   "outputs": [
    {
     "data": {
      "text/plain": [
       "[False, False]"
      ]
     },
     "execution_count": 110,
     "metadata": {},
     "output_type": "execute_result"
    }
   ],
   "source": [
    "list(map(eval(\"validate_null\"),eval(config_df['validate_null'])))"
   ]
  },
  {
   "cell_type": "code",
   "execution_count": 117,
   "id": "4eec292a",
   "metadata": {
    "scrolled": true
   },
   "outputs": [
    {
     "data": {
      "text/plain": [
       "[True, True]"
      ]
     },
     "execution_count": 117,
     "metadata": {},
     "output_type": "execute_result"
    }
   ],
   "source": [
    "list(map(eval(\"character_check\"),eval(config_df['character_check'])))"
   ]
  },
  {
   "cell_type": "code",
   "execution_count": 108,
   "id": "1c255cf9",
   "metadata": {
    "scrolled": false
   },
   "outputs": [
    {
     "data": {
      "text/plain": [
       "[True, True]"
      ]
     },
     "execution_count": 108,
     "metadata": {},
     "output_type": "execute_result"
    }
   ],
   "source": [
    "list(map(eval('character_check'),list(config_df['character_check'].items())))"
   ]
  },
  {
   "cell_type": "code",
   "execution_count": 119,
   "id": "5d294186",
   "metadata": {},
   "outputs": [
    {
     "data": {
      "text/plain": [
       "dict_keys(['character_check', 'validate_null'])"
      ]
     },
     "execution_count": 119,
     "metadata": {},
     "output_type": "execute_result"
    }
   ],
   "source": [
    "config_df.keys()"
   ]
  },
  {
   "cell_type": "code",
   "execution_count": 121,
   "id": "45c8f016",
   "metadata": {},
   "outputs": [
    {
     "name": "stdout",
     "output_type": "stream",
     "text": [
      "character_check\n",
      "[True, True]\n",
      "validate_null\n",
      "[False, False]\n"
     ]
    }
   ],
   "source": [
    "for keys in config_df.keys():\n",
    "    print(keys)\n",
    "    print(list(map(eval(keys),eval(config_df[keys]))))"
   ]
  },
  {
   "cell_type": "code",
   "execution_count": 39,
   "id": "cd08f633",
   "metadata": {},
   "outputs": [],
   "source": [
    "df = spark.read.csv(r'Templates/User - Import Template.csv', header=True)"
   ]
  },
  {
   "cell_type": "code",
   "execution_count": 40,
   "id": "b2b1ab76",
   "metadata": {},
   "outputs": [
    {
     "name": "stdout",
     "output_type": "stream",
     "text": [
      "+--------------------------------+----------+----------+\n",
      "|Email                           |First Name|Last Name |\n",
      "+--------------------------------+----------+----------+\n",
      "|jane.doe@bcgasample.com         |Jane      |Doe       |\n",
      "|alexis.washington@bcgasample.com|Alexis    |Washington|\n",
      "|reginald.anderson@bcgasample.com|Reginald  |Anderson  |\n",
      "|tatiana.smithson@bgcasample.com |Tatiana   |Smithson  |\n",
      "|james.sample@bcgasample.com     |James     |Sample    |\n",
      "+--------------------------------+----------+----------+\n",
      "\n"
     ]
    }
   ],
   "source": [
    "df.show(truncate=False)"
   ]
  },
  {
   "cell_type": "code",
   "execution_count": null,
   "id": "e2c85eeb",
   "metadata": {},
   "outputs": [],
   "source": []
  },
  {
   "cell_type": "code",
   "execution_count": null,
   "id": "47674832",
   "metadata": {},
   "outputs": [],
   "source": []
  },
  {
   "cell_type": "code",
   "execution_count": 109,
   "id": "de098041",
   "metadata": {},
   "outputs": [],
   "source": [
    "def validate_null(field):\n",
    "    if df.filter(df[field].isNull()).first():\n",
    "        return True\n",
    "    else:\n",
    "        return False"
   ]
  },
  {
   "cell_type": "code",
   "execution_count": 42,
   "id": "d8d89bb3",
   "metadata": {},
   "outputs": [],
   "source": [
    "def check_email_format(field):\n",
    "    regex = r'^[a-z0-9]+[\\._]?[a-z0-9]+[@]\\w+[.]\\w{2,3}$' \n",
    "    df1 = df.filter(df[field].rlike(regex))\n",
    "    df2 = df.subtract(df1)\n",
    "    if df2.first():\n",
    "        return False\n",
    "    else:\n",
    "        return True"
   ]
  },
  {
   "cell_type": "code",
   "execution_count": 107,
   "id": "220c8f03",
   "metadata": {},
   "outputs": [],
   "source": [
    "def character_check(field_value):\n",
    "    if df.filter(length(df[field_value[0]])>field_value[1]).first():\n",
    "        return False\n",
    "    else:\n",
    "        return True"
   ]
  },
  {
   "cell_type": "code",
   "execution_count": null,
   "id": "688f0cf9",
   "metadata": {},
   "outputs": [],
   "source": []
  },
  {
   "cell_type": "code",
   "execution_count": null,
   "id": "662672d5",
   "metadata": {},
   "outputs": [],
   "source": []
  },
  {
   "cell_type": "code",
   "execution_count": 98,
   "id": "a4d52191",
   "metadata": {},
   "outputs": [],
   "source": [
    "def validate_null(field):\n",
    "    return df.select(df[field].isNotNull())"
   ]
  },
  {
   "cell_type": "code",
   "execution_count": 51,
   "id": "8f4366f2",
   "metadata": {},
   "outputs": [],
   "source": [
    "def character_check(field, value):\n",
    "    return df.select(length(df[field])>value)"
   ]
  },
  {
   "cell_type": "code",
   "execution_count": 71,
   "id": "9921191e",
   "metadata": {},
   "outputs": [
    {
     "name": "stdout",
     "output_type": "stream",
     "text": [
      "+-------------------------+\n",
      "|(length(First Name) > 40)|\n",
      "+-------------------------+\n",
      "|                    false|\n",
      "+-------------------------+\n",
      "\n"
     ]
    }
   ],
   "source": [
    "character_check('First Name',40).distinct().show()"
   ]
  },
  {
   "cell_type": "code",
   "execution_count": 70,
   "id": "9f169996",
   "metadata": {},
   "outputs": [
    {
     "name": "stdout",
     "output_type": "stream",
     "text": [
      "+------------------------+\n",
      "|(First Name IS NOT NULL)|\n",
      "+------------------------+\n",
      "|                    true|\n",
      "+------------------------+\n",
      "\n"
     ]
    }
   ],
   "source": [
    "validate_null('First Name').distinct().show()"
   ]
  },
  {
   "cell_type": "code",
   "execution_count": null,
   "id": "a62924dc",
   "metadata": {},
   "outputs": [],
   "source": []
  },
  {
   "cell_type": "code",
   "execution_count": 109,
   "id": "7a739d53",
   "metadata": {},
   "outputs": [
    {
     "name": "stdout",
     "output_type": "stream",
     "text": [
      "valid file\n"
     ]
    }
   ],
   "source": [
    "if validate_null('First Name') == False and validate_null('Last Name') == False and check_email_format('Email') == True:\n",
    "    print('valid file')\n",
    "else:\n",
    "    print('invalid file')"
   ]
  },
  {
   "cell_type": "code",
   "execution_count": null,
   "id": "aaa149dd",
   "metadata": {},
   "outputs": [],
   "source": []
  }
 ],
 "metadata": {
  "kernelspec": {
   "display_name": "Python 3",
   "language": "python",
   "name": "python3"
  },
  "language_info": {
   "codemirror_mode": {
    "name": "ipython",
    "version": 3
   },
   "file_extension": ".py",
   "mimetype": "text/x-python",
   "name": "python",
   "nbconvert_exporter": "python",
   "pygments_lexer": "ipython3",
   "version": "3.7.6"
  }
 },
 "nbformat": 4,
 "nbformat_minor": 5
}
