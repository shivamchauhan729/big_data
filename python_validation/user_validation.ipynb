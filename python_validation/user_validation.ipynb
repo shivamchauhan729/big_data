{
 "cells": [
  {
   "cell_type": "code",
   "execution_count": 22,
   "id": "dca7e24c",
   "metadata": {},
   "outputs": [],
   "source": [
    "from pyspark.sql import SparkSession\n",
    "from pyspark.sql.functions import *\n",
    "import json"
   ]
  },
  {
   "cell_type": "code",
   "execution_count": 2,
   "id": "6e962a77",
   "metadata": {},
   "outputs": [],
   "source": [
    "spark = SparkSession.builder.getOrCreate()"
   ]
  },
  {
   "cell_type": "code",
   "execution_count": 111,
   "id": "5212e881",
   "metadata": {},
   "outputs": [],
   "source": [
    "config = spark.read.option(\"multiline\",\"true\").json('config.json')\n",
    "config_df = eval(config.toJSON().collect()[0])"
   ]
  },
  {
   "cell_type": "code",
   "execution_count": 39,
   "id": "cd08f633",
   "metadata": {},
   "outputs": [],
   "source": [
    "df = spark.read.csv(r'Templates/User - Import Template.csv', header=True)"
   ]
  },
  {
   "cell_type": "code",
   "execution_count": 40,
   "id": "b2b1ab76",
   "metadata": {},
   "outputs": [
    {
     "name": "stdout",
     "output_type": "stream",
     "text": [
      "+--------------------------------+----------+----------+\n",
      "|Email                           |First Name|Last Name |\n",
      "+--------------------------------+----------+----------+\n",
      "|jane.doe@bcgasample.com         |Jane      |Doe       |\n",
      "|alexis.washington@bcgasample.com|Alexis    |Washington|\n",
      "|reginald.anderson@bcgasample.com|Reginald  |Anderson  |\n",
      "|tatiana.smithson@bgcasample.com |Tatiana   |Smithson  |\n",
      "|james.sample@bcgasample.com     |James     |Sample    |\n",
      "+--------------------------------+----------+----------+\n",
      "\n"
     ]
    }
   ],
   "source": [
    "df.show(truncate=False)"
   ]
  },
  {
   "cell_type": "code",
   "execution_count": null,
   "id": "8b98c8f0",
   "metadata": {},
   "outputs": [],
   "source": []
  },
  {
   "cell_type": "code",
   "execution_count": null,
   "id": "0c4f5c65",
   "metadata": {},
   "outputs": [],
   "source": []
  },
  {
   "cell_type": "code",
   "execution_count": 167,
   "id": "d8d89bb3",
   "metadata": {},
   "outputs": [],
   "source": [
    "def check_email_format(field):\n",
    "    regex = r'^[a-z0-9]+[\\._]?[a-z0-9]+[@]\\w+[.]\\w{2,3}$' \n",
    "    df1 = df.filter(df[field].rlike(regex))\n",
    "    df2 = df.subtract(df1)\n",
    "    if df2.first():\n",
    "        return False\n",
    "    else:\n",
    "        return True"
   ]
  },
  {
   "cell_type": "code",
   "execution_count": 168,
   "id": "de098041",
   "metadata": {},
   "outputs": [],
   "source": [
    "def validate_null(field):\n",
    "    if df.filter(df[field].isNull()).first():\n",
    "        return True\n",
    "    else:\n",
    "        return False"
   ]
  },
  {
   "cell_type": "code",
   "execution_count": 169,
   "id": "b79aed61",
   "metadata": {},
   "outputs": [],
   "source": [
    "def character_check(field_value):\n",
    "    if df.filter(length(df[field_value[0]])>field_value[1]).first():\n",
    "        return False\n",
    "    else:\n",
    "        return True"
   ]
  },
  {
   "cell_type": "code",
   "execution_count": null,
   "id": "2cd4d459",
   "metadata": {},
   "outputs": [],
   "source": []
  },
  {
   "cell_type": "code",
   "execution_count": 188,
   "id": "4e403969",
   "metadata": {},
   "outputs": [],
   "source": [
    "res = []\n",
    "for keys in config_df.keys():\n",
    "    res.append(list(map(eval(keys),eval(config_df[keys]))))\n",
    "\n",
    "    result = list(zip(config_df.keys(),res))"
   ]
  },
  {
   "cell_type": "code",
   "execution_count": 190,
   "id": "c35968ae",
   "metadata": {},
   "outputs": [
    {
     "data": {
      "text/plain": [
       "[('character_check', [True, True]), ('validate_null', [False, False])]"
      ]
     },
     "execution_count": 190,
     "metadata": {},
     "output_type": "execute_result"
    }
   ],
   "source": [
    "result"
   ]
  },
  {
   "cell_type": "code",
   "execution_count": null,
   "id": "70f42670",
   "metadata": {},
   "outputs": [],
   "source": []
  },
  {
   "cell_type": "code",
   "execution_count": null,
   "id": "be741cba",
   "metadata": {},
   "outputs": [],
   "source": []
  },
  {
   "cell_type": "code",
   "execution_count": 156,
   "id": "fc75932b",
   "metadata": {},
   "outputs": [],
   "source": [
    "def validate_null(field):\n",
    "    return df.select(df[field].isNotNull())"
   ]
  },
  {
   "cell_type": "code",
   "execution_count": 157,
   "id": "c98d385f",
   "metadata": {},
   "outputs": [],
   "source": [
    "def character_check(field, value):\n",
    "    return df.select(length(df[field])>value)"
   ]
  },
  {
   "cell_type": "code",
   "execution_count": 158,
   "id": "ff9b7f09",
   "metadata": {},
   "outputs": [
    {
     "name": "stdout",
     "output_type": "stream",
     "text": [
      "+-------------------------+\n",
      "|(length(First Name) > 40)|\n",
      "+-------------------------+\n",
      "|                    false|\n",
      "+-------------------------+\n",
      "\n"
     ]
    }
   ],
   "source": [
    "character_check('First Name',40).distinct().show()"
   ]
  },
  {
   "cell_type": "code",
   "execution_count": 159,
   "id": "9cac04bf",
   "metadata": {},
   "outputs": [
    {
     "name": "stdout",
     "output_type": "stream",
     "text": [
      "+------------------------+\n",
      "|(First Name IS NOT NULL)|\n",
      "+------------------------+\n",
      "|                    true|\n",
      "+------------------------+\n",
      "\n"
     ]
    }
   ],
   "source": [
    "validate_null('First Name').distinct().show()"
   ]
  },
  {
   "cell_type": "code",
   "execution_count": null,
   "id": "89324ff4",
   "metadata": {},
   "outputs": [],
   "source": []
  },
  {
   "cell_type": "code",
   "execution_count": 109,
   "id": "7a739d53",
   "metadata": {},
   "outputs": [
    {
     "name": "stdout",
     "output_type": "stream",
     "text": [
      "valid file\n"
     ]
    }
   ],
   "source": [
    "if validate_null('First Name') == False and validate_null('Last Name') == False and check_email_format('Email') == True:\n",
    "    print('valid file')\n",
    "else:\n",
    "    print('invalid file')"
   ]
  },
  {
   "cell_type": "code",
   "execution_count": null,
   "id": "1a5b64a3",
   "metadata": {},
   "outputs": [],
   "source": []
  },
  {
   "cell_type": "code",
   "execution_count": null,
   "id": "73441834",
   "metadata": {},
   "outputs": [],
   "source": []
  },
  {
   "cell_type": "code",
   "execution_count": null,
   "id": "aaa149dd",
   "metadata": {},
   "outputs": [],
   "source": []
  },
  {
   "cell_type": "code",
   "execution_count": 147,
   "id": "e8578dc7",
   "metadata": {},
   "outputs": [],
   "source": [
    "def validate_null(field):\n",
    "    \n",
    "    if df.select(df[field].isNull()).first()[0] == 'False':\n",
    "        return True\n",
    "    else:\n",
    "        return False"
   ]
  },
  {
   "cell_type": "code",
   "execution_count": 154,
   "id": "c526f420",
   "metadata": {},
   "outputs": [],
   "source": [
    "def character_check(field_value):\n",
    "    \n",
    "    if df.select(length(df[field_value[0]])>field_value[1]).first()[0]:\n",
    "        return False\n",
    "    else:\n",
    "        return True"
   ]
  },
  {
   "cell_type": "code",
   "execution_count": 155,
   "id": "7ae6229a",
   "metadata": {},
   "outputs": [
    {
     "name": "stdout",
     "output_type": "stream",
     "text": [
      "character_check\n",
      "[('First Name',40),('Last Name',80)]\n",
      "[True, True]\n",
      "validate_null\n",
      "['First Name','Last Name']\n",
      "[False, False]\n"
     ]
    }
   ],
   "source": [
    "for keys in config_df.keys():\n",
    "    print(keys)\n",
    "    print(config_df[keys])\n",
    "    print(list(map(eval(keys),eval(config_df[keys]))))"
   ]
  }
 ],
 "metadata": {
  "kernelspec": {
   "display_name": "Python 3",
   "language": "python",
   "name": "python3"
  },
  "language_info": {
   "codemirror_mode": {
    "name": "ipython",
    "version": 3
   },
   "file_extension": ".py",
   "mimetype": "text/x-python",
   "name": "python",
   "nbconvert_exporter": "python",
   "pygments_lexer": "ipython3",
   "version": "3.7.6"
  }
 },
 "nbformat": 4,
 "nbformat_minor": 5
}
