{
 "cells": [
  {
   "cell_type": "code",
   "execution_count": 25,
   "id": "2093c996",
   "metadata": {},
   "outputs": [],
   "source": [
    "import pandas as pd\n",
    "import re "
   ]
  },
  {
   "cell_type": "code",
   "execution_count": 26,
   "id": "6ac49e38",
   "metadata": {},
   "outputs": [],
   "source": [
    "df=pd.read_csv('Templates/Campaign - Import Template.csv')\n"
   ]
  },
  {
   "cell_type": "code",
   "execution_count": 100,
   "id": "fc94f2e9",
   "metadata": {},
   "outputs": [
    {
     "data": {
      "text/html": [
       "<div>\n",
       "<style scoped>\n",
       "    .dataframe tbody tr th:only-of-type {\n",
       "        vertical-align: middle;\n",
       "    }\n",
       "\n",
       "    .dataframe tbody tr th {\n",
       "        vertical-align: top;\n",
       "    }\n",
       "\n",
       "    .dataframe thead th {\n",
       "        text-align: right;\n",
       "    }\n",
       "</style>\n",
       "<table border=\"1\" class=\"dataframe\">\n",
       "  <thead>\n",
       "    <tr style=\"text-align: right;\">\n",
       "      <th></th>\n",
       "      <th>Campaign Legacy Id</th>\n",
       "      <th>Campaign Name</th>\n",
       "      <th>Location Legacy Id</th>\n",
       "      <th>Type</th>\n",
       "      <th>Record Type</th>\n",
       "      <th>Status</th>\n",
       "      <th>Start Date</th>\n",
       "      <th>End Date</th>\n",
       "      <th>Expected Revenue in Campaign</th>\n",
       "      <th>Active</th>\n",
       "      <th>Description</th>\n",
       "    </tr>\n",
       "  </thead>\n",
       "  <tbody>\n",
       "    <tr>\n",
       "      <th>0</th>\n",
       "      <td>EF0621AE</td>\n",
       "      <td>Email Fundraising June 2021 - Academic Enrichment</td>\n",
       "      <td>COPHCLB</td>\n",
       "      <td>Email</td>\n",
       "      <td>Marketing</td>\n",
       "      <td>In Progress</td>\n",
       "      <td>6/1/2021</td>\n",
       "      <td>6/30/2021</td>\n",
       "      <td>10000</td>\n",
       "      <td>True</td>\n",
       "      <td>Email marketing campaign to drive donations fo...</td>\n",
       "    </tr>\n",
       "    <tr>\n",
       "      <th>1</th>\n",
       "      <td>TRQ32021</td>\n",
       "      <td>Power Hour Tutor Recruitment - Fall 2021</td>\n",
       "      <td>PLMOC</td>\n",
       "      <td>Email</td>\n",
       "      <td>General</td>\n",
       "      <td>Planned</td>\n",
       "      <td>9/1/2021</td>\n",
       "      <td>12/21/2021</td>\n",
       "      <td>0</td>\n",
       "      <td>False</td>\n",
       "      <td>Email blast for recruitment of Power Hour tutors</td>\n",
       "    </tr>\n",
       "    <tr>\n",
       "      <th>2</th>\n",
       "      <td>TPSWEB2021</td>\n",
       "      <td>Triple Play Soul Webinar Series - 2021</td>\n",
       "      <td>NaN</td>\n",
       "      <td>Webinar</td>\n",
       "      <td>Fundraising</td>\n",
       "      <td>In Progress</td>\n",
       "      <td>1/1/2021</td>\n",
       "      <td>12/31/2021</td>\n",
       "      <td>0</td>\n",
       "      <td>True</td>\n",
       "      <td>Series of webinars for BGCA staff to showcase ...</td>\n",
       "    </tr>\n",
       "    <tr>\n",
       "      <th>3</th>\n",
       "      <td>ASEFQ22021</td>\n",
       "      <td>All Stars Sponsorship Drive - Summer 2021</td>\n",
       "      <td>COPHCLB</td>\n",
       "      <td>Email</td>\n",
       "      <td>Marketing</td>\n",
       "      <td>In Progress</td>\n",
       "      <td>5/21/2021</td>\n",
       "      <td>9/1/2021</td>\n",
       "      <td>50000</td>\n",
       "      <td>True</td>\n",
       "      <td>Corporate sponsorship drive for the All Stars ...</td>\n",
       "    </tr>\n",
       "    <tr>\n",
       "      <th>4</th>\n",
       "      <td>SGVRRCC2021</td>\n",
       "      <td>Smart Girls Volunteer Recruitment - 2021</td>\n",
       "      <td>ROCKCC</td>\n",
       "      <td>Email</td>\n",
       "      <td>Event</td>\n",
       "      <td>In Progress</td>\n",
       "      <td>1/1/2021</td>\n",
       "      <td>12/31/2021</td>\n",
       "      <td>0</td>\n",
       "      <td>True</td>\n",
       "      <td>Smart Girls volunteer recruitment advertising buy</td>\n",
       "    </tr>\n",
       "  </tbody>\n",
       "</table>\n",
       "</div>"
      ],
      "text/plain": [
       "  Campaign Legacy Id                                      Campaign Name  \\\n",
       "0           EF0621AE  Email Fundraising June 2021 - Academic Enrichment   \n",
       "1           TRQ32021           Power Hour Tutor Recruitment - Fall 2021   \n",
       "2         TPSWEB2021             Triple Play Soul Webinar Series - 2021   \n",
       "3         ASEFQ22021          All Stars Sponsorship Drive - Summer 2021   \n",
       "4        SGVRRCC2021           Smart Girls Volunteer Recruitment - 2021   \n",
       "\n",
       "  Location Legacy Id     Type  Record Type       Status Start Date  \\\n",
       "0            COPHCLB    Email    Marketing  In Progress   6/1/2021   \n",
       "1              PLMOC    Email      General      Planned   9/1/2021   \n",
       "2                NaN  Webinar  Fundraising  In Progress   1/1/2021   \n",
       "3            COPHCLB    Email    Marketing  In Progress  5/21/2021   \n",
       "4             ROCKCC    Email        Event  In Progress   1/1/2021   \n",
       "\n",
       "     End Date  Expected Revenue in Campaign Active  \\\n",
       "0   6/30/2021                         10000   True   \n",
       "1  12/21/2021                             0  False   \n",
       "2  12/31/2021                             0   True   \n",
       "3    9/1/2021                         50000   True   \n",
       "4  12/31/2021                             0   True   \n",
       "\n",
       "                                         Description  \n",
       "0  Email marketing campaign to drive donations fo...  \n",
       "1   Email blast for recruitment of Power Hour tutors  \n",
       "2  Series of webinars for BGCA staff to showcase ...  \n",
       "3  Corporate sponsorship drive for the All Stars ...  \n",
       "4  Smart Girls volunteer recruitment advertising buy  "
      ]
     },
     "execution_count": 100,
     "metadata": {},
     "output_type": "execute_result"
    }
   ],
   "source": [
    "df.head()"
   ]
  },
  {
   "cell_type": "code",
   "execution_count": 101,
   "id": "31975ab5",
   "metadata": {},
   "outputs": [
    {
     "name": "stdout",
     "output_type": "stream",
     "text": [
      "<class 'pandas.core.frame.DataFrame'>\n",
      "RangeIndex: 5 entries, 0 to 4\n",
      "Data columns (total 11 columns):\n",
      " #   Column                        Non-Null Count  Dtype \n",
      "---  ------                        --------------  ----- \n",
      " 0   Campaign Legacy Id            5 non-null      object\n",
      " 1   Campaign Name                 5 non-null      object\n",
      " 2   Location Legacy Id            4 non-null      object\n",
      " 3   Type                          5 non-null      object\n",
      " 4   Record Type                   5 non-null      object\n",
      " 5   Status                        5 non-null      object\n",
      " 6   Start Date                    5 non-null      object\n",
      " 7   End Date                      5 non-null      object\n",
      " 8   Expected Revenue in Campaign  5 non-null      int64 \n",
      " 9   Active                        5 non-null      object\n",
      " 10  Description                   5 non-null      object\n",
      "dtypes: int64(1), object(10)\n",
      "memory usage: 568.0+ bytes\n"
     ]
    }
   ],
   "source": [
    "df.info()"
   ]
  },
  {
   "cell_type": "code",
   "execution_count": 29,
   "id": "8a722735",
   "metadata": {},
   "outputs": [],
   "source": [
    "def validate_unique(field):\n",
    "    #Validate if field is unique\n",
    "    if(len(set(field)) == len(field) ):\n",
    "        return True\n",
    "    else:\n",
    "        return False\n"
   ]
  },
  {
   "cell_type": "code",
   "execution_count": 30,
   "id": "696db79e",
   "metadata": {},
   "outputs": [],
   "source": [
    "def validate_null(field):\n",
    "    return pd.isnull(field)"
   ]
  },
  {
   "cell_type": "code",
   "execution_count": 31,
   "id": "bd090f6d",
   "metadata": {},
   "outputs": [],
   "source": [
    "def validate_contained_in(l,field):\n",
    "    \n",
    "    return field.isin(l) \n",
    "    "
   ]
  },
  {
   "cell_type": "code",
   "execution_count": 32,
   "id": "661e95b1",
   "metadata": {},
   "outputs": [],
   "source": [
    "def validate_date(field):\n",
    "    count_true=0\n",
    "    count_false=0\n",
    "    from datetime import datetime, date\n",
    "    try:\n",
    "        valid_date = datetime.strptime(field, '%m/%d/%Y').date()\n",
    "        return True\n",
    "    except ValueError:\n",
    "        return False"
   ]
  },
  {
   "cell_type": "code",
   "execution_count": 115,
   "id": "b6c3fb9c",
   "metadata": {},
   "outputs": [],
   "source": [
    "def check(field):      \n",
    "  \n",
    "    regex = '\\w' \n",
    "    if(re.search(regex,field)):   \n",
    "        return True   \n",
    "    else:   \n",
    "        return False "
   ]
  },
  {
   "cell_type": "code",
   "execution_count": 120,
   "id": "d78249de",
   "metadata": {},
   "outputs": [],
   "source": [
    "def check1(field1):      \n",
    "  \n",
    "    regex = '\\w{2,32000}' \n",
    "    if(re.search(regex,field1)):   \n",
    "        return True   \n",
    "    else:   \n",
    "        return False "
   ]
  },
  {
   "cell_type": "markdown",
   "id": "df562e33",
   "metadata": {},
   "source": [
    "# Campaign Legacy ID "
   ]
  },
  {
   "cell_type": "code",
   "execution_count": 33,
   "id": "35013c6a",
   "metadata": {},
   "outputs": [
    {
     "data": {
      "text/plain": [
       "0    False\n",
       "1    False\n",
       "2    False\n",
       "3    False\n",
       "4    False\n",
       "Name: Campaign Legacy Id, dtype: bool"
      ]
     },
     "execution_count": 33,
     "metadata": {},
     "output_type": "execute_result"
    }
   ],
   "source": [
    "validate_null(df['Campaign Legacy Id'])"
   ]
  },
  {
   "cell_type": "code",
   "execution_count": 117,
   "id": "96b4bd62",
   "metadata": {},
   "outputs": [
    {
     "data": {
      "text/plain": [
       "True"
      ]
     },
     "execution_count": 117,
     "metadata": {},
     "output_type": "execute_result"
    }
   ],
   "source": [
    "validate_unique(df['Campaign Legacy Id'])"
   ]
  },
  {
   "cell_type": "code",
   "execution_count": 118,
   "id": "0961ee5e",
   "metadata": {},
   "outputs": [
    {
     "data": {
      "text/plain": [
       "0    True\n",
       "1    True\n",
       "2    True\n",
       "3    True\n",
       "4    True\n",
       "Name: Campaign Legacy Id, dtype: bool"
      ]
     },
     "execution_count": 118,
     "metadata": {},
     "output_type": "execute_result"
    }
   ],
   "source": [
    "df['Campaign Legacy Id'].apply(check)"
   ]
  },
  {
   "cell_type": "markdown",
   "id": "517e330c",
   "metadata": {},
   "source": [
    "# Campaign Name "
   ]
  },
  {
   "cell_type": "code",
   "execution_count": 109,
   "id": "3740a693",
   "metadata": {},
   "outputs": [
    {
     "data": {
      "text/plain": [
       "0    False\n",
       "1    False\n",
       "2    False\n",
       "3    False\n",
       "4    False\n",
       "Name: Campaign Name, dtype: bool"
      ]
     },
     "execution_count": 109,
     "metadata": {},
     "output_type": "execute_result"
    }
   ],
   "source": [
    "validate_null(df['Campaign Name'])"
   ]
  },
  {
   "cell_type": "markdown",
   "id": "8961fa8e",
   "metadata": {},
   "source": [
    "# Location Legacy Id "
   ]
  },
  {
   "cell_type": "code",
   "execution_count": 119,
   "id": "f96c9b8b",
   "metadata": {},
   "outputs": [],
   "source": [
    "#Doubt "
   ]
  },
  {
   "cell_type": "code",
   "execution_count": 90,
   "id": "b38b6d2f",
   "metadata": {},
   "outputs": [],
   "source": [
    "#print(df[df['Location Legacy Id'] == COPHCLb]['Campaign Legacy Id'])"
   ]
  },
  {
   "cell_type": "markdown",
   "id": "e0b9af96",
   "metadata": {},
   "source": [
    "# Type"
   ]
  },
  {
   "cell_type": "code",
   "execution_count": 36,
   "id": "3bf11342",
   "metadata": {},
   "outputs": [
    {
     "data": {
      "text/plain": [
       "0    True\n",
       "1    True\n",
       "2    True\n",
       "3    True\n",
       "4    True\n",
       "Name: Type, dtype: bool"
      ]
     },
     "execution_count": 36,
     "metadata": {},
     "output_type": "execute_result"
    }
   ],
   "source": [
    "l=['Conference','Webinar','Trade Show','Public Relations','Partners','Referral Program','Advertisement','Banner Ads','Direct Mail','Email','Networking','Social Event','Workshop','Event','Mail','SMS','Planned Giving']\n",
    "validate_contained_in(l,df['Type'])"
   ]
  },
  {
   "cell_type": "markdown",
   "id": "94219d68",
   "metadata": {},
   "source": [
    "# Record Type"
   ]
  },
  {
   "cell_type": "code",
   "execution_count": 37,
   "id": "39b81f5c",
   "metadata": {},
   "outputs": [
    {
     "data": {
      "text/plain": [
       "0    True\n",
       "1    True\n",
       "2    True\n",
       "3    True\n",
       "4    True\n",
       "Name: Record Type, dtype: bool"
      ]
     },
     "execution_count": 37,
     "metadata": {},
     "output_type": "execute_result"
    }
   ],
   "source": [
    "l2=['Event','Fundraising','General','Marketing']\n",
    "validate_contained_in(l2,df['Record Type'])"
   ]
  },
  {
   "cell_type": "markdown",
   "id": "8f68f0b1",
   "metadata": {},
   "source": [
    "# Status"
   ]
  },
  {
   "cell_type": "code",
   "execution_count": 38,
   "id": "3cb1c6db",
   "metadata": {},
   "outputs": [
    {
     "data": {
      "text/plain": [
       "0    True\n",
       "1    True\n",
       "2    True\n",
       "3    True\n",
       "4    True\n",
       "Name: Status, dtype: bool"
      ]
     },
     "execution_count": 38,
     "metadata": {},
     "output_type": "execute_result"
    }
   ],
   "source": [
    "l3=['Planned','In Progress','Completed','Cancelled']\n",
    "validate_contained_in(l3,df['Status'])"
   ]
  },
  {
   "cell_type": "markdown",
   "id": "31b64ed9",
   "metadata": {},
   "source": [
    "# Start Date"
   ]
  },
  {
   "cell_type": "code",
   "execution_count": 39,
   "id": "8e4aaae7",
   "metadata": {},
   "outputs": [
    {
     "data": {
      "text/plain": [
       "0    True\n",
       "1    True\n",
       "2    True\n",
       "3    True\n",
       "4    True\n",
       "Name: Start Date, dtype: bool"
      ]
     },
     "execution_count": 39,
     "metadata": {},
     "output_type": "execute_result"
    }
   ],
   "source": [
    "df['Start Date'].apply(validate_date)"
   ]
  },
  {
   "cell_type": "markdown",
   "id": "4d28153a",
   "metadata": {},
   "source": [
    "# End Date"
   ]
  },
  {
   "cell_type": "code",
   "execution_count": 40,
   "id": "ddff7b66",
   "metadata": {},
   "outputs": [
    {
     "data": {
      "text/plain": [
       "0    True\n",
       "1    True\n",
       "2    True\n",
       "3    True\n",
       "4    True\n",
       "Name: End Date, dtype: bool"
      ]
     },
     "execution_count": 40,
     "metadata": {},
     "output_type": "execute_result"
    }
   ],
   "source": [
    "df['End Date'].apply(validate_date)"
   ]
  },
  {
   "cell_type": "markdown",
   "id": "784a4e7c",
   "metadata": {},
   "source": [
    "# Expected Revenue in Campaign"
   ]
  },
  {
   "cell_type": "code",
   "execution_count": 57,
   "id": "7e6b44ff",
   "metadata": {},
   "outputs": [],
   "source": [
    "#df['Expected Revenue in Campaign'].apply(check)"
   ]
  },
  {
   "cell_type": "markdown",
   "id": "0a481a97",
   "metadata": {},
   "source": [
    "# Active"
   ]
  },
  {
   "cell_type": "code",
   "execution_count": 60,
   "id": "e0b7e81b",
   "metadata": {},
   "outputs": [],
   "source": [
    "df.Active = df.Active.astype(str)"
   ]
  },
  {
   "cell_type": "code",
   "execution_count": 61,
   "id": "6d0f023a",
   "metadata": {},
   "outputs": [
    {
     "data": {
      "text/plain": [
       "0    True\n",
       "1    True\n",
       "2    True\n",
       "3    True\n",
       "4    True\n",
       "Name: Active, dtype: bool"
      ]
     },
     "execution_count": 61,
     "metadata": {},
     "output_type": "execute_result"
    }
   ],
   "source": [
    "l4=['True','False']\n",
    "validate_contained_in(l4,df['Active'])"
   ]
  },
  {
   "cell_type": "markdown",
   "id": "d35ba521",
   "metadata": {},
   "source": [
    "# Description"
   ]
  },
  {
   "cell_type": "code",
   "execution_count": 114,
   "id": "51cd86ee",
   "metadata": {},
   "outputs": [
    {
     "data": {
      "text/plain": [
       "0    True\n",
       "1    True\n",
       "2    True\n",
       "3    True\n",
       "4    True\n",
       "Name: Description, dtype: bool"
      ]
     },
     "execution_count": 114,
     "metadata": {},
     "output_type": "execute_result"
    }
   ],
   "source": [
    "df['Description'].apply(check1)"
   ]
  },
  {
   "cell_type": "code",
   "execution_count": null,
   "id": "af1de283",
   "metadata": {},
   "outputs": [],
   "source": []
  }
 ],
 "metadata": {
  "kernelspec": {
   "display_name": "Python 3",
   "language": "python",
   "name": "python3"
  },
  "language_info": {
   "codemirror_mode": {
    "name": "ipython",
    "version": 3
   },
   "file_extension": ".py",
   "mimetype": "text/x-python",
   "name": "python",
   "nbconvert_exporter": "python",
   "pygments_lexer": "ipython3",
   "version": "3.7.6"
  }
 },
 "nbformat": 4,
 "nbformat_minor": 5
}
