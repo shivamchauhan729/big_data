{
 "cells": [
  {
   "cell_type": "code",
   "execution_count": 2,
   "metadata": {},
   "outputs": [],
   "source": [
    "import findspark\n",
    "findspark.init()\n",
    "from pyspark.sql import SparkSession, Row\n",
    "from pyspark.sql.functions import col,lit\n",
    "import pydeequ\n",
    "import pyspark\n",
    "from pyspark.sql.types import *\n",
    "from pydeequ import Check,CheckLevel\n",
    "from pydeequ.checks import *\n",
    "from pydeequ.verification import *\n",
    "from pydeequ.analyzers import *\n",
    "from pyspark.sql import SparkSession\n",
    "from configparser import ConfigParser\n",
    "import sys\n"
   ]
  },
  {
   "cell_type": "code",
   "execution_count": 3,
   "metadata": {},
   "outputs": [],
   "source": [
    "spark = SparkSession \\\n",
    "    .builder \\\n",
    "    .appName(\"Python Spark SQL basic example\") \\\n",
    "    .config(\"spark.jars\", \"C:\\Program Files (x86)\\PostgreSQL\\pgJDBC\\postgresql-42.2.18.jar\") \\\n",
    "    .config(\"spark.jars.packages\", pydeequ.deequ_maven_coord)\\\n",
    "    .config(\"spark.jars.excludes\", pydeequ.f2j_maven_coord)\\\n",
    "    .getOrCreate()"
   ]
  },
  {
   "cell_type": "code",
   "execution_count": 9,
   "metadata": {},
   "outputs": [
    {
     "name": "stdout",
     "output_type": "stream",
     "text": [
      "Analyzer_S3_Path = C:\\\\Users\\\\Shivam\\\\Desktop\\\\training\\\\godaddy\\\\godaddy\\\\analyzer_files\\\\merchant_analyzer\n",
      "Clean_S3_Path = C:\\Users\\Shivam\\Desktop\\training\\godaddy\\godaddy\\data\\\\merchants.csv\n",
      "Format = csv\n"
     ]
    }
   ],
   "source": [
    "Parser = ConfigParser()\n",
    "configFile = r\"C:\\Users\\Shivam\\Desktop\\training\\godaddy\\godaddy\\config\\Config.json\"\n",
    "Parser.read(configFile)\n",
    "Env = \"dev\"\n",
    "#SourceFileName = \"merchants.csv\"\n",
    "\n",
    "##Set Job Parameters\n",
    "Analyzer_S3_Path = Parser.get(Env, 'Analyzer_S3_Path')\n",
    "Clean_S3_Path = Parser.get(Env, 'Clean_S3_Path')\n",
    "Format = Parser.get(Env, 'Format')\n",
    "print(\"Analyzer_S3_Path = \" + Analyzer_S3_Path)\n",
    "print(\"Clean_S3_Path = \" + Clean_S3_Path)\n",
    "print(\"Format = \" + Format)\n",
    "#print(\"SourceFile = \" + S3_Path )"
   ]
  },
  {
   "cell_type": "code",
   "execution_count": 10,
   "metadata": {},
   "outputs": [],
   "source": [
    "modified_attr = Parser.get(Env,'Modified_Attributes')\n",
    "new_checks = Parser.get(Env,'New_Checks')"
   ]
  },
  {
   "cell_type": "code",
   "execution_count": 11,
   "metadata": {},
   "outputs": [
    {
     "name": "stdout",
     "output_type": "stream",
     "text": [
      "id:merchants_id, updated_at:modified_at, telephone:contact_no\n",
      "\n",
      " Completeness('state'), Completeness('modified_at')\n"
     ]
    }
   ],
   "source": [
    "print(modified_attr)\n",
    "print(\"\\n\",new_checks)"
   ]
  },
  {
   "cell_type": "code",
   "execution_count": 12,
   "metadata": {},
   "outputs": [],
   "source": [
    "df = spark.read.format(Format).load(Clean_S3_Path,header=True,inferSchema=True).select('id','state','updated_at','telephone')"
   ]
  },
  {
   "cell_type": "code",
   "execution_count": 13,
   "metadata": {
    "scrolled": true
   },
   "outputs": [],
   "source": [
    "analyzer_df = spark.read.format(Format).load(Analyzer_S3_Path,header=True,inferSchema=True)\n",
    "filtered  = analyzer_df.filter(analyzer_df.source_table == 'merchants')"
   ]
  },
  {
   "cell_type": "code",
   "execution_count": 14,
   "metadata": {},
   "outputs": [
    {
     "name": "stdout",
     "output_type": "stream",
     "text": [
      "+-------+---------+------------+--------+--------------------+------------+\n",
      "| entity| instance|        name|   value|       ingestion_tsp|source_table|\n",
      "+-------+---------+------------+--------+--------------------+------------+\n",
      "| Column|       id|     Maximum|174577.0|2020-12-21 16:55:...|   merchants|\n",
      "| Column|telephone|Completeness|   0.999|2020-12-21 16:55:...|   merchants|\n",
      "| Column|       id|Distinctness|     1.0|2020-12-21 16:55:...|   merchants|\n",
      "| Column|       id|Completeness|     1.0|2020-12-21 16:55:...|   merchants|\n",
      "| Column|       id|     Minimum|   469.0|2020-12-21 16:55:...|   merchants|\n",
      "|Dataset|        *|        Size|  1000.0|2020-12-21 16:55:...|   merchants|\n",
      "+-------+---------+------------+--------+--------------------+------------+\n",
      "\n"
     ]
    }
   ],
   "source": [
    "filtered.show()"
   ]
  },
  {
   "cell_type": "code",
   "execution_count": 15,
   "metadata": {},
   "outputs": [],
   "source": [
    "instance = filtered.select(\"instance\").rdd.map(lambda r : r[0]).collect()\n",
    "values = filtered.select(\"value\").rdd.map(lambda r : r[0]).collect()\n",
    "names = filtered.select(\"name\").rdd.map(lambda r : r[0]).collect()"
   ]
  },
  {
   "cell_type": "code",
   "execution_count": 16,
   "metadata": {
    "scrolled": true
   },
   "outputs": [
    {
     "name": "stdout",
     "output_type": "stream",
     "text": [
      "['id', 'telephone', 'id', 'id', 'id', '*']\n",
      "[174577.0, 0.999, 1.0, 1.0, 469.0, 1000.0]\n",
      "['Maximum', 'Completeness', 'Distinctness', 'Completeness', 'Minimum', 'Size']\n"
     ]
    }
   ],
   "source": [
    "print(instance)\n",
    "print(values)\n",
    "print(names)"
   ]
  },
  {
   "cell_type": "code",
   "execution_count": 17,
   "metadata": {},
   "outputs": [
    {
     "name": "stdout",
     "output_type": "stream",
     "text": [
      "id:merchants_id, updated_at:modified_at, telephone:contact_no\n",
      "\n",
      " Completeness('state'), Completeness('modified_at')\n"
     ]
    }
   ],
   "source": [
    "print(modified_attr)\n",
    "print(\"\\n\",new_checks)"
   ]
  },
  {
   "cell_type": "code",
   "execution_count": 18,
   "metadata": {},
   "outputs": [],
   "source": [
    "checkers = {'Completeness':'isComplete()','Distinctness':'isUnique()','Maximum':'hasMax()','Minimum':'hasMin()','Size':'hasSize()'}"
   ]
  },
  {
   "cell_type": "code",
   "execution_count": 19,
   "metadata": {},
   "outputs": [
    {
     "data": {
      "text/plain": [
       "{'Completeness': 'isComplete()',\n",
       " 'Distinctness': 'isUnique()',\n",
       " 'Maximum': 'hasMax()',\n",
       " 'Minimum': 'hasMin()',\n",
       " 'Size': 'hasSize()'}"
      ]
     },
     "execution_count": 19,
     "metadata": {},
     "output_type": "execute_result"
    }
   ],
   "source": [
    "checkers"
   ]
  },
  {
   "cell_type": "code",
   "execution_count": 20,
   "metadata": {
    "scrolled": true
   },
   "outputs": [
    {
     "data": {
      "text/plain": [
       "{'id': 'merchants_id', 'updated_at': 'modified_at', 'telephone': 'contact_no'}"
      ]
     },
     "execution_count": 20,
     "metadata": {},
     "output_type": "execute_result"
    }
   ],
   "source": [
    "modified_attr_dict = {'id':'merchants_id', 'updated_at':'modified_at', 'telephone':'contact_no'}\n",
    "modified_attr_dict"
   ]
  },
  {
   "cell_type": "code",
   "execution_count": 21,
   "metadata": {},
   "outputs": [
    {
     "data": {
      "text/plain": [
       "[('id', 174577.0, 'Maximum'),\n",
       " ('telephone', 0.999, 'Completeness'),\n",
       " ('id', 1.0, 'Distinctness'),\n",
       " ('id', 1.0, 'Completeness'),\n",
       " ('id', 469.0, 'Minimum'),\n",
       " ('*', 1000.0, 'Size')]"
      ]
     },
     "execution_count": 21,
     "metadata": {},
     "output_type": "execute_result"
    }
   ],
   "source": [
    "list(zip(instance,values,names))"
   ]
  },
  {
   "cell_type": "code",
   "execution_count": 84,
   "metadata": {
    "scrolled": false
   },
   "outputs": [
    {
     "data": {
      "text/plain": [
       "['merchants_id',\n",
       " 'contact_no',\n",
       " 'merchants_id',\n",
       " 'merchants_id',\n",
       " 'merchants_id',\n",
       " '*']"
      ]
     },
     "execution_count": 84,
     "metadata": {},
     "output_type": "execute_result"
    }
   ],
   "source": [
    "new_columns = filtered.select(\"instance\").rdd.map(lambda r : modified_attr_dict[r[0]] if r[0] in modified_attr_dict.keys() else r[0]).collect()\n",
    "new_columns"
   ]
  },
  {
   "cell_type": "code",
   "execution_count": 35,
   "metadata": {},
   "outputs": [
    {
     "data": {
      "text/plain": [
       "[('merchants_id', 174577.0, 'Maximum'),\n",
       " ('contact_no', 0.999, 'Completeness'),\n",
       " ('merchants_id', 1.0, 'Distinctness'),\n",
       " ('merchants_id', 1.0, 'Completeness'),\n",
       " ('merchants_id', 469.0, 'Minimum'),\n",
       " ('*', 1000.0, 'Size')]"
      ]
     },
     "execution_count": 35,
     "metadata": {},
     "output_type": "execute_result"
    }
   ],
   "source": [
    "filtered.select(\"instance\",\"value\",\"name\").rdd.map(lambda r : (modified_attr_dict[r[0]],r[1],r[2]) if r[0] in modified_attr_dict.keys() else (r[0],r[1],r[2])).collect()"
   ]
  },
  {
   "cell_type": "code",
   "execution_count": 29,
   "metadata": {},
   "outputs": [
    {
     "data": {
      "text/plain": [
       "[Row(instance='id', value=174577.0, name='Maximum'),\n",
       " Row(instance='telephone', value=0.999, name='Completeness'),\n",
       " Row(instance='id', value=1.0, name='Distinctness'),\n",
       " Row(instance='id', value=1.0, name='Completeness'),\n",
       " Row(instance='id', value=469.0, name='Minimum'),\n",
       " Row(instance='*', value=1000.0, name='Size')]"
      ]
     },
     "execution_count": 29,
     "metadata": {},
     "output_type": "execute_result"
    }
   ],
   "source": [
    "filtered.select(\"instance\",\"value\",\"name\").rdd.map(lambda r : r).collect()"
   ]
  },
  {
   "cell_type": "code",
   "execution_count": 30,
   "metadata": {},
   "outputs": [
    {
     "data": {
      "text/plain": [
       "[174577.0, 0.999, 1.0, 1.0, 469.0, 1000.0]"
      ]
     },
     "execution_count": 30,
     "metadata": {},
     "output_type": "execute_result"
    }
   ],
   "source": [
    "filtered.select(\"instance\",\"value\",\"name\").rdd.map(lambda r : r[1]).collect()"
   ]
  },
  {
   "cell_type": "code",
   "execution_count": null,
   "metadata": {},
   "outputs": [],
   "source": []
  }
 ],
 "metadata": {
  "kernelspec": {
   "display_name": "Python 3",
   "language": "python",
   "name": "python3"
  },
  "language_info": {
   "codemirror_mode": {
    "name": "ipython",
    "version": 3
   },
   "file_extension": ".py",
   "mimetype": "text/x-python",
   "name": "python",
   "nbconvert_exporter": "python",
   "pygments_lexer": "ipython3",
   "version": "3.7.3"
  }
 },
 "nbformat": 4,
 "nbformat_minor": 2
}
