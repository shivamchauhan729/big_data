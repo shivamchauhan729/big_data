{
 "cells": [
  {
   "cell_type": "code",
   "execution_count": 25,
   "metadata": {},
   "outputs": [],
   "source": [
    "import findspark\n",
    "findspark.init()\n",
    "from pyspark.sql import SparkSession, Row\n",
    "import pydeequ, pyspark\n",
    "from pyspark.sql.types import *\n",
    "from pydeequ import Check,CheckLevel\n",
    "from pydeequ.checks import *\n",
    "from pydeequ.verification import *\n",
    "from pydeequ.analyzers import *\n",
    "from pyspark.sql.functions import lit,current_timestamp\n",
    "from configparser import ConfigParser\n",
    "import sys\n",
    "import calendar,time"
   ]
  },
  {
   "cell_type": "code",
   "execution_count": 26,
   "metadata": {},
   "outputs": [],
   "source": [
    "spark = SparkSession \\\n",
    "    .builder \\\n",
    "    .appName(\"Python Spark SQL basic example\") \\\n",
    "    .config(\"spark.jars\", \"C:\\Program Files (x86)\\PostgreSQL\\pgJDBC\\postgresql-42.2.18.jar\") \\\n",
    "    .config(\"spark.jars.packages\", pydeequ.deequ_maven_coord)\\\n",
    "    .config(\"spark.jars.excludes\", pydeequ.f2j_maven_coord)\\\n",
    "    .getOrCreate()"
   ]
  },
  {
   "cell_type": "code",
   "execution_count": 27,
   "metadata": {},
   "outputs": [],
   "source": [
    "def getJdbcUrl():\n",
    "    jdbcUsername = \"vjadhav\"\n",
    "    jdbcPassword = \"K_GG3N7D49kUsPCweLAAVA\"\n",
    "    jdbcHostname = \"c.fnfd5bptoazdphlg6wknuvzcwse.db.citusdata.com\"\n",
    "    jdbcPort = 5432\n",
    "    jdbcDatabase = \"citus\"\n",
    "    jdbcUrl = f'jdbc:postgresql://{jdbcHostname}:{jdbcPort}/{jdbcDatabase}?user={jdbcUsername}&password={jdbcPassword}'\n",
    "    return jdbcUrl"
   ]
  },
  {
   "cell_type": "code",
   "execution_count": 54,
   "metadata": {},
   "outputs": [],
   "source": [
    "def stageFromJdbc(jdbcUrl = getJdbcUrl()):\n",
    "\n",
    "    \n",
    "    jdbcTable = (spark.read.format(\"jdbc\")\n",
    "                           .options(url=jdbcUrl, query=\"select id, ordered_at, created_at, items_count, cancelled_at from orders limit 5000\" , driver=\"org.postgresql.Driver\")\n",
    "                           .load())    \n",
    "    \n",
    "    return jdbcTable"
   ]
  },
  {
   "cell_type": "code",
   "execution_count": 55,
   "metadata": {},
   "outputs": [
    {
     "name": "stdout",
     "output_type": "stream",
     "text": [
      "root\n",
      " |-- id: integer (nullable = true)\n",
      " |-- ordered_at: timestamp (nullable = true)\n",
      " |-- created_at: timestamp (nullable = true)\n",
      " |-- items_count: integer (nullable = true)\n",
      " |-- cancelled_at: timestamp (nullable = true)\n",
      "\n"
     ]
    }
   ],
   "source": [
    "orders = stageFromJdbc()\n",
    "orders.printSchema()"
   ]
  },
  {
   "cell_type": "code",
   "execution_count": 56,
   "metadata": {},
   "outputs": [
    {
     "name": "stdout",
     "output_type": "stream",
     "text": [
      "+---------+-----------------------+--------------------------+-----------+------------+\n",
      "|id       |ordered_at             |created_at                |items_count|cancelled_at|\n",
      "+---------+-----------------------+--------------------------+-----------+------------+\n",
      "|98637658 |2018-09-01 20:56:31    |2018-09-01 21:03:26.230637|1          |null        |\n",
      "|252669562|2020-10-14 23:32:17.265|2020-10-15 00:57:43.115351|1          |null        |\n",
      "|160334362|2019-09-11 20:57:02    |2019-09-11 20:59:09.093868|1          |null        |\n",
      "|184036547|2020-01-14 00:54:31    |2020-01-22 02:23:11.04647 |1          |null        |\n",
      "|266869465|2020-11-28 20:11:40.815|2020-11-28 20:23:21.807017|1          |null        |\n",
      "|262444858|2020-11-16 21:11:24    |2020-11-16 21:22:27.736685|6          |null        |\n",
      "|275319379|2020-12-16 02:32:52.824|2020-12-16 02:43:06.309432|1          |null        |\n",
      "|98646879 |2018-09-01 23:08:41    |2018-09-01 23:19:00.643747|1          |null        |\n",
      "|267831751|2020-11-30 23:58:26.843|2020-12-01 00:15:58.743736|1          |null        |\n",
      "|160420936|2019-09-12 07:44:40    |2019-09-12 07:59:37.794297|1          |null        |\n",
      "|204777644|2020-05-01 21:14:53    |2020-05-01 21:37:39.385607|3          |null        |\n",
      "|264707294|2020-11-23 05:50:44    |2020-11-23 05:53:39.883181|2          |null        |\n",
      "|98751805 |2018-09-03 10:50:27    |2018-09-03 11:02:51.229336|1          |null        |\n",
      "|205984328|2020-05-05 15:43:01    |2020-05-05 15:55:58.238072|2          |null        |\n",
      "|257871026|2020-11-01 18:41:00.114|2020-11-01 19:10:20.784636|1          |null        |\n",
      "|267616550|2020-11-30 15:47:36.657|2020-11-30 16:53:51.124822|1          |null        |\n",
      "|184036263|2020-01-13 20:23:09    |2020-01-22 02:21:38.352534|1          |null        |\n",
      "|262254729|2020-11-16 07:47:33    |2020-11-16 09:06:27.061117|null       |null        |\n",
      "|98682079 |2018-09-02 14:34:07    |2018-09-02 14:48:05.96571 |1          |null        |\n",
      "|98613591 |2018-09-01 16:13:32    |2018-09-01 16:18:15.842851|1          |null        |\n",
      "+---------+-----------------------+--------------------------+-----------+------------+\n",
      "only showing top 20 rows\n",
      "\n"
     ]
    }
   ],
   "source": [
    "orders.show(20,False)"
   ]
  },
  {
   "cell_type": "code",
   "execution_count": 58,
   "metadata": {},
   "outputs": [
    {
     "name": "stdout",
     "output_type": "stream",
     "text": [
      "+---------+-------------------+--------------------------+-----------+------------+\n",
      "|id       |ordered_at         |created_at                |items_count|cancelled_at|\n",
      "+---------+-------------------+--------------------------+-----------+------------+\n",
      "|262729346|2020-11-18 23:40:33|2020-11-17 18:08:06.650854|null       |null        |\n",
      "|266873198|2020-11-29 20:31:18|2020-11-28 20:33:17.262946|null       |null        |\n",
      "|266873242|2020-11-28 22:35:07|2020-11-28 20:33:24.204954|null       |null        |\n",
      "+---------+-------------------+--------------------------+-----------+------------+\n",
      "\n"
     ]
    }
   ],
   "source": [
    "orders.createOrReplaceTempView(\"tb\")\n",
    "spark.sql(\"select * from tb where ordered_at > created_at\").show(10,False)"
   ]
  },
  {
   "cell_type": "code",
   "execution_count": 59,
   "metadata": {},
   "outputs": [
    {
     "name": "stdout",
     "output_type": "stream",
     "text": [
      "+--------+\n",
      "|count(1)|\n",
      "+--------+\n",
      "|     105|\n",
      "+--------+\n",
      "\n"
     ]
    }
   ],
   "source": [
    "spark.sql(\"select count(*) from tb where cancelled_at > ordered_at\").show()"
   ]
  },
  {
   "cell_type": "code",
   "execution_count": 60,
   "metadata": {},
   "outputs": [
    {
     "name": "stdout",
     "output_type": "stream",
     "text": [
      "+--------+\n",
      "|count(1)|\n",
      "+--------+\n",
      "|     332|\n",
      "+--------+\n",
      "\n"
     ]
    }
   ],
   "source": [
    "spark.sql(\"select count(*) from tb where items_count > 1\").show()"
   ]
  },
  {
   "cell_type": "code",
   "execution_count": 62,
   "metadata": {
    "scrolled": false
   },
   "outputs": [
    {
     "name": "stdout",
     "output_type": "stream",
     "text": [
      "+-------+-----------------------------------+-------------------------+------+\n",
      "|entity |instance                           |name                     |value |\n",
      "+-------+-----------------------------------+-------------------------+------+\n",
      "|Column |items_count                        |Histogram.bins           |19.0  |\n",
      "|Column |items_count                        |Histogram.abs.34         |1.0   |\n",
      "|Column |items_count                        |Histogram.ratio.34       |2.0E-4|\n",
      "|Column |items_count                        |Histogram.abs.12         |1.0   |\n",
      "|Column |items_count                        |Histogram.ratio.12       |2.0E-4|\n",
      "|Column |items_count                        |Histogram.abs.8          |6.0   |\n",
      "|Column |items_count                        |Histogram.ratio.8        |0.0012|\n",
      "|Column |items_count                        |Histogram.abs.19         |1.0   |\n",
      "|Column |items_count                        |Histogram.ratio.19       |2.0E-4|\n",
      "|Column |items_count                        |Histogram.abs.4          |33.0  |\n",
      "|Column |items_count                        |Histogram.ratio.4        |0.0066|\n",
      "|Column |items_count                        |Histogram.abs.15         |1.0   |\n",
      "|Column |items_count                        |Histogram.ratio.15       |2.0E-4|\n",
      "|Column |items_count                        |Histogram.abs.11         |1.0   |\n",
      "|Column |items_count                        |Histogram.ratio.11       |2.0E-4|\n",
      "|Column |items_count                        |Histogram.abs.9          |4.0   |\n",
      "|Column |items_count                        |Histogram.ratio.9        |8.0E-4|\n",
      "|Column |items_count                        |Histogram.abs.NullValue  |345.0 |\n",
      "|Column |items_count                        |Histogram.ratio.NullValue|0.069 |\n",
      "|Column |items_count                        |Histogram.abs.13         |1.0   |\n",
      "|Column |items_count                        |Histogram.ratio.13       |2.0E-4|\n",
      "|Column |items_count                        |Histogram.abs.5          |22.0  |\n",
      "|Column |items_count                        |Histogram.ratio.5        |0.0044|\n",
      "|Column |items_count                        |Histogram.abs.10         |1.0   |\n",
      "|Column |items_count                        |Histogram.ratio.10       |2.0E-4|\n",
      "|Column |items_count                        |Histogram.abs.6          |13.0  |\n",
      "|Column |items_count                        |Histogram.ratio.6        |0.0026|\n",
      "|Column |items_count                        |Histogram.abs.1          |4323.0|\n",
      "|Column |items_count                        |Histogram.ratio.1        |0.8646|\n",
      "|Column |items_count                        |Histogram.abs.14         |3.0   |\n",
      "|Column |items_count                        |Histogram.ratio.14       |6.0E-4|\n",
      "|Column |items_count                        |Histogram.abs.27         |1.0   |\n",
      "|Column |items_count                        |Histogram.ratio.27       |2.0E-4|\n",
      "|Column |items_count                        |Histogram.abs.2          |187.0 |\n",
      "|Column |items_count                        |Histogram.ratio.2        |0.0374|\n",
      "|Column |items_count                        |Histogram.abs.7          |5.0   |\n",
      "|Column |items_count                        |Histogram.ratio.7        |0.001 |\n",
      "|Column |items_count                        |Histogram.abs.3          |51.0  |\n",
      "|Column |items_count                        |Histogram.ratio.3        |0.0102|\n",
      "|Column |orderDate greater than createdDate |Compliance               |6.0E-4|\n",
      "|Dataset|*                                  |Size                     |5000.0|\n",
      "|Column |id                                 |Distinctness             |1.0   |\n",
      "|Column |id                                 |Completeness             |1.0   |\n",
      "|Column |items_count more than 1            |Compliance               |0.0664|\n",
      "|Column |items_count                        |CountDistinct            |18.0  |\n",
      "|Column |items_count                        |Minimum                  |1.0   |\n",
      "|Column |items_count                        |Maximum                  |34.0  |\n",
      "|Column |items_count                        |Completeness             |0.931 |\n",
      "|Column |cancelDate greater than createdDate|Compliance               |0.0136|\n",
      "+-------+-----------------------------------+-------------------------+------+\n",
      "\n"
     ]
    }
   ],
   "source": [
    "analysisResult = AnalysisRunner(spark) \\\n",
    "                    .onData(orders) \\\n",
    "                    .addAnalyzer(Size()) \\\n",
    "                    .addAnalyzer(Compliance(\"orderDate greater than createdDate\", \"ordered_at > created_at\")) \\\n",
    "                    .addAnalyzer(Compliance(\"items_count more than 1\",\"items_count > 1\")) \\\n",
    "                    .addAnalyzer(Compliance(\"cancelDate greater than createdDate\", \"cancelled_at > created_at\"))\\\n",
    "                    .addAnalyzer(Completeness(\"id\"))\\\n",
    "                    .addAnalyzer(Distinctness(\"id\"))\\\n",
    "                    .addAnalyzer(Minimum(\"items_count\"))\\\n",
    "                    .addAnalyzer(Maximum(\"items_count\"))\\\n",
    "                    .addAnalyzer(Completeness(\"items_count\"))\\\n",
    "                    .addAnalyzer(Histogram(\"items_count\"))\\\n",
    "                    .addAnalyzer(CountDistinct(\"items_count\")) \\\n",
    "                    .run()\n",
    "\n",
    "\n",
    "analysisResult_df = AnalyzerContext.successMetricsAsDataFrame(spark, analysisResult)\n",
    "analysisResult_df.show(100,False)"
   ]
  },
  {
   "cell_type": "code",
   "execution_count": null,
   "metadata": {},
   "outputs": [],
   "source": []
  },
  {
   "cell_type": "code",
   "execution_count": 28,
   "metadata": {
    "scrolled": false
   },
   "outputs": [
    {
     "name": "stdout",
     "output_type": "stream",
     "text": [
      "root\n",
      " |-- id: integer (nullable = true)\n",
      " |-- merchant_id: integer (nullable = true)\n",
      " |-- channel_id: integer (nullable = true)\n",
      " |-- order_ref: string (nullable = true)\n",
      " |-- billing_address_1: string (nullable = true)\n",
      " |-- billing_address_2: string (nullable = true)\n",
      " |-- billing_address_3: string (nullable = true)\n",
      " |-- billing_postal_code: string (nullable = true)\n",
      " |-- billing_region: string (nullable = true)\n",
      " |-- billing_city: string (nullable = true)\n",
      " |-- billing_country: string (nullable = true)\n",
      " |-- billing_country_code: string (nullable = true)\n",
      " |-- billing_phone_number: string (nullable = true)\n",
      " |-- billing_contact: string (nullable = true)\n",
      " |-- billing_email: string (nullable = true)\n",
      " |-- billing_company_name: string (nullable = true)\n",
      " |-- shipping_address_1: string (nullable = true)\n",
      " |-- shipping_address_2: string (nullable = true)\n",
      " |-- shipping_address_3: string (nullable = true)\n",
      " |-- shipping_postal_code: string (nullable = true)\n",
      " |-- shipping_region: string (nullable = true)\n",
      " |-- shipping_city: string (nullable = true)\n",
      " |-- shipping_country: string (nullable = true)\n",
      " |-- shipping_country_code: string (nullable = true)\n",
      " |-- shipping_phone_number: string (nullable = true)\n",
      " |-- shipping_contact: string (nullable = true)\n",
      " |-- shipping_email: string (nullable = true)\n",
      " |-- shipping_company_name: string (nullable = true)\n",
      " |-- subtotal: decimal(10,2) (nullable = true)\n",
      " |-- discount: decimal(10,2) (nullable = true)\n",
      " |-- shipping_cost: decimal(10,2) (nullable = true)\n",
      " |-- tax: decimal(10,2) (nullable = true)\n",
      " |-- total: decimal(10,2) (nullable = true)\n",
      " |-- payment_methods: array (nullable = true)\n",
      " |    |-- element: string (containsNull = true)\n",
      " |-- status: string (nullable = true)\n",
      " |-- payment_status: string (nullable = true)\n",
      " |-- shipping_status: string (nullable = true)\n",
      " |-- ordered_at: timestamp (nullable = true)\n",
      " |-- shipped_at: timestamp (nullable = true)\n",
      " |-- paid_at: timestamp (nullable = true)\n",
      " |-- modified_at: timestamp (nullable = true)\n",
      " |-- cancelled_at: timestamp (nullable = true)\n",
      " |-- cancelled_reason: string (nullable = true)\n",
      " |-- requested_shipping_provider: string (nullable = true)\n",
      " |-- requested_shipping_service: string (nullable = true)\n",
      " |-- fulfillment_shipping_provider: string (nullable = true)\n",
      " |-- fulfillment_shipping_service: string (nullable = true)\n",
      " |-- tracking_numbers: string (nullable = true)\n",
      " |-- properties: string (nullable = true)\n",
      " |-- data: string (nullable = true)\n",
      " |-- admin_data: string (nullable = true)\n",
      " |-- created_at: timestamp (nullable = true)\n",
      " |-- updated_at: timestamp (nullable = true)\n",
      " |-- profile_id: integer (nullable = true)\n",
      " |-- profile_type: string (nullable = true)\n",
      " |-- handling_cost: decimal(10,2) (nullable = true)\n",
      " |-- overage_status: string (nullable = true)\n",
      " |-- sb_order_seq: integer (nullable = true)\n",
      " |-- sb_status: string (nullable = true)\n",
      " |-- shipment_status: string (nullable = true)\n",
      " |-- sb_payment_status: string (nullable = true)\n",
      " |-- type: string (nullable = true)\n",
      " |-- hidden_at: timestamp (nullable = true)\n",
      " |-- merchant_notes: string (nullable = true)\n",
      " |-- customer_notes: string (nullable = true)\n",
      " |-- ship_via: string (nullable = true)\n",
      " |-- items_count: integer (nullable = true)\n",
      " |-- last_shipment_state: string (nullable = true)\n",
      " |-- offline: boolean (nullable = true)\n",
      " |-- offline_reason: string (nullable = true)\n",
      " |-- archived: boolean (nullable = true)\n",
      " |-- search_data: string (nullable = true)\n",
      " |-- currency_code: string (nullable = true)\n",
      " |-- display_ref: string (nullable = true)\n",
      " |-- processed_by: integer (nullable = true)\n",
      " |-- pii_removed_at: timestamp (nullable = true)\n",
      " |-- acknowledged_at: timestamp (nullable = true)\n",
      " |-- historical: boolean (nullable = true)\n",
      "\n"
     ]
    }
   ],
   "source": [
    "orders.printSchema()"
   ]
  },
  {
   "cell_type": "code",
   "execution_count": null,
   "metadata": {},
   "outputs": [],
   "source": []
  }
 ],
 "metadata": {
  "kernelspec": {
   "display_name": "Python 3",
   "language": "python",
   "name": "python3"
  },
  "language_info": {
   "codemirror_mode": {
    "name": "ipython",
    "version": 3
   },
   "file_extension": ".py",
   "mimetype": "text/x-python",
   "name": "python",
   "nbconvert_exporter": "python",
   "pygments_lexer": "ipython3",
   "version": "3.7.3"
  }
 },
 "nbformat": 4,
 "nbformat_minor": 2
}
